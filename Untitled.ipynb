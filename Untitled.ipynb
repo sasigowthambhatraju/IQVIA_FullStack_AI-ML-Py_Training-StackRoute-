{
 "cells": [
  {
   "cell_type": "code",
   "execution_count": 69,
   "id": "6ec6a858",
   "metadata": {},
   "outputs": [],
   "source": [
    "def armstrong_num():\n",
    "    \"\"\"\n",
    "    This function is used to check if the given number is armstrong or not by taking the number from user input and printing \n",
    "    if it is armstrong or not after performing some operations\n",
    "    parameters - number(input from user)\n",
    "               - initial_sum, temperory place holder where value is 0 initially\n",
    "               - temp, temparory variable which stores value of number initilly\n",
    "    Steps - Now we are taking while loop to check if the given number is >0 or not if yes then performing operatins like dividing\n",
    "            the temp value with 10 and assigning to single_digit then raising the poser of 3 and adding to previous initial_sum\n",
    "            then dividing temp with 10 and finally if checking if number equils to initial_sum then it's armstrong number\n",
    "    \"\"\"\n",
    "    print(\"You have choosen armstrong number..\\n\\tPlease provide number\")\n",
    "    try:\n",
    "        number = input()\n",
    "        initial_sum = 0\n",
    "        temp = int(number)\n",
    "        while temp>0:\n",
    "            single_digit = temp % 10\n",
    "            initial_sum += single_digit ** len(number)\n",
    "            temp = temp//10\n",
    "        if number == str(initial_sum):\n",
    "            print(f\"\\t\\tYes the number {number} is armstrong\")\n",
    "        else:\n",
    "            print(f\"\\t\\tNo the number {number} is not armstrong\")\n",
    "    except Exception as ex:\n",
    "        print(f\"Exception occured i.e: {ex}\")"
   ]
  },
  {
   "cell_type": "code",
   "execution_count": 70,
   "id": "62b326fa",
   "metadata": {},
   "outputs": [
    {
     "name": "stdout",
     "output_type": "stream",
     "text": [
      "You have choosen armstrong number..\n",
      "\tPlease provide number\n",
      "22\n",
      "\t\tNo the number 22 is not armstrong\n"
     ]
    }
   ],
   "source": [
    "a1 = armstrong_num()"
   ]
  },
  {
   "cell_type": "code",
   "execution_count": 53,
   "id": "7b715450",
   "metadata": {},
   "outputs": [],
   "source": [
    "def palindrome():\n",
    "    \"\"\"\n",
    "    Function to determine if given input is palindrome or not\n",
    "    parameters - word(data will be provided by user)\n",
    "    Steps - initially assiging the reverse of input by slicing method to reversed_word variable and checking if it is equils \n",
    "    to original input if yes then printing the statement.\n",
    "    \"\"\"\n",
    "    try:\n",
    "        print(\"You Have Choosen palindrome..\\n\\tPlease provide word below:\")\n",
    "        word = input()\n",
    "        reversed_word = word[::-1]\n",
    "        if word == reversed_word:\n",
    "            print(f\"\\t\\tYes given {word} is palindrome\")\n",
    "        else:\n",
    "            print(f\"\\t\\tNo given {word} is not palindrome\")\n",
    "    except Exception as ex:\n",
    "        print(f\"Exception occured i.e: {ex}\")"
   ]
  },
  {
   "cell_type": "code",
   "execution_count": 54,
   "id": "66956181",
   "metadata": {},
   "outputs": [],
   "source": [
    "def number_sort():\n",
    "    try:\n",
    "        print(\"You Have Choosen sort..\\n\\tPlease choose between ASC or DESC below: \")\n",
    "        choice = input().lower()\n",
    "        if choice == 'asc':\n",
    "            user_input = input(\"\\t   Please provide numbers: \")\n",
    "            user_input = user_input.split()\n",
    "            total_int_values = []\n",
    "            for number in user_input:\n",
    "                number = int(number)\n",
    "                total_int_values.append(number)\n",
    "            sorted_list = sorted(total_int_values)\n",
    "            print(f\"\\t\\t\\tAscending numbers: {sorted_list}\")\n",
    "        elif choice == 'desc':\n",
    "            user_input = input(\"\\t   Please provide numbers: \")\n",
    "            user_input = user_input.split()\n",
    "            total_int_values = []\n",
    "            for number in user_input:\n",
    "                number = int(number)\n",
    "                total_int_values.append(number)\n",
    "                sorted_list = sorted(total_int_values, reverse=True)\n",
    "            print(f\"\\t\\t\\tDscending numbers: {sorted_list}\")\n",
    "        else:\n",
    "            print(\"\\t   Please check your input....\")\n",
    "    except Exception as ex:\n",
    "        return ex"
   ]
  },
  {
   "cell_type": "code",
   "execution_count": 55,
   "id": "efb0da41",
   "metadata": {},
   "outputs": [],
   "source": [
    "def word_sort():\n",
    "    try:\n",
    "        total_word_list = []\n",
    "        word_input = input(\"Please provide words: \").split()\n",
    "        print(\"\\tPlease choose between ASC or DESC below: \")\n",
    "        choice = input().lower()\n",
    "        if choice == 'asc':\n",
    "            word_input.sort()\n",
    "            total_word_list.append(word_input)\n",
    "            print(f\"\\t   Ascending words: {total_word_list}\")\n",
    "        elif choice == 'desc':\n",
    "            word_input.sort(reverse=True)\n",
    "            total_word_list.append(word_input)\n",
    "            print(f\"\\t   Descending words: {total_word_list}\")\n",
    "        else:\n",
    "            print(\"\\t    Please check your input....\")\n",
    "    except Exception as ex:\n",
    "        print(ex)"
   ]
  },
  {
   "cell_type": "code",
   "execution_count": 56,
   "id": "264d9d61",
   "metadata": {},
   "outputs": [],
   "source": [
    "def sort_whole_list():\n",
    "    print(\"\\tPlease see below options: \\n Enter 'numbers' for sorted number list\\n Enter 'words' for word list\")\n",
    "    try:\n",
    "        main_choice = input().lower()\n",
    "        if main_choice == 'numbers':\n",
    "            number_sort()\n",
    "        elif main_choice == 'words':\n",
    "            word_sort()\n",
    "        else:\n",
    "            print(\"\\tPlease choose correctly from provided options.....\")\n",
    "    except Exception as ex:\n",
    "        return ex\n",
    "        "
   ]
  },
  {
   "cell_type": "markdown",
   "id": "f72ad73f",
   "metadata": {},
   "source": [
    "Main User Choice Below"
   ]
  },
  {
   "cell_type": "code",
   "execution_count": 57,
   "id": "a21bcff4",
   "metadata": {},
   "outputs": [],
   "source": [
    "def user_choice():\n",
    "    while True:\n",
    "        print(\"Please see below options....\\n 1. for armstron number..\\n 2. for palindrome word..\\n 3.for sorting number or words..\\n 4. for exit\")\n",
    "        option = input()\n",
    "        try:\n",
    "            if option == '1':\n",
    "                armstrong_num()\n",
    "                print(\"-\"*60)\n",
    "                continue\n",
    "            elif option == '2':\n",
    "                palindrome()\n",
    "                print(\"-\"*60)\n",
    "                continue\n",
    "            elif option == '3':\n",
    "                sort_whole_list()\n",
    "                print(\"-\"*60)\n",
    "                continue\n",
    "            elif option == '4':\n",
    "                print(\"Exiting Bye!...\")\n",
    "                break\n",
    "            else:\n",
    "                print(\"Please provide the options that have been shown above?!.\")\n",
    "\n",
    "        except Exception as ex:\n",
    "            print(f\"U got an exception: {ex}\")"
   ]
  },
  {
   "cell_type": "code",
   "execution_count": 71,
   "id": "5ff6b252",
   "metadata": {},
   "outputs": [
    {
     "name": "stdout",
     "output_type": "stream",
     "text": [
      "Please see below options....\n",
      " 1. for armstron number..\n",
      " 2. for palindrome word..\n",
      " 3.for sorting number or words..\n",
      " 4. for exit\n",
      "1\n",
      "You have choosen armstrong number..\n",
      "\tPlease provide number\n",
      "4321\n",
      "\t\tNo the number 4321 is not armstrong\n",
      "------------------------------------------------------------\n",
      "Please see below options....\n",
      " 1. for armstron number..\n",
      " 2. for palindrome word..\n",
      " 3.for sorting number or words..\n",
      " 4. for exit\n",
      "2\n",
      "You Have Choosen palindrome..\n",
      "\tPlease provide word below:\n",
      "saas\n",
      "\t\tYes given saas is palindrome\n",
      "------------------------------------------------------------\n",
      "Please see below options....\n",
      " 1. for armstron number..\n",
      " 2. for palindrome word..\n",
      " 3.for sorting number or words..\n",
      " 4. for exit\n",
      "3\n",
      "\tPlease see below options: \n",
      " Enter 'numbers' for sorted number list\n",
      " Enter 'words' for word list\n",
      "numbers\n",
      "You Have Choosen sort..\n",
      "\tPlease choose between ASC or DESC below: \n",
      "10 1 3\n",
      "\t   Please check your input....\n",
      "------------------------------------------------------------\n",
      "Please see below options....\n",
      " 1. for armstron number..\n",
      " 2. for palindrome word..\n",
      " 3.for sorting number or words..\n",
      " 4. for exit\n",
      "43\n",
      "Please provide the options that have been shown above?!.\n",
      "Please see below options....\n",
      " 1. for armstron number..\n",
      " 2. for palindrome word..\n",
      " 3.for sorting number or words..\n",
      " 4. for exit\n",
      "4\n",
      "Exiting Bye!...\n"
     ]
    }
   ],
   "source": [
    "arm_num = user_choice()"
   ]
  },
  {
   "cell_type": "code",
   "execution_count": 59,
   "id": "0ffb520c",
   "metadata": {},
   "outputs": [
    {
     "name": "stdout",
     "output_type": "stream",
     "text": [
      "Please see below options....\n",
      " 1. for armstron number..\n",
      " 2. for palindrome word..\n",
      " 3.for sorting number or words..\n",
      " 4. for exit\n",
      "4\n",
      "Exiting Bye!...\n"
     ]
    }
   ],
   "source": [
    "pal_word = user_choice()"
   ]
  },
  {
   "cell_type": "code",
   "execution_count": 60,
   "id": "77796cc1",
   "metadata": {},
   "outputs": [
    {
     "name": "stdout",
     "output_type": "stream",
     "text": [
      "Please see below options....\n",
      " 1. for armstron number..\n",
      " 2. for palindrome word..\n",
      " 3.for sorting number or words..\n",
      " 4. for exit\n",
      "4\n",
      "Exiting Bye!...\n"
     ]
    }
   ],
   "source": [
    "sorting_n1 = user_choice()"
   ]
  },
  {
   "cell_type": "code",
   "execution_count": 61,
   "id": "c84ebc32",
   "metadata": {},
   "outputs": [
    {
     "name": "stdout",
     "output_type": "stream",
     "text": [
      "Please see below options....\n",
      " 1. for armstron number..\n",
      " 2. for palindrome word..\n",
      " 3.for sorting number or words..\n",
      " 4. for exit\n",
      "4\n",
      "Exiting Bye!...\n"
     ]
    }
   ],
   "source": [
    "sorting_n2 = user_choice()"
   ]
  },
  {
   "cell_type": "code",
   "execution_count": 62,
   "id": "b86440ed",
   "metadata": {},
   "outputs": [
    {
     "name": "stdout",
     "output_type": "stream",
     "text": [
      "Please see below options....\n",
      " 1. for armstron number..\n",
      " 2. for palindrome word..\n",
      " 3.for sorting number or words..\n",
      " 4. for exit\n",
      "4\n",
      "Exiting Bye!...\n"
     ]
    }
   ],
   "source": [
    "sort_w1 = user_choice()"
   ]
  },
  {
   "cell_type": "code",
   "execution_count": 63,
   "id": "ccd1c22d",
   "metadata": {},
   "outputs": [
    {
     "name": "stdout",
     "output_type": "stream",
     "text": [
      "Please see below options....\n",
      " 1. for armstron number..\n",
      " 2. for palindrome word..\n",
      " 3.for sorting number or words..\n",
      " 4. for exit\n",
      "4\n",
      "Exiting Bye!...\n"
     ]
    }
   ],
   "source": [
    "sort_w2 = user_choice()"
   ]
  },
  {
   "cell_type": "code",
   "execution_count": 64,
   "id": "9c79ff13",
   "metadata": {},
   "outputs": [
    {
     "name": "stdout",
     "output_type": "stream",
     "text": [
      "Please see below options....\n",
      " 1. for armstron number..\n",
      " 2. for palindrome word..\n",
      " 3.for sorting number or words..\n",
      " 4. for exit\n",
      "4\n",
      "Exiting Bye!...\n"
     ]
    }
   ],
   "source": [
    "sort_combo = user_choice()"
   ]
  },
  {
   "cell_type": "code",
   "execution_count": 65,
   "id": "33cd1ca2",
   "metadata": {},
   "outputs": [
    {
     "name": "stdout",
     "output_type": "stream",
     "text": [
      "Please see below options....\n",
      " 1. for armstron number..\n",
      " 2. for palindrome word..\n",
      " 3.for sorting number or words..\n",
      " 4. for exit\n",
      "4\n",
      "Exiting Bye!...\n"
     ]
    }
   ],
   "source": [
    "sort_combo_desc = user_choice()"
   ]
  }
 ],
 "metadata": {
  "kernelspec": {
   "display_name": "Python 3",
   "language": "python",
   "name": "python3"
  },
  "language_info": {
   "codemirror_mode": {
    "name": "ipython",
    "version": 3
   },
   "file_extension": ".py",
   "mimetype": "text/x-python",
   "name": "python",
   "nbconvert_exporter": "python",
   "pygments_lexer": "ipython3",
   "version": "3.8.8"
  }
 },
 "nbformat": 4,
 "nbformat_minor": 5
}
