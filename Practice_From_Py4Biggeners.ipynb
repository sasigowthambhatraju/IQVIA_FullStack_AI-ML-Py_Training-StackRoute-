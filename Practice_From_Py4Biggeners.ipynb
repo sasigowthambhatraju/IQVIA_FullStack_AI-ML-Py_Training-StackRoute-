{
 "cells": [
  {
   "cell_type": "code",
   "execution_count": 3,
   "id": "71f96199",
   "metadata": {},
   "outputs": [],
   "source": [
    "# Strings Below"
   ]
  },
  {
   "cell_type": "code",
   "execution_count": 4,
   "id": "33531cdb",
   "metadata": {},
   "outputs": [],
   "source": [
    "import sys"
   ]
  },
  {
   "cell_type": "code",
   "execution_count": 5,
   "id": "0352846f",
   "metadata": {},
   "outputs": [
    {
     "name": "stdout",
     "output_type": "stream",
     "text": [
      "C:\\ProgramData\\Anaconda3\n"
     ]
    }
   ],
   "source": [
    "print(sys.prefix)"
   ]
  },
  {
   "cell_type": "code",
   "execution_count": 6,
   "id": "14bf2d51",
   "metadata": {},
   "outputs": [
    {
     "data": {
      "text/plain": [
       "'Hello Everyone, I am Sasi Gowtham \"AI Developer 1\" at \"IQVIA\"'"
      ]
     },
     "execution_count": 6,
     "metadata": {},
     "output_type": "execute_result"
    }
   ],
   "source": [
    "mixed = \"Hello Everyone, I am Sasi Gowtham \\\"AI Developer 1\\\" at \\\"IQVIA\\\"\"\n",
    "mixed"
   ]
  },
  {
   "cell_type": "code",
   "execution_count": 7,
   "id": "0e728384",
   "metadata": {},
   "outputs": [
    {
     "name": "stdout",
     "output_type": "stream",
     "text": [
      "I Love Python 3\n"
     ]
    }
   ],
   "source": [
    "ver = 3\n",
    "print(\"I Love Python\", ver)"
   ]
  },
  {
   "cell_type": "code",
   "execution_count": 8,
   "id": "b9b8892b",
   "metadata": {},
   "outputs": [],
   "source": [
    "import os"
   ]
  },
  {
   "cell_type": "code",
   "execution_count": 9,
   "id": "22b097f7",
   "metadata": {},
   "outputs": [
    {
     "data": {
      "text/plain": [
       "environ{'ADREGION': 'IN',\n",
       "        'ALLUSERSPROFILE': 'C:\\\\ProgramData',\n",
       "        'APPDATA': 'C:\\\\Users\\\\u1089501\\\\AppData\\\\Roaming',\n",
       "        'BUILD': 'WINMD',\n",
       "        'BUILDDATE': '20211223125522.000000+330',\n",
       "        'BUILDMETHOD': 'Feature Update',\n",
       "        'BUILDREV': '01B',\n",
       "        'BUILDVER': '4.03',\n",
       "        'COMMONPROGRAMFILES': 'C:\\\\Program Files\\\\Common Files',\n",
       "        'COMMONPROGRAMFILES(X86)': 'C:\\\\Program Files (x86)\\\\Common Files',\n",
       "        'COMMONPROGRAMW6432': 'C:\\\\Program Files\\\\Common Files',\n",
       "        'COMPUTERMODEL': '20S1S5ND00',\n",
       "        'COMPUTERMODELSERIES': 'ThinkPadT14Gen1',\n",
       "        'COMPUTERNAME': 'INKOC1WLT08950',\n",
       "        'COMPUTERTYPE': 'Laptop',\n",
       "        'COMSPEC': 'C:\\\\WINDOWS\\\\system32\\\\cmd.exe',\n",
       "        'DEPLOYMENT.EXPIRATION.CHECK.ENABLED': 'false',\n",
       "        'DRIVERDATA': 'C:\\\\Windows\\\\System32\\\\Drivers\\\\DriverData',\n",
       "        'ENTITY': 'QuintilesIMS',\n",
       "        'HOMEDRIVE': 'C:',\n",
       "        'HOMEPATH': '\\\\Users\\\\u1089501',\n",
       "        'LOCALAPPDATA': 'C:\\\\Users\\\\u1089501\\\\AppData\\\\Local',\n",
       "        'LOGONSERVER': '\\\\\\\\BLRSADDSDCQU02P',\n",
       "        'MODELALIAS': 'ThinkPadT14Gen1',\n",
       "        'NUMBER_OF_PROCESSORS': '8',\n",
       "        'ONEDRIVE': 'C:\\\\Users\\\\u1089501\\\\OneDrive - IQVIA',\n",
       "        'ONEDRIVECOMMERCIAL': 'C:\\\\Users\\\\u1089501\\\\OneDrive - IQVIA',\n",
       "        'ORIGINALBUILDREV': '01B',\n",
       "        'ORIGINALBUILDVER': '4.03',\n",
       "        'OS': 'Windows_NT',\n",
       "        'OSTYPE': 'WIN10X64',\n",
       "        'PATH': 'C:\\\\ProgramData\\\\Anaconda3;C:\\\\ProgramData\\\\Anaconda3\\\\Library\\\\mingw-w64\\\\bin;C:\\\\ProgramData\\\\Anaconda3\\\\Library\\\\usr\\\\bin;C:\\\\ProgramData\\\\Anaconda3\\\\Library\\\\bin;C:\\\\ProgramData\\\\Anaconda3\\\\Scripts;C:\\\\ProgramData\\\\Anaconda3;C:\\\\ProgramData\\\\Anaconda3\\\\Library\\\\mingw-w64\\\\bin;C:\\\\ProgramData\\\\Anaconda3\\\\Library\\\\usr\\\\bin;C:\\\\ProgramData\\\\Anaconda3\\\\Library\\\\bin;C:\\\\ProgramData\\\\Anaconda3\\\\Scripts;C:\\\\Program Files (x86)\\\\Common Files\\\\Oracle\\\\Java\\\\javapath;C:\\\\WINDOWS\\\\system32;C:\\\\WINDOWS;C:\\\\WINDOWS\\\\System32\\\\Wbem;C:\\\\WINDOWS\\\\System32\\\\WindowsPowerShell\\\\v1.0\\\\;C:\\\\WINDOWS\\\\System32\\\\OpenSSH\\\\;C:\\\\Program Files\\\\Microsoft VS Code\\\\bin;C:\\\\Program Files (x86)\\\\Microsoft SQL Server\\\\150\\\\DTS\\\\Binn\\\\;C:\\\\Program Files\\\\Microsoft SQL Server\\\\130\\\\Tools\\\\Binn\\\\;C:\\\\Program Files\\\\dotnet\\\\;C:\\\\Users\\\\u1089501\\\\AppData\\\\Local\\\\Microsoft\\\\WindowsApps;C:\\\\Users\\\\u1089501\\\\AppData\\\\Local\\\\Programs\\\\Git\\\\cmd;C:\\\\Users\\\\u1089501\\\\.dotnet\\\\tools',\n",
       "        'PATHEXT': '.COM;.EXE;.BAT;.CMD;.VBS;.VBE;.JS;.JSE;.WSF;.WSH;.MSC;.PY;.PYW',\n",
       "        'PROCESSOR_ARCHITECTURE': 'AMD64',\n",
       "        'PROCESSOR_IDENTIFIER': 'Intel64 Family 6 Model 142 Stepping 12, GenuineIntel',\n",
       "        'PROCESSOR_LEVEL': '6',\n",
       "        'PROCESSOR_REVISION': '8e0c',\n",
       "        'PROGRAMDATA': 'C:\\\\ProgramData',\n",
       "        'PROGRAMFILES': 'C:\\\\Program Files',\n",
       "        'PROGRAMFILES(X86)': 'C:\\\\Program Files (x86)',\n",
       "        'PROGRAMW6432': 'C:\\\\Program Files',\n",
       "        'PSMODULEPATH': 'C:\\\\Program Files\\\\WindowsPowerShell\\\\Modules;C:\\\\WINDOWS\\\\system32\\\\WindowsPowerShell\\\\v1.0\\\\Modules',\n",
       "        'PUBLIC': 'C:\\\\Users\\\\Public',\n",
       "        'SESSIONNAME': 'Console',\n",
       "        'SITE': 'INKOC1',\n",
       "        'SOURCESITE': 'INKOC1',\n",
       "        'SYSTEMDRIVE': 'C:',\n",
       "        'SYSTEMROOT': 'C:\\\\WINDOWS',\n",
       "        'TEMP': 'C:\\\\Users\\\\u1089501\\\\AppData\\\\Local\\\\Temp',\n",
       "        'TMP': 'C:\\\\Users\\\\u1089501\\\\AppData\\\\Local\\\\Temp',\n",
       "        'UATDATA': 'C:\\\\WINDOWS\\\\CCM\\\\UATData\\\\D9F8C395-CAB8-491d-B8AC-179A1FE1BE77',\n",
       "        'USERDNSDOMAIN': 'QUINTILES.NET',\n",
       "        'USERDOMAIN': 'QAMR-ACCOUNTS',\n",
       "        'USERDOMAIN_ROAMINGPROFILE': 'QAMR-ACCOUNTS',\n",
       "        'USERNAME': 'u1089501',\n",
       "        'USERPROFILE': 'C:\\\\Users\\\\u1089501',\n",
       "        'WINDIR': 'C:\\\\WINDOWS',\n",
       "        'CONDA_PREFIX': 'C:\\\\ProgramData\\\\Anaconda3',\n",
       "        'JPY_INTERRUPT_EVENT': '2920',\n",
       "        'IPY_INTERRUPT_EVENT': '2920',\n",
       "        'JPY_PARENT_PID': '2284',\n",
       "        'TERM': 'xterm-color',\n",
       "        'CLICOLOR': '1',\n",
       "        'PAGER': 'cat',\n",
       "        'GIT_PAGER': 'cat',\n",
       "        'MPLBACKEND': 'module://ipykernel.pylab.backend_inline'}"
      ]
     },
     "execution_count": 9,
     "metadata": {},
     "output_type": "execute_result"
    }
   ],
   "source": [
    "seeing = os.environ\n",
    "seeing"
   ]
  },
  {
   "cell_type": "code",
   "execution_count": 10,
   "id": "17ea5343",
   "metadata": {},
   "outputs": [
    {
     "data": {
      "text/plain": [
       "'C:\\\\Users\\\\Public'"
      ]
     },
     "execution_count": 10,
     "metadata": {},
     "output_type": "execute_result"
    }
   ],
   "source": [
    "seeing['PUBLIC']"
   ]
  },
  {
   "cell_type": "code",
   "execution_count": null,
   "id": "5a00bc29",
   "metadata": {},
   "outputs": [],
   "source": []
  },
  {
   "cell_type": "code",
   "execution_count": 11,
   "id": "f2cbc4ad",
   "metadata": {},
   "outputs": [
    {
     "data": {
      "text/plain": [
       "dict"
      ]
     },
     "execution_count": 11,
     "metadata": {},
     "output_type": "execute_result"
    }
   ],
   "source": [
    "d1 ={}\n",
    "type(d1)"
   ]
  },
  {
   "cell_type": "code",
   "execution_count": 12,
   "id": "f18dd038",
   "metadata": {},
   "outputs": [
    {
     "name": "stdout",
     "output_type": "stream",
     "text": [
      "None\n"
     ]
    }
   ],
   "source": [
    "print(os.environ.get('HOME'))"
   ]
  },
  {
   "cell_type": "code",
   "execution_count": 13,
   "id": "f0f53c9e",
   "metadata": {},
   "outputs": [
    {
     "data": {
      "text/plain": [
       "'u1089501'"
      ]
     },
     "execution_count": 13,
     "metadata": {},
     "output_type": "execute_result"
    }
   ],
   "source": [
    "user = os.environ['USERNAME']\n",
    "user"
   ]
  },
  {
   "cell_type": "code",
   "execution_count": 14,
   "id": "bb60ae50",
   "metadata": {},
   "outputs": [
    {
     "name": "stdout",
     "output_type": "stream",
     "text": [
      "u1089501\n"
     ]
    }
   ],
   "source": [
    "print(os.environ.get('USERNAME'))"
   ]
  },
  {
   "cell_type": "code",
   "execution_count": 15,
   "id": "36c9a090",
   "metadata": {},
   "outputs": [
    {
     "name": "stdout",
     "output_type": "stream",
     "text": [
      "<generator object <genexpr> at 0x00000171777924A0>\n"
     ]
    }
   ],
   "source": [
    "n = 5\n",
    "x = (y for y in range(5))\n",
    "print(x)"
   ]
  },
  {
   "cell_type": "code",
   "execution_count": 16,
   "id": "5fead877",
   "metadata": {},
   "outputs": [
    {
     "data": {
      "text/plain": [
       "[0, 1, 2, 3, 4]"
      ]
     },
     "execution_count": 16,
     "metadata": {},
     "output_type": "execute_result"
    }
   ],
   "source": [
    "n = 5\n",
    "x = [y for y in range(5)]\n",
    "x"
   ]
  },
  {
   "cell_type": "code",
   "execution_count": 17,
   "id": "f60746dc",
   "metadata": {},
   "outputs": [
    {
     "data": {
      "text/plain": [
       "set"
      ]
     },
     "execution_count": 17,
     "metadata": {},
     "output_type": "execute_result"
    }
   ],
   "source": [
    "s = {1, 2, 3}\n",
    "type(s)"
   ]
  },
  {
   "cell_type": "code",
   "execution_count": 18,
   "id": "2db14951",
   "metadata": {},
   "outputs": [
    {
     "name": "stdout",
     "output_type": "stream",
     "text": [
      "True\n"
     ]
    }
   ],
   "source": [
    "d1 = {1:'sa', 2:'si'}\n",
    "print(1 in d1)"
   ]
  },
  {
   "cell_type": "code",
   "execution_count": 19,
   "id": "b1eb719f",
   "metadata": {},
   "outputs": [],
   "source": [
    "d1.get(4)"
   ]
  },
  {
   "cell_type": "code",
   "execution_count": 20,
   "id": "b84ea3e8",
   "metadata": {},
   "outputs": [],
   "source": [
    "global a\n",
    "def fn(a):\n",
    "    print(a)"
   ]
  },
  {
   "cell_type": "code",
   "execution_count": 21,
   "id": "b5630bfc",
   "metadata": {},
   "outputs": [
    {
     "name": "stdout",
     "output_type": "stream",
     "text": [
      "5\n"
     ]
    }
   ],
   "source": [
    "fn(5)"
   ]
  },
  {
   "cell_type": "code",
   "execution_count": 22,
   "id": "46f01df5",
   "metadata": {},
   "outputs": [
    {
     "data": {
      "text/plain": [
       "True"
      ]
     },
     "execution_count": 22,
     "metadata": {},
     "output_type": "execute_result"
    }
   ],
   "source": [
    "d1 = {1:'a'}\n",
    "1 in d1"
   ]
  },
  {
   "cell_type": "code",
   "execution_count": 23,
   "id": "62764c60",
   "metadata": {},
   "outputs": [],
   "source": [
    "import re"
   ]
  },
  {
   "cell_type": "code",
   "execution_count": 24,
   "id": "d941348b",
   "metadata": {},
   "outputs": [
    {
     "data": {
      "text/plain": [
       "<re.Match object; span=(34, 40), match='module'>"
      ]
     },
     "execution_count": 24,
     "metadata": {},
     "output_type": "execute_result"
    }
   ],
   "source": [
    "row_text = \"Hello this is just checking of re module\"\n",
    "search = 'module'\n",
    "s = re.search(search, row_text)\n",
    "s"
   ]
  },
  {
   "cell_type": "code",
   "execution_count": 25,
   "id": "7b421b0c",
   "metadata": {},
   "outputs": [
    {
     "name": "stdout",
     "output_type": "stream",
     "text": [
      "Name is given\n"
     ]
    }
   ],
   "source": [
    "name = 'sasi'\n",
    "if not name:\n",
    "    print('No Name variable')\n",
    "print('Name is given')"
   ]
  },
  {
   "cell_type": "code",
   "execution_count": 26,
   "id": "f848cf2f",
   "metadata": {},
   "outputs": [],
   "source": [
    "# Below cell is for trying automate manuall searching"
   ]
  },
  {
   "cell_type": "code",
   "execution_count": 27,
   "id": "23d458ae",
   "metadata": {},
   "outputs": [],
   "source": [
    "bi_due_date = [\"RESPONSES TO THE RFP ARE TO BE SUBMITTED BY\", \"Vendor RFP due\", \"proposal back to sponsor\", ]"
   ]
  },
  {
   "cell_type": "raw",
   "id": "629d8aeb",
   "metadata": {},
   "source": []
  },
  {
   "cell_type": "markdown",
   "id": "0fc17947",
   "metadata": {},
   "source": [
    "# Now From Python Zero-Hero Course(25Hrs)"
   ]
  },
  {
   "cell_type": "raw",
   "id": "f008d7c2",
   "metadata": {},
   "source": []
  },
  {
   "cell_type": "code",
   "execution_count": 28,
   "id": "59764a05",
   "metadata": {},
   "outputs": [
    {
     "data": {
      "text/plain": [
       "\"I'm Sasi Gowtham AI Dev at IQVIA\""
      ]
     },
     "execution_count": 28,
     "metadata": {},
     "output_type": "execute_result"
    }
   ],
   "source": [
    "'I\\'m Sasi Gowtham AI Dev at IQVIA'"
   ]
  },
  {
   "cell_type": "code",
   "execution_count": 29,
   "id": "2f8e3d30",
   "metadata": {},
   "outputs": [
    {
     "name": "stdout",
     "output_type": "stream",
     "text": [
      "I'm Sasi Gowtham AI Dev at IQVIA\n"
     ]
    }
   ],
   "source": [
    "print('I\\'m Sasi Gowtham AI Dev at IQVIA')"
   ]
  },
  {
   "cell_type": "code",
   "execution_count": 30,
   "id": "2b4890c5",
   "metadata": {},
   "outputs": [],
   "source": [
    "word = \"asdfgh\""
   ]
  },
  {
   "cell_type": "code",
   "execution_count": 31,
   "id": "eaa854f4",
   "metadata": {},
   "outputs": [
    {
     "data": {
      "text/plain": [
       "3"
      ]
     },
     "execution_count": 31,
     "metadata": {},
     "output_type": "execute_result"
    }
   ],
   "source": [
    "word.index('f')"
   ]
  },
  {
   "cell_type": "code",
   "execution_count": 32,
   "id": "1766fa8a",
   "metadata": {},
   "outputs": [
    {
     "data": {
      "text/plain": [
       "['a', 'b']"
      ]
     },
     "execution_count": 32,
     "metadata": {},
     "output_type": "execute_result"
    }
   ],
   "source": [
    "l1 = ['a', 'b']\n",
    "l1"
   ]
  },
  {
   "cell_type": "code",
   "execution_count": 33,
   "id": "d8d92d38",
   "metadata": {},
   "outputs": [
    {
     "data": {
      "text/plain": [
       "['a', 'b', 'c']"
      ]
     },
     "execution_count": 33,
     "metadata": {},
     "output_type": "execute_result"
    }
   ],
   "source": [
    "l1.append('c')\n",
    "l1"
   ]
  },
  {
   "cell_type": "code",
   "execution_count": 34,
   "id": "e6941158",
   "metadata": {},
   "outputs": [
    {
     "data": {
      "text/plain": [
       "['a', 'c']"
      ]
     },
     "execution_count": 34,
     "metadata": {},
     "output_type": "execute_result"
    }
   ],
   "source": [
    "l1.pop(1)\n",
    "l1"
   ]
  },
  {
   "cell_type": "code",
   "execution_count": 35,
   "id": "77685f69",
   "metadata": {},
   "outputs": [
    {
     "data": {
      "text/plain": [
       "['a', 'c']"
      ]
     },
     "execution_count": 35,
     "metadata": {},
     "output_type": "execute_result"
    }
   ],
   "source": [
    "l2 = l1.copy()\n",
    "l2"
   ]
  },
  {
   "cell_type": "code",
   "execution_count": 36,
   "id": "3d18b552",
   "metadata": {},
   "outputs": [
    {
     "data": {
      "text/plain": [
       "['a', 'c', 'b']"
      ]
     },
     "execution_count": 36,
     "metadata": {},
     "output_type": "execute_result"
    }
   ],
   "source": [
    "l2.append('b')\n",
    "l2"
   ]
  },
  {
   "cell_type": "code",
   "execution_count": 37,
   "id": "d01bf825",
   "metadata": {},
   "outputs": [],
   "source": [
    "l2.sort()\n"
   ]
  },
  {
   "cell_type": "code",
   "execution_count": 38,
   "id": "cbb14987",
   "metadata": {},
   "outputs": [
    {
     "data": {
      "text/plain": [
       "['a', 'b', 'c']"
      ]
     },
     "execution_count": 38,
     "metadata": {},
     "output_type": "execute_result"
    }
   ],
   "source": [
    "l2"
   ]
  },
  {
   "cell_type": "code",
   "execution_count": 39,
   "id": "710815cb",
   "metadata": {},
   "outputs": [
    {
     "data": {
      "text/plain": [
       "\"Here as you can see in above 2cells we can't take l2 = l2.sort() because sort() doesn't retun anything and the type of\\n l2 will become None type \""
      ]
     },
     "execution_count": 39,
     "metadata": {},
     "output_type": "execute_result"
    }
   ],
   "source": [
    "\"\"\"Here as you can see in above 2cells we can't take l2 = l2.sort() because sort() doesn't retun anything and the type of\n",
    " l2 will become None type \"\"\""
   ]
  },
  {
   "cell_type": "code",
   "execution_count": 40,
   "id": "0b28b9dc",
   "metadata": {},
   "outputs": [],
   "source": [
    "l2.reverse()"
   ]
  },
  {
   "cell_type": "code",
   "execution_count": 41,
   "id": "95c42c18",
   "metadata": {},
   "outputs": [
    {
     "data": {
      "text/plain": [
       "['c', 'b', 'a']"
      ]
     },
     "execution_count": 41,
     "metadata": {},
     "output_type": "execute_result"
    }
   ],
   "source": [
    "l2"
   ]
  },
  {
   "cell_type": "code",
   "execution_count": 42,
   "id": "904aefcd",
   "metadata": {},
   "outputs": [],
   "source": [
    "# Here reverse() aslo inplace method just like sort() i.e these methods doesn't return anything"
   ]
  },
  {
   "cell_type": "code",
   "execution_count": 43,
   "id": "e8ded31f",
   "metadata": {},
   "outputs": [
    {
     "data": {
      "text/plain": [
       "['c', 'b', 'a']"
      ]
     },
     "execution_count": 43,
     "metadata": {},
     "output_type": "execute_result"
    }
   ],
   "source": [
    "l2"
   ]
  },
  {
   "cell_type": "code",
   "execution_count": 44,
   "id": "a8aa19bd",
   "metadata": {},
   "outputs": [],
   "source": [
    "l2.reverse()\n"
   ]
  },
  {
   "cell_type": "code",
   "execution_count": 45,
   "id": "90cdaeda",
   "metadata": {},
   "outputs": [
    {
     "data": {
      "text/plain": [
       "['a', 'b', 'c']"
      ]
     },
     "execution_count": 45,
     "metadata": {},
     "output_type": "execute_result"
    }
   ],
   "source": [
    "l2"
   ]
  },
  {
   "cell_type": "code",
   "execution_count": 46,
   "id": "3ab5d41d",
   "metadata": {},
   "outputs": [
    {
     "data": {
      "text/plain": [
       "['a', 'b', 'd']"
      ]
     },
     "execution_count": 46,
     "metadata": {},
     "output_type": "execute_result"
    }
   ],
   "source": [
    "l2[2] = 'd'\n",
    "l2"
   ]
  },
  {
   "cell_type": "code",
   "execution_count": 47,
   "id": "f837c161",
   "metadata": {},
   "outputs": [],
   "source": [
    "d1 = {'Sasi':'AI Engineer 1', 'Company':'IQVIA', 'Date':[8, 2021], 'path':['AI', 'Math', 'ML', 'NLP', 'Python']}"
   ]
  },
  {
   "cell_type": "code",
   "execution_count": 48,
   "id": "5c426fce",
   "metadata": {},
   "outputs": [
    {
     "data": {
      "text/plain": [
       "['AI', 'Math', 'ML', 'NLP', 'Python']"
      ]
     },
     "execution_count": 48,
     "metadata": {},
     "output_type": "execute_result"
    }
   ],
   "source": [
    "my_path = d1['path']\n",
    "my_path"
   ]
  },
  {
   "cell_type": "code",
   "execution_count": 49,
   "id": "8cc3d0da",
   "metadata": {},
   "outputs": [],
   "source": [
    "aim = my_path[0]"
   ]
  },
  {
   "cell_type": "code",
   "execution_count": 50,
   "id": "6bdac3cb",
   "metadata": {},
   "outputs": [
    {
     "data": {
      "text/plain": [
       "'AI'"
      ]
     },
     "execution_count": 50,
     "metadata": {},
     "output_type": "execute_result"
    }
   ],
   "source": [
    "aim"
   ]
  },
  {
   "cell_type": "code",
   "execution_count": 51,
   "id": "110dc316",
   "metadata": {},
   "outputs": [],
   "source": [
    "# The above couple of lines can be done in single line below"
   ]
  },
  {
   "cell_type": "code",
   "execution_count": 52,
   "id": "c6c3140e",
   "metadata": {},
   "outputs": [
    {
     "data": {
      "text/plain": [
       "'PYTHON'"
      ]
     },
     "execution_count": 52,
     "metadata": {},
     "output_type": "execute_result"
    }
   ],
   "source": [
    "base = d1['path'][-1].upper()\n",
    "base"
   ]
  },
  {
   "cell_type": "code",
   "execution_count": 53,
   "id": "0da3a456",
   "metadata": {},
   "outputs": [
    {
     "data": {
      "text/plain": [
       "{'Sasi': 'AI Engineer 1',\n",
       " 'Company': 'IQVIA',\n",
       " 'Date': [8, 2021],\n",
       " 'path': ['AI', 'Math', 'ML', 'NLP', 'Python'],\n",
       " 'Location': 'India'}"
      ]
     },
     "execution_count": 53,
     "metadata": {},
     "output_type": "execute_result"
    }
   ],
   "source": [
    "d1['Location'] = 'India'\n",
    "d1"
   ]
  },
  {
   "cell_type": "code",
   "execution_count": 54,
   "id": "1a8cb734",
   "metadata": {},
   "outputs": [
    {
     "data": {
      "text/plain": [
       "{'Sasi': 'AI Engineer 1',\n",
       " 'Company': 'IQVIA',\n",
       " 'Date': [8, 2021],\n",
       " 'path': ['AI', 'Math', 'ML', 'NLP', 'Python'],\n",
       " 'Location': 'India',\n",
       " 'date': [8, 7, 2021]}"
      ]
     },
     "execution_count": 54,
     "metadata": {},
     "output_type": "execute_result"
    }
   ],
   "source": [
    "d1['date'] = [8, 7, 2021]\n",
    "d1"
   ]
  },
  {
   "cell_type": "code",
   "execution_count": 55,
   "id": "699de570",
   "metadata": {},
   "outputs": [
    {
     "data": {
      "text/plain": [
       "{'Sasi': 'AI Engineer 1',\n",
       " 'Company': 'IQVIA',\n",
       " 'Date': [8, 2021],\n",
       " 'path': ['AI', 'Math', 'ML', 'NLP', 'Python'],\n",
       " 'Location': 'India'}"
      ]
     },
     "execution_count": 55,
     "metadata": {},
     "output_type": "execute_result"
    }
   ],
   "source": [
    "d1.popitem()\n",
    "d1 #for removig last item"
   ]
  },
  {
   "cell_type": "code",
   "execution_count": 56,
   "id": "9fecaa7a",
   "metadata": {},
   "outputs": [
    {
     "data": {
      "text/plain": [
       "{'Sasi': 'AI Engineer 1',\n",
       " 'Company': 'IQVIA',\n",
       " 'Date': [8, 7, 2021],\n",
       " 'path': ['AI', 'Math', 'ML', 'NLP', 'Python'],\n",
       " 'Location': 'India'}"
      ]
     },
     "execution_count": 56,
     "metadata": {},
     "output_type": "execute_result"
    }
   ],
   "source": [
    "d1['Date'] = [8, 7, 2021]\n",
    "d1"
   ]
  },
  {
   "cell_type": "code",
   "execution_count": 57,
   "id": "5eaefa2d",
   "metadata": {},
   "outputs": [
    {
     "data": {
      "text/plain": [
       "dict_keys(['Sasi', 'Company', 'Date', 'path', 'Location'])"
      ]
     },
     "execution_count": 57,
     "metadata": {},
     "output_type": "execute_result"
    }
   ],
   "source": [
    "d1.keys()"
   ]
  },
  {
   "cell_type": "code",
   "execution_count": 58,
   "id": "42b2384e",
   "metadata": {},
   "outputs": [
    {
     "data": {
      "text/plain": [
       "dict_values(['AI Engineer 1', 'IQVIA', [8, 7, 2021], ['AI', 'Math', 'ML', 'NLP', 'Python'], 'India'])"
      ]
     },
     "execution_count": 58,
     "metadata": {},
     "output_type": "execute_result"
    }
   ],
   "source": [
    "d1.values()"
   ]
  },
  {
   "cell_type": "code",
   "execution_count": 59,
   "id": "b09c5f1d",
   "metadata": {},
   "outputs": [
    {
     "data": {
      "text/plain": [
       "dict_items([('Sasi', 'AI Engineer 1'), ('Company', 'IQVIA'), ('Date', [8, 7, 2021]), ('path', ['AI', 'Math', 'ML', 'NLP', 'Python']), ('Location', 'India')])"
      ]
     },
     "execution_count": 59,
     "metadata": {},
     "output_type": "execute_result"
    }
   ],
   "source": [
    "d1.items()"
   ]
  },
  {
   "cell_type": "code",
   "execution_count": 60,
   "id": "7397de6c",
   "metadata": {},
   "outputs": [
    {
     "data": {
      "text/plain": [
       "{'Sasi': 'AI Engineer 1',\n",
       " 'Company': 'IQVIA',\n",
       " 'Date': [8, 7, 2021],\n",
       " 'path': ['AI', 'Math', 'ML', 'NLP', 'Python'],\n",
       " 'Location': 'India'}"
      ]
     },
     "execution_count": 60,
     "metadata": {},
     "output_type": "execute_result"
    }
   ],
   "source": [
    "d1"
   ]
  },
  {
   "cell_type": "code",
   "execution_count": 61,
   "id": "f30cdc32",
   "metadata": {},
   "outputs": [
    {
     "data": {
      "text/plain": [
       "('house',\n",
       " 'car_with',\n",
       " 9,\n",
       " 'number',\n",
       " 200.0,\n",
       " 'base sal',\n",
       " {'Position': 'Senior Data Scientis'},\n",
       " [3, 2])"
      ]
     },
     "execution_count": 61,
     "metadata": {},
     "output_type": "execute_result"
    }
   ],
   "source": [
    "t1 = ('house', 'car_with', 9, 'number', 200.000, 'base sal', {'Position': 'Senior Data Scientis'}, [3, 2])\n",
    "t1"
   ]
  },
  {
   "cell_type": "code",
   "execution_count": 62,
   "id": "6a18df7b",
   "metadata": {},
   "outputs": [
    {
     "data": {
      "text/plain": [
       "{'Position': 'Senior Data Scientis'}"
      ]
     },
     "execution_count": 62,
     "metadata": {},
     "output_type": "execute_result"
    }
   ],
   "source": [
    "t1[-2]"
   ]
  },
  {
   "cell_type": "code",
   "execution_count": 63,
   "id": "19391138",
   "metadata": {},
   "outputs": [
    {
     "data": {
      "text/plain": [
       "('house',\n",
       " 'car_with',\n",
       " 9,\n",
       " 'number',\n",
       " 200.0,\n",
       " 'base sal',\n",
       " {'Position': 'Senior Data Scientis'},\n",
       " [3, 2])"
      ]
     },
     "execution_count": 63,
     "metadata": {},
     "output_type": "execute_result"
    }
   ],
   "source": [
    "t1[0:]"
   ]
  },
  {
   "cell_type": "code",
   "execution_count": 64,
   "id": "28e432d1",
   "metadata": {},
   "outputs": [
    {
     "data": {
      "text/plain": [
       "('house',\n",
       " 'car_with',\n",
       " 9,\n",
       " 'number',\n",
       " 200.0,\n",
       " 'base sal',\n",
       " {'Position': 'Senior Data Scientis'})"
      ]
     },
     "execution_count": 64,
     "metadata": {},
     "output_type": "execute_result"
    }
   ],
   "source": [
    "t1[0:-1]"
   ]
  },
  {
   "cell_type": "code",
   "execution_count": 65,
   "id": "9230db5f",
   "metadata": {},
   "outputs": [
    {
     "data": {
      "text/plain": [
       "1"
      ]
     },
     "execution_count": 65,
     "metadata": {},
     "output_type": "execute_result"
    }
   ],
   "source": [
    "t1.count('house')"
   ]
  },
  {
   "cell_type": "code",
   "execution_count": 66,
   "id": "85221693",
   "metadata": {},
   "outputs": [
    {
     "data": {
      "text/plain": [
       "4"
      ]
     },
     "execution_count": 66,
     "metadata": {},
     "output_type": "execute_result"
    }
   ],
   "source": [
    "t1.index(200.000)"
   ]
  },
  {
   "cell_type": "code",
   "execution_count": 67,
   "id": "dbfe3638",
   "metadata": {},
   "outputs": [
    {
     "data": {
      "text/plain": [
       "{1, 2}"
      ]
     },
     "execution_count": 67,
     "metadata": {},
     "output_type": "execute_result"
    }
   ],
   "source": [
    "s1 = {1}\n",
    "s1.add(2)\n",
    "s1"
   ]
  },
  {
   "cell_type": "code",
   "execution_count": 68,
   "id": "a89c1de2",
   "metadata": {},
   "outputs": [],
   "source": [
    "s1.update([3,4])"
   ]
  },
  {
   "cell_type": "code",
   "execution_count": 69,
   "id": "11c7dcd6",
   "metadata": {},
   "outputs": [
    {
     "data": {
      "text/plain": [
       "{1, 2, 3, 4}"
      ]
     },
     "execution_count": 69,
     "metadata": {},
     "output_type": "execute_result"
    }
   ],
   "source": [
    "s1"
   ]
  },
  {
   "cell_type": "code",
   "execution_count": 70,
   "id": "32a9de68",
   "metadata": {},
   "outputs": [],
   "source": [
    "# Working with files"
   ]
  },
  {
   "cell_type": "code",
   "execution_count": 71,
   "id": "8c9bef54",
   "metadata": {},
   "outputs": [
    {
     "name": "stdout",
     "output_type": "stream",
     "text": [
      "Overwriting my_file.txt\n"
     ]
    }
   ],
   "source": [
    "%%writefile my_file.txt\n",
    "Hello this is the basic text file where we are writing something in it.\n",
    "This actually works only in jupyter nootbook.\n",
    "If you wanna create a new file and then start writing in it you have to use with open then file name followed by w\n",
    "Where w is used to create a new file if does not exist, if the file is present then it will over-writes the original content with the content which is beeing written now."
   ]
  },
  {
   "cell_type": "code",
   "execution_count": 72,
   "id": "4764acb7",
   "metadata": {},
   "outputs": [
    {
     "data": {
      "text/plain": [
       "'C:\\\\Users\\\\u1089501\\\\Python_Training\\\\IQVIA_Python-AI-ML_Trainings(Aug-3-2022)'"
      ]
     },
     "execution_count": 72,
     "metadata": {},
     "output_type": "execute_result"
    }
   ],
   "source": [
    "pwd"
   ]
  },
  {
   "cell_type": "code",
   "execution_count": 73,
   "id": "768df871",
   "metadata": {},
   "outputs": [],
   "source": [
    "jupyter_only = open('my_file.txt')"
   ]
  },
  {
   "cell_type": "code",
   "execution_count": 74,
   "id": "bc644bbd",
   "metadata": {},
   "outputs": [
    {
     "data": {
      "text/plain": [
       "'Hello this is the basic text file where we are writing something in it.\\nThis actually works only in jupyter nootbook.\\nIf you wanna create a new file and then start writing in it you have to use with open then file name followed by w\\nWhere w is used to create a new file if does not exist, if the file is present then it will over-writes the original content with the content which is beeing written now.\\n'"
      ]
     },
     "execution_count": 74,
     "metadata": {},
     "output_type": "execute_result"
    }
   ],
   "source": [
    "jupyter_only.read()"
   ]
  },
  {
   "cell_type": "code",
   "execution_count": 75,
   "id": "e6de7867",
   "metadata": {},
   "outputs": [
    {
     "data": {
      "text/plain": [
       "0"
      ]
     },
     "execution_count": 75,
     "metadata": {},
     "output_type": "execute_result"
    }
   ],
   "source": [
    "jupyter_only.seek(0)"
   ]
  },
  {
   "cell_type": "code",
   "execution_count": 76,
   "id": "ddfab55f",
   "metadata": {},
   "outputs": [
    {
     "data": {
      "text/plain": [
       "'Hello this is the basic text file where we are writing something in it.\\nThis actually works only in jupyter nootbook.\\nIf you wanna create a new file and then start writing in it you have to use with open then file name followed by w\\nWhere w is used to create a new file if does not exist, if the file is present then it will over-writes the original content with the content which is beeing written now.\\n'"
      ]
     },
     "execution_count": 76,
     "metadata": {},
     "output_type": "execute_result"
    }
   ],
   "source": [
    "text = jupyter_only.read()\n",
    "text"
   ]
  },
  {
   "cell_type": "code",
   "execution_count": 77,
   "id": "b5fd95fd",
   "metadata": {},
   "outputs": [
    {
     "data": {
      "text/plain": [
       "0"
      ]
     },
     "execution_count": 77,
     "metadata": {},
     "output_type": "execute_result"
    }
   ],
   "source": [
    "jupyter_only.seek(0)"
   ]
  },
  {
   "cell_type": "code",
   "execution_count": 78,
   "id": "6c4d9cd9",
   "metadata": {},
   "outputs": [
    {
     "data": {
      "text/plain": [
       "['Hello this is the basic text file where we are writing something in it.\\n',\n",
       " 'This actually works only in jupyter nootbook.\\n',\n",
       " 'If you wanna create a new file and then start writing in it you have to use with open then file name followed by w\\n',\n",
       " 'Where w is used to create a new file if does not exist, if the file is present then it will over-writes the original content with the content which is beeing written now.\\n']"
      ]
     },
     "execution_count": 78,
     "metadata": {},
     "output_type": "execute_result"
    }
   ],
   "source": [
    "# Reading every line\n",
    "each_line = jupyter_only.readlines()\n",
    "each_line"
   ]
  },
  {
   "cell_type": "code",
   "execution_count": 79,
   "id": "91b70949",
   "metadata": {},
   "outputs": [],
   "source": [
    "jupyter_only.close()"
   ]
  },
  {
   "cell_type": "code",
   "execution_count": 80,
   "id": "429841ff",
   "metadata": {},
   "outputs": [],
   "source": [
    "with open('my_file.txt') as my_new_file:\n",
    "    text2 = my_new_file.read()\n",
    "    my_new_file.seek(0)\n",
    "    new_line = my_new_file.readlines()"
   ]
  },
  {
   "cell_type": "code",
   "execution_count": 81,
   "id": "2145127b",
   "metadata": {},
   "outputs": [
    {
     "data": {
      "text/plain": [
       "'Hello this is the basic text file where we are writing something in it.\\nThis actually works only in jupyter nootbook.\\nIf you wanna create a new file and then start writing in it you have to use with open then file name followed by w\\nWhere w is used to create a new file if does not exist, if the file is present then it will over-writes the original content with the content which is beeing written now.\\n'"
      ]
     },
     "execution_count": 81,
     "metadata": {},
     "output_type": "execute_result"
    }
   ],
   "source": [
    "text2"
   ]
  },
  {
   "cell_type": "code",
   "execution_count": 82,
   "id": "59041182",
   "metadata": {},
   "outputs": [
    {
     "data": {
      "text/plain": [
       "['Hello this is the basic text file where we are writing something in it.\\n',\n",
       " 'This actually works only in jupyter nootbook.\\n',\n",
       " 'If you wanna create a new file and then start writing in it you have to use with open then file name followed by w\\n',\n",
       " 'Where w is used to create a new file if does not exist, if the file is present then it will over-writes the original content with the content which is beeing written now.\\n']"
      ]
     },
     "execution_count": 82,
     "metadata": {},
     "output_type": "execute_result"
    }
   ],
   "source": [
    "new_line"
   ]
  },
  {
   "cell_type": "code",
   "execution_count": 83,
   "id": "66c8e189",
   "metadata": {},
   "outputs": [
    {
     "name": "stdout",
     "output_type": "stream",
     "text": [
      "Hello this is the basic text file where we are writing something in it.\n",
      "This actually works only in jupyter nootbook.\n",
      "If you wanna create a new file and then start writing in it you have to use with open then file name followed by w\n",
      "Where w is used to create a new file if does not exist, if the file is present then it will over-writes the original content with the content which is beeing written now.\n",
      "\n"
     ]
    }
   ],
   "source": [
    "# Now Reading & Writing into files\n",
    "with open('my_file.txt', mode='r') as file:\n",
    "    print(file.read())"
   ]
  },
  {
   "cell_type": "code",
   "execution_count": 84,
   "id": "da73e796",
   "metadata": {},
   "outputs": [],
   "source": [
    "with open('my_file.txt', mode='a') as file2:\n",
    "    file2.write('\\nThis is 5th line writing using append mode wher U already know append is used to insert the text at the end of file')\n",
    "    "
   ]
  },
  {
   "cell_type": "code",
   "execution_count": 85,
   "id": "cfa7ee31",
   "metadata": {},
   "outputs": [
    {
     "name": "stdout",
     "output_type": "stream",
     "text": [
      "Hello this is the basic text file where we are writing something in it.\n",
      "This actually works only in jupyter nootbook.\n",
      "If you wanna create a new file and then start writing in it you have to use with open then file name followed by w\n",
      "Where w is used to create a new file if does not exist, if the file is present then it will over-writes the original content with the content which is beeing written now.\n",
      "\n",
      "This is 5th line writing using append mode wher U already know append is used to insert the text at the end of file\n"
     ]
    }
   ],
   "source": [
    "with open('my_file.txt', mode='r') as file2:\n",
    "    print(file2.read())"
   ]
  },
  {
   "cell_type": "code",
   "execution_count": 86,
   "id": "01530553",
   "metadata": {},
   "outputs": [
    {
     "name": "stdout",
     "output_type": "stream",
     "text": [
      "Hello this is the basic text file where we are writing something in it.\n",
      "This actually works only in jupyter nootbook.\n",
      "If you wanna create a new file and then start writing in it you have to use with open then file name followed by w\n",
      "Where w is used to create a new file if does not exist, if the file is present then it will over-writes the original content with the content which is beeing written now.\n",
      "\n",
      "This is 5th line writing using append mode wher U already know append is used to insert the text at the end of file\n"
     ]
    }
   ],
   "source": [
    "with open('my_file.txt') as f:\n",
    "    print(f.read())"
   ]
  },
  {
   "cell_type": "code",
   "execution_count": 87,
   "id": "3600e2fb",
   "metadata": {},
   "outputs": [],
   "source": [
    "# As you can see from above line when ever you run the cell then the same line gets appended into the my_text.txt file"
   ]
  },
  {
   "cell_type": "code",
   "execution_count": 88,
   "id": "3ba6e2dd",
   "metadata": {},
   "outputs": [],
   "source": [
    "# If you wanna rest then you have to go to the cell where you given the data to the file and then run again from that cell"
   ]
  },
  {
   "cell_type": "code",
   "execution_count": 89,
   "id": "9d0882cb",
   "metadata": {},
   "outputs": [],
   "source": [
    "# Now opening in write mode in here\n",
    "with open('abc.txt', mode='w') as fi:\n",
    "    fi.write('This is the example for write operation of files.')"
   ]
  },
  {
   "cell_type": "code",
   "execution_count": 90,
   "id": "80bcd8ee",
   "metadata": {},
   "outputs": [
    {
     "name": "stdout",
     "output_type": "stream",
     "text": [
      "This is the example for write operation of files.\n"
     ]
    }
   ],
   "source": [
    "with open('abc.txt', mode='r') as fi:\n",
    "    print(fi.read())"
   ]
  },
  {
   "cell_type": "code",
   "execution_count": 91,
   "id": "b2681aef",
   "metadata": {},
   "outputs": [
    {
     "name": "stdout",
     "output_type": "stream",
     "text": [
      "1\n",
      "2\n",
      "3\n",
      "4\n"
     ]
    }
   ],
   "source": [
    "# This is tuple unpacking\n",
    "li = [(1,2), (3,4)]\n",
    "for a, b in li:\n",
    "    print(a)\n",
    "    print(b)"
   ]
  },
  {
   "cell_type": "code",
   "execution_count": 92,
   "id": "9d24b44e",
   "metadata": {},
   "outputs": [
    {
     "name": "stdout",
     "output_type": "stream",
     "text": [
      "current value: 0\n",
      "current value: 1\n",
      "current value: 2\n",
      "current value: 3\n",
      "current value: 4\n",
      "current value: 5\n",
      "num is not less than 6\n"
     ]
    }
   ],
   "source": [
    "num = 0\n",
    "while num<6:\n",
    "    print(f'current value: {num}')\n",
    "    num = num+1\n",
    "else:\n",
    "    print('num is not less than 6')"
   ]
  },
  {
   "cell_type": "code",
   "execution_count": 93,
   "id": "f71d5dab",
   "metadata": {},
   "outputs": [
    {
     "name": "stdout",
     "output_type": "stream",
     "text": [
      "for letter a index is 0\n",
      "for letter b index is 1\n",
      "for letter c index is 2\n"
     ]
    }
   ],
   "source": [
    "# Enumarate function\n",
    "\n",
    "index = 0\n",
    "for letter in 'abc':\n",
    "    print(f'for letter {letter} index is {index}')\n",
    "    index += 1"
   ]
  },
  {
   "cell_type": "code",
   "execution_count": 94,
   "id": "39be6811",
   "metadata": {},
   "outputs": [
    {
     "name": "stdout",
     "output_type": "stream",
     "text": [
      "(0, 'S')\n",
      "(1, 'a')\n",
      "(2, 's')\n",
      "(3, 'i')\n"
     ]
    }
   ],
   "source": [
    "word = 'Sasi'\n",
    "for letter in enumerate(word):\n",
    "    print(letter)"
   ]
  },
  {
   "cell_type": "code",
   "execution_count": 95,
   "id": "fe00d2f5",
   "metadata": {},
   "outputs": [
    {
     "name": "stdout",
     "output_type": "stream",
     "text": [
      "(234567, 12367, 'abc')\n",
      "(45678, 109876, 'def')\n"
     ]
    }
   ],
   "source": [
    "# zip is kinda opposite to enumarate\n",
    "lis1 = [234567, 45678, 45789]\n",
    "lis2 = [12367, 109876, 234560]\n",
    "lis3 = ['abc', 'def']\n",
    "for itesm in zip(lis1, lis2, lis3):\n",
    "    print(itesm)"
   ]
  },
  {
   "cell_type": "code",
   "execution_count": 96,
   "id": "8ae500c1",
   "metadata": {},
   "outputs": [
    {
     "name": "stdout",
     "output_type": "stream",
     "text": [
      "abc\n",
      "def\n"
     ]
    }
   ],
   "source": [
    "for x, y, z in zip(lis1, lis2, lis3):\n",
    "    print(z)"
   ]
  },
  {
   "cell_type": "code",
   "execution_count": 97,
   "id": "9f4610f1",
   "metadata": {},
   "outputs": [
    {
     "data": {
      "text/plain": [
       "True"
      ]
     },
     "execution_count": 97,
     "metadata": {},
     "output_type": "execute_result"
    }
   ],
   "source": [
    "'abc' in lis3"
   ]
  },
  {
   "cell_type": "code",
   "execution_count": 98,
   "id": "43a422fb",
   "metadata": {},
   "outputs": [
    {
     "data": {
      "text/plain": [
       "45678"
      ]
     },
     "execution_count": 98,
     "metadata": {},
     "output_type": "execute_result"
    }
   ],
   "source": [
    "min(lis1)"
   ]
  },
  {
   "cell_type": "code",
   "execution_count": 99,
   "id": "7e30b855",
   "metadata": {},
   "outputs": [
    {
     "data": {
      "text/plain": [
       "234567"
      ]
     },
     "execution_count": 99,
     "metadata": {},
     "output_type": "execute_result"
    }
   ],
   "source": [
    "max(lis1)"
   ]
  },
  {
   "cell_type": "code",
   "execution_count": 100,
   "id": "de249d8e",
   "metadata": {},
   "outputs": [],
   "source": [
    "import random"
   ]
  },
  {
   "cell_type": "code",
   "execution_count": 101,
   "id": "525caf51",
   "metadata": {},
   "outputs": [],
   "source": [
    "# shuffle method from random is also in place i.e it's none type"
   ]
  },
  {
   "cell_type": "code",
   "execution_count": 102,
   "id": "a04e69e5",
   "metadata": {},
   "outputs": [
    {
     "data": {
      "text/plain": [
       "[2, 5, 4, 3, 1]"
      ]
     },
     "execution_count": 102,
     "metadata": {},
     "output_type": "execute_result"
    }
   ],
   "source": [
    "sl = [1,2,3,4,5]\n",
    "random.shuffle(sl)\n",
    "sl"
   ]
  },
  {
   "cell_type": "code",
   "execution_count": 103,
   "id": "09ca3cd9",
   "metadata": {},
   "outputs": [
    {
     "data": {
      "text/plain": [
       "[4, 2, 1, 5, 3]"
      ]
     },
     "execution_count": 103,
     "metadata": {},
     "output_type": "execute_result"
    }
   ],
   "source": [
    "from random import shuffle\n",
    "shuffle(sl)\n",
    "sl"
   ]
  },
  {
   "cell_type": "code",
   "execution_count": 104,
   "id": "13041793",
   "metadata": {},
   "outputs": [],
   "source": [
    "# As you can see from above 2 cells both are same"
   ]
  },
  {
   "cell_type": "code",
   "execution_count": 105,
   "id": "d61bd22f",
   "metadata": {},
   "outputs": [
    {
     "data": {
      "text/plain": [
       "1"
      ]
     },
     "execution_count": 105,
     "metadata": {},
     "output_type": "execute_result"
    }
   ],
   "source": [
    "random.randint(1, 9)"
   ]
  },
  {
   "cell_type": "code",
   "execution_count": 106,
   "id": "f6d4b795",
   "metadata": {},
   "outputs": [
    {
     "data": {
      "text/plain": [
       "6"
      ]
     },
     "execution_count": 106,
     "metadata": {},
     "output_type": "execute_result"
    }
   ],
   "source": [
    "# U can use randint to store the value and later print it unlike shuffle which is a inplace method\n",
    "r_num = random.randint(1, 7)\n",
    "r_num"
   ]
  },
  {
   "cell_type": "code",
   "execution_count": 107,
   "id": "8980adc6",
   "metadata": {},
   "outputs": [
    {
     "name": "stdout",
     "output_type": "stream",
     "text": [
      "Enter U'r fav num: 9\n"
     ]
    },
    {
     "data": {
      "text/plain": [
       "9"
      ]
     },
     "execution_count": 107,
     "metadata": {},
     "output_type": "execute_result"
    }
   ],
   "source": [
    "fav_num = int(input(\"Enter U'r fav num: \"))\n",
    "fav_num"
   ]
  },
  {
   "cell_type": "code",
   "execution_count": 108,
   "id": "33765d9a",
   "metadata": {},
   "outputs": [
    {
     "data": {
      "text/plain": [
       "9"
      ]
     },
     "execution_count": 108,
     "metadata": {},
     "output_type": "execute_result"
    }
   ],
   "source": [
    "fav_num"
   ]
  },
  {
   "cell_type": "code",
   "execution_count": null,
   "id": "d504f5c8",
   "metadata": {},
   "outputs": [],
   "source": []
  },
  {
   "cell_type": "code",
   "execution_count": 109,
   "id": "0d7cc8af",
   "metadata": {},
   "outputs": [
    {
     "data": {
      "text/plain": [
       "['s', 'a', 's', 'i', 'g', 'o', 'w', 't', 'h', 'a', 'm']"
      ]
     },
     "execution_count": 109,
     "metadata": {},
     "output_type": "execute_result"
    }
   ],
   "source": [
    "name = \"Sasi Gowtham\"\n",
    "letters = [letter for letter in name.lower() if letter != ' ']\n",
    "letters"
   ]
  },
  {
   "cell_type": "code",
   "execution_count": 110,
   "id": "a81e0c2b",
   "metadata": {},
   "outputs": [
    {
     "data": {
      "text/plain": [
       "['s', 'a', 's', 'i', '', 'g', 'o', 'w', 't', 'h', 'a', 'm']"
      ]
     },
     "execution_count": 110,
     "metadata": {},
     "output_type": "execute_result"
    }
   ],
   "source": [
    "name2 = \"Sasi Gowtham\"\n",
    "letters2 = [letter.strip() for letter in name.lower()]\n",
    "letters2"
   ]
  },
  {
   "cell_type": "code",
   "execution_count": 111,
   "id": "a116e235",
   "metadata": {},
   "outputs": [
    {
     "data": {
      "text/plain": [
       "['s', 'a', 's', 'i', 'g', 'o', 'w', 't', 'h', 'a', 'm']"
      ]
     },
     "execution_count": 111,
     "metadata": {},
     "output_type": "execute_result"
    }
   ],
   "source": [
    "name3 = \"Sasi Gowtham\"\n",
    "letters3 = [letter for letter in name.lower() if letter.strip()]\n",
    "letters3"
   ]
  },
  {
   "cell_type": "code",
   "execution_count": 114,
   "id": "2768bb6d",
   "metadata": {},
   "outputs": [],
   "source": [
    "nums2 = range(1,11)\n"
   ]
  },
  {
   "cell_type": "code",
   "execution_count": 117,
   "id": "b2195740",
   "metadata": {},
   "outputs": [
    {
     "data": {
      "text/plain": [
       "[False, True, False, True, False, True, False, True, False, True]"
      ]
     },
     "execution_count": 117,
     "metadata": {},
     "output_type": "execute_result"
    }
   ],
   "source": [
    "even2 = [num%2 ==0 for num in nums2]\n",
    "even2"
   ]
  },
  {
   "cell_type": "code",
   "execution_count": 118,
   "id": "c10be3df",
   "metadata": {},
   "outputs": [
    {
     "ename": "NameError",
     "evalue": "name 'nums' is not defined",
     "output_type": "error",
     "traceback": [
      "\u001b[1;31m---------------------------------------------------------------------------\u001b[0m",
      "\u001b[1;31mNameError\u001b[0m                                 Traceback (most recent call last)",
      "\u001b[1;32m<ipython-input-118-af2352bbf2d5>\u001b[0m in \u001b[0;36m<module>\u001b[1;34m\u001b[0m\n\u001b[0;32m      1\u001b[0m \u001b[0mnums2\u001b[0m \u001b[1;33m=\u001b[0m \u001b[0mrange\u001b[0m\u001b[1;33m(\u001b[0m\u001b[1;36m1\u001b[0m\u001b[1;33m,\u001b[0m\u001b[1;36m11\u001b[0m\u001b[1;33m)\u001b[0m\u001b[1;33m\u001b[0m\u001b[1;33m\u001b[0m\u001b[0m\n\u001b[1;32m----> 2\u001b[1;33m \u001b[0meven2\u001b[0m \u001b[1;33m=\u001b[0m \u001b[1;33m[\u001b[0m\u001b[0mnum\u001b[0m \u001b[1;32mfor\u001b[0m \u001b[0mnum\u001b[0m \u001b[1;32min\u001b[0m \u001b[0mnums\u001b[0m \u001b[1;32mif\u001b[0m \u001b[0mnum\u001b[0m\u001b[1;33m%\u001b[0m\u001b[1;36m2\u001b[0m \u001b[1;33m==\u001b[0m\u001b[1;36m0\u001b[0m \u001b[1;33m]\u001b[0m\u001b[1;33m\u001b[0m\u001b[1;33m\u001b[0m\u001b[0m\n\u001b[0m\u001b[0;32m      3\u001b[0m \u001b[0meven2\u001b[0m\u001b[1;33m\u001b[0m\u001b[1;33m\u001b[0m\u001b[0m\n",
      "\u001b[1;31mNameError\u001b[0m: name 'nums' is not defined"
     ]
    }
   ],
   "source": [
    "nums2 = range(1,11)\n",
    "even2 = [num for num in nums if num%2 ==0 ]\n",
    "even2"
   ]
  },
  {
   "cell_type": "code",
   "execution_count": null,
   "id": "0a5d2f4f",
   "metadata": {},
   "outputs": [],
   "source": [
    "# So from above 2cells u can see the difference"
   ]
  },
  {
   "cell_type": "code",
   "execution_count": null,
   "id": "5f4c57f0",
   "metadata": {},
   "outputs": [],
   "source": [
    "# In This last example u can see the deifference b/w list comprehenssion and normal way of doing looping & conditions\n",
    "celcius = [0, 10, 20, 32, 45]\n",
    "fahrenheit = [((9/5)*temp +32) for temp in celcius] #formula for converting celcius to faranhite\n",
    "fahrenheit"
   ]
  },
  {
   "cell_type": "code",
   "execution_count": null,
   "id": "468c3c48",
   "metadata": {},
   "outputs": [],
   "source": [
    "# Above block can be done using standard for block like below\n",
    "celcius2 = [0, 15, 25, 35, 50]\n",
    "fahrenheir2 =[]\n",
    "for temp in celcius2:\n",
    "    fahrenheir2.append((9/5)*temp +32)\n",
    "fahrenheir2"
   ]
  },
  {
   "cell_type": "code",
   "execution_count": null,
   "id": "0cdf6306",
   "metadata": {},
   "outputs": [],
   "source": [
    "'''It is not the good practice to use list conprehension in real world project \n",
    "because you need to revisit ur code after some time then it might be confusing \n",
    "or for some one to go through your code might be challinging''' "
   ]
  },
  {
   "cell_type": "code",
   "execution_count": null,
   "id": "087a6960",
   "metadata": {},
   "outputs": [],
   "source": [
    "# for num in range(1, 101):\n",
    "#     if num % 3 ==0:\n",
    "#         print('Fizz')\n",
    "#     elif num % 5 == 0:\n",
    "#         print(\"Buzz\")\n",
    "#     else:\n",
    "#         print(num)"
   ]
  },
  {
   "cell_type": "markdown",
   "id": "f5420acb",
   "metadata": {},
   "source": [
    "# Functions From Now On"
   ]
  },
  {
   "cell_type": "code",
   "execution_count": null,
   "id": "be51cbe6",
   "metadata": {},
   "outputs": [],
   "source": [
    "def even_num(number):\n",
    "    return number%2 ==0"
   ]
  },
  {
   "cell_type": "code",
   "execution_count": null,
   "id": "b6619b2c",
   "metadata": {},
   "outputs": [],
   "source": [
    "e1 = even_num(6)\n",
    "e1"
   ]
  },
  {
   "cell_type": "code",
   "execution_count": 119,
   "id": "82af0e80",
   "metadata": {},
   "outputs": [
    {
     "ename": "NameError",
     "evalue": "name 'even_num' is not defined",
     "output_type": "error",
     "traceback": [
      "\u001b[1;31m---------------------------------------------------------------------------\u001b[0m",
      "\u001b[1;31mNameError\u001b[0m                                 Traceback (most recent call last)",
      "\u001b[1;32m<ipython-input-119-24fcb331a8b1>\u001b[0m in \u001b[0;36m<module>\u001b[1;34m\u001b[0m\n\u001b[1;32m----> 1\u001b[1;33m \u001b[0me2\u001b[0m \u001b[1;33m=\u001b[0m \u001b[0meven_num\u001b[0m\u001b[1;33m(\u001b[0m\u001b[1;36m9\u001b[0m\u001b[1;33m)\u001b[0m\u001b[1;33m\u001b[0m\u001b[1;33m\u001b[0m\u001b[0m\n\u001b[0m\u001b[0;32m      2\u001b[0m \u001b[0me2\u001b[0m\u001b[1;33m\u001b[0m\u001b[1;33m\u001b[0m\u001b[0m\n",
      "\u001b[1;31mNameError\u001b[0m: name 'even_num' is not defined"
     ]
    }
   ],
   "source": [
    "e2 = even_num(9)\n",
    "e2"
   ]
  },
  {
   "cell_type": "code",
   "execution_count": null,
   "id": "4ae8793e",
   "metadata": {},
   "outputs": [],
   "source": [
    "def checking(list_nums):\n",
    "    even = []\n",
    "    for num in list_nums:\n",
    "        if num%2 ==0:\n",
    "            even.append(num)\n",
    "            \n",
    "        else:\n",
    "            pass\n",
    "    return even"
   ]
  },
  {
   "cell_type": "code",
   "execution_count": null,
   "id": "8744f591",
   "metadata": {},
   "outputs": [],
   "source": [
    "c1 = checking([1,2,3,4])\n",
    "c1"
   ]
  },
  {
   "cell_type": "code",
   "execution_count": null,
   "id": "f2efc39d",
   "metadata": {},
   "outputs": [],
   "source": [
    "hours = [('Sasi', 180), ('Gowtham', 100), ('Bhatraju', 90)]"
   ]
  },
  {
   "cell_type": "code",
   "execution_count": null,
   "id": "3d10f233",
   "metadata": {},
   "outputs": [],
   "source": [
    "def spent_time(hours):\n",
    "    current_max = 0\n",
    "    employee = ''\n",
    "    for name, hour in hours:\n",
    "        if hour > current_max:\n",
    "            current_max = hour\n",
    "            employee = name\n",
    "\n",
    "        else:\n",
    "            pass\n",
    "    return (employee, current_max)"
   ]
  },
  {
   "cell_type": "code",
   "execution_count": null,
   "id": "0a3e365d",
   "metadata": {},
   "outputs": [],
   "source": [
    "s1 = spent_time(hours)\n",
    "s1"
   ]
  },
  {
   "cell_type": "code",
   "execution_count": null,
   "id": "28f887fb",
   "metadata": {},
   "outputs": [],
   "source": [
    "# Below is the code for guessing game\n"
   ]
  },
  {
   "cell_type": "code",
   "execution_count": null,
   "id": "85807bb6",
   "metadata": {},
   "outputs": [],
   "source": [
    "# Guessing example\n",
    "def random_list(listi):\n",
    "    random.shuffle(listi)\n",
    "    return listi"
   ]
  },
  {
   "cell_type": "code",
   "execution_count": null,
   "id": "c2fbd63f",
   "metadata": {},
   "outputs": [],
   "source": [
    "cup = [' ', 'O', '']\n",
    "r1 = random_list(cup)\n",
    "r1"
   ]
  },
  {
   "cell_type": "code",
   "execution_count": null,
   "id": "0557f833",
   "metadata": {},
   "outputs": [],
   "source": [
    "def guessing(): # This function is mainly for guessing the index position of where 0 is present in above r1 function\n",
    "    \n",
    "    guess = ''\n",
    "    \n",
    "    while guess not in ['0', '1', '2']: #This will run untile users pick correct index position\n",
    "        print(\"U are guessing index positions of O from r1\")\n",
    "        guess = input(\"Enter your number between: 0, 1 or 2 --> \")\n",
    "    return int(guess) #Becoz input will always returns string\n",
    "    "
   ]
  },
  {
   "cell_type": "code",
   "execution_count": null,
   "id": "3e385864",
   "metadata": {},
   "outputs": [],
   "source": [
    "g1 = guessing()"
   ]
  },
  {
   "cell_type": "code",
   "execution_count": null,
   "id": "56b2e410",
   "metadata": {},
   "outputs": [],
   "source": [
    "def matching(my_list, guess):\n",
    "    if my_list[guess] == 'O':\n",
    "        print('You own')\n",
    "    else:\n",
    "        print(\"Wrong guess wanna try again!\")\n",
    "        print(my_list)\n",
    "#         yes = input()\n",
    "#         if yes:\n",
    "#             guessing()\n",
    "            "
   ]
  },
  {
   "cell_type": "code",
   "execution_count": null,
   "id": "65acd4fa",
   "metadata": {},
   "outputs": [],
   "source": [
    "m1 = matching(r1, g1)"
   ]
  },
  {
   "cell_type": "code",
   "execution_count": null,
   "id": "7ac70e2d",
   "metadata": {},
   "outputs": [],
   "source": [
    "# Simple problem stats\n"
   ]
  },
  {
   "cell_type": "code",
   "execution_count": null,
   "id": "85de8159",
   "metadata": {},
   "outputs": [],
   "source": [
    "def lesser_even_higher_odd(x, y):\n",
    "    if x%2 == 0 and y%2 ==0:\n",
    "        return min(x, y)\n",
    "    else:\n",
    "        if x%2 != 0 or y %2 != 0:\n",
    "            return max(x, y)\n",
    "        \n",
    "        "
   ]
  },
  {
   "cell_type": "code",
   "execution_count": null,
   "id": "a65fa65f",
   "metadata": {},
   "outputs": [],
   "source": [
    "l1 = lesser_even_higher_odd(2, 4)\n",
    "l1"
   ]
  },
  {
   "cell_type": "code",
   "execution_count": null,
   "id": "63ea196d",
   "metadata": {},
   "outputs": [],
   "source": [
    "l2 = lesser_even_higher_odd(7, 5)\n",
    "l2"
   ]
  },
  {
   "cell_type": "code",
   "execution_count": null,
   "id": "6a7d199a",
   "metadata": {},
   "outputs": [],
   "source": [
    "# splity = []\n",
    "# a ='Sasi Gowtham'\n",
    "# splity.append(a.split())\n",
    "# for word in splity:\n",
    "#     if "
   ]
  },
  {
   "cell_type": "code",
   "execution_count": null,
   "id": "e8275007",
   "metadata": {},
   "outputs": [],
   "source": [
    "def animal_crackers(text):\n",
    "    words = text.lower().split()\n",
    "#     first = words[0]\n",
    "#     second = words[1]\n",
    "\n",
    "#     if first == second:\n",
    "#         return True\n",
    "#     else:\n",
    "#         False\n",
    "    return words[0][0] == words[1][0]"
   ]
  },
  {
   "cell_type": "code",
   "execution_count": null,
   "id": "2759c2e8",
   "metadata": {},
   "outputs": [],
   "source": [
    "animal_crackers('Sasi Shasank')"
   ]
  },
  {
   "cell_type": "code",
   "execution_count": null,
   "id": "504791ee",
   "metadata": {},
   "outputs": [],
   "source": [
    "def twenty(a, b):\n",
    "    if (a+b == 20) or a == 20 or b == 20:\n",
    "        return True\n",
    "    else:\n",
    "        False"
   ]
  },
  {
   "cell_type": "code",
   "execution_count": null,
   "id": "13d68500",
   "metadata": {},
   "outputs": [],
   "source": [
    "twenty(20, 30)"
   ]
  },
  {
   "cell_type": "code",
   "execution_count": null,
   "id": "5099954b",
   "metadata": {},
   "outputs": [],
   "source": [
    "def old_mcdonald(name):\n",
    "    first_half = name[0:3]\n",
    "    second_half = name[3:]\n",
    "    return first_half.capitalize() + second_half.capitalize()"
   ]
  },
  {
   "cell_type": "code",
   "execution_count": null,
   "id": "6a12207d",
   "metadata": {},
   "outputs": [],
   "source": [
    "old_mcdonald('macdonald')"
   ]
  },
  {
   "cell_type": "code",
   "execution_count": null,
   "id": "667b1291",
   "metadata": {},
   "outputs": [],
   "source": [
    "def master_yoda(text):\n",
    "    words = text.split()\n",
    "    reverse = words[::-1]\n",
    "    reverse = ' '.join(reverse)\n",
    "    return reverse"
   ]
  },
  {
   "cell_type": "code",
   "execution_count": null,
   "id": "0a158191",
   "metadata": {},
   "outputs": [],
   "source": [
    "master_yoda('Hello I am Sasi')\n"
   ]
  },
  {
   "cell_type": "code",
   "execution_count": null,
   "id": "249e4c33",
   "metadata": {},
   "outputs": [],
   "source": [
    "def almost_there(num):\n",
    "    return (abs(100-num)<=10) or (abs(200-num)<=10)"
   ]
  },
  {
   "cell_type": "code",
   "execution_count": null,
   "id": "3a047072",
   "metadata": {},
   "outputs": [],
   "source": [
    "almost_there(104)"
   ]
  },
  {
   "cell_type": "code",
   "execution_count": null,
   "id": "9c14d826",
   "metadata": {},
   "outputs": [],
   "source": [
    "almost_there(200)"
   ]
  },
  {
   "cell_type": "code",
   "execution_count": null,
   "id": "5440a335",
   "metadata": {},
   "outputs": [],
   "source": [
    "almost_there(50)"
   ]
  },
  {
   "cell_type": "code",
   "execution_count": null,
   "id": "2b2004f8",
   "metadata": {},
   "outputs": [],
   "source": [
    "def threes(num):\n",
    "    for i in range(0, len(num) - 1):\n",
    "        if num[i] == 3 and num[i+1] == 3:\n",
    "            return True\n",
    "    else:\n",
    "        return False"
   ]
  },
  {
   "cell_type": "code",
   "execution_count": 120,
   "id": "cc678c3a",
   "metadata": {},
   "outputs": [
    {
     "ename": "NameError",
     "evalue": "name 'threes' is not defined",
     "output_type": "error",
     "traceback": [
      "\u001b[1;31m---------------------------------------------------------------------------\u001b[0m",
      "\u001b[1;31mNameError\u001b[0m                                 Traceback (most recent call last)",
      "\u001b[1;32m<ipython-input-120-417adc4c71dc>\u001b[0m in \u001b[0;36m<module>\u001b[1;34m\u001b[0m\n\u001b[1;32m----> 1\u001b[1;33m \u001b[0mthrees\u001b[0m\u001b[1;33m(\u001b[0m\u001b[1;33m[\u001b[0m\u001b[1;36m1\u001b[0m\u001b[1;33m,\u001b[0m \u001b[1;36m3\u001b[0m\u001b[1;33m,\u001b[0m \u001b[1;36m3\u001b[0m\u001b[1;33m,\u001b[0m \u001b[1;36m6\u001b[0m\u001b[1;33m]\u001b[0m\u001b[1;33m)\u001b[0m\u001b[1;33m\u001b[0m\u001b[1;33m\u001b[0m\u001b[0m\n\u001b[0m",
      "\u001b[1;31mNameError\u001b[0m: name 'threes' is not defined"
     ]
    }
   ],
   "source": [
    "threes([1, 3, 3, 6])"
   ]
  },
  {
   "cell_type": "code",
   "execution_count": null,
   "id": "494de939",
   "metadata": {},
   "outputs": [],
   "source": [
    "threes([1, 2, 3])"
   ]
  },
  {
   "cell_type": "code",
   "execution_count": null,
   "id": "93e6b19a",
   "metadata": {},
   "outputs": [],
   "source": [
    "print('s'*3)"
   ]
  },
  {
   "cell_type": "code",
   "execution_count": null,
   "id": "19799992",
   "metadata": {},
   "outputs": [],
   "source": [
    "def paper_doll(text):\n",
    "    result = ''\n",
    "    for letter in text:\n",
    "        result += letter*3\n",
    "    return result"
   ]
  },
  {
   "cell_type": "code",
   "execution_count": null,
   "id": "32171156",
   "metadata": {},
   "outputs": [],
   "source": [
    "paper_doll('sasi')"
   ]
  },
  {
   "cell_type": "code",
   "execution_count": null,
   "id": "05ab6f1d",
   "metadata": {},
   "outputs": [],
   "source": [
    "def black_jacket(a, b, c):\n",
    "    addition = a+b+c\n",
    "    if addition<=21:\n",
    "        return addition\n",
    "    elif addition>21 and (a == 11 or b == 11 or c == 11):\n",
    "        return addition - 10\n",
    "    else:\n",
    "        return 'BUST'"
   ]
  },
  {
   "cell_type": "code",
   "execution_count": null,
   "id": "8f040e5b",
   "metadata": {},
   "outputs": [],
   "source": [
    "black_jacket(5, 6, 7)"
   ]
  },
  {
   "cell_type": "code",
   "execution_count": null,
   "id": "15ac2400",
   "metadata": {},
   "outputs": [],
   "source": [
    "black_jacket(9, 9 ,9)"
   ]
  },
  {
   "cell_type": "code",
   "execution_count": null,
   "id": "7a56ea13",
   "metadata": {},
   "outputs": [],
   "source": [
    "black_jacket(9, 9, 11)"
   ]
  },
  {
   "cell_type": "code",
   "execution_count": null,
   "id": "d4903b76",
   "metadata": {},
   "outputs": [],
   "source": [
    "def spy_game(num_list):\n",
    "    checking = [0, 0, 7]\n",
    "    for num in num_list:\n",
    "        if num == checking[0]:\n",
    "            checking.pop(0)\n",
    "        if checking == []:\n",
    "            return True\n",
    "    return False"
   ]
  },
  {
   "cell_type": "code",
   "execution_count": null,
   "id": "5509dd26",
   "metadata": {},
   "outputs": [],
   "source": [
    "spy_game([1, 0, 2, 0, 3, 7])"
   ]
  },
  {
   "cell_type": "code",
   "execution_count": null,
   "id": "936a4e40",
   "metadata": {},
   "outputs": [],
   "source": [
    "spy_game([1, 2, 7, 0])"
   ]
  },
  {
   "cell_type": "code",
   "execution_count": null,
   "id": "41863af8",
   "metadata": {},
   "outputs": [],
   "source": [
    "spy_game([1, 0, 2, 4, 0, 5, 7])"
   ]
  },
  {
   "cell_type": "code",
   "execution_count": null,
   "id": "fb56a301",
   "metadata": {},
   "outputs": [],
   "source": [
    "spy_game([1, 7, 2, 0, 4, 5, 0])"
   ]
  },
  {
   "cell_type": "code",
   "execution_count": null,
   "id": "b1f79554",
   "metadata": {},
   "outputs": [],
   "source": [
    "spy_game([1, 2, 4, 0, 0, 7, 5])"
   ]
  },
  {
   "cell_type": "code",
   "execution_count": null,
   "id": "983db60f",
   "metadata": {},
   "outputs": [],
   "source": [
    "# Lambda functions below"
   ]
  },
  {
   "cell_type": "code",
   "execution_count": null,
   "id": "0819b647",
   "metadata": {},
   "outputs": [],
   "source": [
    "# first we need to talk about map and filter\n"
   ]
  },
  {
   "cell_type": "code",
   "execution_count": null,
   "id": "417897d0",
   "metadata": {},
   "outputs": [],
   "source": [
    "def splicer(names):\n",
    "    if len(names)%2 == 0:\n",
    "        return 'Even'\n",
    "    return names"
   ]
  },
  {
   "cell_type": "code",
   "execution_count": null,
   "id": "b04b9f0f",
   "metadata": {},
   "outputs": [],
   "source": [
    "name_list = ['Sasi', 'Gowtham', 'Bhatraju']"
   ]
  },
  {
   "cell_type": "code",
   "execution_count": null,
   "id": "1bda8ac8",
   "metadata": {},
   "outputs": [],
   "source": [
    "list(map(splicer, name_list))"
   ]
  },
  {
   "cell_type": "code",
   "execution_count": null,
   "id": "8f70fef4",
   "metadata": {},
   "outputs": [],
   "source": [
    "\"\"\"Differences between Map and Filter Functions:\n",
    "    1. Map function will map the parameters of variables that we passed inside map to the respective function i.e it will\n",
    "        apply the functionality of that perticular function to those variables or parameters\n",
    "        in the above example list(map(splicer, name_list)) where name_list is the list of names and splicer is a function\n",
    "        which will check if the name of a list is even & returns Even by iterating into the parameter we passed in hence\n",
    "        the parameter we are passing here in the map function is name_list i.e names = name_list inside splicer function\n",
    "    2. Filter Function will filter out the parameters based on the conditions defined inside the function which is beeing\n",
    "        taken and returns the filtered outcome\n",
    "        in the example from below 3 cells you can see that even is a function which will return True based on the condition\n",
    "        that has been applied to the num parameter or variable & nums is a list of numbers so list(filter(even, nums))\n",
    "        here nums will be parameter and even is the function that beein applied on nums & only returning those numbers\n",
    "        which satisfy the condition defined in even.\"\"\""
   ]
  },
  {
   "cell_type": "code",
   "execution_count": null,
   "id": "8b2658ba",
   "metadata": {},
   "outputs": [],
   "source": [
    "def even(num):\n",
    "    return num%2 ==0"
   ]
  },
  {
   "cell_type": "code",
   "execution_count": null,
   "id": "0c395633",
   "metadata": {},
   "outputs": [],
   "source": [
    "nums = [1, 2, 3, 4, 5, 6]"
   ]
  },
  {
   "cell_type": "code",
   "execution_count": null,
   "id": "c6ed5886",
   "metadata": {},
   "outputs": [],
   "source": [
    "list(filter(even, nums))"
   ]
  },
  {
   "cell_type": "code",
   "execution_count": null,
   "id": "e324f81c",
   "metadata": {},
   "outputs": [],
   "source": [
    "# So here Lambda function\n",
    "list(map(lambda num:num%2 ==0, nums))"
   ]
  },
  {
   "cell_type": "code",
   "execution_count": null,
   "id": "c87ac861",
   "metadata": {},
   "outputs": [],
   "source": [
    "list(map(lambda num:num**2, nums))"
   ]
  },
  {
   "cell_type": "code",
   "execution_count": null,
   "id": "f5417f23",
   "metadata": {},
   "outputs": [],
   "source": [
    "list(filter(lambda num:num%2 == 0, nums))"
   ]
  },
  {
   "cell_type": "code",
   "execution_count": null,
   "id": "27cf3987",
   "metadata": {},
   "outputs": [],
   "source": [
    "# Now U can see the difference b/w above line & line 509"
   ]
  },
  {
   "cell_type": "code",
   "execution_count": null,
   "id": "b0b235d8",
   "metadata": {},
   "outputs": [],
   "source": [
    "x = 5"
   ]
  },
  {
   "cell_type": "code",
   "execution_count": null,
   "id": "72000cca",
   "metadata": {},
   "outputs": [],
   "source": [
    "def see():\n",
    "    global x\n",
    "    x = 10\n",
    "    print(f'I changed to global inside see function so now x is {x}')"
   ]
  },
  {
   "cell_type": "code",
   "execution_count": null,
   "id": "eecdacac",
   "metadata": {},
   "outputs": [],
   "source": [
    "see( )"
   ]
  },
  {
   "cell_type": "code",
   "execution_count": null,
   "id": "35502c62",
   "metadata": {},
   "outputs": [],
   "source": [
    "print(x)"
   ]
  },
  {
   "cell_type": "code",
   "execution_count": null,
   "id": "081186ea",
   "metadata": {},
   "outputs": [],
   "source": [
    "print(x)"
   ]
  },
  {
   "cell_type": "code",
   "execution_count": null,
   "id": "c85db613",
   "metadata": {},
   "outputs": [],
   "source": [
    "# It is not recommended to define and use global variable in longer scripts as it is hard to debug in case of error"
   ]
  },
  {
   "cell_type": "code",
   "execution_count": null,
   "id": "7e030898",
   "metadata": {},
   "outputs": [],
   "source": [
    "# So instead of taking global we can simply reassign previous value to the value from the function call i.e by below\n",
    "x = 5\n",
    "def see(x):\n",
    "    print(f'Previous x value is {x} i.e outside of function see')\n",
    "    x = 'Now changed'\n",
    "    print(f'Now it is changed to a string so now x become {x}')\n",
    "    return x"
   ]
  },
  {
   "cell_type": "code",
   "execution_count": null,
   "id": "db4f58e0",
   "metadata": {},
   "outputs": [],
   "source": [
    "print(x)"
   ]
  },
  {
   "cell_type": "code",
   "execution_count": null,
   "id": "6269c1be",
   "metadata": {},
   "outputs": [],
   "source": [
    "x = see(x)"
   ]
  },
  {
   "cell_type": "code",
   "execution_count": 121,
   "id": "7a33071a",
   "metadata": {},
   "outputs": [
    {
     "name": "stdout",
     "output_type": "stream",
     "text": [
      "45678\n"
     ]
    }
   ],
   "source": [
    "print(x)"
   ]
  },
  {
   "cell_type": "code",
   "execution_count": 122,
   "id": "4145da96",
   "metadata": {},
   "outputs": [],
   "source": [
    "def vol_of_sp(radius):\n",
    "    return ((4/3)*(3.14)*(radius**3))"
   ]
  },
  {
   "cell_type": "code",
   "execution_count": 123,
   "id": "9f894d5f",
   "metadata": {},
   "outputs": [
    {
     "data": {
      "text/plain": [
       "33.49333333333333"
      ]
     },
     "execution_count": 123,
     "metadata": {},
     "output_type": "execute_result"
    }
   ],
   "source": [
    "vol_of_sp(2)"
   ]
  },
  {
   "cell_type": "code",
   "execution_count": 124,
   "id": "cda96c03",
   "metadata": {},
   "outputs": [],
   "source": [
    "def num_in_range(num, low, high):\n",
    "    if num>=low and num<=high:\n",
    "        return f'Given Number {num} in between {low} and {high}'\n",
    "    return f'{num} not in between {low} & {high}'"
   ]
  },
  {
   "cell_type": "code",
   "execution_count": 125,
   "id": "b9c01af2",
   "metadata": {},
   "outputs": [
    {
     "data": {
      "text/plain": [
       "'Given Number 5 in between 2 and 7'"
      ]
     },
     "execution_count": 125,
     "metadata": {},
     "output_type": "execute_result"
    }
   ],
   "source": [
    "num_in_range(5, 2, 7)"
   ]
  },
  {
   "cell_type": "code",
   "execution_count": 126,
   "id": "8af4ba00",
   "metadata": {},
   "outputs": [
    {
     "data": {
      "text/plain": [
       "'10 not in between 2 & 6'"
      ]
     },
     "execution_count": 126,
     "metadata": {},
     "output_type": "execute_result"
    }
   ],
   "source": [
    "num_in_range(10, 2, 6)"
   ]
  },
  {
   "cell_type": "code",
   "execution_count": 127,
   "id": "de750a30",
   "metadata": {},
   "outputs": [],
   "source": [
    "def up_low_main(sentense):\n",
    "    up = []\n",
    "    low = []\n",
    "    sentense.split()\n",
    "    for word in sentense:\n",
    "        if word.isupper():\n",
    "            up.append(word)\n",
    "        elif word.islower():\n",
    "            low.append(word)\n",
    "    print(f'No of upper words: {up} and there are {len(up)}')\n",
    "    print(f'No of lower words: {low} and there are {len(low)}')"
   ]
  },
  {
   "cell_type": "code",
   "execution_count": 128,
   "id": "01089d92",
   "metadata": {},
   "outputs": [
    {
     "name": "stdout",
     "output_type": "stream",
     "text": [
      "No of upper words: ['H', 'M', 'S', 'G', 'B', 'I', 'A', 'I', 'I', 'Q', 'V', 'I', 'A'] and there are 13\n",
      "No of lower words: ['e', 'l', 'l', 'o', 'y', 'n', 'a', 'm', 'e', 'i', 's', 'a', 's', 'i', 'o', 'w', 't', 'h', 'a', 'm', 'h', 'a', 't', 'r', 'a', 'j', 'u', 'a', 'm', 'd', 'e', 'v', 'e', 'l', 'o', 'p', 'e', 'r', 'a', 't'] and there are 40\n"
     ]
    }
   ],
   "source": [
    "up_low_main(\"Hello My name is Sasi Gowtham Bhatraju, I am AI developer at IQVIA\")"
   ]
  },
  {
   "cell_type": "code",
   "execution_count": 129,
   "id": "ec424b6d",
   "metadata": {},
   "outputs": [],
   "source": [
    "\n",
    "def up_low(sentence):\n",
    "    combo = {'upper':0, 'lower':0}\n",
    "    for word in sentence:\n",
    "        if word.isupper():\n",
    "            combo['upper'] += 1\n",
    "        elif word.islower():\n",
    "            combo['lower'] += 1\n",
    "        else:\n",
    "            pass\n",
    "    print(f\"Original Sentence: {sentence}\")\n",
    "    print(f\"Upper Case words: {combo['upper']}\")\n",
    "    print(f\"Lower Case words: {combo['lower']}\")"
   ]
  },
  {
   "cell_type": "code",
   "execution_count": 130,
   "id": "00d398d3",
   "metadata": {},
   "outputs": [
    {
     "name": "stdout",
     "output_type": "stream",
     "text": [
      "Original Sentence: Hello My name is Sasi Gowtham Bhatraju, I am AI developer at IQVIA\n",
      "Upper Case words: 13\n",
      "Lower Case words: 40\n"
     ]
    }
   ],
   "source": [
    "up_low(\"Hello My name is Sasi Gowtham Bhatraju, I am AI developer at IQVIA\")"
   ]
  },
  {
   "cell_type": "code",
   "execution_count": 131,
   "id": "6faf2237",
   "metadata": {},
   "outputs": [
    {
     "name": "stdout",
     "output_type": "stream",
     "text": [
      "Original Sentence: Hello Mr. Rogers, how are you this fine Tuesday?\n",
      "Upper Case words: 4\n",
      "Lower Case words: 33\n"
     ]
    }
   ],
   "source": [
    "up_low(\"Hello Mr. Rogers, how are you this fine Tuesday?\")"
   ]
  },
  {
   "cell_type": "code",
   "execution_count": 132,
   "id": "6ff77914",
   "metadata": {},
   "outputs": [
    {
     "data": {
      "text/plain": [
       "False"
      ]
     },
     "execution_count": 132,
     "metadata": {},
     "output_type": "execute_result"
    }
   ],
   "source": [
    "a = 'Sasi'\n",
    "a.isupper()\n"
   ]
  },
  {
   "cell_type": "code",
   "execution_count": 133,
   "id": "d518ac92",
   "metadata": {},
   "outputs": [],
   "source": [
    "def l_to_s(num_list):\n",
    "    unique = set(num_list)\n",
    "    return list(unique)"
   ]
  },
  {
   "cell_type": "code",
   "execution_count": 134,
   "id": "daeffc6a",
   "metadata": {},
   "outputs": [
    {
     "data": {
      "text/plain": [
       "[2, 3, 4, 5, 6, 7, 8, 9, 11]"
      ]
     },
     "execution_count": 134,
     "metadata": {},
     "output_type": "execute_result"
    }
   ],
   "source": [
    "l_to_s([11, 11, 2, 2, 3, 3, 3, 4, 5, 6, 6, 6, 7, 8, 9, 9, 9])"
   ]
  },
  {
   "cell_type": "code",
   "execution_count": 135,
   "id": "1679dd20",
   "metadata": {},
   "outputs": [],
   "source": [
    "def multify(nums):\n",
    "    initial = 1\n",
    "    for num in nums:\n",
    "        initial = initial*num\n",
    "    return initial"
   ]
  },
  {
   "cell_type": "code",
   "execution_count": 136,
   "id": "8e0b0d83",
   "metadata": {},
   "outputs": [
    {
     "data": {
      "text/plain": [
       "-24"
      ]
     },
     "execution_count": 136,
     "metadata": {},
     "output_type": "execute_result"
    }
   ],
   "source": [
    "multify([1, 2, 3, -4])"
   ]
  },
  {
   "cell_type": "code",
   "execution_count": 137,
   "id": "431e4211",
   "metadata": {},
   "outputs": [],
   "source": [
    "def pali(word):\n",
    "    word = word.replace(\" \", \"\")\n",
    "    if word == word[::-1]:\n",
    "        return True\n",
    "    return False"
   ]
  },
  {
   "cell_type": "code",
   "execution_count": 138,
   "id": "528e592b",
   "metadata": {},
   "outputs": [
    {
     "data": {
      "text/plain": [
       "True"
      ]
     },
     "execution_count": 138,
     "metadata": {},
     "output_type": "execute_result"
    }
   ],
   "source": [
    "pali('SaaS')"
   ]
  },
  {
   "cell_type": "code",
   "execution_count": 139,
   "id": "18d6277e",
   "metadata": {},
   "outputs": [
    {
     "data": {
      "text/plain": [
       "True"
      ]
     },
     "execution_count": 139,
     "metadata": {},
     "output_type": "execute_result"
    }
   ],
   "source": [
    "pali('nurses run')"
   ]
  },
  {
   "cell_type": "code",
   "execution_count": 140,
   "id": "5efdecc0",
   "metadata": {},
   "outputs": [
    {
     "name": "stdout",
     "output_type": "stream",
     "text": [
      "1\n",
      "2\n",
      "3\n"
     ]
    }
   ],
   "source": [
    "s1 = {1, 2, 3}\n",
    "for n in s1:\n",
    "    print(n)"
   ]
  },
  {
   "cell_type": "code",
   "execution_count": 141,
   "id": "79d24308",
   "metadata": {},
   "outputs": [],
   "source": [
    "import string\n",
    "def is_pangram(sentence, alphabets = string.ascii_lowercase):\n",
    "    alphabets = set(alphabets)\n",
    "    sentence = sentence.lower()\n",
    "    sentence = sentence.replace(\" \", \"\")\n",
    "    sentence = set(sentence)\n",
    "#     for letter in sentence:\n",
    "#         if letter in alphabets:\n",
    "    return sentence == alphabets\n",
    "#     return False"
   ]
  },
  {
   "cell_type": "code",
   "execution_count": 142,
   "id": "1127bf71",
   "metadata": {},
   "outputs": [
    {
     "data": {
      "text/plain": [
       "True"
      ]
     },
     "execution_count": 142,
     "metadata": {},
     "output_type": "execute_result"
    }
   ],
   "source": [
    "is_pangram(\"The quick brown fox jumps over the lazy dog\")"
   ]
  },
  {
   "cell_type": "code",
   "execution_count": 143,
   "id": "e74fcf74",
   "metadata": {},
   "outputs": [
    {
     "data": {
      "text/plain": [
       "False"
      ]
     },
     "execution_count": 143,
     "metadata": {},
     "output_type": "execute_result"
    }
   ],
   "source": [
    "is_pangram(\"Sasi\")"
   ]
  },
  {
   "cell_type": "code",
   "execution_count": 144,
   "id": "9b0c4a30",
   "metadata": {},
   "outputs": [
    {
     "data": {
      "text/plain": [
       "'abcdefghijklmnopqrstuvwxyz'"
      ]
     },
     "execution_count": 144,
     "metadata": {},
     "output_type": "execute_result"
    }
   ],
   "source": [
    "string.ascii_lowercase"
   ]
  },
  {
   "cell_type": "code",
   "execution_count": 145,
   "id": "6a8fdf1d",
   "metadata": {},
   "outputs": [],
   "source": [
    "# set(string.ascii_lowercase)"
   ]
  },
  {
   "cell_type": "code",
   "execution_count": 146,
   "id": "e91ca61b",
   "metadata": {},
   "outputs": [
    {
     "data": {
      "text/plain": [
       "[0, 1, 2, 3, 4, 5, 6, 7, 8, 9, 10]"
      ]
     },
     "execution_count": 146,
     "metadata": {},
     "output_type": "execute_result"
    }
   ],
   "source": [
    "a = [i for i in range(0, 11)]\n",
    "a"
   ]
  },
  {
   "cell_type": "code",
   "execution_count": 147,
   "id": "9f3b4928",
   "metadata": {},
   "outputs": [],
   "source": [
    "# Tic Tak toe game\n",
    "from IPython.display import clear_output\n",
    "\n",
    "def get_board(board):\n",
    "    clear_output()\n",
    "    print('-'*10)\n",
    "    print(' '+ board[7] + '|' + board[8] + '|' + board[9])\n",
    "    print('-'*10)\n",
    "    print(' '+ board[3] + '|' + board[5] + '|' + board[6])\n",
    "    print('-'*10)\n",
    "    print(' '+ board[1] + '|' + board[2] + '|' + board[3])\n",
    "    print('-'*10)"
   ]
  },
  {
   "cell_type": "code",
   "execution_count": 148,
   "id": "0c414e7b",
   "metadata": {},
   "outputs": [
    {
     "name": "stdout",
     "output_type": "stream",
     "text": [
      "----------\n",
      " X|O|X\n",
      "----------\n",
      " X|X|O\n",
      "----------\n",
      " X|O|X\n",
      "----------\n"
     ]
    }
   ],
   "source": [
    "notation = ['#', 'X','O','X','O','X','O','X','O','X']\n",
    "get_board(notation)"
   ]
  },
  {
   "cell_type": "code",
   "execution_count": 149,
   "id": "09cf80ed",
   "metadata": {},
   "outputs": [],
   "source": [
    "def player_input(choice):\n",
    "    choice = input(\"You want X or O\").lower()\n",
    "    while choice not in 'X' or 'O':\n",
    "        print('Please choose only in between X or O')\n",
    "        choice\n",
    "    if choice == 'X':\n",
    "        return 'X'\n",
    "    else:\n",
    "        return 'O'"
   ]
  },
  {
   "cell_type": "code",
   "execution_count": 150,
   "id": "e384acde",
   "metadata": {},
   "outputs": [],
   "source": [
    "def place_choice(board, choice, position):\n",
    "    board[position] = choice"
   ]
  },
  {
   "cell_type": "code",
   "execution_count": 151,
   "id": "a7e5f7b6",
   "metadata": {},
   "outputs": [
    {
     "name": "stdout",
     "output_type": "stream",
     "text": [
      "----------\n",
      " X|O|$\n",
      "----------\n",
      " X|X|O\n",
      "----------\n",
      " X|O|X\n",
      "----------\n"
     ]
    }
   ],
   "source": [
    "place_choice(notation, '$', 9)\n",
    "get_board(notation)"
   ]
  },
  {
   "cell_type": "code",
   "execution_count": 152,
   "id": "1f2f0803",
   "metadata": {},
   "outputs": [],
   "source": [
    "# def win_check(board, mark):\n",
    "#     for i in board:\n",
    "#         if (board[i][0] == board[i][1] == mark) or:\n",
    "        "
   ]
  },
  {
   "cell_type": "code",
   "execution_count": null,
   "id": "6c71794a",
   "metadata": {},
   "outputs": [],
   "source": []
  },
  {
   "cell_type": "code",
   "execution_count": null,
   "id": "c876666d",
   "metadata": {},
   "outputs": [],
   "source": []
  },
  {
   "cell_type": "code",
   "execution_count": 153,
   "id": "06c9e10f",
   "metadata": {},
   "outputs": [],
   "source": [
    "# Continuing Learning\n"
   ]
  },
  {
   "cell_type": "markdown",
   "id": "d37ea953",
   "metadata": {},
   "source": [
    "# OOPs from below"
   ]
  },
  {
   "cell_type": "code",
   "execution_count": 154,
   "id": "73489078",
   "metadata": {},
   "outputs": [],
   "source": [
    "class Vehicals():\n",
    "    type_of_vehicles = 'ev'\n",
    "    def __init__(self, automobile, vehicle):\n",
    "        self.vehicle = vehicle\n",
    "        self.automobile = automobile\n",
    "    def automobiles(self, bikes):\n",
    "#         self.how_many = how_many\n",
    "        print(f'So You have {self.vehicle} cars and {bikes} bikes')"
   ]
  },
  {
   "cell_type": "code",
   "execution_count": 155,
   "id": "6d14d508",
   "metadata": {},
   "outputs": [],
   "source": [
    "v1 = Vehicals('Car', 'Tesla')"
   ]
  },
  {
   "cell_type": "code",
   "execution_count": 156,
   "id": "04feb02b",
   "metadata": {},
   "outputs": [
    {
     "data": {
      "text/plain": [
       "'ev'"
      ]
     },
     "execution_count": 156,
     "metadata": {},
     "output_type": "execute_result"
    }
   ],
   "source": [
    "v1.type_of_vehicles"
   ]
  },
  {
   "cell_type": "code",
   "execution_count": 157,
   "id": "aee9dda4",
   "metadata": {},
   "outputs": [
    {
     "name": "stdout",
     "output_type": "stream",
     "text": [
      "So You have Tesla cars and 2 bikes\n"
     ]
    }
   ],
   "source": [
    "v1.automobiles(2)"
   ]
  },
  {
   "cell_type": "code",
   "execution_count": 158,
   "id": "cd8e14b4",
   "metadata": {},
   "outputs": [],
   "source": [
    "# Now like from the above example we will take default value\n",
    "\n",
    "class Circle():\n",
    "    pi = 3.14\n",
    "    def __init__(self, radius = 1): # Here radius is assigned to 1 i.e even though you didn't specified radius in Circle it won't give error\n",
    "        self.radius = radius\n",
    "        self.area = self.pi * (radius **2)\n",
    "    def circumference(self):\n",
    "        return (2 * self.pi *self.radius) # As U know circumference of a circle is 2pir"
   ]
  },
  {
   "cell_type": "code",
   "execution_count": 159,
   "id": "9e9cde99",
   "metadata": {},
   "outputs": [],
   "source": [
    "c1 = Circle(radius=3)"
   ]
  },
  {
   "cell_type": "code",
   "execution_count": 160,
   "id": "739a9557",
   "metadata": {},
   "outputs": [
    {
     "data": {
      "text/plain": [
       "18.84"
      ]
     },
     "execution_count": 160,
     "metadata": {},
     "output_type": "execute_result"
    }
   ],
   "source": [
    "c1.circumference()"
   ]
  },
  {
   "cell_type": "code",
   "execution_count": 161,
   "id": "63b928da",
   "metadata": {},
   "outputs": [
    {
     "data": {
      "text/plain": [
       "3.14"
      ]
     },
     "execution_count": 161,
     "metadata": {},
     "output_type": "execute_result"
    }
   ],
   "source": [
    "c1.pi"
   ]
  },
  {
   "cell_type": "code",
   "execution_count": 162,
   "id": "9b08d60b",
   "metadata": {},
   "outputs": [
    {
     "data": {
      "text/plain": [
       "3"
      ]
     },
     "execution_count": 162,
     "metadata": {},
     "output_type": "execute_result"
    }
   ],
   "source": [
    "c1.radius"
   ]
  },
  {
   "cell_type": "code",
   "execution_count": 163,
   "id": "b9a394f2",
   "metadata": {},
   "outputs": [
    {
     "data": {
      "text/plain": [
       "28.26"
      ]
     },
     "execution_count": 163,
     "metadata": {},
     "output_type": "execute_result"
    }
   ],
   "source": [
    "c1.area"
   ]
  },
  {
   "cell_type": "code",
   "execution_count": 164,
   "id": "0bce7ca5",
   "metadata": {},
   "outputs": [],
   "source": [
    "# Now U can see the difference b/w above two blocks of codes where classes is defined"
   ]
  },
  {
   "cell_type": "code",
   "execution_count": 165,
   "id": "cbf4b1b2",
   "metadata": {},
   "outputs": [
    {
     "data": {
      "text/plain": [
       "True"
      ]
     },
     "execution_count": 165,
     "metadata": {},
     "output_type": "execute_result"
    }
   ],
   "source": [
    "(1<2<3) == (1<2 and 2<3)"
   ]
  },
  {
   "cell_type": "code",
   "execution_count": 166,
   "id": "eb1a5a9d",
   "metadata": {},
   "outputs": [
    {
     "data": {
      "text/plain": [
       "{'Sasi': 'AI Engineer 1',\n",
       " 'Company': 'IQVIA',\n",
       " 'Date': [8, 7, 2021],\n",
       " 'path': ['AI', 'Math', 'ML', 'NLP', 'Python'],\n",
       " 'Location': 'India'}"
      ]
     },
     "execution_count": 166,
     "metadata": {},
     "output_type": "execute_result"
    }
   ],
   "source": [
    "d1"
   ]
  },
  {
   "cell_type": "code",
   "execution_count": 167,
   "id": "9111c84a",
   "metadata": {},
   "outputs": [
    {
     "name": "stdout",
     "output_type": "stream",
     "text": [
      "Sasi\n",
      "Company\n",
      "Date\n",
      "path\n",
      "Location\n"
     ]
    }
   ],
   "source": [
    "for i in d1:\n",
    "    print(i)"
   ]
  },
  {
   "cell_type": "code",
   "execution_count": 168,
   "id": "b9aad9c4",
   "metadata": {},
   "outputs": [
    {
     "name": "stdout",
     "output_type": "stream",
     "text": [
      "(0, 'a')\n",
      "(1, 'b')\n",
      "(2, 'c')\n",
      "(3, 'd')\n",
      "(4, 'e')\n"
     ]
    }
   ],
   "source": [
    "word1 = 'abcde'\n",
    "word2 = ['a', 'b', 'c', 'd', 'e']\n",
    "for l in enumerate(word1):\n",
    "    print(l)\n"
   ]
  },
  {
   "cell_type": "code",
   "execution_count": 169,
   "id": "85f4a2b7",
   "metadata": {},
   "outputs": [
    {
     "name": "stdout",
     "output_type": "stream",
     "text": [
      "(0, 'a')\n",
      "(1, 'b')\n",
      "(2, 'c')\n",
      "(3, 'd')\n",
      "(4, 'e')\n"
     ]
    }
   ],
   "source": [
    "for ll in enumerate(word2):\n",
    "    print(ll)"
   ]
  },
  {
   "cell_type": "code",
   "execution_count": 170,
   "id": "bf89ac2b",
   "metadata": {},
   "outputs": [
    {
     "name": "stdout",
     "output_type": "stream",
     "text": [
      "None\n"
     ]
    }
   ],
   "source": [
    "mylist = [1,2,3,4,5,6,7,8,9,10]\n",
    "from random import shuffle\n",
    "myshuffled_list = shuffle(mylist)\n",
    "print(myshuffled_list)\n"
   ]
  },
  {
   "cell_type": "code",
   "execution_count": 171,
   "id": "cc912b43",
   "metadata": {},
   "outputs": [
    {
     "data": {
      "text/plain": [
       "10"
      ]
     },
     "execution_count": 171,
     "metadata": {},
     "output_type": "execute_result"
    }
   ],
   "source": [
    "mylist = [1,2,3,4,5,6,7,8,9,10]\n",
    "mylist.pop()"
   ]
  },
  {
   "cell_type": "code",
   "execution_count": 172,
   "id": "ee271b5b",
   "metadata": {},
   "outputs": [
    {
     "data": {
      "text/plain": [
       "[1, 2, 3, 4, 5, 6, 7, 8, 9]"
      ]
     },
     "execution_count": 172,
     "metadata": {},
     "output_type": "execute_result"
    }
   ],
   "source": [
    "mylist"
   ]
  },
  {
   "cell_type": "code",
   "execution_count": 173,
   "id": "1dcaae8f",
   "metadata": {},
   "outputs": [
    {
     "name": "stdout",
     "output_type": "stream",
     "text": [
      "5\n",
      "None\n"
     ]
    }
   ],
   "source": [
    "def add_numbers(a,b):\n",
    "    print(a + b)\n",
    "result = add_numbers(2, 3)\n",
    "print(result)"
   ]
  },
  {
   "cell_type": "code",
   "execution_count": null,
   "id": "7b9685ab",
   "metadata": {},
   "outputs": [],
   "source": []
  },
  {
   "cell_type": "code",
   "execution_count": 174,
   "id": "3df876eb",
   "metadata": {},
   "outputs": [
    {
     "name": "stdout",
     "output_type": "stream",
     "text": [
      "Hello World\n"
     ]
    }
   ],
   "source": [
    "class test:\n",
    "    def __init__(self, a = \"Hello World\"):\n",
    "            self.hello = a\n",
    "    def display(self):\n",
    "         print(self.hello)\n",
    "obj = test(); obj.display()\n"
   ]
  },
  {
   "cell_type": "code",
   "execution_count": 175,
   "id": "6be50c1a",
   "metadata": {},
   "outputs": [],
   "source": [
    "my_phone = ' do have a phone and my number is 9845098450'\n"
   ]
  },
  {
   "cell_type": "code",
   "execution_count": 176,
   "id": "83a04962",
   "metadata": {},
   "outputs": [
    {
     "name": "stdout",
     "output_type": "stream",
     "text": [
      "<re.Match object; span=(34, 44), match='9845098450'>\n"
     ]
    }
   ],
   "source": [
    "find_phone = re.search('\\d{10}', my_phone)\n",
    "print(find_phone)"
   ]
  },
  {
   "cell_type": "code",
   "execution_count": 177,
   "id": "2f7e1039",
   "metadata": {},
   "outputs": [
    {
     "data": {
      "text/plain": [
       "<re.Match object; span=(34, 44), match='9845098450'>"
      ]
     },
     "execution_count": 177,
     "metadata": {},
     "output_type": "execute_result"
    }
   ],
   "source": [
    "find_phone2 = re.search('\\d+', my_phone)\n",
    "find_phone2"
   ]
  },
  {
   "cell_type": "code",
   "execution_count": 178,
   "id": "a805df3b",
   "metadata": {},
   "outputs": [
    {
     "data": {
      "text/plain": [
       "<re.Match object; span=(38, 40), match='09'>"
      ]
     },
     "execution_count": 178,
     "metadata": {},
     "output_type": "execute_result"
    }
   ],
   "source": [
    "find_phone3 = re.search('\\d9+', my_phone)\n",
    "find_phone3"
   ]
  },
  {
   "cell_type": "code",
   "execution_count": 181,
   "id": "e6f89b19",
   "metadata": {},
   "outputs": [],
   "source": [
    "# from bs4 import BeautifulSoup\n",
    "# soup = BeautifulSoup(.content, 'html.parser')\n",
    "# items = soup.find_all(class_='items')\n"
   ]
  },
  {
   "cell_type": "code",
   "execution_count": 182,
   "id": "11a8ffe4",
   "metadata": {},
   "outputs": [],
   "source": [
    "tp = (1, 2, 3)\n"
   ]
  },
  {
   "cell_type": "code",
   "execution_count": 183,
   "id": "60c90e0f",
   "metadata": {},
   "outputs": [
    {
     "ename": "AttributeError",
     "evalue": "'tuple' object has no attribute 'pop'",
     "output_type": "error",
     "traceback": [
      "\u001b[1;31m---------------------------------------------------------------------------\u001b[0m",
      "\u001b[1;31mAttributeError\u001b[0m                            Traceback (most recent call last)",
      "\u001b[1;32m<ipython-input-183-9e8f4e16b9da>\u001b[0m in \u001b[0;36m<module>\u001b[1;34m\u001b[0m\n\u001b[1;32m----> 1\u001b[1;33m \u001b[0mtp\u001b[0m\u001b[1;33m.\u001b[0m\u001b[0mpop\u001b[0m\u001b[1;33m(\u001b[0m\u001b[1;33m)\u001b[0m\u001b[1;33m\u001b[0m\u001b[1;33m\u001b[0m\u001b[0m\n\u001b[0m",
      "\u001b[1;31mAttributeError\u001b[0m: 'tuple' object has no attribute 'pop'"
     ]
    }
   ],
   "source": [
    "tp.pop()"
   ]
  },
  {
   "cell_type": "code",
   "execution_count": 184,
   "id": "ecb1b083",
   "metadata": {},
   "outputs": [],
   "source": [
    "#Polymorphism\n",
    "class Dog():\n",
    "    def __init__(self, name):\n",
    "        self.name = name\n",
    "    def speak(self):\n",
    "        return f'{self.name} says gruff'"
   ]
  },
  {
   "cell_type": "code",
   "execution_count": 185,
   "id": "af715ee0",
   "metadata": {},
   "outputs": [
    {
     "data": {
      "text/plain": [
       "'browny says gruff'"
      ]
     },
     "execution_count": 185,
     "metadata": {},
     "output_type": "execute_result"
    }
   ],
   "source": [
    "d1 = Dog('browny')\n",
    "d1.speak()"
   ]
  },
  {
   "cell_type": "code",
   "execution_count": 186,
   "id": "ec6f1811",
   "metadata": {},
   "outputs": [],
   "source": [
    "class Cat():\n",
    "    def __init__(self, name):\n",
    "        self.name = name\n",
    "    def speak(self):\n",
    "        return f'{self.name} says meow'"
   ]
  },
  {
   "cell_type": "code",
   "execution_count": 187,
   "id": "ad20f1b2",
   "metadata": {},
   "outputs": [],
   "source": [
    "c1 = Cat('pupy')"
   ]
  },
  {
   "cell_type": "code",
   "execution_count": 188,
   "id": "0793faed",
   "metadata": {},
   "outputs": [
    {
     "data": {
      "text/plain": [
       "'pupy says meow'"
      ]
     },
     "execution_count": 188,
     "metadata": {},
     "output_type": "execute_result"
    }
   ],
   "source": [
    "c1.speak()"
   ]
  },
  {
   "cell_type": "code",
   "execution_count": 189,
   "id": "2813bb8a",
   "metadata": {},
   "outputs": [],
   "source": [
    "def pet_speak(pet):\n",
    "    print(pet.speak())"
   ]
  },
  {
   "cell_type": "code",
   "execution_count": 190,
   "id": "25eee43b",
   "metadata": {},
   "outputs": [
    {
     "name": "stdout",
     "output_type": "stream",
     "text": [
      "browny says gruff\n"
     ]
    }
   ],
   "source": [
    "p1 = pet_speak(d1)\n"
   ]
  },
  {
   "cell_type": "code",
   "execution_count": 191,
   "id": "6c4f808d",
   "metadata": {},
   "outputs": [
    {
     "name": "stdout",
     "output_type": "stream",
     "text": [
      "pupy says meow\n"
     ]
    }
   ],
   "source": [
    "p2 = pet_speak(c1)"
   ]
  },
  {
   "cell_type": "code",
   "execution_count": 192,
   "id": "4aaf36bf",
   "metadata": {},
   "outputs": [],
   "source": [
    "# Using special or dunder methods in class below"
   ]
  },
  {
   "cell_type": "code",
   "execution_count": 193,
   "id": "b408db98",
   "metadata": {},
   "outputs": [],
   "source": [
    "class Details():\n",
    "    def __init__(self, house, owner, designation):\n",
    "        self.house = house\n",
    "        self.owner = owner\n",
    "        self.designation = designation"
   ]
  },
  {
   "cell_type": "code",
   "execution_count": 194,
   "id": "cd7777b5",
   "metadata": {},
   "outputs": [],
   "source": [
    "d1 = Details('Villa In Manhatten', 'Sasi Gowtham Bhatraju', 'AI Director')"
   ]
  },
  {
   "cell_type": "code",
   "execution_count": 195,
   "id": "20397c59",
   "metadata": {},
   "outputs": [
    {
     "data": {
      "text/plain": [
       "<__main__.Details at 0x1717a6070a0>"
      ]
     },
     "execution_count": 195,
     "metadata": {},
     "output_type": "execute_result"
    }
   ],
   "source": [
    "d1"
   ]
  },
  {
   "cell_type": "code",
   "execution_count": 196,
   "id": "c543c841",
   "metadata": {},
   "outputs": [
    {
     "name": "stdout",
     "output_type": "stream",
     "text": [
      "<__main__.Details object at 0x000001717A6070A0>\n"
     ]
    }
   ],
   "source": [
    "print(d1)"
   ]
  },
  {
   "cell_type": "code",
   "execution_count": null,
   "id": "038c5471",
   "metadata": {},
   "outputs": [],
   "source": []
  },
  {
   "cell_type": "code",
   "execution_count": 197,
   "id": "8137d77c",
   "metadata": {},
   "outputs": [],
   "source": [
    "# So for the above lines of example u can take the special dunder methods by below"
   ]
  },
  {
   "cell_type": "code",
   "execution_count": 198,
   "id": "73d47245",
   "metadata": {},
   "outputs": [],
   "source": [
    "class Details():\n",
    "    def __init__(self, house, owner, designation):\n",
    "        self.house = house\n",
    "        self.owner = owner\n",
    "        self.designation = designation\n",
    "    def __str__(self):\n",
    "        return f'So You are the owner of {self.house}, Your Name is {self.owner} and Your Designation is {self.designation}'\n",
    "        # You have to use the return not print\n",
    "    def __del__(self):\n",
    "        print('Your Details have been removed from our servers as you have vished')"
   ]
  },
  {
   "cell_type": "code",
   "execution_count": 199,
   "id": "bd056f2c",
   "metadata": {},
   "outputs": [],
   "source": [
    "d1 = Details('Villa In Manhatten', 'Sasi Gowtham Bhatraju', 'AI Director')"
   ]
  },
  {
   "cell_type": "code",
   "execution_count": 200,
   "id": "762fd99d",
   "metadata": {},
   "outputs": [
    {
     "name": "stdout",
     "output_type": "stream",
     "text": [
      "So You are the owner of Villa In Manhatten, Your Name is Sasi Gowtham Bhatraju and Your Designation is AI Director\n"
     ]
    }
   ],
   "source": [
    "print(d1)"
   ]
  },
  {
   "cell_type": "code",
   "execution_count": 201,
   "id": "9481f9d2",
   "metadata": {},
   "outputs": [],
   "source": [
    "# From above lines of code you can see the difference"
   ]
  },
  {
   "cell_type": "code",
   "execution_count": 202,
   "id": "37971789",
   "metadata": {},
   "outputs": [],
   "source": [
    "#del d1 # This is used to delete the d1 data"
   ]
  },
  {
   "cell_type": "code",
   "execution_count": 203,
   "id": "753c2677",
   "metadata": {},
   "outputs": [
    {
     "data": {
      "text/plain": [
       "<__main__.Details at 0x1717a6048b0>"
      ]
     },
     "execution_count": 203,
     "metadata": {},
     "output_type": "execute_result"
    }
   ],
   "source": [
    "d1"
   ]
  },
  {
   "cell_type": "code",
   "execution_count": 204,
   "id": "5205dbad",
   "metadata": {},
   "outputs": [],
   "source": [
    "import math\n"
   ]
  },
  {
   "cell_type": "code",
   "execution_count": 205,
   "id": "acbee561",
   "metadata": {},
   "outputs": [],
   "source": [
    "# Homework 1\n",
    "class Line:\n",
    "    def __init__(self, coord1, coord2):\n",
    "        self.coord1 = coord1\n",
    "        self.coord2 = coord2\n",
    "    def distance(self):\n",
    "        return math.sqrt((self.coord2[0] - self.coord1[0])**2 + (self.coord2[1] - self.coord1[1])**2)\n",
    "    def slope(self):\n",
    "        return ((self.coord2[1] - self.coord1[1])/(self.coord2[0] - self.coord1[0]))"
   ]
  },
  {
   "cell_type": "code",
   "execution_count": 206,
   "id": "bb0f5c10",
   "metadata": {},
   "outputs": [],
   "source": [
    "line = Line((1, 2), (3, 4))"
   ]
  },
  {
   "cell_type": "code",
   "execution_count": 207,
   "id": "c885f4c2",
   "metadata": {},
   "outputs": [
    {
     "data": {
      "text/plain": [
       "2.8284271247461903"
      ]
     },
     "execution_count": 207,
     "metadata": {},
     "output_type": "execute_result"
    }
   ],
   "source": [
    "line.distance()"
   ]
  },
  {
   "cell_type": "code",
   "execution_count": 208,
   "id": "328991f7",
   "metadata": {},
   "outputs": [
    {
     "data": {
      "text/plain": [
       "1.0"
      ]
     },
     "execution_count": 208,
     "metadata": {},
     "output_type": "execute_result"
    }
   ],
   "source": [
    "line.slope()"
   ]
  },
  {
   "cell_type": "code",
   "execution_count": 209,
   "id": "ff1eb28b",
   "metadata": {},
   "outputs": [],
   "source": [
    "li2 = Line((3, 2), (8, 10))"
   ]
  },
  {
   "cell_type": "code",
   "execution_count": 210,
   "id": "21b1d912",
   "metadata": {},
   "outputs": [
    {
     "data": {
      "text/plain": [
       "9.433981132056603"
      ]
     },
     "execution_count": 210,
     "metadata": {},
     "output_type": "execute_result"
    }
   ],
   "source": [
    "li2.distance()"
   ]
  },
  {
   "cell_type": "code",
   "execution_count": 211,
   "id": "f8721e0d",
   "metadata": {},
   "outputs": [
    {
     "data": {
      "text/plain": [
       "1.6"
      ]
     },
     "execution_count": 211,
     "metadata": {},
     "output_type": "execute_result"
    }
   ],
   "source": [
    "li2.slope()"
   ]
  },
  {
   "cell_type": "code",
   "execution_count": 212,
   "id": "44dd16f9",
   "metadata": {},
   "outputs": [],
   "source": [
    "class Cylinder:\n",
    "    pi = 3.14\n",
    "    def __init__(self, height = 1, radius = 1):\n",
    "        self.height = height\n",
    "        self.radius = radius\n",
    "    \n",
    "    def volume(self):\n",
    "        return self.height * (self.radius **2) * self.pi\n",
    "    def surface_area(self):\n",
    "        return 2*self.pi*self.radius*(self.radius + self.height)"
   ]
  },
  {
   "cell_type": "code",
   "execution_count": 213,
   "id": "76444b9b",
   "metadata": {},
   "outputs": [],
   "source": [
    "c1 = Cylinder(2, 3)"
   ]
  },
  {
   "cell_type": "code",
   "execution_count": 214,
   "id": "05020e68",
   "metadata": {},
   "outputs": [
    {
     "data": {
      "text/plain": [
       "56.52"
      ]
     },
     "execution_count": 214,
     "metadata": {},
     "output_type": "execute_result"
    }
   ],
   "source": [
    "c1.volume()"
   ]
  },
  {
   "cell_type": "code",
   "execution_count": 215,
   "id": "a23b9463",
   "metadata": {},
   "outputs": [
    {
     "data": {
      "text/plain": [
       "94.2"
      ]
     },
     "execution_count": 215,
     "metadata": {},
     "output_type": "execute_result"
    }
   ],
   "source": [
    "c1.surface_area()"
   ]
  },
  {
   "cell_type": "code",
   "execution_count": 216,
   "id": "dae129f2",
   "metadata": {},
   "outputs": [],
   "source": [
    "\n",
    "# class Bank():\n",
    "#     def __init__(self, op1, op2):\n",
    "#         print('Please Enter Choose Option')\n",
    "#         op1 = input(\"\")\n",
    "#         if op1 = 'New'.lower():\n",
    "#             print(\"Do You Wist to create New Account\")\n",
    "        \n",
    "#         if option == ''"
   ]
  },
  {
   "cell_type": "code",
   "execution_count": 217,
   "id": "f50991a6",
   "metadata": {},
   "outputs": [],
   "source": [
    "class Account:\n",
    "    def __init__(self, owner, balance=0):\n",
    "        self.owner = owner\n",
    "        self.balance = balance\n",
    "    def deposit(self, amount):\n",
    "        self.amount = amount\n",
    "        self.balance += self.amount\n",
    "        print(\"Credited {} to your account. Now Your Total Balance is: {}\".format(self.amount, self.balance))\n",
    "    def winthdraw(self, amount, option):\n",
    "        print(f'Your Total Amount is: {self.balance}')\n",
    "        self.amount = amount\n",
    "        self.option = option\n",
    "        \n",
    "        if self.amount > 0:\n",
    "            if self.balance > self.amount:\n",
    "                self.balance -= self.amount\n",
    "                return f'Now Your updated balance is: {self.balance} after withdraw amount of {self.amount} from {self.option}'\n",
    "            elif self.balance < self.amount:\n",
    "                return f'Your Funds are not sufficient to withdraw amount of {self.amount} from {self.option} type of total amount {self.balance}'\n",
    "        else:\n",
    "            print(\"Please Provide correct number\")\n",
    "    def check_balance(self):\n",
    "        print(f\"Your Current Total Balance is {self.balance}\")"
   ]
  },
  {
   "cell_type": "code",
   "execution_count": 218,
   "id": "5580ec67",
   "metadata": {},
   "outputs": [],
   "source": [
    "c1 = Account('Sasi', 1000000)"
   ]
  },
  {
   "cell_type": "code",
   "execution_count": 219,
   "id": "40d2407d",
   "metadata": {},
   "outputs": [
    {
     "name": "stdout",
     "output_type": "stream",
     "text": [
      "Your Current Total Balance is 1000000\n"
     ]
    }
   ],
   "source": [
    "c1.check_balance()"
   ]
  },
  {
   "cell_type": "code",
   "execution_count": 220,
   "id": "e926f82d",
   "metadata": {},
   "outputs": [
    {
     "name": "stdout",
     "output_type": "stream",
     "text": [
      "Credited 80000 to your account. Now Your Total Balance is: 1080000\n"
     ]
    }
   ],
   "source": [
    "c1.deposit(80000)"
   ]
  },
  {
   "cell_type": "code",
   "execution_count": 221,
   "id": "4e0e3953",
   "metadata": {},
   "outputs": [
    {
     "name": "stdout",
     "output_type": "stream",
     "text": [
      "Credited 80000 to your account. Now Your Total Balance is: 1160000\n"
     ]
    }
   ],
   "source": [
    "c1.deposit(80000)"
   ]
  },
  {
   "cell_type": "code",
   "execution_count": 222,
   "id": "b08b3b21",
   "metadata": {},
   "outputs": [
    {
     "name": "stdout",
     "output_type": "stream",
     "text": [
      "Your Total Amount is: 1160000\n",
      "Please Provide correct number\n"
     ]
    }
   ],
   "source": [
    "c1.winthdraw(-99, 'savings')"
   ]
  },
  {
   "cell_type": "code",
   "execution_count": 223,
   "id": "21fe6ad9",
   "metadata": {},
   "outputs": [
    {
     "name": "stdout",
     "output_type": "stream",
     "text": [
      "Your Total Amount is: 1160000\n"
     ]
    },
    {
     "data": {
      "text/plain": [
       "'Now Your updated balance is: 1130000 after withdraw amount of 30000 from savings'"
      ]
     },
     "execution_count": 223,
     "metadata": {},
     "output_type": "execute_result"
    }
   ],
   "source": [
    "c1.winthdraw(30000, 'savings')"
   ]
  },
  {
   "cell_type": "code",
   "execution_count": 224,
   "id": "bcc99958",
   "metadata": {},
   "outputs": [
    {
     "name": "stdout",
     "output_type": "stream",
     "text": [
      "Credited 120000 to your account. Now Your Total Balance is: 1250000\n"
     ]
    }
   ],
   "source": [
    "c1.deposit(amount=120000)"
   ]
  },
  {
   "cell_type": "code",
   "execution_count": 225,
   "id": "8107169b",
   "metadata": {},
   "outputs": [
    {
     "data": {
      "text/plain": [
       "'Sasi'"
      ]
     },
     "execution_count": 225,
     "metadata": {},
     "output_type": "execute_result"
    }
   ],
   "source": [
    "c1.owner"
   ]
  },
  {
   "cell_type": "code",
   "execution_count": 226,
   "id": "e42637a1",
   "metadata": {},
   "outputs": [
    {
     "data": {
      "text/plain": [
       "1250000"
      ]
     },
     "execution_count": 226,
     "metadata": {},
     "output_type": "execute_result"
    }
   ],
   "source": [
    "c1.balance"
   ]
  },
  {
   "cell_type": "code",
   "execution_count": 227,
   "id": "991817b5",
   "metadata": {},
   "outputs": [],
   "source": [
    "import openpyxl"
   ]
  },
  {
   "cell_type": "code",
   "execution_count": 228,
   "id": "b4298a5f",
   "metadata": {},
   "outputs": [],
   "source": [
    "# Just simple try and except block\n",
    "def basic_fun():\n",
    "    try:\n",
    "        f = open('new_file', 'r')\n",
    "        f.write('I am creating a new file via python code')\n",
    "    except Exception as ex:\n",
    "        return ex\n",
    "    finally:\n",
    "        print(\"This is in the final block, which will exicutes even when error occurs\")"
   ]
  },
  {
   "cell_type": "code",
   "execution_count": 229,
   "id": "ee4aa61c",
   "metadata": {},
   "outputs": [
    {
     "name": "stdout",
     "output_type": "stream",
     "text": [
      "This is in the final block, which will exicutes even when error occurs\n"
     ]
    }
   ],
   "source": [
    "b = basic_fun()"
   ]
  },
  {
   "cell_type": "code",
   "execution_count": 230,
   "id": "72af2e85",
   "metadata": {},
   "outputs": [
    {
     "data": {
      "text/plain": [
       "io.UnsupportedOperation('not writable')"
      ]
     },
     "execution_count": 230,
     "metadata": {},
     "output_type": "execute_result"
    }
   ],
   "source": [
    "b"
   ]
  },
  {
   "cell_type": "code",
   "execution_count": 231,
   "id": "e17d00a4",
   "metadata": {},
   "outputs": [
    {
     "name": "stdout",
     "output_type": "stream",
     "text": [
      "You got the above error\n",
      "Always observe what you are trying to do\n"
     ]
    }
   ],
   "source": [
    "# Solutions for problem\n",
    "\n",
    "try:\n",
    "    for i in ['a', 'b', 'c']:\n",
    "        print(i**2)\n",
    "except TypeError:\n",
    "    print(\"You got the above error\")\n",
    "finally:\n",
    "    print(\"Always observe what you are trying to do\")"
   ]
  },
  {
   "cell_type": "code",
   "execution_count": 232,
   "id": "b48e0aed",
   "metadata": {},
   "outputs": [
    {
     "name": "stdout",
     "output_type": "stream",
     "text": [
      "Error Occured \n",
      "All done\n"
     ]
    }
   ],
   "source": [
    "try:\n",
    "    x = 5\n",
    "    y = 0\n",
    "    z = x/y\n",
    "except ZeroDivisionError:\n",
    "    print(\"Error Occured \")\n",
    "finally:\n",
    "    print(\"All done\")"
   ]
  },
  {
   "cell_type": "code",
   "execution_count": 233,
   "id": "7a659222",
   "metadata": {},
   "outputs": [],
   "source": [
    "def number_input():\n",
    "    \n",
    "    while True:\n",
    "        \n",
    "        try:\n",
    "            num = int(input('Please provide number: '))\n",
    "            num = num**2\n",
    "        \n",
    "        except Exception as ex:\n",
    "            continue\n",
    "            return ex\n",
    "        else:\n",
    "            print(\"Done\")\n",
    "            break\n",
    "        finally:\n",
    "            print(\"This is in final block\")\n",
    "    print(num)"
   ]
  },
  {
   "cell_type": "code",
   "execution_count": 234,
   "id": "d8a43929",
   "metadata": {},
   "outputs": [
    {
     "name": "stdout",
     "output_type": "stream",
     "text": [
      "Please provide number: 9\n",
      "Done\n",
      "This is in final block\n",
      "81\n"
     ]
    }
   ],
   "source": [
    "n1 = number_input()\n"
   ]
  },
  {
   "cell_type": "code",
   "execution_count": 235,
   "id": "9b1fe656",
   "metadata": {},
   "outputs": [
    {
     "name": "stdout",
     "output_type": "stream",
     "text": [
      "Please provide number: 6\n",
      "Done\n",
      "This is in final block\n",
      "36\n"
     ]
    }
   ],
   "source": [
    "n2 = number_input()"
   ]
  },
  {
   "cell_type": "code",
   "execution_count": 236,
   "id": "49089d5e",
   "metadata": {},
   "outputs": [
    {
     "data": {
      "text/plain": [
       "[1, 2, 3, 4]"
      ]
     },
     "execution_count": 236,
     "metadata": {},
     "output_type": "execute_result"
    }
   ],
   "source": [
    "l1 = [1, 2, 3]\n",
    "l1.append(4)\n",
    "l1"
   ]
  },
  {
   "cell_type": "code",
   "execution_count": 237,
   "id": "4919f109",
   "metadata": {},
   "outputs": [
    {
     "data": {
      "text/plain": [
       "[1, 2, 3, 4, 5, 6, 7]"
      ]
     },
     "execution_count": 237,
     "metadata": {},
     "output_type": "execute_result"
    }
   ],
   "source": [
    "l1.extend([5, 6, 7])\n",
    "l1"
   ]
  },
  {
   "cell_type": "code",
   "execution_count": 238,
   "id": "7c9ed9fe",
   "metadata": {},
   "outputs": [
    {
     "data": {
      "text/plain": [
       "[1, 2, 3, 4, 5, 6, 7, 8]"
      ]
     },
     "execution_count": 238,
     "metadata": {},
     "output_type": "execute_result"
    }
   ],
   "source": [
    "l1.extend([8])\n",
    "l1"
   ]
  },
  {
   "cell_type": "code",
   "execution_count": 239,
   "id": "1ead0ec2",
   "metadata": {},
   "outputs": [],
   "source": [
    "import random"
   ]
  },
  {
   "cell_type": "code",
   "execution_count": 240,
   "id": "2fb49d71",
   "metadata": {},
   "outputs": [],
   "source": [
    "suits = ('Hearts', 'Diamonds', 'Spades', 'Clubs')\n",
    "ranks = ('Two', 'Three', 'Four', 'Five', 'Six', 'Seven', 'Eight', 'Nine', 'Ten')\n",
    "values = {'Two':2, 'Three':3, 'Four':4, 'Five':5, 'Six':6, 'Seven':7, 'Eight':8, 'Nine':9, 'Ten':10}"
   ]
  },
  {
   "cell_type": "code",
   "execution_count": 241,
   "id": "534e84dc",
   "metadata": {},
   "outputs": [],
   "source": [
    "class Deck:\n",
    "    def __init__(self, suit, rank):\n",
    "        self.suit = suit\n",
    "        self.rank = rank\n",
    "        self.value = values[rank]\n",
    "    def __str__(self):\n",
    "        return self.rank + \" of \" + self.suit"
   ]
  },
  {
   "cell_type": "code",
   "execution_count": 242,
   "id": "f3f34e09",
   "metadata": {},
   "outputs": [],
   "source": [
    "ss1 = {1:'One', (2, 3, 4):{'k2':2, 'k3':3, 'k4':4}}"
   ]
  },
  {
   "cell_type": "code",
   "execution_count": 243,
   "id": "d3d8c46d",
   "metadata": {},
   "outputs": [
    {
     "name": "stdout",
     "output_type": "stream",
     "text": [
      "{1: 'One', (2, 3, 4): {'k2': 2, 'k3': 3, 'k4': 4}}\n"
     ]
    }
   ],
   "source": [
    "print(ss1)"
   ]
  },
  {
   "cell_type": "code",
   "execution_count": 244,
   "id": "2a0e002d",
   "metadata": {},
   "outputs": [
    {
     "data": {
      "text/plain": [
       "'One'"
      ]
     },
     "execution_count": 244,
     "metadata": {},
     "output_type": "execute_result"
    }
   ],
   "source": [
    "ss1[1]"
   ]
  },
  {
   "cell_type": "code",
   "execution_count": 245,
   "id": "a7f8c6a0",
   "metadata": {},
   "outputs": [
    {
     "name": "stdout",
     "output_type": "stream",
     "text": [
      "{'k2': 2, 'k3': 3, 'k4': 4}\n"
     ]
    }
   ],
   "source": [
    "print(ss1[(2, 3, 4)])"
   ]
  },
  {
   "cell_type": "code",
   "execution_count": 246,
   "id": "34c831ec",
   "metadata": {},
   "outputs": [
    {
     "data": {
      "text/plain": [
       "2"
      ]
     },
     "execution_count": 246,
     "metadata": {},
     "output_type": "execute_result"
    }
   ],
   "source": [
    "ss1[(2, 3, 4)]['k2']"
   ]
  },
  {
   "cell_type": "code",
   "execution_count": 247,
   "id": "fcd3c4d8",
   "metadata": {},
   "outputs": [],
   "source": [
    "# This is the example of decorator below"
   ]
  },
  {
   "cell_type": "code",
   "execution_count": 248,
   "id": "11bf2972",
   "metadata": {},
   "outputs": [],
   "source": [
    "def initial(one_input):\n",
    "    def wrap():\n",
    "        print('This is from initial() function which will use one_input parameter functon')\n",
    "        one_input()\n",
    "        print('Now U can see the updated lines after returning initial() function')\n",
    "    return wrap"
   ]
  },
  {
   "cell_type": "code",
   "execution_count": 249,
   "id": "4d430914",
   "metadata": {},
   "outputs": [],
   "source": [
    "@initial\n",
    "def new_input():\n",
    "    print('This is getting used in initial() function')"
   ]
  },
  {
   "cell_type": "code",
   "execution_count": 250,
   "id": "4a9a60d0",
   "metadata": {},
   "outputs": [
    {
     "name": "stdout",
     "output_type": "stream",
     "text": [
      "This is from initial() function which will use one_input parameter functon\n",
      "This is getting used in initial() function\n",
      "Now U can see the updated lines after returning initial() function\n"
     ]
    }
   ],
   "source": [
    "new_input()"
   ]
  },
  {
   "cell_type": "code",
   "execution_count": 251,
   "id": "5de601a2",
   "metadata": {},
   "outputs": [],
   "source": [
    "# Now U know how to decorate and use one function in another"
   ]
  },
  {
   "cell_type": "code",
   "execution_count": 252,
   "id": "406c4548",
   "metadata": {},
   "outputs": [],
   "source": [
    "# In order to turn off the decorator U can simply do it by commenting or removing that perticular single line starts with @"
   ]
  },
  {
   "cell_type": "raw",
   "id": "cfdc3f00",
   "metadata": {},
   "source": []
  },
  {
   "cell_type": "code",
   "execution_count": 253,
   "id": "759d806e",
   "metadata": {},
   "outputs": [],
   "source": [
    "# Now Generators vs Normal Functions below"
   ]
  },
  {
   "cell_type": "code",
   "execution_count": 254,
   "id": "4536ec74",
   "metadata": {},
   "outputs": [],
   "source": [
    "\"\"\"\n",
    " Generators are way more memory efficient because they'll call single value at a time & hold it by yielding it using yield\n",
    " keyword i.e just like yielding sword temparorly in the battle field here Generators will hold the value temporarily in \n",
    " memory by yielding it and displaying in result, see below example for more clarity\n",
    "\"\"\""
   ]
  },
  {
   "cell_type": "code",
   "execution_count": 258,
   "id": "69a03721",
   "metadata": {},
   "outputs": [],
   "source": [
    "# Normal function below\n",
    "def cubes(num):\n",
    "    cube_list = []\n",
    "    for n in range(num):\n",
    "        cube_list.append(n**3)\n",
    "    return cube_list"
   ]
  },
  {
   "cell_type": "code",
   "execution_count": 259,
   "id": "e4b539b3",
   "metadata": {},
   "outputs": [
    {
     "data": {
      "text/plain": [
       "[0, 1, 8, 27, 64, 125, 216, 343]"
      ]
     },
     "execution_count": 259,
     "metadata": {},
     "output_type": "execute_result"
    }
   ],
   "source": [
    "c1 = cubes(8)\n",
    "c1"
   ]
  },
  {
   "cell_type": "code",
   "execution_count": null,
   "id": "6c711361",
   "metadata": {},
   "outputs": [],
   "source": [
    "# As You can see from above it's taking the whole number of cubes by the range provided by the user and appending into a \n",
    "#list and displaying the result which is not so good at memory management"
   ]
  },
  {
   "cell_type": "code",
   "execution_count": 260,
   "id": "d104fa78",
   "metadata": {},
   "outputs": [
    {
     "name": "stdout",
     "output_type": "stream",
     "text": [
      "0\n",
      "1\n",
      "8\n",
      "27\n",
      "64\n",
      "125\n",
      "216\n",
      "343\n"
     ]
    }
   ],
   "source": [
    "for x in c1:\n",
    "    print(x)"
   ]
  },
  {
   "cell_type": "code",
   "execution_count": 261,
   "id": "6af62b65",
   "metadata": {},
   "outputs": [],
   "source": [
    "# Generators below\n",
    "def cube_generator(num):\n",
    "    for n in range(num):\n",
    "        yield n**3"
   ]
  },
  {
   "cell_type": "code",
   "execution_count": 262,
   "id": "36dc951a",
   "metadata": {},
   "outputs": [
    {
     "data": {
      "text/plain": [
       "<generator object cube_generator at 0x000001717B4052E0>"
      ]
     },
     "execution_count": 262,
     "metadata": {},
     "output_type": "execute_result"
    }
   ],
   "source": [
    "c2 = cube_generator(8)\n",
    "c2"
   ]
  },
  {
   "cell_type": "code",
   "execution_count": 263,
   "id": "97bc901d",
   "metadata": {},
   "outputs": [
    {
     "name": "stdout",
     "output_type": "stream",
     "text": [
      "0\n",
      "1\n",
      "8\n",
      "27\n",
      "64\n",
      "125\n",
      "216\n",
      "343\n"
     ]
    }
   ],
   "source": [
    "for x in c2:\n",
    "    print(x)"
   ]
  },
  {
   "cell_type": "code",
   "execution_count": 264,
   "id": "6e0ff720",
   "metadata": {},
   "outputs": [],
   "source": [
    "# I think U can see the difference between normal function & generator by above cells"
   ]
  },
  {
   "cell_type": "code",
   "execution_count": 265,
   "id": "715580f8",
   "metadata": {},
   "outputs": [],
   "source": [
    "# Fibonacci Sequence example using generators below\n",
    "def fibo(n):\n",
    "    a = 1\n",
    "    b = 1\n",
    "    for i in range(n):\n",
    "        yield a\n",
    "        a, b, = b, a+b"
   ]
  },
  {
   "cell_type": "code",
   "execution_count": 266,
   "id": "4b9e4367",
   "metadata": {},
   "outputs": [
    {
     "name": "stdout",
     "output_type": "stream",
     "text": [
      "1\n",
      "1\n",
      "2\n",
      "3\n",
      "5\n",
      "8\n",
      "13\n",
      "21\n",
      "34\n",
      "55\n"
     ]
    }
   ],
   "source": [
    "for num in fibo(10):\n",
    "    print(num)"
   ]
  },
  {
   "cell_type": "code",
   "execution_count": 267,
   "id": "3dfa93de",
   "metadata": {},
   "outputs": [],
   "source": [
    "#From above 2cells U can see the representation of febonacci series of numbers for a given range n"
   ]
  },
  {
   "cell_type": "code",
   "execution_count": 268,
   "id": "cc6b55ab",
   "metadata": {},
   "outputs": [],
   "source": [
    "# Th above 2cells code can be represented using simple function by below\n",
    "def simple_fibo(num):\n",
    "    a = 1\n",
    "    b = 1\n",
    "    output = []\n",
    "    for n in range(num):\n",
    "        output.append(a)\n",
    "        a, b = b, a+b\n",
    "    return output"
   ]
  },
  {
   "cell_type": "code",
   "execution_count": 269,
   "id": "4bdcb14d",
   "metadata": {},
   "outputs": [
    {
     "name": "stdout",
     "output_type": "stream",
     "text": [
      "1\n",
      "1\n",
      "2\n",
      "3\n",
      "5\n",
      "8\n",
      "13\n",
      "21\n",
      "34\n",
      "55\n"
     ]
    }
   ],
   "source": [
    "for n in simple_fibo(10):\n",
    "    print(n)"
   ]
  },
  {
   "cell_type": "code",
   "execution_count": 270,
   "id": "4a7ca6d4",
   "metadata": {},
   "outputs": [],
   "source": [
    "# Now I think U can see the difference b/w normal function & a generator where generator is much more Memory Efficient \n",
    "# compared to normal function"
   ]
  },
  {
   "cell_type": "code",
   "execution_count": 280,
   "id": "209abcc4",
   "metadata": {},
   "outputs": [],
   "source": [
    "def squares(num):\n",
    "    for n in range(num):\n",
    "        yield n**2\n",
    "    #return n**2"
   ]
  },
  {
   "cell_type": "code",
   "execution_count": 275,
   "id": "bf2b529c",
   "metadata": {},
   "outputs": [],
   "source": []
  },
  {
   "cell_type": "code",
   "execution_count": 281,
   "id": "a450ca07",
   "metadata": {},
   "outputs": [
    {
     "name": "stdout",
     "output_type": "stream",
     "text": [
      "0\n",
      "1\n",
      "4\n",
      "9\n",
      "16\n",
      "25\n",
      "36\n",
      "49\n",
      "64\n",
      "81\n"
     ]
    }
   ],
   "source": [
    "for number in squares(10):\n",
    "    print(number)"
   ]
  },
  {
   "cell_type": "code",
   "execution_count": 285,
   "id": "57e44654",
   "metadata": {},
   "outputs": [],
   "source": [
    "import random\n",
    "def rand_num(low, high, n):\n",
    "    for num in range(n):\n",
    "        yield random.randint(low, high)"
   ]
  },
  {
   "cell_type": "code",
   "execution_count": 287,
   "id": "892adcdf",
   "metadata": {},
   "outputs": [
    {
     "name": "stdout",
     "output_type": "stream",
     "text": [
      "10\n",
      "5\n",
      "3\n",
      "5\n",
      "5\n",
      "4\n",
      "6\n",
      "10\n",
      "6\n",
      "3\n",
      "9\n",
      "2\n"
     ]
    }
   ],
   "source": [
    "for num in rand_num(1, 10, 12):\n",
    "    print(num)"
   ]
  },
  {
   "cell_type": "code",
   "execution_count": 288,
   "id": "0b041ae0",
   "metadata": {},
   "outputs": [],
   "source": [
    "s = 'hello'\n",
    "s = iter(s)"
   ]
  },
  {
   "cell_type": "code",
   "execution_count": 289,
   "id": "be289246",
   "metadata": {},
   "outputs": [
    {
     "data": {
      "text/plain": [
       "'h'"
      ]
     },
     "execution_count": 289,
     "metadata": {},
     "output_type": "execute_result"
    }
   ],
   "source": [
    "next(s)"
   ]
  },
  {
   "cell_type": "code",
   "execution_count": 290,
   "id": "8528c221",
   "metadata": {},
   "outputs": [
    {
     "data": {
      "text/plain": [
       "'e'"
      ]
     },
     "execution_count": 290,
     "metadata": {},
     "output_type": "execute_result"
    }
   ],
   "source": [
    "next(s)"
   ]
  },
  {
   "cell_type": "code",
   "execution_count": 291,
   "id": "e0c3e711",
   "metadata": {},
   "outputs": [
    {
     "data": {
      "text/plain": [
       "'l'"
      ]
     },
     "execution_count": 291,
     "metadata": {},
     "output_type": "execute_result"
    }
   ],
   "source": [
    "next(s)"
   ]
  },
  {
   "cell_type": "code",
   "execution_count": 292,
   "id": "39ad63ca",
   "metadata": {},
   "outputs": [
    {
     "data": {
      "text/plain": [
       "'l'"
      ]
     },
     "execution_count": 292,
     "metadata": {},
     "output_type": "execute_result"
    }
   ],
   "source": [
    "next(s)"
   ]
  },
  {
   "cell_type": "code",
   "execution_count": 293,
   "id": "49f9cdfe",
   "metadata": {},
   "outputs": [
    {
     "data": {
      "text/plain": [
       "'o'"
      ]
     },
     "execution_count": 293,
     "metadata": {},
     "output_type": "execute_result"
    }
   ],
   "source": [
    "next(s)"
   ]
  },
  {
   "cell_type": "code",
   "execution_count": 294,
   "id": "38800fc6",
   "metadata": {},
   "outputs": [],
   "source": [
    "# Now If you againg use next(s) it'll give you an error becoz s is only habing 'hello' as data in it"
   ]
  },
  {
   "cell_type": "code",
   "execution_count": null,
   "id": "190cab41",
   "metadata": {},
   "outputs": [],
   "source": []
  },
  {
   "cell_type": "markdown",
   "id": "70cb5ac9",
   "metadata": {},
   "source": [
    "## From Here Advance Python Below"
   ]
  },
  {
   "cell_type": "markdown",
   "id": "a9a22fea",
   "metadata": {},
   "source": [
    "### Modules:"
   ]
  },
  {
   "cell_type": "markdown",
   "id": "ceb76462",
   "metadata": {},
   "source": [
    "#### Collections Module"
   ]
  },
  {
   "cell_type": "code",
   "execution_count": 296,
   "id": "61300bae",
   "metadata": {},
   "outputs": [],
   "source": [
    "# 1. Counter\n",
    "from collections import Counter"
   ]
  },
  {
   "cell_type": "code",
   "execution_count": 297,
   "id": "36818b41",
   "metadata": {},
   "outputs": [],
   "source": [
    "duo_list = [1, 1, 2, 2, 3, 3, 4, 4, 5, 5, 6, 6, 7, 7]"
   ]
  },
  {
   "cell_type": "code",
   "execution_count": 298,
   "id": "4243583e",
   "metadata": {},
   "outputs": [
    {
     "data": {
      "text/plain": [
       "Counter({1: 2, 2: 2, 3: 2, 4: 2, 5: 2, 6: 2, 7: 2})"
      ]
     },
     "execution_count": 298,
     "metadata": {},
     "output_type": "execute_result"
    }
   ],
   "source": [
    "Counter(duo_list)"
   ]
  },
  {
   "cell_type": "code",
   "execution_count": 299,
   "id": "833afd04",
   "metadata": {},
   "outputs": [],
   "source": [
    "str_list = ['a', 'a', 'b', 'b']"
   ]
  },
  {
   "cell_type": "code",
   "execution_count": 300,
   "id": "4f5d853f",
   "metadata": {},
   "outputs": [
    {
     "data": {
      "text/plain": [
       "Counter({'a': 2, 'b': 2})"
      ]
     },
     "execution_count": 300,
     "metadata": {},
     "output_type": "execute_result"
    }
   ],
   "source": [
    "Counter(str_list)"
   ]
  },
  {
   "cell_type": "code",
   "execution_count": 301,
   "id": "e458cdcd",
   "metadata": {},
   "outputs": [],
   "source": [
    "# Counter is a special dictionary method where key is the item in the list and the value is always the count if that perticular item"
   ]
  },
  {
   "cell_type": "code",
   "execution_count": 302,
   "id": "b8153fc8",
   "metadata": {},
   "outputs": [],
   "source": [
    "sentence = \"This is the testing of counter function from in built python special collections, which are there in .py by default.\""
   ]
  },
  {
   "cell_type": "code",
   "execution_count": 303,
   "id": "7d7ea24d",
   "metadata": {},
   "outputs": [
    {
     "data": {
      "text/plain": [
       "Counter({'This': 1,\n",
       "         'is': 1,\n",
       "         'the': 1,\n",
       "         'testing': 1,\n",
       "         'of': 1,\n",
       "         'counter': 1,\n",
       "         'function': 1,\n",
       "         'from': 1,\n",
       "         'in': 2,\n",
       "         'built': 1,\n",
       "         'python': 1,\n",
       "         'special': 1,\n",
       "         'collections,': 1,\n",
       "         'which': 1,\n",
       "         'are': 1,\n",
       "         'there': 1,\n",
       "         '.py': 1,\n",
       "         'by': 1,\n",
       "         'default.': 1})"
      ]
     },
     "execution_count": 303,
     "metadata": {},
     "output_type": "execute_result"
    }
   ],
   "source": [
    "Counter(sentence.split(\" \"))"
   ]
  },
  {
   "cell_type": "code",
   "execution_count": 304,
   "id": "9f01cc39",
   "metadata": {},
   "outputs": [],
   "source": [
    "# As U can see you are getting the count of every word that have been present in the sentence"
   ]
  },
  {
   "cell_type": "code",
   "execution_count": 305,
   "id": "2f79bb62",
   "metadata": {},
   "outputs": [],
   "source": [
    "single = 'aaabbbbcccccccccdddddddddddddddd'"
   ]
  },
  {
   "cell_type": "code",
   "execution_count": 306,
   "id": "633071f1",
   "metadata": {},
   "outputs": [
    {
     "data": {
      "text/plain": [
       "Counter({'a': 3, 'b': 4, 'c': 9, 'd': 16})"
      ]
     },
     "execution_count": 306,
     "metadata": {},
     "output_type": "execute_result"
    }
   ],
   "source": [
    "c = Counter(single)\n",
    "c"
   ]
  },
  {
   "cell_type": "code",
   "execution_count": 308,
   "id": "54c2b169",
   "metadata": {},
   "outputs": [
    {
     "data": {
      "text/plain": [
       "[('d', 16), ('c', 9), ('b', 4), ('a', 3)]"
      ]
     },
     "execution_count": 308,
     "metadata": {},
     "output_type": "execute_result"
    }
   ],
   "source": [
    "c.most_common()"
   ]
  },
  {
   "cell_type": "code",
   "execution_count": 309,
   "id": "19a955fa",
   "metadata": {},
   "outputs": [
    {
     "data": {
      "text/plain": [
       "dict_values([3, 4, 9, 16])"
      ]
     },
     "execution_count": 309,
     "metadata": {},
     "output_type": "execute_result"
    }
   ],
   "source": [
    "c.values()"
   ]
  },
  {
   "cell_type": "code",
   "execution_count": 311,
   "id": "cdb3c5dd",
   "metadata": {},
   "outputs": [
    {
     "name": "stdout",
     "output_type": "stream",
     "text": [
      "<itertools.chain object at 0x000001717A604580>\n"
     ]
    }
   ],
   "source": [
    "print(c.elements())"
   ]
  },
  {
   "cell_type": "code",
   "execution_count": 312,
   "id": "f69dd799",
   "metadata": {},
   "outputs": [
    {
     "data": {
      "text/plain": [
       "dict_keys(['a', 'b', 'c', 'd'])"
      ]
     },
     "execution_count": 312,
     "metadata": {},
     "output_type": "execute_result"
    }
   ],
   "source": [
    "c.keys()"
   ]
  },
  {
   "cell_type": "code",
   "execution_count": 313,
   "id": "41c6fdb8",
   "metadata": {},
   "outputs": [
    {
     "data": {
      "text/plain": [
       "4"
      ]
     },
     "execution_count": 313,
     "metadata": {},
     "output_type": "execute_result"
    }
   ],
   "source": [
    "c.get('b')"
   ]
  },
  {
   "cell_type": "code",
   "execution_count": 314,
   "id": "b017eaa4",
   "metadata": {},
   "outputs": [
    {
     "data": {
      "text/plain": [
       "Counter({'a': 3, 'b': 4, 'c': 9, 'd': 16})"
      ]
     },
     "execution_count": 314,
     "metadata": {},
     "output_type": "execute_result"
    }
   ],
   "source": [
    "c2 = c.copy()\n",
    "c2"
   ]
  },
  {
   "cell_type": "code",
   "execution_count": 307,
   "id": "adb0e900",
   "metadata": {},
   "outputs": [
    {
     "data": {
      "text/plain": [
       "['a', 'b', 'c', 'd']"
      ]
     },
     "execution_count": 307,
     "metadata": {},
     "output_type": "execute_result"
    }
   ],
   "source": [
    "list(c)"
   ]
  },
  {
   "cell_type": "code",
   "execution_count": null,
   "id": "8c7c4d06",
   "metadata": {},
   "outputs": [],
   "source": [
    "# As You can see from above lines of code there are so many methods in the Counter module"
   ]
  },
  {
   "cell_type": "code",
   "execution_count": null,
   "id": "5795127d",
   "metadata": {},
   "outputs": [],
   "source": []
  },
  {
   "cell_type": "code",
   "execution_count": 315,
   "id": "4d60eadb",
   "metadata": {},
   "outputs": [],
   "source": [
    "# Now defaultdict method from collections Module Below"
   ]
  },
  {
   "cell_type": "code",
   "execution_count": 316,
   "id": "005850df",
   "metadata": {},
   "outputs": [],
   "source": [
    "from collections import defaultdict"
   ]
  },
  {
   "cell_type": "code",
   "execution_count": 317,
   "id": "2566c5a9",
   "metadata": {},
   "outputs": [],
   "source": [
    "normal_dict = {'a':1, 'b':2, 'c':3}"
   ]
  },
  {
   "cell_type": "code",
   "execution_count": 320,
   "id": "c6368251",
   "metadata": {},
   "outputs": [
    {
     "data": {
      "text/plain": [
       "dict_items([('a', 1), ('b', 2), ('c', 3)])"
      ]
     },
     "execution_count": 320,
     "metadata": {},
     "output_type": "execute_result"
    }
   ],
   "source": [
    "normal_dict.items()"
   ]
  },
  {
   "cell_type": "code",
   "execution_count": 321,
   "id": "7c79c328",
   "metadata": {},
   "outputs": [
    {
     "data": {
      "text/plain": [
       "dict_keys(['a', 'b', 'c'])"
      ]
     },
     "execution_count": 321,
     "metadata": {},
     "output_type": "execute_result"
    }
   ],
   "source": [
    "normal_dict.keys()"
   ]
  },
  {
   "cell_type": "code",
   "execution_count": 318,
   "id": "3c427ad9",
   "metadata": {},
   "outputs": [
    {
     "data": {
      "text/plain": [
       "3"
      ]
     },
     "execution_count": 318,
     "metadata": {},
     "output_type": "execute_result"
    }
   ],
   "source": [
    "normal_dict['c']"
   ]
  },
  {
   "cell_type": "code",
   "execution_count": 319,
   "id": "d4c5d6ae",
   "metadata": {},
   "outputs": [
    {
     "ename": "KeyError",
     "evalue": "'d'",
     "output_type": "error",
     "traceback": [
      "\u001b[1;31m---------------------------------------------------------------------------\u001b[0m",
      "\u001b[1;31mKeyError\u001b[0m                                  Traceback (most recent call last)",
      "\u001b[1;32m<ipython-input-319-1f3f03d89ade>\u001b[0m in \u001b[0;36m<module>\u001b[1;34m\u001b[0m\n\u001b[1;32m----> 1\u001b[1;33m \u001b[0mnormal_dict\u001b[0m\u001b[1;33m[\u001b[0m\u001b[1;34m'd'\u001b[0m\u001b[1;33m]\u001b[0m\u001b[1;33m\u001b[0m\u001b[1;33m\u001b[0m\u001b[0m\n\u001b[0m",
      "\u001b[1;31mKeyError\u001b[0m: 'd'"
     ]
    }
   ],
   "source": [
    "normal_dict['d']"
   ]
  },
  {
   "cell_type": "code",
   "execution_count": 322,
   "id": "73061fe0",
   "metadata": {},
   "outputs": [],
   "source": [
    "# As U can see from above cell there is an error becoz there is not such data of d, this can be overcome by defaultdict"
   ]
  },
  {
   "cell_type": "code",
   "execution_count": 323,
   "id": "2bb4a7e2",
   "metadata": {},
   "outputs": [],
   "source": [
    "default_dict = defaultdict(lambda : 0)"
   ]
  },
  {
   "cell_type": "code",
   "execution_count": 324,
   "id": "94b04066",
   "metadata": {},
   "outputs": [],
   "source": [
    "default_dict['a'] = 1"
   ]
  },
  {
   "cell_type": "code",
   "execution_count": 325,
   "id": "3fb42206",
   "metadata": {},
   "outputs": [],
   "source": [
    "default_dict['b'] = 2"
   ]
  },
  {
   "cell_type": "code",
   "execution_count": 326,
   "id": "e74f7fd1",
   "metadata": {},
   "outputs": [],
   "source": [
    "default_dict['c'] = 3"
   ]
  },
  {
   "cell_type": "code",
   "execution_count": 327,
   "id": "727f406f",
   "metadata": {},
   "outputs": [
    {
     "data": {
      "text/plain": [
       "defaultdict(<function __main__.<lambda>()>, {'a': 1, 'b': 2, 'c': 3})"
      ]
     },
     "execution_count": 327,
     "metadata": {},
     "output_type": "execute_result"
    }
   ],
   "source": [
    "default_dict"
   ]
  },
  {
   "cell_type": "code",
   "execution_count": 328,
   "id": "d05a42b1",
   "metadata": {},
   "outputs": [
    {
     "data": {
      "text/plain": [
       "dict_items([('a', 1), ('b', 2), ('c', 3)])"
      ]
     },
     "execution_count": 328,
     "metadata": {},
     "output_type": "execute_result"
    }
   ],
   "source": [
    "default_dict.items()"
   ]
  },
  {
   "cell_type": "code",
   "execution_count": 329,
   "id": "79ed1399",
   "metadata": {},
   "outputs": [
    {
     "data": {
      "text/plain": [
       "0"
      ]
     },
     "execution_count": 329,
     "metadata": {},
     "output_type": "execute_result"
    }
   ],
   "source": [
    "default_dict['d']"
   ]
  },
  {
   "cell_type": "code",
   "execution_count": 331,
   "id": "e0f8fc8b",
   "metadata": {},
   "outputs": [
    {
     "data": {
      "text/plain": [
       "dict_items([('a', 1), ('b', 2), ('c', 3), ('d', 0)])"
      ]
     },
     "execution_count": 331,
     "metadata": {},
     "output_type": "execute_result"
    }
   ],
   "source": [
    "# Now You can see that defaultdict is no longer shouting for error unlike normal dictionary\n",
    "default_dict.items()\n",
    "# So the key take away here is defaultdict is trying to solve the problem of defaulf dictionary which is when tried to \n",
    "# access the value of absent key then it'll gives U error where as we can assign any default value in defaultdict."
   ]
  },
  {
   "cell_type": "code",
   "execution_count": null,
   "id": "97029ce8",
   "metadata": {},
   "outputs": [],
   "source": []
  },
  {
   "cell_type": "code",
   "execution_count": 332,
   "id": "55a9573b",
   "metadata": {},
   "outputs": [],
   "source": [
    "# Now nametuple function from collection module"
   ]
  },
  {
   "cell_type": "code",
   "execution_count": null,
   "id": "79810f58",
   "metadata": {},
   "outputs": [],
   "source": [
    "# namedtuple function is trying to improve the tuple function of calling elements by their index with named indexes"
   ]
  },
  {
   "cell_type": "code",
   "execution_count": 333,
   "id": "89a01b33",
   "metadata": {},
   "outputs": [],
   "source": [
    "normal_tuple = (1, 2, 3)"
   ]
  },
  {
   "cell_type": "code",
   "execution_count": 334,
   "id": "e9ccdc89",
   "metadata": {},
   "outputs": [
    {
     "data": {
      "text/plain": [
       "2"
      ]
     },
     "execution_count": 334,
     "metadata": {},
     "output_type": "execute_result"
    }
   ],
   "source": [
    "normal_tuple[1]"
   ]
  },
  {
   "cell_type": "code",
   "execution_count": 336,
   "id": "56a38965",
   "metadata": {},
   "outputs": [
    {
     "data": {
      "text/plain": [
       "3"
      ]
     },
     "execution_count": 336,
     "metadata": {},
     "output_type": "execute_result"
    }
   ],
   "source": [
    "normal_tuple[2]"
   ]
  },
  {
   "cell_type": "code",
   "execution_count": 337,
   "id": "e55d7ee3",
   "metadata": {},
   "outputs": [],
   "source": [
    "# Here 1 usecase is when you are having big tuple and you want to access any element by it's index then it would b time consuming\n",
    "# Instead we do have name tuple indexing this will look like a list\n",
    "from collections import namedtuple"
   ]
  },
  {
   "cell_type": "code",
   "execution_count": 339,
   "id": "cb9865cf",
   "metadata": {},
   "outputs": [],
   "source": [
    "dog = namedtuple('dog', ['age', 'breed', 'name'])"
   ]
  },
  {
   "cell_type": "code",
   "execution_count": 340,
   "id": "3522ff53",
   "metadata": {},
   "outputs": [
    {
     "data": {
      "text/plain": [
       "type"
      ]
     },
     "execution_count": 340,
     "metadata": {},
     "output_type": "execute_result"
    }
   ],
   "source": [
    "type(dog)"
   ]
  },
  {
   "cell_type": "code",
   "execution_count": 341,
   "id": "ceb6ca84",
   "metadata": {},
   "outputs": [],
   "source": [
    "browny = dog(age=3, breed = 'Husky', name = 'brown')"
   ]
  },
  {
   "cell_type": "code",
   "execution_count": 342,
   "id": "3822490f",
   "metadata": {},
   "outputs": [
    {
     "data": {
      "text/plain": [
       "dog(age=3, breed='Husky', name='brown')"
      ]
     },
     "execution_count": 342,
     "metadata": {},
     "output_type": "execute_result"
    }
   ],
   "source": [
    "browny"
   ]
  },
  {
   "cell_type": "code",
   "execution_count": 343,
   "id": "bc6afcb7",
   "metadata": {},
   "outputs": [
    {
     "data": {
      "text/plain": [
       "__main__.dog"
      ]
     },
     "execution_count": 343,
     "metadata": {},
     "output_type": "execute_result"
    }
   ],
   "source": [
    "type(browny)"
   ]
  },
  {
   "cell_type": "code",
   "execution_count": 344,
   "id": "18f906ed",
   "metadata": {},
   "outputs": [
    {
     "data": {
      "text/plain": [
       "'Husky'"
      ]
     },
     "execution_count": 344,
     "metadata": {},
     "output_type": "execute_result"
    }
   ],
   "source": [
    "browny.breed"
   ]
  },
  {
   "cell_type": "code",
   "execution_count": 346,
   "id": "e22c9cbb",
   "metadata": {},
   "outputs": [
    {
     "data": {
      "text/plain": [
       "3"
      ]
     },
     "execution_count": 346,
     "metadata": {},
     "output_type": "execute_result"
    }
   ],
   "source": [
    "browny.age"
   ]
  },
  {
   "cell_type": "code",
   "execution_count": 347,
   "id": "941d6d8a",
   "metadata": {},
   "outputs": [
    {
     "data": {
      "text/plain": [
       "'brown'"
      ]
     },
     "execution_count": 347,
     "metadata": {},
     "output_type": "execute_result"
    }
   ],
   "source": [
    "browny.name"
   ]
  },
  {
   "cell_type": "code",
   "execution_count": 348,
   "id": "1764d15d",
   "metadata": {},
   "outputs": [
    {
     "data": {
      "text/plain": [
       "3"
      ]
     },
     "execution_count": 348,
     "metadata": {},
     "output_type": "execute_result"
    }
   ],
   "source": [
    "browny[0]"
   ]
  },
  {
   "cell_type": "code",
   "execution_count": 349,
   "id": "57c89901",
   "metadata": {},
   "outputs": [
    {
     "data": {
      "text/plain": [
       "'Husky'"
      ]
     },
     "execution_count": 349,
     "metadata": {},
     "output_type": "execute_result"
    }
   ],
   "source": [
    "browny[1]"
   ]
  },
  {
   "cell_type": "code",
   "execution_count": 351,
   "id": "abae46eb",
   "metadata": {},
   "outputs": [
    {
     "data": {
      "text/plain": [
       "'brown'"
      ]
     },
     "execution_count": 351,
     "metadata": {},
     "output_type": "execute_result"
    }
   ],
   "source": [
    "browny[2]"
   ]
  },
  {
   "cell_type": "code",
   "execution_count": null,
   "id": "1491550c",
   "metadata": {},
   "outputs": [],
   "source": [
    "# By above cells I think You got the idea..."
   ]
  },
  {
   "cell_type": "code",
   "execution_count": null,
   "id": "da5f2202",
   "metadata": {},
   "outputs": [],
   "source": []
  },
  {
   "cell_type": "markdown",
   "id": "794f67aa",
   "metadata": {},
   "source": [
    "#### ***OS & Shutil(Shull Utility) Modules***"
   ]
  },
  {
   "cell_type": "code",
   "execution_count": 353,
   "id": "21a00a6e",
   "metadata": {},
   "outputs": [
    {
     "data": {
      "text/plain": [
       "'C:\\\\Users\\\\u1089501\\\\Python_Training\\\\IQVIA_Python-AI-ML_Trainings(Aug-3-2022)'"
      ]
     },
     "execution_count": 353,
     "metadata": {},
     "output_type": "execute_result"
    }
   ],
   "source": [
    "pwd # only in jupyter"
   ]
  },
  {
   "cell_type": "code",
   "execution_count": 361,
   "id": "40c8c35b",
   "metadata": {},
   "outputs": [],
   "source": [
    "with open(\"Practice.txt\", 'w+') as file:\n",
    "    file.write(\"This is just another file which this line written by opening the file via with open as w+ mode\")\n",
    "    file.seek(0)\n",
    "    f = file.read()"
   ]
  },
  {
   "cell_type": "code",
   "execution_count": 362,
   "id": "53809427",
   "metadata": {},
   "outputs": [
    {
     "data": {
      "text/plain": [
       "'This is just another file which this line written by opening the file via with open as w+ mode'"
      ]
     },
     "execution_count": 362,
     "metadata": {},
     "output_type": "execute_result"
    }
   ],
   "source": [
    "f"
   ]
  },
  {
   "cell_type": "code",
   "execution_count": 363,
   "id": "66539528",
   "metadata": {},
   "outputs": [],
   "source": [
    "# Now using os module below"
   ]
  },
  {
   "cell_type": "code",
   "execution_count": 364,
   "id": "a5f20ea1",
   "metadata": {},
   "outputs": [],
   "source": [
    "import os"
   ]
  },
  {
   "cell_type": "code",
   "execution_count": 365,
   "id": "3d157145",
   "metadata": {},
   "outputs": [
    {
     "data": {
      "text/plain": [
       "'C:\\\\Users\\\\u1089501\\\\Python_Training\\\\IQVIA_Python-AI-ML_Trainings(Aug-3-2022)'"
      ]
     },
     "execution_count": 365,
     "metadata": {},
     "output_type": "execute_result"
    }
   ],
   "source": [
    "os.getcwd() # To get the current workig directory"
   ]
  },
  {
   "cell_type": "code",
   "execution_count": 366,
   "id": "01b15b8d",
   "metadata": {},
   "outputs": [
    {
     "data": {
      "text/plain": [
       "['.idea',\n",
       " '.ipynb_checkpoints',\n",
       " 'abc.txt',\n",
       " 'assig1.py',\n",
       " 'Customer.txt',\n",
       " 'feedback.txt',\n",
       " 'module_access1.py',\n",
       " 'module_ex1.py',\n",
       " 'my_file.txt',\n",
       " 'new_file',\n",
       " 'Notes,PPT,Docs',\n",
       " 'Practice.txt',\n",
       " 'Practice_From_Py4Biggeners.ipynb',\n",
       " 'PyFile1_17-8-2022.ipynb',\n",
       " 'start.py',\n",
       " 'test.txt',\n",
       " '__pycache__']"
      ]
     },
     "execution_count": 366,
     "metadata": {},
     "output_type": "execute_result"
    }
   ],
   "source": [
    "os.listdir() # This is to display the files present in the current directory"
   ]
  },
  {
   "cell_type": "code",
   "execution_count": 368,
   "id": "8888029c",
   "metadata": {},
   "outputs": [
    {
     "data": {
      "text/plain": [
       "['.astropy',\n",
       " '.bash_history',\n",
       " '.conda',\n",
       " '.condarc',\n",
       " '.continuum',\n",
       " '.dotnet',\n",
       " '.eclipse',\n",
       " '.gitconfig',\n",
       " '.groovy',\n",
       " '.idlerc',\n",
       " '.ipynb_checkpoints',\n",
       " '.ipython',\n",
       " '.jupyter',\n",
       " '.keras',\n",
       " '.lemminx',\n",
       " '.lesshst',\n",
       " '.m2',\n",
       " '.matplotlib',\n",
       " '.ms-ad',\n",
       " '.nuget',\n",
       " '.omnisharp',\n",
       " '.oracle_jre_usage',\n",
       " '.pytest_cache',\n",
       " '.python_history',\n",
       " '.spyder-py3',\n",
       " '.templateengine',\n",
       " '.tooling',\n",
       " '.uc-c83fb372493347f1b8c81cfe7426da22.u1089501.inkoc1wlt08950.tmp',\n",
       " '.viminfo',\n",
       " '.vscode',\n",
       " '3D Objects',\n",
       " 'AppData',\n",
       " 'Application Data',\n",
       " 'Basic OOPS Python.ipynb',\n",
       " 'Bulk Upload(Many To Many).xlsx',\n",
       " 'bus_met_datamart@TMODEV1.sql',\n",
       " 'bus_met_datamart@TMODEV11.sql',\n",
       " 'bus_met_datamart@TMODEV110.sql',\n",
       " 'bus_met_datamart@TMODEV12.sql',\n",
       " 'bus_met_datamart@TMODEV13.sql',\n",
       " 'bus_met_datamart@TMODEV14.sql',\n",
       " 'bus_met_datamart@TMODEV15.sql',\n",
       " 'bus_met_datamart@TMODEV16.sql',\n",
       " 'bus_met_datamart@TMODEV17.sql',\n",
       " 'bus_met_datamart@TMODEV18.sql',\n",
       " 'bus_met_datamart@TMODEV19.sql',\n",
       " 'C#Practice',\n",
       " 'Contacts',\n",
       " 'Cookies',\n",
       " 'Documents',\n",
       " 'Downloads',\n",
       " 'eclipse-workspace',\n",
       " 'FastAPI_Practice',\n",
       " 'Favorites',\n",
       " 'file.txt',\n",
       " 'for_udemy_course.txt',\n",
       " 'IntelGraphicsProfiles',\n",
       " 'Jedi',\n",
       " 'Learnings',\n",
       " 'Links',\n",
       " 'Local Settings',\n",
       " 'mcafee dlp quarantined files',\n",
       " 'ML_Practice',\n",
       " 'Music',\n",
       " 'My Documents',\n",
       " 'names.xlsx',\n",
       " 'NetHood',\n",
       " 'new_weather.xlsx',\n",
       " 'NTUSER.DAT',\n",
       " 'ntuser.dat.LOG1',\n",
       " 'ntuser.dat.LOG2',\n",
       " 'NTUSER.DAT{53b39e88-18c4-11ea-a811-000d3aa4692b}.TM.blf',\n",
       " 'NTUSER.DAT{53b39e88-18c4-11ea-a811-000d3aa4692b}.TMContainer00000000000000000001.regtrans-ms',\n",
       " 'NTUSER.DAT{53b39e88-18c4-11ea-a811-000d3aa4692b}.TMContainer00000000000000000002.regtrans-ms',\n",
       " 'ntuser.ini',\n",
       " 'OneDrive - IQVIA',\n",
       " 'OnlyFewCols_Stock.xlsx',\n",
       " 'Pandas_from_CodeBasics.ipynb',\n",
       " 'Pictures',\n",
       " 'Postman',\n",
       " 'PrintHood',\n",
       " 'project',\n",
       " 'Project-13-9-21',\n",
       " 'Project_CBEx',\n",
       " 'Project_PD',\n",
       " 'PyCharm Community Edition 2021.1.3',\n",
       " 'Python Mega Course & Advanced Python(Udemy)..ipynb',\n",
       " 'Python Mentoring.ipynb',\n",
       " 'Python Programming Masterclass-Udemy.ipynb',\n",
       " 'PythonProject',\n",
       " 'Python_Training',\n",
       " 'Py_Revision_From_LinkedIN.ipynb',\n",
       " 'Recent',\n",
       " 'repos',\n",
       " 'Saved Games',\n",
       " 'Searches',\n",
       " 'SendTo',\n",
       " 'Simple_Wheather.xlsx',\n",
       " 'Software',\n",
       " 'source',\n",
       " 'Start Menu',\n",
       " 'stocks.xlsx',\n",
       " 'stocks_3_levels.xlsx',\n",
       " 'stock_data.xlsx',\n",
       " 'survey.xlsx',\n",
       " 'Templates',\n",
       " 'TsDM',\n",
       " 'tSDM_Proj',\n",
       " 'Untitled Folder',\n",
       " 'Untitled.ipynb',\n",
       " 'Untitled1.ipynb',\n",
       " 'Untitled2.ipynb',\n",
       " 'Videos',\n",
       " 'weather.csv',\n",
       " 'weather_by_city.csv',\n",
       " 'weather_data.xls',\n",
       " 'Written_Stock.xlsx']"
      ]
     },
     "execution_count": 368,
     "metadata": {},
     "output_type": "execute_result"
    }
   ],
   "source": [
    "os.listdir(\"C:\\\\Users\\\\u1089501\") # This peice is to display the sub directories or files in the specified path inside listdir()"
   ]
  },
  {
   "cell_type": "code",
   "execution_count": 369,
   "id": "97a61e7b",
   "metadata": {},
   "outputs": [],
   "source": [
    "# Now shutil module to move 1file from 1location 2another"
   ]
  },
  {
   "cell_type": "code",
   "execution_count": 370,
   "id": "8e90e89f",
   "metadata": {},
   "outputs": [],
   "source": [
    "import shutil"
   ]
  },
  {
   "cell_type": "code",
   "execution_count": 371,
   "id": "9d3a5339",
   "metadata": {},
   "outputs": [
    {
     "data": {
      "text/plain": [
       "'C:\\\\Users\\\\u1089501\\\\Python_Training\\\\Practice.txt'"
      ]
     },
     "execution_count": 371,
     "metadata": {},
     "output_type": "execute_result"
    }
   ],
   "source": [
    "shutil.move(\"Practice.txt\", \"C:\\\\Users\\\\u1089501\\\\Python_Training\") # Note: Remember U need 2have permissions 2move the files to destination becoz in some case U'll not be having admin permissions to move files from source to destination"
   ]
  },
  {
   "cell_type": "code",
   "execution_count": 372,
   "id": "ea4a903b",
   "metadata": {},
   "outputs": [],
   "source": [
    "# From above code the Practice.txt file have been moved from C:\\\\Users\\\\u1089501\\\\Python_Training\\\\IQVIA_Python-AI-ML_Trainings(Aug-3-2022) to C:\\\\Users\\\\u1089501\\\\Python_Training"
   ]
  },
  {
   "cell_type": "code",
   "execution_count": 373,
   "id": "a3c439fd",
   "metadata": {},
   "outputs": [
    {
     "data": {
      "text/plain": [
       "['.idea',\n",
       " 'desk_allocation.py',\n",
       " 'Employees.csv',\n",
       " 'Employees_Assign.xlsx',\n",
       " 'improve.py',\n",
       " 'IQVIA_Python-AI-ML_Trainings(Aug-3-2022)',\n",
       " 'main.py',\n",
       " 'making.py',\n",
       " 'Practice.txt',\n",
       " 'proper.py',\n",
       " 'variables.py',\n",
       " 'venv']"
      ]
     },
     "execution_count": 373,
     "metadata": {},
     "output_type": "execute_result"
    }
   ],
   "source": [
    "os.listdir('C:\\\\Users\\\\u1089501\\\\Python_Training')"
   ]
  },
  {
   "cell_type": "code",
   "execution_count": 374,
   "id": "0736ca2c",
   "metadata": {},
   "outputs": [],
   "source": [
    "# As U can see from above line the file have been moved to Python_Training sub-folder"
   ]
  },
  {
   "cell_type": "code",
   "execution_count": 375,
   "id": "5614f8e2",
   "metadata": {},
   "outputs": [
    {
     "name": "stdout",
     "output_type": "stream",
     "text": [
      "Requirement already satisfied: send2trash in c:\\programdata\\anaconda3\\lib\\site-packages (1.5.0)\n",
      "Note: you may need to restart the kernel to use updated packages.\n"
     ]
    }
   ],
   "source": [
    "pip install send2trash"
   ]
  },
  {
   "cell_type": "code",
   "execution_count": 376,
   "id": "4c36d08a",
   "metadata": {},
   "outputs": [
    {
     "data": {
      "text/plain": [
       "'C:\\\\Users\\\\u1089501\\\\Python_Training\\\\IQVIA_Python-AI-ML_Trainings(Aug-3-2022)'"
      ]
     },
     "execution_count": 376,
     "metadata": {},
     "output_type": "execute_result"
    }
   ],
   "source": [
    "os.getcwd()"
   ]
  },
  {
   "cell_type": "code",
   "execution_count": 379,
   "id": "e0304adf",
   "metadata": {},
   "outputs": [
    {
     "name": "stdout",
     "output_type": "stream",
     "text": [
      "Currently in directory C:\\Users\\u1089501\\Python_Training\\IQVIA_Python-AI-ML_Trainings(Aug-3-2022)\\Notes,PPT,Docs \n",
      "\n",
      "\tThe Sub-Folder are: \n",
      "\t    Sub Folder : 16-8-2022\n",
      "\t    Sub Folder : 17-8-2022\n",
      "\n",
      "\n",
      "\tThe Files are: \n",
      "Currently in directory C:\\Users\\u1089501\\Python_Training\\IQVIA_Python-AI-ML_Trainings(Aug-3-2022)\\Notes,PPT,Docs\\16-8-2022 \n",
      "\n",
      "\tThe Sub-Folder are: \n",
      "\n",
      "\n",
      "\tThe Files are: \n",
      "\t    Files: big_data_-_3_parts.pptx\n",
      "\t    Files: notes_for_iqvia_ml_with_bigdata.docx\n",
      "\t    Files: smac.pptx\n",
      "Currently in directory C:\\Users\\u1089501\\Python_Training\\IQVIA_Python-AI-ML_Trainings(Aug-3-2022)\\Notes,PPT,Docs\\17-8-2022 \n",
      "\n",
      "\tThe Sub-Folder are: \n",
      "\n",
      "\n",
      "\tThe Files are: \n",
      "\t    Files: 2016-07-21-godil-presentation-_spark.pptx\n",
      "\t    Files: strata_spark_streaming.ppt\n"
     ]
    }
   ],
   "source": [
    "# Working with os.walk module\n",
    "path = 'C:\\\\Users\\\\u1089501\\\\Python_Training\\\\IQVIA_Python-AI-ML_Trainings(Aug-3-2022)\\\\Notes,PPT,Docs'\n",
    "for folder, sub_folders, files in os.walk(path):\n",
    "    print(f'Currently in directory {folder} \\n')\n",
    "    print(\"\\tThe Sub-Folder are: \")\n",
    "    for sub_folder in sub_folders:\n",
    "        print(f\"\\t    Sub Folder : {sub_folder}\")\n",
    "    print('\\n')\n",
    "    print(\"\\tThe Files are: \")\n",
    "    for file in files:\n",
    "        print(f\"\\t    Files: {file}\")"
   ]
  },
  {
   "cell_type": "code",
   "execution_count": 380,
   "id": "f9ce44f5",
   "metadata": {},
   "outputs": [],
   "source": [
    "# I think U got what is happening in above code"
   ]
  },
  {
   "cell_type": "code",
   "execution_count": 381,
   "id": "9b909265",
   "metadata": {},
   "outputs": [],
   "source": [
    "# There are lot mode methods of os module you can explore by going through official documentation"
   ]
  },
  {
   "cell_type": "markdown",
   "id": "97245a78",
   "metadata": {},
   "source": [
    "#### Datetime Module"
   ]
  },
  {
   "cell_type": "code",
   "execution_count": 382,
   "id": "3f07799c",
   "metadata": {},
   "outputs": [],
   "source": [
    "import datetime"
   ]
  },
  {
   "cell_type": "code",
   "execution_count": 383,
   "id": "c9ed7b3b",
   "metadata": {},
   "outputs": [],
   "source": [
    "mytime = datetime.time()"
   ]
  },
  {
   "cell_type": "code",
   "execution_count": 384,
   "id": "07f8d40b",
   "metadata": {},
   "outputs": [
    {
     "data": {
      "text/plain": [
       "datetime.time(0, 0)"
      ]
     },
     "execution_count": 384,
     "metadata": {},
     "output_type": "execute_result"
    }
   ],
   "source": [
    "mytime"
   ]
  },
  {
   "cell_type": "code",
   "execution_count": 385,
   "id": "9341d9d0",
   "metadata": {},
   "outputs": [],
   "source": [
    "mytime2 = datetime.time(7, 30)"
   ]
  },
  {
   "cell_type": "code",
   "execution_count": 386,
   "id": "0f66d5ee",
   "metadata": {},
   "outputs": [
    {
     "data": {
      "text/plain": [
       "30"
      ]
     },
     "execution_count": 386,
     "metadata": {},
     "output_type": "execute_result"
    }
   ],
   "source": [
    "mytime2.minute"
   ]
  },
  {
   "cell_type": "code",
   "execution_count": 387,
   "id": "322bd7dd",
   "metadata": {},
   "outputs": [
    {
     "data": {
      "text/plain": [
       "7"
      ]
     },
     "execution_count": 387,
     "metadata": {},
     "output_type": "execute_result"
    }
   ],
   "source": [
    "mytime2.hour"
   ]
  },
  {
   "cell_type": "code",
   "execution_count": 388,
   "id": "79760c5d",
   "metadata": {},
   "outputs": [
    {
     "data": {
      "text/plain": [
       "datetime.time(7, 30)"
      ]
     },
     "execution_count": 388,
     "metadata": {},
     "output_type": "execute_result"
    }
   ],
   "source": [
    "mytime2"
   ]
  },
  {
   "cell_type": "code",
   "execution_count": 389,
   "id": "02ed4fc7",
   "metadata": {},
   "outputs": [
    {
     "name": "stdout",
     "output_type": "stream",
     "text": [
      "07:30:00\n"
     ]
    }
   ],
   "source": [
    "print(mytime2)"
   ]
  },
  {
   "cell_type": "code",
   "execution_count": 390,
   "id": "4aed9c87",
   "metadata": {},
   "outputs": [
    {
     "data": {
      "text/plain": [
       "datetime.time"
      ]
     },
     "execution_count": 390,
     "metadata": {},
     "output_type": "execute_result"
    }
   ],
   "source": [
    "type(mytime2)"
   ]
  },
  {
   "cell_type": "code",
   "execution_count": 391,
   "id": "1bde177b",
   "metadata": {},
   "outputs": [],
   "source": [
    "today = datetime.date.today()"
   ]
  },
  {
   "cell_type": "code",
   "execution_count": 392,
   "id": "e17fd1fd",
   "metadata": {},
   "outputs": [
    {
     "data": {
      "text/plain": [
       "datetime.date(2022, 8, 20)"
      ]
     },
     "execution_count": 392,
     "metadata": {},
     "output_type": "execute_result"
    }
   ],
   "source": [
    "today"
   ]
  },
  {
   "cell_type": "code",
   "execution_count": 393,
   "id": "c5712e62",
   "metadata": {},
   "outputs": [
    {
     "name": "stdout",
     "output_type": "stream",
     "text": [
      "2022-08-20\n"
     ]
    }
   ],
   "source": [
    "print(today)"
   ]
  },
  {
   "cell_type": "code",
   "execution_count": 394,
   "id": "d41a14b8",
   "metadata": {},
   "outputs": [
    {
     "data": {
      "text/plain": [
       "2022"
      ]
     },
     "execution_count": 394,
     "metadata": {},
     "output_type": "execute_result"
    }
   ],
   "source": [
    "today.year"
   ]
  },
  {
   "cell_type": "code",
   "execution_count": 395,
   "id": "df34a19a",
   "metadata": {},
   "outputs": [
    {
     "data": {
      "text/plain": [
       "8"
      ]
     },
     "execution_count": 395,
     "metadata": {},
     "output_type": "execute_result"
    }
   ],
   "source": [
    "today.month"
   ]
  },
  {
   "cell_type": "code",
   "execution_count": 397,
   "id": "7ceba97d",
   "metadata": {},
   "outputs": [
    {
     "data": {
      "text/plain": [
       "20"
      ]
     },
     "execution_count": 397,
     "metadata": {},
     "output_type": "execute_result"
    }
   ],
   "source": [
    "today.day"
   ]
  },
  {
   "cell_type": "code",
   "execution_count": 398,
   "id": "b88000d3",
   "metadata": {},
   "outputs": [
    {
     "data": {
      "text/plain": [
       "'Sat Aug 20 00:00:00 2022'"
      ]
     },
     "execution_count": 398,
     "metadata": {},
     "output_type": "execute_result"
    }
   ],
   "source": [
    "today.ctime()"
   ]
  },
  {
   "cell_type": "code",
   "execution_count": 403,
   "id": "063252df",
   "metadata": {},
   "outputs": [],
   "source": [
    "#from datetime import datetime, date"
   ]
  },
  {
   "cell_type": "code",
   "execution_count": 405,
   "id": "a2354eee",
   "metadata": {},
   "outputs": [],
   "source": [
    "# Simple time spent on your website\n",
    "one = date(2023, 3, 21)\n"
   ]
  },
  {
   "cell_type": "code",
   "execution_count": 407,
   "id": "59a469c5",
   "metadata": {},
   "outputs": [],
   "source": [
    "import datetime\n",
    "two = datetime.date.today()"
   ]
  },
  {
   "cell_type": "code",
   "execution_count": 408,
   "id": "0cc78520",
   "metadata": {},
   "outputs": [
    {
     "data": {
      "text/plain": [
       "datetime.timedelta(days=213)"
      ]
     },
     "execution_count": 408,
     "metadata": {},
     "output_type": "execute_result"
    }
   ],
   "source": [
    "difference = one - two\n",
    "difference"
   ]
  },
  {
   "cell_type": "code",
   "execution_count": 409,
   "id": "6a167b52",
   "metadata": {},
   "outputs": [
    {
     "data": {
      "text/plain": [
       "213"
      ]
     },
     "execution_count": 409,
     "metadata": {},
     "output_type": "execute_result"
    }
   ],
   "source": [
    "difference.days"
   ]
  },
  {
   "cell_type": "code",
   "execution_count": null,
   "id": "a9f019fc",
   "metadata": {},
   "outputs": [],
   "source": []
  },
  {
   "cell_type": "markdown",
   "id": "2b78df4f",
   "metadata": {},
   "source": [
    "#### Math and Random Modules"
   ]
  },
  {
   "cell_type": "code",
   "execution_count": 410,
   "id": "e296c8bf",
   "metadata": {},
   "outputs": [],
   "source": [
    "import math"
   ]
  },
  {
   "cell_type": "code",
   "execution_count": 411,
   "id": "ff68d90a",
   "metadata": {},
   "outputs": [
    {
     "name": "stdout",
     "output_type": "stream",
     "text": [
      "Help on built-in module math:\n",
      "\n",
      "NAME\n",
      "    math\n",
      "\n",
      "DESCRIPTION\n",
      "    This module provides access to the mathematical functions\n",
      "    defined by the C standard.\n",
      "\n",
      "FUNCTIONS\n",
      "    acos(x, /)\n",
      "        Return the arc cosine (measured in radians) of x.\n",
      "    \n",
      "    acosh(x, /)\n",
      "        Return the inverse hyperbolic cosine of x.\n",
      "    \n",
      "    asin(x, /)\n",
      "        Return the arc sine (measured in radians) of x.\n",
      "    \n",
      "    asinh(x, /)\n",
      "        Return the inverse hyperbolic sine of x.\n",
      "    \n",
      "    atan(x, /)\n",
      "        Return the arc tangent (measured in radians) of x.\n",
      "    \n",
      "    atan2(y, x, /)\n",
      "        Return the arc tangent (measured in radians) of y/x.\n",
      "        \n",
      "        Unlike atan(y/x), the signs of both x and y are considered.\n",
      "    \n",
      "    atanh(x, /)\n",
      "        Return the inverse hyperbolic tangent of x.\n",
      "    \n",
      "    ceil(x, /)\n",
      "        Return the ceiling of x as an Integral.\n",
      "        \n",
      "        This is the smallest integer >= x.\n",
      "    \n",
      "    comb(n, k, /)\n",
      "        Number of ways to choose k items from n items without repetition and without order.\n",
      "        \n",
      "        Evaluates to n! / (k! * (n - k)!) when k <= n and evaluates\n",
      "        to zero when k > n.\n",
      "        \n",
      "        Also called the binomial coefficient because it is equivalent\n",
      "        to the coefficient of k-th term in polynomial expansion of the\n",
      "        expression (1 + x)**n.\n",
      "        \n",
      "        Raises TypeError if either of the arguments are not integers.\n",
      "        Raises ValueError if either of the arguments are negative.\n",
      "    \n",
      "    copysign(x, y, /)\n",
      "        Return a float with the magnitude (absolute value) of x but the sign of y.\n",
      "        \n",
      "        On platforms that support signed zeros, copysign(1.0, -0.0)\n",
      "        returns -1.0.\n",
      "    \n",
      "    cos(x, /)\n",
      "        Return the cosine of x (measured in radians).\n",
      "    \n",
      "    cosh(x, /)\n",
      "        Return the hyperbolic cosine of x.\n",
      "    \n",
      "    degrees(x, /)\n",
      "        Convert angle x from radians to degrees.\n",
      "    \n",
      "    dist(p, q, /)\n",
      "        Return the Euclidean distance between two points p and q.\n",
      "        \n",
      "        The points should be specified as sequences (or iterables) of\n",
      "        coordinates.  Both inputs must have the same dimension.\n",
      "        \n",
      "        Roughly equivalent to:\n",
      "            sqrt(sum((px - qx) ** 2.0 for px, qx in zip(p, q)))\n",
      "    \n",
      "    erf(x, /)\n",
      "        Error function at x.\n",
      "    \n",
      "    erfc(x, /)\n",
      "        Complementary error function at x.\n",
      "    \n",
      "    exp(x, /)\n",
      "        Return e raised to the power of x.\n",
      "    \n",
      "    expm1(x, /)\n",
      "        Return exp(x)-1.\n",
      "        \n",
      "        This function avoids the loss of precision involved in the direct evaluation of exp(x)-1 for small x.\n",
      "    \n",
      "    fabs(x, /)\n",
      "        Return the absolute value of the float x.\n",
      "    \n",
      "    factorial(x, /)\n",
      "        Find x!.\n",
      "        \n",
      "        Raise a ValueError if x is negative or non-integral.\n",
      "    \n",
      "    floor(x, /)\n",
      "        Return the floor of x as an Integral.\n",
      "        \n",
      "        This is the largest integer <= x.\n",
      "    \n",
      "    fmod(x, y, /)\n",
      "        Return fmod(x, y), according to platform C.\n",
      "        \n",
      "        x % y may differ.\n",
      "    \n",
      "    frexp(x, /)\n",
      "        Return the mantissa and exponent of x, as pair (m, e).\n",
      "        \n",
      "        m is a float and e is an int, such that x = m * 2.**e.\n",
      "        If x is 0, m and e are both 0.  Else 0.5 <= abs(m) < 1.0.\n",
      "    \n",
      "    fsum(seq, /)\n",
      "        Return an accurate floating point sum of values in the iterable seq.\n",
      "        \n",
      "        Assumes IEEE-754 floating point arithmetic.\n",
      "    \n",
      "    gamma(x, /)\n",
      "        Gamma function at x.\n",
      "    \n",
      "    gcd(x, y, /)\n",
      "        greatest common divisor of x and y\n",
      "    \n",
      "    hypot(...)\n",
      "        hypot(*coordinates) -> value\n",
      "        \n",
      "        Multidimensional Euclidean distance from the origin to a point.\n",
      "        \n",
      "        Roughly equivalent to:\n",
      "            sqrt(sum(x**2 for x in coordinates))\n",
      "        \n",
      "        For a two dimensional point (x, y), gives the hypotenuse\n",
      "        using the Pythagorean theorem:  sqrt(x*x + y*y).\n",
      "        \n",
      "        For example, the hypotenuse of a 3/4/5 right triangle is:\n",
      "        \n",
      "            >>> hypot(3.0, 4.0)\n",
      "            5.0\n",
      "    \n",
      "    isclose(a, b, *, rel_tol=1e-09, abs_tol=0.0)\n",
      "        Determine whether two floating point numbers are close in value.\n",
      "        \n",
      "          rel_tol\n",
      "            maximum difference for being considered \"close\", relative to the\n",
      "            magnitude of the input values\n",
      "          abs_tol\n",
      "            maximum difference for being considered \"close\", regardless of the\n",
      "            magnitude of the input values\n",
      "        \n",
      "        Return True if a is close in value to b, and False otherwise.\n",
      "        \n",
      "        For the values to be considered close, the difference between them\n",
      "        must be smaller than at least one of the tolerances.\n",
      "        \n",
      "        -inf, inf and NaN behave similarly to the IEEE 754 Standard.  That\n",
      "        is, NaN is not close to anything, even itself.  inf and -inf are\n",
      "        only close to themselves.\n",
      "    \n",
      "    isfinite(x, /)\n",
      "        Return True if x is neither an infinity nor a NaN, and False otherwise.\n",
      "    \n",
      "    isinf(x, /)\n",
      "        Return True if x is a positive or negative infinity, and False otherwise.\n",
      "    \n",
      "    isnan(x, /)\n",
      "        Return True if x is a NaN (not a number), and False otherwise.\n",
      "    \n",
      "    isqrt(n, /)\n",
      "        Return the integer part of the square root of the input.\n",
      "    \n",
      "    ldexp(x, i, /)\n",
      "        Return x * (2**i).\n",
      "        \n",
      "        This is essentially the inverse of frexp().\n",
      "    \n",
      "    lgamma(x, /)\n",
      "        Natural logarithm of absolute value of Gamma function at x.\n",
      "    \n",
      "    log(...)\n",
      "        log(x, [base=math.e])\n",
      "        Return the logarithm of x to the given base.\n",
      "        \n",
      "        If the base not specified, returns the natural logarithm (base e) of x.\n",
      "    \n",
      "    log10(x, /)\n",
      "        Return the base 10 logarithm of x.\n",
      "    \n",
      "    log1p(x, /)\n",
      "        Return the natural logarithm of 1+x (base e).\n",
      "        \n",
      "        The result is computed in a way which is accurate for x near zero.\n",
      "    \n",
      "    log2(x, /)\n",
      "        Return the base 2 logarithm of x.\n",
      "    \n",
      "    modf(x, /)\n",
      "        Return the fractional and integer parts of x.\n",
      "        \n",
      "        Both results carry the sign of x and are floats.\n",
      "    \n",
      "    perm(n, k=None, /)\n",
      "        Number of ways to choose k items from n items without repetition and with order.\n",
      "        \n",
      "        Evaluates to n! / (n - k)! when k <= n and evaluates\n",
      "        to zero when k > n.\n",
      "        \n",
      "        If k is not specified or is None, then k defaults to n\n",
      "        and the function returns n!.\n",
      "        \n",
      "        Raises TypeError if either of the arguments are not integers.\n",
      "        Raises ValueError if either of the arguments are negative.\n",
      "    \n",
      "    pow(x, y, /)\n",
      "        Return x**y (x to the power of y).\n",
      "    \n",
      "    prod(iterable, /, *, start=1)\n",
      "        Calculate the product of all the elements in the input iterable.\n",
      "        \n",
      "        The default start value for the product is 1.\n",
      "        \n",
      "        When the iterable is empty, return the start value.  This function is\n",
      "        intended specifically for use with numeric values and may reject\n",
      "        non-numeric types.\n",
      "    \n",
      "    radians(x, /)\n",
      "        Convert angle x from degrees to radians.\n",
      "    \n",
      "    remainder(x, y, /)\n",
      "        Difference between x and the closest integer multiple of y.\n",
      "        \n",
      "        Return x - n*y where n*y is the closest integer multiple of y.\n",
      "        In the case where x is exactly halfway between two multiples of\n",
      "        y, the nearest even value of n is used. The result is always exact.\n",
      "    \n",
      "    sin(x, /)\n",
      "        Return the sine of x (measured in radians).\n",
      "    \n",
      "    sinh(x, /)\n",
      "        Return the hyperbolic sine of x.\n",
      "    \n",
      "    sqrt(x, /)\n",
      "        Return the square root of x.\n",
      "    \n",
      "    tan(x, /)\n",
      "        Return the tangent of x (measured in radians).\n",
      "    \n",
      "    tanh(x, /)\n",
      "        Return the hyperbolic tangent of x.\n",
      "    \n",
      "    trunc(x, /)\n",
      "        Truncates the Real x to the nearest Integral toward 0.\n",
      "        \n",
      "        Uses the __trunc__ magic method.\n",
      "\n",
      "DATA\n",
      "    e = 2.718281828459045\n",
      "    inf = inf\n",
      "    nan = nan\n",
      "    pi = 3.141592653589793\n",
      "    tau = 6.283185307179586\n",
      "\n",
      "FILE\n",
      "    (built-in)\n",
      "\n",
      "\n"
     ]
    }
   ],
   "source": [
    "help(math) # In order to find what all methods are there in math module"
   ]
  },
  {
   "cell_type": "code",
   "execution_count": 412,
   "id": "e0f1e282",
   "metadata": {},
   "outputs": [
    {
     "data": {
      "text/plain": [
       "3"
      ]
     },
     "execution_count": 412,
     "metadata": {},
     "output_type": "execute_result"
    }
   ],
   "source": [
    "math.floor(3.3)"
   ]
  },
  {
   "cell_type": "code",
   "execution_count": 413,
   "id": "baab8832",
   "metadata": {},
   "outputs": [
    {
     "data": {
      "text/plain": [
       "4"
      ]
     },
     "execution_count": 413,
     "metadata": {},
     "output_type": "execute_result"
    }
   ],
   "source": [
    "math.ceil(3.3)"
   ]
  },
  {
   "cell_type": "code",
   "execution_count": 414,
   "id": "fd2ae510",
   "metadata": {},
   "outputs": [],
   "source": [
    "# From above 2cells I think you got the difference"
   ]
  },
  {
   "cell_type": "code",
   "execution_count": 415,
   "id": "29902437",
   "metadata": {},
   "outputs": [
    {
     "data": {
      "text/plain": [
       "3.141592653589793"
      ]
     },
     "execution_count": 415,
     "metadata": {},
     "output_type": "execute_result"
    }
   ],
   "source": [
    "math.pi"
   ]
  },
  {
   "cell_type": "code",
   "execution_count": 416,
   "id": "581dfbfc",
   "metadata": {},
   "outputs": [
    {
     "data": {
      "text/plain": [
       "2.718281828459045"
      ]
     },
     "execution_count": 416,
     "metadata": {},
     "output_type": "execute_result"
    }
   ],
   "source": [
    "math.e # e is infinity"
   ]
  },
  {
   "cell_type": "code",
   "execution_count": 417,
   "id": "568aac57",
   "metadata": {},
   "outputs": [
    {
     "data": {
      "text/plain": [
       "nan"
      ]
     },
     "execution_count": 417,
     "metadata": {},
     "output_type": "execute_result"
    }
   ],
   "source": [
    "math.nan"
   ]
  },
  {
   "cell_type": "code",
   "execution_count": 418,
   "id": "50caea4f",
   "metadata": {},
   "outputs": [
    {
     "data": {
      "text/plain": [
       "1.0"
      ]
     },
     "execution_count": 418,
     "metadata": {},
     "output_type": "execute_result"
    }
   ],
   "source": [
    "math.log(math.e)"
   ]
  },
  {
   "cell_type": "code",
   "execution_count": 419,
   "id": "c294e2bc",
   "metadata": {},
   "outputs": [
    {
     "data": {
      "text/plain": [
       "3.3219280948873626"
      ]
     },
     "execution_count": 419,
     "metadata": {},
     "output_type": "execute_result"
    }
   ],
   "source": [
    "math.log(10, 2)"
   ]
  },
  {
   "cell_type": "code",
   "execution_count": 420,
   "id": "7d6f1183",
   "metadata": {},
   "outputs": [
    {
     "data": {
      "text/plain": [
       "2.0"
      ]
     },
     "execution_count": 420,
     "metadata": {},
     "output_type": "execute_result"
    }
   ],
   "source": [
    "math.log(100, 10)"
   ]
  },
  {
   "cell_type": "code",
   "execution_count": 421,
   "id": "f5711450",
   "metadata": {},
   "outputs": [
    {
     "data": {
      "text/plain": [
       "0.4121184852417566"
      ]
     },
     "execution_count": 421,
     "metadata": {},
     "output_type": "execute_result"
    }
   ],
   "source": [
    "math.sin(9)"
   ]
  },
  {
   "cell_type": "code",
   "execution_count": 422,
   "id": "5e5dfdf2",
   "metadata": {},
   "outputs": [
    {
     "data": {
      "text/plain": [
       "3.3161255787892263"
      ]
     },
     "execution_count": 422,
     "metadata": {},
     "output_type": "execute_result"
    }
   ],
   "source": [
    "math.radians(190)"
   ]
  },
  {
   "cell_type": "code",
   "execution_count": 423,
   "id": "f09fa088",
   "metadata": {},
   "outputs": [],
   "source": [
    "# Random Below"
   ]
  },
  {
   "cell_type": "code",
   "execution_count": 424,
   "id": "eb3f5097",
   "metadata": {},
   "outputs": [],
   "source": [
    "import random"
   ]
  },
  {
   "cell_type": "code",
   "execution_count": 426,
   "id": "cdd1a0e7",
   "metadata": {},
   "outputs": [
    {
     "data": {
      "text/plain": [
       "3"
      ]
     },
     "execution_count": 426,
     "metadata": {},
     "output_type": "execute_result"
    }
   ],
   "source": [
    "random.randint(1, 10)"
   ]
  },
  {
   "cell_type": "code",
   "execution_count": 428,
   "id": "d580d1a8",
   "metadata": {},
   "outputs": [
    {
     "data": {
      "text/plain": [
       "10"
      ]
     },
     "execution_count": 428,
     "metadata": {},
     "output_type": "execute_result"
    }
   ],
   "source": [
    "# If you want to display the same number every time u run the cell even after using randint use seed like below\n",
    "random.seed(101)\n",
    "random.randint(1, 10)"
   ]
  },
  {
   "cell_type": "code",
   "execution_count": 429,
   "id": "162e2e81",
   "metadata": {},
   "outputs": [],
   "source": [
    "# From above 2cells U can see the difference"
   ]
  },
  {
   "cell_type": "code",
   "execution_count": 430,
   "id": "e64deac7",
   "metadata": {},
   "outputs": [
    {
     "data": {
      "text/plain": [
       "[1, 2, 3, 4, 5, 6, 7, 8, 9, 10]"
      ]
     },
     "execution_count": 430,
     "metadata": {},
     "output_type": "execute_result"
    }
   ],
   "source": [
    "my_lst = list(range(1, 11))\n",
    "my_lst"
   ]
  },
  {
   "cell_type": "code",
   "execution_count": 431,
   "id": "144c93a5",
   "metadata": {},
   "outputs": [
    {
     "data": {
      "text/plain": [
       "[9, 10, 6, 4, 1]"
      ]
     },
     "execution_count": 431,
     "metadata": {},
     "output_type": "execute_result"
    }
   ],
   "source": [
    "# Sample with replacement\n",
    "random.choices(population=my_lst, k=5)"
   ]
  },
  {
   "cell_type": "code",
   "execution_count": 432,
   "id": "3787c768",
   "metadata": {},
   "outputs": [
    {
     "data": {
      "text/plain": [
       "[9, 4, 10, 3, 8]"
      ]
     },
     "execution_count": 432,
     "metadata": {},
     "output_type": "execute_result"
    }
   ],
   "source": [
    "# Sample without replacement\n",
    "random.sample(population=my_lst, k=5)"
   ]
  },
  {
   "cell_type": "code",
   "execution_count": 433,
   "id": "4f7fe975",
   "metadata": {},
   "outputs": [],
   "source": [
    "random.shuffle(my_lst)"
   ]
  },
  {
   "cell_type": "code",
   "execution_count": 434,
   "id": "3a11b399",
   "metadata": {},
   "outputs": [
    {
     "data": {
      "text/plain": [
       "[9, 10, 7, 5, 2, 3, 1, 8, 6, 4]"
      ]
     },
     "execution_count": 434,
     "metadata": {},
     "output_type": "execute_result"
    }
   ],
   "source": [
    "my_lst"
   ]
  },
  {
   "cell_type": "code",
   "execution_count": null,
   "id": "abcab06d",
   "metadata": {},
   "outputs": [],
   "source": []
  },
  {
   "cell_type": "code",
   "execution_count": null,
   "id": "f9495889",
   "metadata": {},
   "outputs": [],
   "source": []
  },
  {
   "cell_type": "code",
   "execution_count": null,
   "id": "e3510f57",
   "metadata": {},
   "outputs": [],
   "source": []
  },
  {
   "cell_type": "code",
   "execution_count": null,
   "id": "21bdec7e",
   "metadata": {},
   "outputs": [],
   "source": []
  },
  {
   "cell_type": "code",
   "execution_count": null,
   "id": "9842f55f",
   "metadata": {},
   "outputs": [],
   "source": []
  },
  {
   "cell_type": "code",
   "execution_count": null,
   "id": "322853ec",
   "metadata": {},
   "outputs": [],
   "source": []
  },
  {
   "cell_type": "code",
   "execution_count": null,
   "id": "cb2c8c4c",
   "metadata": {},
   "outputs": [],
   "source": []
  },
  {
   "cell_type": "code",
   "execution_count": null,
   "id": "6a95d427",
   "metadata": {},
   "outputs": [],
   "source": []
  },
  {
   "cell_type": "code",
   "execution_count": null,
   "id": "4ebdd991",
   "metadata": {},
   "outputs": [],
   "source": []
  },
  {
   "cell_type": "code",
   "execution_count": null,
   "id": "88dd5c2d",
   "metadata": {},
   "outputs": [],
   "source": []
  },
  {
   "cell_type": "code",
   "execution_count": null,
   "id": "f8e41a8d",
   "metadata": {},
   "outputs": [],
   "source": []
  },
  {
   "cell_type": "code",
   "execution_count": null,
   "id": "4d35f8ba",
   "metadata": {},
   "outputs": [],
   "source": []
  },
  {
   "cell_type": "code",
   "execution_count": null,
   "id": "19f17b6c",
   "metadata": {},
   "outputs": [],
   "source": []
  },
  {
   "cell_type": "code",
   "execution_count": null,
   "id": "4a3d449d",
   "metadata": {},
   "outputs": [],
   "source": []
  },
  {
   "cell_type": "code",
   "execution_count": null,
   "id": "55e15427",
   "metadata": {},
   "outputs": [],
   "source": []
  },
  {
   "cell_type": "code",
   "execution_count": null,
   "id": "53bdbad2",
   "metadata": {},
   "outputs": [],
   "source": []
  },
  {
   "cell_type": "code",
   "execution_count": null,
   "id": "dfdfa04c",
   "metadata": {},
   "outputs": [],
   "source": []
  },
  {
   "cell_type": "code",
   "execution_count": null,
   "id": "5d80403f",
   "metadata": {},
   "outputs": [],
   "source": []
  },
  {
   "cell_type": "code",
   "execution_count": null,
   "id": "24ec7860",
   "metadata": {},
   "outputs": [],
   "source": []
  },
  {
   "cell_type": "code",
   "execution_count": null,
   "id": "aa70db8b",
   "metadata": {},
   "outputs": [],
   "source": []
  },
  {
   "cell_type": "code",
   "execution_count": null,
   "id": "ec790d2a",
   "metadata": {},
   "outputs": [],
   "source": []
  },
  {
   "cell_type": "code",
   "execution_count": null,
   "id": "5595a580",
   "metadata": {},
   "outputs": [],
   "source": []
  },
  {
   "cell_type": "code",
   "execution_count": null,
   "id": "4c07ec66",
   "metadata": {},
   "outputs": [],
   "source": []
  },
  {
   "cell_type": "code",
   "execution_count": null,
   "id": "1d71e6cb",
   "metadata": {},
   "outputs": [],
   "source": []
  },
  {
   "cell_type": "code",
   "execution_count": null,
   "id": "bdb949b9",
   "metadata": {},
   "outputs": [],
   "source": []
  },
  {
   "cell_type": "code",
   "execution_count": null,
   "id": "5d134d87",
   "metadata": {},
   "outputs": [],
   "source": []
  },
  {
   "cell_type": "code",
   "execution_count": null,
   "id": "722a3e2f",
   "metadata": {},
   "outputs": [],
   "source": []
  },
  {
   "cell_type": "code",
   "execution_count": null,
   "id": "389db805",
   "metadata": {},
   "outputs": [],
   "source": []
  },
  {
   "cell_type": "code",
   "execution_count": null,
   "id": "4f4f100c",
   "metadata": {},
   "outputs": [],
   "source": []
  },
  {
   "cell_type": "code",
   "execution_count": null,
   "id": "eae35bf8",
   "metadata": {},
   "outputs": [],
   "source": []
  },
  {
   "cell_type": "code",
   "execution_count": null,
   "id": "a381f627",
   "metadata": {},
   "outputs": [],
   "source": []
  },
  {
   "cell_type": "code",
   "execution_count": null,
   "id": "bd3c549d",
   "metadata": {},
   "outputs": [],
   "source": []
  },
  {
   "cell_type": "code",
   "execution_count": null,
   "id": "65448461",
   "metadata": {},
   "outputs": [],
   "source": []
  },
  {
   "cell_type": "code",
   "execution_count": null,
   "id": "e2058c92",
   "metadata": {},
   "outputs": [],
   "source": []
  },
  {
   "cell_type": "code",
   "execution_count": null,
   "id": "c62f4410",
   "metadata": {},
   "outputs": [],
   "source": []
  },
  {
   "cell_type": "code",
   "execution_count": null,
   "id": "89c100ca",
   "metadata": {},
   "outputs": [],
   "source": []
  },
  {
   "cell_type": "code",
   "execution_count": null,
   "id": "9bbfd629",
   "metadata": {},
   "outputs": [],
   "source": []
  },
  {
   "cell_type": "code",
   "execution_count": null,
   "id": "bd1839e0",
   "metadata": {},
   "outputs": [],
   "source": []
  }
 ],
 "metadata": {
  "kernelspec": {
   "display_name": "stackroute_env",
   "language": "python",
   "name": "stackroute_env"
  },
  "language_info": {
   "codemirror_mode": {
    "name": "ipython",
    "version": 3
   },
   "file_extension": ".py",
   "mimetype": "text/x-python",
   "name": "python",
   "nbconvert_exporter": "python",
   "pygments_lexer": "ipython3",
   "version": "3.8.8"
  }
 },
 "nbformat": 4,
 "nbformat_minor": 5
}
