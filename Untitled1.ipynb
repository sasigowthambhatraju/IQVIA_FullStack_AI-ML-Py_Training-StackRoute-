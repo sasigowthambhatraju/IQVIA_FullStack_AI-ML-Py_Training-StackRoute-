{
 "cells": [
  {
   "cell_type": "code",
   "execution_count": 1,
   "id": "2b9febf4",
   "metadata": {},
   "outputs": [],
   "source": []
  },
  {
   "cell_type": "code",
   "execution_count": 2,
   "id": "6b486f34",
   "metadata": {},
   "outputs": [],
   "source": []
  },
  {
   "cell_type": "code",
   "execution_count": 3,
   "id": "1a91f5d8",
   "metadata": {},
   "outputs": [],
   "source": []
  },
  {
   "cell_type": "code",
   "execution_count": 6,
   "id": "c691c5fb",
   "metadata": {},
   "outputs": [
    {
     "name": "stdout",
     "output_type": "stream",
     "text": [
      "Choose one option:\n",
      " Option 1: Train \n",
      " Option 2: Predict\n",
      " Option 3: EXIT\n",
      "2\n",
      "Features: [[99, 0, 0, 0], [100, 1, 0, 1], [103, 1, 1, 0], [98, 1, 0, 0], [101, 1, 0, 0]]\n",
      "Labels: [0, 1, 1, 0, 1]\n",
      "Enter Temperature99\n",
      "Traveled Abraod?:\n",
      " 0: No\n",
      " 1: Yes0\n",
      "Vomiting?:\n",
      " 0: No\n",
      " 1: Yes0\n",
      "BP Above 120?:\n",
      " 0: No\n",
      " 1: Yes0\n",
      "Does not have Covid\n",
      "Choose one option:\n",
      " Option 1: Train \n",
      " Option 2: Predict\n",
      " Option 3: EXIT\n",
      "2\n",
      "Features: [[99, 0, 0, 0], [100, 1, 0, 1], [103, 1, 1, 0], [98, 1, 0, 0], [101, 1, 0, 0]]\n",
      "Labels: [0, 1, 1, 0, 1]\n",
      "Enter Temperature103\n",
      "Traveled Abraod?:\n",
      " 0: No\n",
      " 1: Yes1\n",
      "Vomiting?:\n",
      " 0: No\n",
      " 1: Yes1\n",
      "BP Above 120?:\n",
      " 0: No\n",
      " 1: Yes0\n",
      "Probably has covid\n",
      "Choose one option:\n",
      " Option 1: Train \n",
      " Option 2: Predict\n",
      " Option 3: EXIT\n",
      "1\n",
      "Enter Temperature103\n",
      "Traveled Abraod?:\n",
      " 0: No\n",
      " 1: Yes0\n",
      "Vomiting?:\n",
      " 0: No\n",
      " 1: Yes0\n",
      "BP Above 120?:\n",
      " 0: No\n",
      " 1: Yes1\n",
      "Has Covid?\n",
      " 0: No\n",
      " 1:Yes1\n",
      "Data Updated for Model Training\n",
      "Choose one option:\n",
      " Option 1: Train \n",
      " Option 2: Predict\n",
      " Option 3: EXIT\n",
      "2\n",
      "Features: [[99, 0, 0, 0], [100, 1, 0, 1], [103, 1, 1, 0], [98, 1, 0, 0], [101, 1, 0, 0], [103, 0, 0, 1]]\n",
      "Labels: [0, 1, 1, 0, 1, 1]\n",
      "Enter Temperature103\n",
      "Traveled Abraod?:\n",
      " 0: No\n",
      " 1: Yes0\n",
      "Vomiting?:\n",
      " 0: No\n",
      " 1: Yes0\n",
      "BP Above 120?:\n",
      " 0: No\n",
      " 1: Yes1\n",
      "Probably has covid\n",
      "Choose one option:\n",
      " Option 1: Train \n",
      " Option 2: Predict\n",
      " Option 3: EXIT\n",
      "3\n",
      "Exiting Bye!\n"
     ]
    }
   ],
   "source": []
  },
  {
   "cell_type": "code",
   "execution_count": null,
   "id": "d2940776",
   "metadata": {},
   "outputs": [],
   "source": []
  },
  {
   "cell_type": "code",
   "execution_count": null,
   "id": "4dbe30f0",
   "metadata": {},
   "outputs": [],
   "source": []
  }
 ],
 "metadata": {
  "kernelspec": {
   "display_name": "Python 3",
   "language": "python",
   "name": "python3"
  },
  "language_info": {
   "codemirror_mode": {
    "name": "ipython",
    "version": 3
   },
   "file_extension": ".py",
   "mimetype": "text/x-python",
   "name": "python",
   "nbconvert_exporter": "python",
   "pygments_lexer": "ipython3",
   "version": "3.8.8"
  }
 },
 "nbformat": 4,
 "nbformat_minor": 5
}
