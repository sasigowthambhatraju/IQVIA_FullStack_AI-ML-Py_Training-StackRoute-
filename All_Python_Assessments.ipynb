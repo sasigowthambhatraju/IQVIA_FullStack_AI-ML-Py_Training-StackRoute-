{
 "cells": [
  {
   "cell_type": "code",
   "execution_count": 1,
   "id": "f90637a7",
   "metadata": {},
   "outputs": [
    {
     "data": {
      "text/plain": [
       "'The hotel welcome was great. The food was good. Swimming pool was closed. Wi-Fi not operational. Good staff'"
      ]
     },
     "execution_count": 1,
     "metadata": {},
     "output_type": "execute_result"
    }
   ],
   "source": [
    "file = open(\"feedback.txt\", 'w')\n",
    "file.write(\"The hotel welcome was great. The food was good. Swimming pool was closed. Wi-Fi not operational. Good staff\")\n",
    "file = open(\"feedback.txt\", 'r')\n",
    "file.read()"
   ]
  },
  {
   "cell_type": "code",
   "execution_count": 2,
   "id": "9a4417b1",
   "metadata": {},
   "outputs": [
    {
     "data": {
      "text/plain": [
       "0"
      ]
     },
     "execution_count": 2,
     "metadata": {},
     "output_type": "execute_result"
    }
   ],
   "source": [
    "file.seek(0)"
   ]
  },
  {
   "cell_type": "code",
   "execution_count": 3,
   "id": "70951105",
   "metadata": {},
   "outputs": [],
   "source": [
    "f = file.read()"
   ]
  },
  {
   "cell_type": "code",
   "execution_count": 4,
   "id": "eccfe1eb",
   "metadata": {},
   "outputs": [
    {
     "data": {
      "text/plain": [
       "'The hotel welcome was great. The food was good. Swimming pool was closed. Wi-Fi not operational. Good staff'"
      ]
     },
     "execution_count": 4,
     "metadata": {},
     "output_type": "execute_result"
    }
   ],
   "source": [
    "f"
   ]
  },
  {
   "cell_type": "code",
   "execution_count": 5,
   "id": "19d91459",
   "metadata": {},
   "outputs": [
    {
     "data": {
      "text/plain": [
       "['The',\n",
       " 'hotel',\n",
       " 'welcome',\n",
       " 'was',\n",
       " 'great.',\n",
       " 'The',\n",
       " 'food',\n",
       " 'was',\n",
       " 'good.',\n",
       " 'Swimming',\n",
       " 'pool',\n",
       " 'was',\n",
       " 'closed.',\n",
       " 'Wi-Fi',\n",
       " 'not',\n",
       " 'operational.',\n",
       " 'Good',\n",
       " 'staff']"
      ]
     },
     "execution_count": 5,
     "metadata": {},
     "output_type": "execute_result"
    }
   ],
   "source": [
    "l1 = f.split(' ')\n",
    "l1"
   ]
  },
  {
   "cell_type": "code",
   "execution_count": 6,
   "id": "cca55583",
   "metadata": {},
   "outputs": [],
   "source": [
    "positives = ['good', 'great']\n",
    "negatives = ['not', 'hate', 'bad']"
   ]
  },
  {
   "cell_type": "code",
   "execution_count": 7,
   "id": "ec42947e",
   "metadata": {},
   "outputs": [],
   "source": [
    "pcount = 0\n",
    "ncount = 0\n",
    "\n",
    "for word in l1:\n",
    "    for pos in positives:\n",
    "        if word.lower() in positives:\n",
    "            pcount += 1\n",
    "    for neg in negatives:\n",
    "        if word.lower() in negatives:\n",
    "            ncount += 1"
   ]
  },
  {
   "cell_type": "code",
   "execution_count": 8,
   "id": "539e232a",
   "metadata": {},
   "outputs": [
    {
     "data": {
      "text/plain": [
       "2"
      ]
     },
     "execution_count": 8,
     "metadata": {},
     "output_type": "execute_result"
    }
   ],
   "source": [
    "pcount"
   ]
  },
  {
   "cell_type": "code",
   "execution_count": 9,
   "id": "42bb07b1",
   "metadata": {},
   "outputs": [
    {
     "data": {
      "text/plain": [
       "3"
      ]
     },
     "execution_count": 9,
     "metadata": {},
     "output_type": "execute_result"
    }
   ],
   "source": [
    "ncount"
   ]
  },
  {
   "cell_type": "code",
   "execution_count": 10,
   "id": "12a1dd72",
   "metadata": {},
   "outputs": [
    {
     "name": "stdout",
     "output_type": "stream",
     "text": [
      "Review is Negative with score 3\n",
      "Overal rating is -1\n"
     ]
    }
   ],
   "source": [
    "score = pcount - ncount\n",
    "if pcount > ncount:\n",
    "    print(f'Review is Positive with score {pcount}')\n",
    "elif pcount == ncount:\n",
    "    print(\"Both scores are same\")\n",
    "else:\n",
    "    print(f'Review is Negative with score {ncount}')\n",
    "print(f'Overal rating is {score}')"
   ]
  },
  {
   "cell_type": "code",
   "execution_count": null,
   "id": "7434774d",
   "metadata": {},
   "outputs": [],
   "source": []
  },
  {
   "cell_type": "markdown",
   "id": "28f00f02",
   "metadata": {},
   "source": [
    "#### Assessment-2"
   ]
  },
  {
   "cell_type": "code",
   "execution_count": 11,
   "id": "9dd6c60b",
   "metadata": {},
   "outputs": [
    {
     "data": {
      "text/plain": [
       "79"
      ]
     },
     "execution_count": 11,
     "metadata": {},
     "output_type": "execute_result"
    }
   ],
   "source": [
    "file = open(\"Customer.txt\", 'w')\n",
    "file.write(\"Customer_ID, Customer_Name, Customer_Address, Customer_PinCode, Customer_Credit\")\n"
   ]
  },
  {
   "cell_type": "code",
   "execution_count": 12,
   "id": "36f692fd",
   "metadata": {},
   "outputs": [],
   "source": [
    "def user_input():\n",
    "    print(\"Please Choose Below Options...\")\n",
    "    print(\"1 for returning list of prime numbers\")\n",
    "    print(\"2 for Temperature Conversion\")\n",
    "    print(\"3 for CRUD operations on a file & 4 for Exit\")\n",
    "    option = input()\n",
    "    try:\n",
    "        # Below Code For Prime Numbers \n",
    "        if option == '1':\n",
    "            try:\n",
    "                initial = int(input(\"Please Enter Starting Number: \"))\n",
    "                final = int(input(\"Please Enter the final range Number: \"))\n",
    "                print(f\"Prime Number between {initial} & {final} are:\")\n",
    "                for number in range(initial, final):\n",
    "                    if number>1:\n",
    "                        for num in range(2, number):\n",
    "                            if (number % num) == 0:\n",
    "                                break\n",
    "                        else:\n",
    "                            print(number, end=\" \")\n",
    "            except Exception as ex:\n",
    "                print(f'You Got Exception which is :{ex}')\n",
    "                \n",
    "        # Below Code For Temperature Conversion\n",
    "        elif option == '2':\n",
    "            print(\"U've choosen temperature conversion\")\n",
    "            try:\n",
    "                number = float(input(\"Please Enter Number to be converted: \"))\n",
    "                print(\"Please choose the following option: '1' for Celcius to Farrenhite and '2' for Farrenhite to Celcius\")\n",
    "                opt = float(input())\n",
    "                if opt == 1:\n",
    "                    To_celcius = (5/9*(number - 32))\n",
    "                    print(f'Converted Temperature to Celcius is: {To_celcius}')\n",
    "                elif opt == 2:\n",
    "                    To_Farr = (9/5*(number + 32))\n",
    "                    print(f'Converted Temperature to Farrenhite is: {To_Farr}')\n",
    "            except Exception as ex:\n",
    "                print(f'You Got Exception which is :{ex}')\n",
    "                \n",
    "        # Below Code For CRUD Operations on a File.....\n",
    "        elif option == '3':\n",
    "            print(\"Please Look Below Options...\")\n",
    "            print(\"1 For inserting a record\")\n",
    "            print(\"2 For displaying a file\")\n",
    "            print(\"3 For updating a record in file\")\n",
    "            print(\"4 For deleting a record from file.\")\n",
    "            opt = int(input())\n",
    "            if opt == 1:\n",
    "                try:\n",
    "                    file2 = open(\"Customer.txt\", 'a')\n",
    "                    data = input(\"\\nEnter the data which you wanna insert: \")\n",
    "                    file2.write(f'\\n{data}')\n",
    "                    updated = open(\"Customer.txt\", 'r')\n",
    "                    updated = updated.read()\n",
    "                    print(updated)\n",
    "                except Exception as ex:\n",
    "                    print(ex)\n",
    "            elif opt == 2:\n",
    "                print(\"Displaying the contents of file Below.\")\n",
    "                final = open(\"Customer.txt\", 'r')\n",
    "                print(\"-\"*10)\n",
    "                final = final.read()\n",
    "                print(final)\n",
    "            elif opt == 3:\n",
    "                try:\n",
    "                    cid = input(\"Enter customer id to be updated with: \")\n",
    "                    with open(\"Customer.txt\", 'r', encoding='utf-8') as file:\n",
    "                        sentence_by_line = file.readlines()\n",
    "                        for sentence in sentence_by_line:\n",
    "                            if cid in sentence:\n",
    "                                replaced_record = input(\"Enter Details You Wann Update: \")\n",
    "                                index = sentence_by_line.index(sentence)\n",
    "                                sentence_by_line[index] = replaced_record\n",
    "                        with open(\"Customer.txt\", 'w', encoding='utf-8') as file:\n",
    "                            file.writelines(sentence_by_line)\n",
    "                except Exception as ex:\n",
    "                    print(\"Exception occured i.e: \", ex)\n",
    "                    \n",
    "            elif opt == 4:\n",
    "                try:\n",
    "                    file = open(\"Customer.txt\", 'r')\n",
    "                    sentence = file.readlines()\n",
    "                    cid = input(\"Enter customer id to be updated with: \")\n",
    "                    with open(\"Customer.txt\", 'w') as file:\n",
    "                        for word in sentence:\n",
    "                            if word.find(cid) == -1:\n",
    "                                file.write(word)\n",
    "                        if cid not in sentence:\n",
    "                            print(\"ID is'nt there\")\n",
    "                    print(\"Data been deleted from Customers.txt text file.\")\n",
    "                except Exception as ex:\n",
    "                    print(\"Exception Occured i.e: \", ex)\n",
    "                    \n",
    "        # Below Code For Exiting Function....\n",
    "        elif option == '4':\n",
    "            print(\"Exiting Bye!\")\n",
    "        else:\n",
    "            print(\"Please Only Provide the options which were given.......\")\n",
    "    except Exception as ex:\n",
    "        print(f\"Please choose from the options provided\\n You got error which is: {ex}\")"
   ]
  },
  {
   "cell_type": "code",
   "execution_count": 13,
   "id": "31b7b573",
   "metadata": {},
   "outputs": [
    {
     "name": "stdout",
     "output_type": "stream",
     "text": [
      "Please Choose Below Options...\n",
      "1 for returning list of prime numbers\n",
      "2 for Temperature Conversion\n",
      "3 for CRUD operations on a file & 4 for Exit\n",
      "4\n",
      "Exiting Bye!\n"
     ]
    }
   ],
   "source": [
    "u1 = user_input()"
   ]
  },
  {
   "cell_type": "markdown",
   "id": "11e1be6a",
   "metadata": {},
   "source": [
    "#### Assessment-4"
   ]
  },
  {
   "cell_type": "code",
   "execution_count": 14,
   "id": "c6be57af",
   "metadata": {},
   "outputs": [],
   "source": [
    "def armstrong_num():\n",
    "    \"\"\"\n",
    "    This function is used to check if the given number is armstrong or not by taking the number from user input and printing \n",
    "    if it is armstrong or not after performing some operations\n",
    "    parameters - number(input from user)\n",
    "               - initial_sum, temperory place holder where value is 0 initially\n",
    "               - temp, temparory variable which stores value of number initilly\n",
    "    Steps - Now we are taking while loop to check if the given number is >0 or not if yes then performing operatins like dividing\n",
    "            the temp value with 10 and assigning to single_digit then raising the poser of 3 and adding to previous initial_sum\n",
    "            then dividing temp with 10 and finally if checking if number equils to initial_sum then it's armstrong number\n",
    "    \"\"\"\n",
    "    print(\"You have choosen armstrong number..\\n\\tPlease provide number\")\n",
    "    try:\n",
    "        number = input()\n",
    "        initial_sum = 0\n",
    "        temp = int(number)\n",
    "        while temp>0:\n",
    "            single_digit = temp % 10\n",
    "            initial_sum += single_digit ** len(number)\n",
    "            temp = temp//10\n",
    "        if number == str(initial_sum):\n",
    "            print(f\"\\t\\tYes the number {number} is armstrong\")\n",
    "        else:\n",
    "            print(f\"\\t\\tNo the number {number} is not armstrong\")\n",
    "    except Exception as ex:\n",
    "        print(f\"Exception occured i.e: {ex}\")"
   ]
  },
  {
   "cell_type": "code",
   "execution_count": 15,
   "id": "12a7f2c0",
   "metadata": {},
   "outputs": [],
   "source": [
    "def palindrome():\n",
    "    \"\"\"\n",
    "    Function to determine if given input is palindrome or not\n",
    "    parameters - word(data will be provided by user)\n",
    "    Steps - initially assiging the reverse of input by slicing method to reversed_word variable and checking if it is equils \n",
    "    to original input if yes then printing the statement.\n",
    "    \"\"\"\n",
    "    try:\n",
    "        print(\"You Have Choosen palindrome..\\n\\tPlease provide word below:\")\n",
    "        word = input()\n",
    "        reversed_word = word[::-1]\n",
    "        if word == reversed_word:\n",
    "            print(f\"\\t\\tYes given {word} is palindrome\")\n",
    "        else:\n",
    "            print(f\"\\t\\tNo given {word} is not palindrome\")\n",
    "    except Exception as ex:\n",
    "        print(f\"Exception occured i.e: {ex}\")"
   ]
  },
  {
   "cell_type": "code",
   "execution_count": 16,
   "id": "8435fd82",
   "metadata": {},
   "outputs": [],
   "source": [
    "def number_sort():\n",
    "    try:\n",
    "        print(\"You Have Choosen sort..\\n\\tPlease choose between ASC or DESC below: \")\n",
    "        choice = input().lower()\n",
    "        if choice == 'asc':\n",
    "            user_input = input(\"\\t   Please provide numbers: \")\n",
    "            user_input = user_input.split()\n",
    "            total_int_values = []\n",
    "            for number in user_input:\n",
    "                number = int(number)\n",
    "                total_int_values.append(number)\n",
    "            sorted_list = sorted(total_int_values)\n",
    "            print(f\"\\t\\t\\tAscending numbers: {sorted_list}\")\n",
    "        elif choice == 'desc':\n",
    "            user_input = input(\"\\t   Please provide numbers: \")\n",
    "            user_input = user_input.split()\n",
    "            total_int_values = []\n",
    "            for number in user_input:\n",
    "                number = int(number)\n",
    "                total_int_values.append(number)\n",
    "                sorted_list = sorted(total_int_values, reverse=True)\n",
    "            print(f\"\\t\\t\\tDscending numbers: {sorted_list}\")\n",
    "        else:\n",
    "            print(\"\\t   Please check your input....\")\n",
    "    except Exception as ex:\n",
    "        return ex"
   ]
  },
  {
   "cell_type": "code",
   "execution_count": 17,
   "id": "59ae1a83",
   "metadata": {},
   "outputs": [],
   "source": [
    "def word_sort():\n",
    "    try:\n",
    "        total_word_list = []\n",
    "        word_input = input(\"Please provide words: \").split()\n",
    "        print(\"\\tPlease choose between ASC or DESC below: \")\n",
    "        choice = input().lower()\n",
    "        if choice == 'asc':\n",
    "            word_input.sort()\n",
    "            total_word_list.append(word_input)\n",
    "            print(f\"\\t   Ascending words: {total_word_list}\")\n",
    "        elif choice == 'desc':\n",
    "            word_input.sort(reverse=True)\n",
    "            total_word_list.append(word_input)\n",
    "            print(f\"\\t   Descending words: {total_word_list}\")\n",
    "        else:\n",
    "            print(\"\\t    Please check your input....\")\n",
    "    except Exception as ex:\n",
    "        print(ex)"
   ]
  },
  {
   "cell_type": "code",
   "execution_count": 18,
   "id": "ec3bc08e",
   "metadata": {},
   "outputs": [],
   "source": [
    "def sort_whole_list():\n",
    "    print(\"\\tPlease see below options: \\n Enter 'numbers' for sorted number list\\n Enter 'words' for word list\")\n",
    "    try:\n",
    "        main_choice = input().lower()\n",
    "        if main_choice == 'numbers':\n",
    "            number_sort()\n",
    "        elif main_choice == 'words':\n",
    "            word_sort()\n",
    "        else:\n",
    "            print(\"\\tPlease choose correctly from provided options.....\")\n",
    "    except Exception as ex:\n",
    "        return ex\n",
    "        "
   ]
  },
  {
   "cell_type": "raw",
   "id": "4efdde91",
   "metadata": {},
   "source": [
    "Main Options for users below"
   ]
  },
  {
   "cell_type": "code",
   "execution_count": 19,
   "id": "32789daa",
   "metadata": {},
   "outputs": [],
   "source": [
    "def user_choice():\n",
    "    while True:\n",
    "        print(\"Please see below options....\\n 1. for armstron number..\\n 2. for palindrome word..\\n 3.for sorting number or words..\\n 4. for exit\")\n",
    "        option = input()\n",
    "        try:\n",
    "            if option == '1':\n",
    "                armstrong_num()\n",
    "                print(\"-\"*60)\n",
    "                continue\n",
    "            elif option == '2':\n",
    "                palindrome()\n",
    "                print(\"-\"*60)\n",
    "                continue\n",
    "            elif option == '3':\n",
    "                sort_whole_list()\n",
    "                print(\"-\"*60)\n",
    "                continue\n",
    "            elif option == '4':\n",
    "                print(\"Exiting Bye!...\")\n",
    "                break\n",
    "            else:\n",
    "                print(\"Please provide the options that have been shown above?!.\")\n",
    "\n",
    "        except Exception as ex:\n",
    "            print(f\"U got an exception: {ex}\")"
   ]
  },
  {
   "cell_type": "code",
   "execution_count": 20,
   "id": "0c179f59",
   "metadata": {},
   "outputs": [
    {
     "name": "stdout",
     "output_type": "stream",
     "text": [
      "Please see below options....\n",
      " 1. for armstron number..\n",
      " 2. for palindrome word..\n",
      " 3.for sorting number or words..\n",
      " 4. for exit\n",
      "4\n",
      "Exiting Bye!...\n"
     ]
    }
   ],
   "source": [
    "mainu = user_choice()"
   ]
  },
  {
   "cell_type": "raw",
   "id": "0fbdc6fc",
   "metadata": {},
   "source": [
    "Mini-Assessment(26-8-2022)"
   ]
  },
  {
   "cell_type": "code",
   "execution_count": 21,
   "id": "1bfb68c9",
   "metadata": {},
   "outputs": [],
   "source": [
    "def febo():\n",
    "    try:\n",
    "        fibonacciList = [0, 1]\n",
    "        end_number = int(input(\"Enter how many fibonacci series numbers you want\\n\"))\n",
    "        if end_number<0:\n",
    "            print(\"Please provide positive number..\")\n",
    "        elif end_number == 0:\n",
    "            return 0\n",
    "        else:\n",
    "            term = 3\n",
    "            while term < end_number + 1:\n",
    "                value = fibonacciList[term - 2] + fibonacciList[term - 3]\n",
    "                fibonacciList.append(value)\n",
    "                term = term + 1\n",
    "            print(f\"The Range of Fibonacci numbers of given range {end_number} are below\")\n",
    "            print(fibonacciList)\n",
    "    except Exception as ex:\n",
    "        print(f\"Got Error, Please Provide integers value only.......\\n  {ex}\")"
   ]
  },
  {
   "cell_type": "code",
   "execution_count": 22,
   "id": "27621785",
   "metadata": {},
   "outputs": [
    {
     "name": "stdout",
     "output_type": "stream",
     "text": [
      "Enter how many fibonacci series numbers you want\n",
      "9\n",
      "The Range of Fibonacci numbers of given range 9 are below\n",
      "[0, 1, 1, 2, 3, 5, 8, 13, 21]\n"
     ]
    }
   ],
   "source": [
    "f1 = febo()"
   ]
  },
  {
   "cell_type": "code",
   "execution_count": 23,
   "id": "b83f71da",
   "metadata": {},
   "outputs": [],
   "source": [
    "import pandas as pd, matplotlib.pyplot as plt"
   ]
  },
  {
   "cell_type": "code",
   "execution_count": 24,
   "id": "fe4d63fd",
   "metadata": {},
   "outputs": [
    {
     "data": {
      "text/plain": [
       "<AxesSubplot:xlabel='Name'>"
      ]
     },
     "execution_count": 24,
     "metadata": {},
     "output_type": "execute_result"
    },
    {
     "data": {
      "image/png": "[encoded data removed]",
      "text/plain": [
       "<Figure size 432x288 with 1 Axes>"
      ]
     },
     "metadata": {
      "needs_background": "light"
     },
     "output_type": "display_data"
    }
   ],
   "source": [
    "data=pd.read_csv(\"assess1.csv\")\n",
    "data.plot(x=\"Name\", y=\"Age\", kind=\"bar\",color = \"r\")"
   ]
  },
  {
   "cell_type": "code",
   "execution_count": 25,
   "id": "86bc328d",
   "metadata": {},
   "outputs": [
    {
     "data": {
      "text/plain": [
       "<AxesSubplot:xlabel='Name'>"
      ]
     },
     "execution_count": 25,
     "metadata": {},
     "output_type": "execute_result"
    },
    {
     "data": {
      "image/png": "[encoded data removed]",
      "text/plain": [
       "<Figure size 432x288 with 1 Axes>"
      ]
     },
     "metadata": {
      "needs_background": "light"
     },
     "output_type": "display_data"
    }
   ],
   "source": [
    "data.plot(x=\"Name\", y=\"Salary\", kind=\"bar\",color = \"blue\")"
   ]
  },
  {
   "cell_type": "code",
   "execution_count": 26,
   "id": "e4959639",
   "metadata": {},
   "outputs": [
    {
     "data": {
      "image/png": "[encoded data removed]",
      "text/plain": [
       "<Figure size 432x288 with 1 Axes>"
      ]
     },
     "metadata": {
      "needs_background": "light"
     },
     "output_type": "display_data"
    }
   ],
   "source": [
    "import numpy as np, matplotlib.pyplot as plt\n",
    "Names = ['Rajesh','Baby','Arun','Paras','Amaya']\n",
    "Salary = [4500, 3489, 3298, 5670, 7650]\n",
    "Age = np.array([35, 27, 54, 25, 18])\n",
    "x_axis = np.arange(len(Names))\n",
    "# Multi bar Chart\n",
    "plt.bar(x_axis -0.2, Salary, width=0.4, label = 'Salary')\n",
    "plt.bar(x_axis +0.2, Age*100, width=0.4, label = 'Age')\n",
    "# Xticks\n",
    "plt.xticks(x_axis, Names)\n",
    "# Add legend\n",
    "plt.legend()\n",
    "# Display\n",
    "plt.show()"
   ]
  },
  {
   "cell_type": "code",
   "execution_count": 27,
   "id": "fea7f06a",
   "metadata": {},
   "outputs": [
    {
     "data": {
      "image/png": "[encoded data removed]",
      "text/plain": [
       "<Figure size 432x288 with 1 Axes>"
      ]
     },
     "metadata": {},
     "output_type": "display_data"
    }
   ],
   "source": [
    "plt.pie(data[\"Salary\"], labels=data[\"Name\"],shadow = True)\n",
    "plt.show()"
   ]
  },
  {
   "cell_type": "code",
   "execution_count": 28,
   "id": "c24891cd",
   "metadata": {},
   "outputs": [
    {
     "data": {
      "image/png": "[encoded data removed]",
      "text/plain": [
       "<Figure size 432x288 with 1 Axes>"
      ]
     },
     "metadata": {},
     "output_type": "display_data"
    }
   ],
   "source": [
    "mycolors = [\"g\", \"r\", \"c\", \"b\",\"y\"]\n",
    "plt.pie(data[\"Age\"], labels=data[\"Name\"],shadow = True, colors = mycolors)\n",
    "plt.legend(title = \"Employees\", bbox_to_anchor= (1.05, 1))\n",
    "plt.show()"
   ]
  },
  {
   "cell_type": "markdown",
   "id": "b5648123",
   "metadata": {},
   "source": [
    "#### Assessment-9"
   ]
  },
  {
   "cell_type": "code",
   "execution_count": 35,
   "id": "fb85fb4d",
   "metadata": {},
   "outputs": [],
   "source": [
    "from sklearn import tree\n",
    "predictions = open(\"predictions.txt\", 'w+')\n",
    "predictions.write(\"100,0,103,0,140,0,150,1,160,1,200,1\")\n",
    "predictions.write(\"\\n0,0,0,1,1,1\")\n",
    "predictions.close()"
   ]
  },
  {
   "cell_type": "code",
   "execution_count": 36,
   "id": "04119043",
   "metadata": {},
   "outputs": [],
   "source": [
    "def fruit_train():\n",
    "    try:\n",
    "        file =open('predictions.txt', 'r')\n",
    "        #Below are lists for features and labels\n",
    "        features = file.readline().strip('\\n').split(',')\n",
    "        labels = file.readline().split(',')\n",
    "        file.close()\n",
    "        if features[-1] == '':\n",
    "            features.pop()\n",
    "        if labels[-1] == '':\n",
    "            labels.pop()\n",
    "        error = 0 #Kickstarter value\n",
    "        #taking user input \n",
    "        weight = int(input('Enter Weight: ')) \n",
    "        texture = int(input('Enter texture:\\n 0 for Rough\\n 1 for Smooth '))\n",
    "        fruit = int(input('Enter label\\n 0 for Orange\\n 1 for Apple '))\n",
    "        if texture not in [0,1]:\n",
    "            print('Enter Only 0 or 1 for texture')\n",
    "            error = 1\n",
    "        if fruit not in [0,1]:\n",
    "            print('Enter Only 0 or 1 for label')\n",
    "            error = 1\n",
    "        if error == 0:\n",
    "            #adding new data to features and labels\n",
    "            features.extend([weight,texture])\n",
    "            labels.append(fruit)\n",
    "            #Writing the updated data back to file\n",
    "            with open('predictions.txt', 'w') as f:\n",
    "                    #looping over the each list element\n",
    "                    for element in features:\n",
    "                         #writing to file line by line\n",
    "                        f.write('%s,' %element)\n",
    "                    f.write('\\n')\n",
    "                    for element in labels:\n",
    "                        f.write('%s,' % element)\n",
    "                    f.close()\n",
    "            print('Data Updated for Model Training')\n",
    "    except:\n",
    "        print('Enter Correct Details')"
   ]
  },
  {
   "cell_type": "code",
   "execution_count": 37,
   "id": "660a0db1",
   "metadata": {},
   "outputs": [],
   "source": [
    "def fruit_predict():\n",
    "    try:\n",
    "        error = 0\n",
    "        f =open('predictions.txt', 'r')\n",
    "        #Below are lists for features & labels\n",
    "        features = f.readline().strip('\\n').split(',')\n",
    "        labels = f.readline().split(',')\n",
    "        f.close()\n",
    "        if features[-1] == '':\n",
    "            features.pop()\n",
    "        if labels[-1] == '':\n",
    "            labels.pop()\n",
    "        labels = [int(item) for item in labels]\n",
    "        features = [int(item) for item in features]\n",
    "        feature = []\n",
    "        for i in range(0, len(features),2):\n",
    "            feature.append([features[i],features[i+1]])\n",
    "        print('Features:',feature)\n",
    "        print('Labels:',labels)\n",
    "        clf = tree.DecisionTreeClassifier()\n",
    "        clf=clf.fit(feature,labels)\n",
    "        wt = int(input('Enter Weight: '))\n",
    "        texture = int(input('Input Texture 0 or 1:'))\n",
    "        if texture not in [0,1]:\n",
    "                print('Enter Only 0 or 1')\n",
    "                error = 1\n",
    "        if error == 0:\n",
    "            if clf.predict([[wt,texture]]) == 0:\n",
    "                print(\"The fruit may be Orange\")\n",
    "            else:\n",
    "                print(\"The fruit may be Apple\")\n",
    "    except Exception as ex:\n",
    "        print('Enter Correct Details', ex)"
   ]
  },
  {
   "cell_type": "code",
   "execution_count": 38,
   "id": "7d0cea6f",
   "metadata": {},
   "outputs": [
    {
     "name": "stdout",
     "output_type": "stream",
     "text": [
      "Choose one option:\n",
      " Option 1: Train \n",
      " Option 2: Predict\n",
      " Option 3: EXIT\n",
      "3\n",
      "Exiting Bye!\n"
     ]
    }
   ],
   "source": [
    "option=0\n",
    "while option!=3:\n",
    "    \n",
    "    try:\n",
    "        option = int(input(('Choose one option:\\n Option 1: Train \\n Option 2: Predict\\n Option 3: EXIT\\n')))\n",
    "        if option == 1:\n",
    "            fruit_train()\n",
    "        elif option == 2:\n",
    "            fruit_predict()\n",
    "        elif option == 3:\n",
    "            print(\"Exiting Bye!\")\n",
    "            break\n",
    "        elif option not in [1,2,3]:\n",
    "            print('Incorrect Choice')\n",
    "            break\n",
    "        else:\n",
    "            print(\"enter only [1] , [2] , [3]\")\n",
    "    except Exception as ex:\n",
    "        print(ex)\n",
    "            "
   ]
  },
  {
   "cell_type": "code",
   "execution_count": 40,
   "id": "6759165b",
   "metadata": {},
   "outputs": [],
   "source": [
    "# Covid Problem\n",
    "#Creating File with some initial data for feature and labels\n",
    "covid = open(\"covid.txt\", 'w+')\n",
    "covid.write(\"99,0,0,0,100,1,0,1,103,1,1,0,98,1,0,0,101,1,0,0\") # features\n",
    "covid.write(\"\\n0,1,1,0,1\") # labels\n",
    "covid.close()"
   ]
  },
  {
   "cell_type": "code",
   "execution_count": 41,
   "id": "51dea491",
   "metadata": {},
   "outputs": [],
   "source": [
    "#Function for adding data to train the model\n",
    "def covid_training():\n",
    "    try:\n",
    "        f =open('covid.txt', 'r')\n",
    "        #Creating two lists for features and labels\n",
    "        features = f.readline().strip('\\n').split(',')\n",
    "        labels = f.readline().split(',')\n",
    "        f.close()\n",
    "        if features[-1] == '':\n",
    "            features.pop()\n",
    "        if labels[-1] == '':\n",
    "            labels.pop()\n",
    "        error = 0 #Kickstarter value\n",
    "        #taking user input for features and labels\n",
    "        temp = int(input('Enter Temperature')) \n",
    "        travel = int(input('Traveled Abraod?:\\n 0: No\\n 1: Yes'))\n",
    "        vomiting = int(input('Vomiting?:\\n 0: No\\n 1: Yes'))\n",
    "        bp = int(input('BP Above 120?:\\n 0: No\\n 1: Yes'))\n",
    "        result = int(input('Has Covid?\\n 0: No\\n 1:Yes'))\n",
    "        if travel not in [0,1]:\n",
    "            print('Enter Only 0 or 1 for Travel')\n",
    "            error = 1\n",
    "        if vomiting not in [0,1]:\n",
    "            print('Enter Only 0 or 1 for vomiting')\n",
    "            error = 1\n",
    "        if bp not in [0,1]:\n",
    "            print('Enter Only 0 or 1 for BP')\n",
    "            error = 1\n",
    "        if result not in [0,1]:\n",
    "            print('Enter Only 0 or 1 for covid')\n",
    "            error = 1\n",
    "        if error == 0:\n",
    "            #adding new data to features and labels\n",
    "            features.extend([temp,travel,vomiting,bp])\n",
    "            labels.append(result)\n",
    "            #Writing the updated data back to file\n",
    "            with open('covid.txt', 'w') as f:\n",
    "                    #looping over the each list element\n",
    "                    for element in features:\n",
    "                        f.write('%s,' %element)\n",
    "                    f.write('\\n')\n",
    "                    for element in labels:\n",
    "                        f.write('%s,' % element)\n",
    "                    f.close()\n",
    "            print('Data Updated for Model Training')\n",
    "    except:\n",
    "        print('Enter Correct Details')"
   ]
  },
  {
   "cell_type": "code",
   "execution_count": 42,
   "id": "ac79874f",
   "metadata": {},
   "outputs": [],
   "source": [
    "#Function for predicting the results.\n",
    "def covid_predicting():\n",
    "    try:\n",
    "        error = 0\n",
    "        f =open('covid.txt', 'r')\n",
    "        #Creating two lists for features and labels\n",
    "        features = f.readline().strip('\\n').split(',')\n",
    "        labels = f.readline().split(',')\n",
    "        f.close()\n",
    "        #Removing the unnecessary punctuations at the end of the lists\n",
    "        if features[-1] == '':\n",
    "            features.pop()\n",
    "        if labels[-1] == '':\n",
    "            labels.pop()\n",
    "        #Converting the string objects to integers in the list\n",
    "        labels = [int(item) for item in labels]\n",
    "        features = [int(item) for item in features]\n",
    "        feature = []\n",
    "        #creating a new nested list of paired features\n",
    "        for i in range(0, len(features), 4):\n",
    "            feature.append([features[i],features[i+1],features[i+2],features[i+3]])\n",
    "        print('Features:',feature)\n",
    "        print('Labels:',labels)\n",
    "        #Running the model\n",
    "        clf = tree.DecisionTreeClassifier()\n",
    "        clf=clf.fit(feature,labels)\n",
    "        #Taking user input\n",
    "        temp = int(input('Enter Temperature')) \n",
    "        travel = int(input('Traveled Abraod?:\\n 0: No\\n 1: Yes'))\n",
    "        vomiting = int(input('Vomiting?:\\n 0: No\\n 1: Yes'))\n",
    "        bp = int(input('BP Above 120?:\\n 0: No\\n 1: Yes'))\n",
    "        if travel not in [0,1]:\n",
    "            print('Enter Only 0 or 1 for Travel')\n",
    "            error = 1\n",
    "        if vomiting not in [0,1]:\n",
    "            print('Enter Only 0 or 1 for vomiting')\n",
    "            error = 1\n",
    "        if bp not in [0,1]:\n",
    "            print('Enter Only 0 or 1 for BP')\n",
    "            error = 1\n",
    "        if error == 0:\n",
    "            #Making the predictions using tree model\n",
    "            if clf.predict([[temp,travel,vomiting,bp]]) == 0:\n",
    "                print(\"Does not have Covid\")\n",
    "            else:\n",
    "                print(\"Probably has covid\")\n",
    "    except:\n",
    "        print('Enter Correct Details')"
   ]
  },
  {
   "cell_type": "code",
   "execution_count": 43,
   "id": "1967ee41",
   "metadata": {},
   "outputs": [
    {
     "name": "stdout",
     "output_type": "stream",
     "text": [
      "Choose one option:\n",
      " Option 1: Train \n",
      " Option 2: Predict\n",
      " Option 3: EXIT\n",
      "3\n",
      "Exiting Bye!\n"
     ]
    }
   ],
   "source": [
    "option = 0\n",
    "while option != 3:\n",
    "    try:\n",
    "        option = int(input(('Choose one option:\\n Option 1: Train \\n Option 2: Predict\\n Option 3: EXIT\\n')))\n",
    "        if option == 1:\n",
    "            covid_training()\n",
    "        if option == 2:\n",
    "            covid_predicting()\n",
    "        if option == 3:\n",
    "            print(\"Exiting Bye!\")\n",
    "            break\n",
    "        if option not in [1,2,3]:\n",
    "            print('Incorrect Choice')\n",
    "    except Exception as ex:\n",
    "        print(ex)"
   ]
  },
  {
   "cell_type": "markdown",
   "id": "8f9b3802",
   "metadata": {},
   "source": [
    "Charbot Problem Below"
   ]
  },
  {
   "cell_type": "code",
   "execution_count": 44,
   "id": "c911d084",
   "metadata": {},
   "outputs": [],
   "source": [
    "f = open(\"greetings.txt\", 'w+')\n",
    "f.write(\"hi,good morning,thank you,namaste,please\") # greetings\n",
    "f.write(\"\\nhello,Good morning!,You are welcome,namaste,No worries\") #responses\n",
    "\n",
    "f.close()"
   ]
  },
  {
   "cell_type": "code",
   "execution_count": 45,
   "id": "ee675293",
   "metadata": {},
   "outputs": [],
   "source": [
    "f =open('greetings.txt', 'r')\n",
    "greets = f.readline().strip('\\n').split(',')\n",
    "responses = f.readline().split(',')\n",
    "\n",
    "f.close()"
   ]
  },
  {
   "cell_type": "code",
   "execution_count": 46,
   "id": "afd6e416",
   "metadata": {},
   "outputs": [],
   "source": [
    "def chat():\n",
    "    f =open('greetings.txt', 'r')\n",
    "    #Creating two lists for features and labels\n",
    "    greets = f.readline().strip('\\n').split(',')\n",
    "    responses = f.readline().split(',')\n",
    "    \n",
    "    f.close()\n",
    "    if greets[-1] == '':\n",
    "        greets.pop()\n",
    "    if responses[-1] == '':\n",
    "        responses.pop()\n",
    "    \n",
    "    print('Welcome to chatbot. Press end anytime to stop chatting')\n",
    "    print(f\"Greetings are: {greets}\\nResponses are: {responses} & questions are: {questions}\")\n",
    "    while True:\n",
    "        userinput = input('>>')\n",
    "        if userinput == 'end':\n",
    "            break\n",
    "        for i in range(len(greets)):\n",
    "            if userinput == greets[i]:\n",
    "                response = responses[i]\n",
    "                print(response)\n",
    "        if userinput not in (greets or questions):\n",
    "            print('I am not able to understand. Please try again')\n",
    "            "
   ]
  },
  {
   "cell_type": "code",
   "execution_count": 47,
   "id": "7c63e25e",
   "metadata": {},
   "outputs": [],
   "source": [
    "def chat_train():\n",
    "    f =open('greetings.txt', 'r')\n",
    "    #Creating two lists for features and labels\n",
    "    greets = f.readline().strip('\\n').split(',')\n",
    "    responses = f.readline().split(',')\n",
    "    f.close()\n",
    "    if greets[-1] == '':\n",
    "        greets.pop()\n",
    "    if responses[-1] == '':\n",
    "        responses.pop()\n",
    "    print(greets)\n",
    "    print(questions)\n",
    "    \n",
    "    greet = input('Enter the new word or sentense\\n')\n",
    "    reply = input('Enter the expected reply\\n')\n",
    "    \n",
    "    greets.append(greet)\n",
    "    responses.append(reply)\n",
    "    \n",
    "    with open('greetings.txt', 'w') as f:\n",
    "        #looping over the each list element\n",
    "        for element in greets:\n",
    "            f.write('%s,' %element)\n",
    "        f.write('\\n')\n",
    "        for element in responses:\n",
    "            f.write('%s,' % element)\n",
    "        f.close()\n",
    "    print('Data Updated for Model Training')"
   ]
  },
  {
   "cell_type": "code",
   "execution_count": 49,
   "id": "82e548a5",
   "metadata": {},
   "outputs": [
    {
     "name": "stdout",
     "output_type": "stream",
     "text": [
      "Choose one option:\n",
      " Option 1: Train \n",
      " Option 2: Chat\n",
      " Option 3: EXIT\n",
      "3\n",
      "Bye!\n"
     ]
    }
   ],
   "source": [
    "#Calling the Functions based on User Response\n",
    "option = 0\n",
    "while option != 3:\n",
    "    try:\n",
    "        option = int(input(('Choose one option:\\n Option 1: Train \\n Option 2: Chat\\n Option 3: EXIT\\n')))\n",
    "        if option == 1:\n",
    "            chat_train()\n",
    "        if option == 2:\n",
    "            chat()\n",
    "        if option == 3:\n",
    "            print('Bye!')\n",
    "            break\n",
    "        if option not in [1,2,3]:\n",
    "            print('Incorrect Choice')\n",
    "    except Exception as ex:\n",
    "        print(ex)\n"
   ]
  },
  {
   "cell_type": "markdown",
   "id": "6ff4d926",
   "metadata": {},
   "source": [
    "Assessment-10"
   ]
  },
  {
   "cell_type": "code",
   "execution_count": 50,
   "id": "fa6040dc",
   "metadata": {},
   "outputs": [
    {
     "data": {
      "text/plain": [
       "'\\nIn the Iris dataset\\n    1.Show the average sepal width and petal length of all variety in pie chart\\n    2.Linear regression of Petal width against Petal Length for all varieties\\n    3.Enter Sepal and Petal widths (training)\\n    4.Find out highest petal length and sepal length – which variety\\n\\n'"
      ]
     },
     "execution_count": 50,
     "metadata": {},
     "output_type": "execute_result"
    }
   ],
   "source": [
    "\"\"\"\n",
    "In the Iris dataset\n",
    "    1.Show the average sepal width and petal length of all variety in pie chart\n",
    "    2.Linear regression of Petal width against Petal Length for all varieties\n",
    "    3.Enter Sepal and Petal widths (training)\n",
    "    4.Find out highest petal length and sepal length – which variety\n",
    "\n",
    "\"\"\""
   ]
  },
  {
   "cell_type": "code",
   "execution_count": 51,
   "id": "e8519910",
   "metadata": {},
   "outputs": [
    {
     "data": {
      "text/html": [
       "<div>\n",
       "<style scoped>\n",
       "    .dataframe tbody tr th:only-of-type {\n",
       "        vertical-align: middle;\n",
       "    }\n",
       "\n",
       "    .dataframe tbody tr th {\n",
       "        vertical-align: top;\n",
       "    }\n",
       "\n",
       "    .dataframe thead th {\n",
       "        text-align: right;\n",
       "    }\n",
       "</style>\n",
       "<table border=\"1\" class=\"dataframe\">\n",
       "  <thead>\n",
       "    <tr style=\"text-align: right;\">\n",
       "      <th></th>\n",
       "      <th>Id</th>\n",
       "      <th>SepalLengthCm</th>\n",
       "      <th>SepalWidthCm</th>\n",
       "      <th>PetalLengthCm</th>\n",
       "      <th>PetalWidthCm</th>\n",
       "      <th>Species</th>\n",
       "    </tr>\n",
       "  </thead>\n",
       "  <tbody>\n",
       "    <tr>\n",
       "      <th>0</th>\n",
       "      <td>1</td>\n",
       "      <td>5.1</td>\n",
       "      <td>3.5</td>\n",
       "      <td>1.4</td>\n",
       "      <td>0.2</td>\n",
       "      <td>Iris-setosa</td>\n",
       "    </tr>\n",
       "    <tr>\n",
       "      <th>1</th>\n",
       "      <td>2</td>\n",
       "      <td>4.9</td>\n",
       "      <td>3.0</td>\n",
       "      <td>1.4</td>\n",
       "      <td>0.2</td>\n",
       "      <td>Iris-setosa</td>\n",
       "    </tr>\n",
       "    <tr>\n",
       "      <th>2</th>\n",
       "      <td>3</td>\n",
       "      <td>4.7</td>\n",
       "      <td>3.2</td>\n",
       "      <td>1.3</td>\n",
       "      <td>0.2</td>\n",
       "      <td>Iris-setosa</td>\n",
       "    </tr>\n",
       "    <tr>\n",
       "      <th>3</th>\n",
       "      <td>4</td>\n",
       "      <td>4.6</td>\n",
       "      <td>3.1</td>\n",
       "      <td>1.5</td>\n",
       "      <td>0.2</td>\n",
       "      <td>Iris-setosa</td>\n",
       "    </tr>\n",
       "    <tr>\n",
       "      <th>4</th>\n",
       "      <td>5</td>\n",
       "      <td>5.0</td>\n",
       "      <td>3.6</td>\n",
       "      <td>1.4</td>\n",
       "      <td>0.2</td>\n",
       "      <td>Iris-setosa</td>\n",
       "    </tr>\n",
       "    <tr>\n",
       "      <th>...</th>\n",
       "      <td>...</td>\n",
       "      <td>...</td>\n",
       "      <td>...</td>\n",
       "      <td>...</td>\n",
       "      <td>...</td>\n",
       "      <td>...</td>\n",
       "    </tr>\n",
       "    <tr>\n",
       "      <th>145</th>\n",
       "      <td>146</td>\n",
       "      <td>6.7</td>\n",
       "      <td>3.0</td>\n",
       "      <td>5.2</td>\n",
       "      <td>2.3</td>\n",
       "      <td>Iris-virginica</td>\n",
       "    </tr>\n",
       "    <tr>\n",
       "      <th>146</th>\n",
       "      <td>147</td>\n",
       "      <td>6.3</td>\n",
       "      <td>2.5</td>\n",
       "      <td>5.0</td>\n",
       "      <td>1.9</td>\n",
       "      <td>Iris-virginica</td>\n",
       "    </tr>\n",
       "    <tr>\n",
       "      <th>147</th>\n",
       "      <td>148</td>\n",
       "      <td>6.5</td>\n",
       "      <td>3.0</td>\n",
       "      <td>5.2</td>\n",
       "      <td>2.0</td>\n",
       "      <td>Iris-virginica</td>\n",
       "    </tr>\n",
       "    <tr>\n",
       "      <th>148</th>\n",
       "      <td>149</td>\n",
       "      <td>6.2</td>\n",
       "      <td>3.4</td>\n",
       "      <td>5.4</td>\n",
       "      <td>2.3</td>\n",
       "      <td>Iris-virginica</td>\n",
       "    </tr>\n",
       "    <tr>\n",
       "      <th>149</th>\n",
       "      <td>150</td>\n",
       "      <td>5.9</td>\n",
       "      <td>3.0</td>\n",
       "      <td>5.1</td>\n",
       "      <td>1.8</td>\n",
       "      <td>Iris-virginica</td>\n",
       "    </tr>\n",
       "  </tbody>\n",
       "</table>\n",
       "<p>150 rows × 6 columns</p>\n",
       "</div>"
      ],
      "text/plain": [
       "      Id  SepalLengthCm  SepalWidthCm  PetalLengthCm  PetalWidthCm  \\\n",
       "0      1            5.1           3.5            1.4           0.2   \n",
       "1      2            4.9           3.0            1.4           0.2   \n",
       "2      3            4.7           3.2            1.3           0.2   \n",
       "3      4            4.6           3.1            1.5           0.2   \n",
       "4      5            5.0           3.6            1.4           0.2   \n",
       "..   ...            ...           ...            ...           ...   \n",
       "145  146            6.7           3.0            5.2           2.3   \n",
       "146  147            6.3           2.5            5.0           1.9   \n",
       "147  148            6.5           3.0            5.2           2.0   \n",
       "148  149            6.2           3.4            5.4           2.3   \n",
       "149  150            5.9           3.0            5.1           1.8   \n",
       "\n",
       "            Species  \n",
       "0       Iris-setosa  \n",
       "1       Iris-setosa  \n",
       "2       Iris-setosa  \n",
       "3       Iris-setosa  \n",
       "4       Iris-setosa  \n",
       "..              ...  \n",
       "145  Iris-virginica  \n",
       "146  Iris-virginica  \n",
       "147  Iris-virginica  \n",
       "148  Iris-virginica  \n",
       "149  Iris-virginica  \n",
       "\n",
       "[150 rows x 6 columns]"
      ]
     },
     "execution_count": 51,
     "metadata": {},
     "output_type": "execute_result"
    }
   ],
   "source": [
    "df1 = pd.read_csv(\"Iris.csv\")\n",
    "df1"
   ]
  },
  {
   "cell_type": "code",
   "execution_count": 52,
   "id": "70fabbeb",
   "metadata": {},
   "outputs": [
    {
     "data": {
      "text/plain": [
       "<pandas.core.groupby.generic.DataFrameGroupBy object at 0x000001BEB1DDBE20>"
      ]
     },
     "execution_count": 52,
     "metadata": {},
     "output_type": "execute_result"
    }
   ],
   "source": [
    "# 1st Problem Below\n",
    "g = df1.groupby('Species')\n",
    "g\n"
   ]
  },
  {
   "cell_type": "code",
   "execution_count": 53,
   "id": "ee9144f6",
   "metadata": {},
   "outputs": [],
   "source": [
    "sepal = g['SepalWidthCm'].mean()\n",
    "petal = g['PetalLengthCm'].mean()"
   ]
  },
  {
   "cell_type": "code",
   "execution_count": 54,
   "id": "e6264078",
   "metadata": {},
   "outputs": [
    {
     "data": {
      "image/png": "[encoded data removed]",
      "text/plain": [
       "<Figure size 432x288 with 1 Axes>"
      ]
     },
     "metadata": {},
     "output_type": "display_data"
    }
   ],
   "source": [
    "plt.pie(sepal, labels=sepal.keys())\n",
    "plt.show()"
   ]
  },
  {
   "cell_type": "code",
   "execution_count": 55,
   "id": "9a4f836d",
   "metadata": {},
   "outputs": [
    {
     "data": {
      "image/png": "[encoded data removed]",
      "text/plain": [
       "<Figure size 432x288 with 1 Axes>"
      ]
     },
     "metadata": {},
     "output_type": "display_data"
    }
   ],
   "source": [
    "plt.pie(petal, labels=petal.keys())\n",
    "plt.show()"
   ]
  },
  {
   "cell_type": "code",
   "execution_count": 56,
   "id": "17cc63dc",
   "metadata": {},
   "outputs": [],
   "source": [
    "# 2nd Problem Below --> Linear Regression of PetalWidth & PetalLength for all varieties"
   ]
  },
  {
   "cell_type": "code",
   "execution_count": 57,
   "id": "cded24d7",
   "metadata": {},
   "outputs": [],
   "source": [
    "def estimate_coefficient(x, y):\n",
    "    # size of dataset OR number of observation/points\n",
    "    n= np.size(x)\n",
    "    # mean of x & y\n",
    "    # Since we are using numpy just calling mean on numpy is sufficient\n",
    "    mean_x, mean_y = np.mean(x), np.mean(y)\n",
    "    # calculating cross-deviation and deviation about x\n",
    "    SS_xy = np.sum(y*x-n*mean_y*mean_x)\n",
    "    SS_xx = np.sum(x*x-n*mean_x*mean_x)\n",
    "    # calculating regressin coefficients\n",
    "    b_1 = SS_xy/SS_xx\n",
    "    b_0 = mean_y-b_1*mean_x\n",
    "    return(b_0, b_1)"
   ]
  },
  {
   "cell_type": "code",
   "execution_count": 58,
   "id": "aeca633d",
   "metadata": {},
   "outputs": [],
   "source": [
    "# color of the points change it to red blue orange play around\n",
    "def plot_regression_line(x, y, b): \n",
    "    # plotting the points as per dataset on a graph\n",
    "    plt.scatter(x, y, color = \"m\",marker = \"o\", s = 30) \n",
    "    # predicted response vector \n",
    "    y_pred = b[0] + b[1]*x \n",
    "    # plotting the regression line\n",
    "    plt.plot(x, y_pred, color = \"g\")\n",
    "    # putting labels for x and y axis\n",
    "    plt.title(\"Petal Length VS Petal Width Below..\")\n",
    "    plt.xlabel('Petal Length') \n",
    "    plt.ylabel('Petal Width') \n",
    "    # function to show plotted graph\n",
    "    plt.show()"
   ]
  },
  {
   "cell_type": "code",
   "execution_count": 59,
   "id": "a7a14f44",
   "metadata": {},
   "outputs": [],
   "source": [
    "def main():\n",
    "    x = np.array(df1['PetalLengthCm'])\n",
    "    y = np.array(df1['PetalWidthCm'])\n",
    "    # calling estimation coefficient function below\n",
    "    e = estimate_coefficient(x, y)\n",
    "    print(f\"Estimated Coefficient:\\nb_0= {e[0]} \\nb_1= {e[1]}\")\n",
    "    # calling plotting functions\n",
    "    plot_regression_line(x, y, e)"
   ]
  },
  {
   "cell_type": "code",
   "execution_count": 60,
   "id": "cf7696b6",
   "metadata": {},
   "outputs": [
    {
     "name": "stdout",
     "output_type": "stream",
     "text": [
      "Estimated Coefficient:\n",
      "b_0= 0.0005392304030038542 \n",
      "b_1= 0.3187639507618827\n"
     ]
    },
    {
     "data": {
      "image/png": "[encoded data removed]",
      "text/plain": [
       "<Figure size 432x288 with 1 Axes>"
      ]
     },
     "metadata": {
      "needs_background": "light"
     },
     "output_type": "display_data"
    }
   ],
   "source": [
    "m1 = main()\n",
    "m1"
   ]
  },
  {
   "cell_type": "code",
   "execution_count": 61,
   "id": "5f057787",
   "metadata": {},
   "outputs": [],
   "source": [
    "# 3 Proble Below --> Enter Sepal and Petal widths (training)"
   ]
  },
  {
   "cell_type": "code",
   "execution_count": 62,
   "id": "a63bce7b",
   "metadata": {},
   "outputs": [
    {
     "name": "stdout",
     "output_type": "stream",
     "text": [
      "Enter Sepal Length: 13\n",
      "Enter Sepal Width: 9\n",
      "Enter Petal Length: 6\n",
      "Enter Petal Width: 9\n",
      "Enter Species: species2\n",
      "Successfully added the record\n"
     ]
    }
   ],
   "source": [
    "try:\n",
    "    df1.loc[len(df1.index)] = [len(df1.index)+1, float(input(\"Enter Sepal Length: \")), float(input(\"Enter Sepal Width: \")), float(input(\"Enter Petal Length: \")),float(input(\"Enter Petal Width: \")), input(\"Enter Species: \")]\n",
    "    print(\"Successfully added the record\")\n",
    "except:\n",
    "    print(\"exception occured..\")"
   ]
  },
  {
   "cell_type": "code",
   "execution_count": 63,
   "id": "f58042c1",
   "metadata": {},
   "outputs": [
    {
     "data": {
      "text/html": [
       "<div>\n",
       "<style scoped>\n",
       "    .dataframe tbody tr th:only-of-type {\n",
       "        vertical-align: middle;\n",
       "    }\n",
       "\n",
       "    .dataframe tbody tr th {\n",
       "        vertical-align: top;\n",
       "    }\n",
       "\n",
       "    .dataframe thead th {\n",
       "        text-align: right;\n",
       "    }\n",
       "</style>\n",
       "<table border=\"1\" class=\"dataframe\">\n",
       "  <thead>\n",
       "    <tr style=\"text-align: right;\">\n",
       "      <th></th>\n",
       "      <th>Id</th>\n",
       "      <th>SepalLengthCm</th>\n",
       "      <th>SepalWidthCm</th>\n",
       "      <th>PetalLengthCm</th>\n",
       "      <th>PetalWidthCm</th>\n",
       "      <th>Species</th>\n",
       "    </tr>\n",
       "  </thead>\n",
       "  <tbody>\n",
       "    <tr>\n",
       "      <th>0</th>\n",
       "      <td>1</td>\n",
       "      <td>5.1</td>\n",
       "      <td>3.5</td>\n",
       "      <td>1.4</td>\n",
       "      <td>0.2</td>\n",
       "      <td>Iris-setosa</td>\n",
       "    </tr>\n",
       "    <tr>\n",
       "      <th>1</th>\n",
       "      <td>2</td>\n",
       "      <td>4.9</td>\n",
       "      <td>3.0</td>\n",
       "      <td>1.4</td>\n",
       "      <td>0.2</td>\n",
       "      <td>Iris-setosa</td>\n",
       "    </tr>\n",
       "    <tr>\n",
       "      <th>2</th>\n",
       "      <td>3</td>\n",
       "      <td>4.7</td>\n",
       "      <td>3.2</td>\n",
       "      <td>1.3</td>\n",
       "      <td>0.2</td>\n",
       "      <td>Iris-setosa</td>\n",
       "    </tr>\n",
       "    <tr>\n",
       "      <th>3</th>\n",
       "      <td>4</td>\n",
       "      <td>4.6</td>\n",
       "      <td>3.1</td>\n",
       "      <td>1.5</td>\n",
       "      <td>0.2</td>\n",
       "      <td>Iris-setosa</td>\n",
       "    </tr>\n",
       "    <tr>\n",
       "      <th>4</th>\n",
       "      <td>5</td>\n",
       "      <td>5.0</td>\n",
       "      <td>3.6</td>\n",
       "      <td>1.4</td>\n",
       "      <td>0.2</td>\n",
       "      <td>Iris-setosa</td>\n",
       "    </tr>\n",
       "    <tr>\n",
       "      <th>...</th>\n",
       "      <td>...</td>\n",
       "      <td>...</td>\n",
       "      <td>...</td>\n",
       "      <td>...</td>\n",
       "      <td>...</td>\n",
       "      <td>...</td>\n",
       "    </tr>\n",
       "    <tr>\n",
       "      <th>146</th>\n",
       "      <td>147</td>\n",
       "      <td>6.3</td>\n",
       "      <td>2.5</td>\n",
       "      <td>5.0</td>\n",
       "      <td>1.9</td>\n",
       "      <td>Iris-virginica</td>\n",
       "    </tr>\n",
       "    <tr>\n",
       "      <th>147</th>\n",
       "      <td>148</td>\n",
       "      <td>6.5</td>\n",
       "      <td>3.0</td>\n",
       "      <td>5.2</td>\n",
       "      <td>2.0</td>\n",
       "      <td>Iris-virginica</td>\n",
       "    </tr>\n",
       "    <tr>\n",
       "      <th>148</th>\n",
       "      <td>149</td>\n",
       "      <td>6.2</td>\n",
       "      <td>3.4</td>\n",
       "      <td>5.4</td>\n",
       "      <td>2.3</td>\n",
       "      <td>Iris-virginica</td>\n",
       "    </tr>\n",
       "    <tr>\n",
       "      <th>149</th>\n",
       "      <td>150</td>\n",
       "      <td>5.9</td>\n",
       "      <td>3.0</td>\n",
       "      <td>5.1</td>\n",
       "      <td>1.8</td>\n",
       "      <td>Iris-virginica</td>\n",
       "    </tr>\n",
       "    <tr>\n",
       "      <th>150</th>\n",
       "      <td>151</td>\n",
       "      <td>13.0</td>\n",
       "      <td>9.0</td>\n",
       "      <td>6.0</td>\n",
       "      <td>9.0</td>\n",
       "      <td>species2</td>\n",
       "    </tr>\n",
       "  </tbody>\n",
       "</table>\n",
       "<p>151 rows × 6 columns</p>\n",
       "</div>"
      ],
      "text/plain": [
       "      Id  SepalLengthCm  SepalWidthCm  PetalLengthCm  PetalWidthCm  \\\n",
       "0      1            5.1           3.5            1.4           0.2   \n",
       "1      2            4.9           3.0            1.4           0.2   \n",
       "2      3            4.7           3.2            1.3           0.2   \n",
       "3      4            4.6           3.1            1.5           0.2   \n",
       "4      5            5.0           3.6            1.4           0.2   \n",
       "..   ...            ...           ...            ...           ...   \n",
       "146  147            6.3           2.5            5.0           1.9   \n",
       "147  148            6.5           3.0            5.2           2.0   \n",
       "148  149            6.2           3.4            5.4           2.3   \n",
       "149  150            5.9           3.0            5.1           1.8   \n",
       "150  151           13.0           9.0            6.0           9.0   \n",
       "\n",
       "            Species  \n",
       "0       Iris-setosa  \n",
       "1       Iris-setosa  \n",
       "2       Iris-setosa  \n",
       "3       Iris-setosa  \n",
       "4       Iris-setosa  \n",
       "..              ...  \n",
       "146  Iris-virginica  \n",
       "147  Iris-virginica  \n",
       "148  Iris-virginica  \n",
       "149  Iris-virginica  \n",
       "150        species2  \n",
       "\n",
       "[151 rows x 6 columns]"
      ]
     },
     "execution_count": 63,
     "metadata": {},
     "output_type": "execute_result"
    }
   ],
   "source": [
    "df1"
   ]
  },
  {
   "cell_type": "code",
   "execution_count": 64,
   "id": "86a49949",
   "metadata": {},
   "outputs": [
    {
     "data": {
      "text/html": [
       "<div>\n",
       "<style scoped>\n",
       "    .dataframe tbody tr th:only-of-type {\n",
       "        vertical-align: middle;\n",
       "    }\n",
       "\n",
       "    .dataframe tbody tr th {\n",
       "        vertical-align: top;\n",
       "    }\n",
       "\n",
       "    .dataframe thead th {\n",
       "        text-align: right;\n",
       "    }\n",
       "</style>\n",
       "<table border=\"1\" class=\"dataframe\">\n",
       "  <thead>\n",
       "    <tr style=\"text-align: right;\">\n",
       "      <th></th>\n",
       "      <th>Id</th>\n",
       "      <th>SepalLengthCm</th>\n",
       "      <th>SepalWidthCm</th>\n",
       "      <th>PetalLengthCm</th>\n",
       "      <th>PetalWidthCm</th>\n",
       "    </tr>\n",
       "  </thead>\n",
       "  <tbody>\n",
       "    <tr>\n",
       "      <th>count</th>\n",
       "      <td>151.000000</td>\n",
       "      <td>151.000000</td>\n",
       "      <td>151.000000</td>\n",
       "      <td>151.000000</td>\n",
       "      <td>151.000000</td>\n",
       "    </tr>\n",
       "    <tr>\n",
       "      <th>mean</th>\n",
       "      <td>76.000000</td>\n",
       "      <td>5.890728</td>\n",
       "      <td>3.093377</td>\n",
       "      <td>3.773510</td>\n",
       "      <td>1.250331</td>\n",
       "    </tr>\n",
       "    <tr>\n",
       "      <th>std</th>\n",
       "      <td>43.734045</td>\n",
       "      <td>1.010106</td>\n",
       "      <td>0.648760</td>\n",
       "      <td>1.767963</td>\n",
       "      <td>0.990749</td>\n",
       "    </tr>\n",
       "    <tr>\n",
       "      <th>min</th>\n",
       "      <td>1.000000</td>\n",
       "      <td>4.300000</td>\n",
       "      <td>2.000000</td>\n",
       "      <td>1.000000</td>\n",
       "      <td>0.100000</td>\n",
       "    </tr>\n",
       "    <tr>\n",
       "      <th>25%</th>\n",
       "      <td>38.500000</td>\n",
       "      <td>5.100000</td>\n",
       "      <td>2.800000</td>\n",
       "      <td>1.600000</td>\n",
       "      <td>0.300000</td>\n",
       "    </tr>\n",
       "    <tr>\n",
       "      <th>50%</th>\n",
       "      <td>76.000000</td>\n",
       "      <td>5.800000</td>\n",
       "      <td>3.000000</td>\n",
       "      <td>4.400000</td>\n",
       "      <td>1.300000</td>\n",
       "    </tr>\n",
       "    <tr>\n",
       "      <th>75%</th>\n",
       "      <td>113.500000</td>\n",
       "      <td>6.400000</td>\n",
       "      <td>3.300000</td>\n",
       "      <td>5.100000</td>\n",
       "      <td>1.800000</td>\n",
       "    </tr>\n",
       "    <tr>\n",
       "      <th>max</th>\n",
       "      <td>151.000000</td>\n",
       "      <td>13.000000</td>\n",
       "      <td>9.000000</td>\n",
       "      <td>6.900000</td>\n",
       "      <td>9.000000</td>\n",
       "    </tr>\n",
       "  </tbody>\n",
       "</table>\n",
       "</div>"
      ],
      "text/plain": [
       "               Id  SepalLengthCm  SepalWidthCm  PetalLengthCm  PetalWidthCm\n",
       "count  151.000000     151.000000    151.000000     151.000000    151.000000\n",
       "mean    76.000000       5.890728      3.093377       3.773510      1.250331\n",
       "std     43.734045       1.010106      0.648760       1.767963      0.990749\n",
       "min      1.000000       4.300000      2.000000       1.000000      0.100000\n",
       "25%     38.500000       5.100000      2.800000       1.600000      0.300000\n",
       "50%     76.000000       5.800000      3.000000       4.400000      1.300000\n",
       "75%    113.500000       6.400000      3.300000       5.100000      1.800000\n",
       "max    151.000000      13.000000      9.000000       6.900000      9.000000"
      ]
     },
     "execution_count": 64,
     "metadata": {},
     "output_type": "execute_result"
    }
   ],
   "source": [
    "df1.describe()"
   ]
  },
  {
   "cell_type": "code",
   "execution_count": 65,
   "id": "5f5feddc",
   "metadata": {},
   "outputs": [],
   "source": [
    "# 4 Problem Below --> Find out highest petal length and sepal length – which variety"
   ]
  },
  {
   "cell_type": "code",
   "execution_count": 66,
   "id": "b375d667",
   "metadata": {},
   "outputs": [
    {
     "data": {
      "text/plain": [
       "0         Iris-setosa\n",
       "1         Iris-setosa\n",
       "2         Iris-setosa\n",
       "3         Iris-setosa\n",
       "4         Iris-setosa\n",
       "            ...      \n",
       "146    Iris-virginica\n",
       "147    Iris-virginica\n",
       "148    Iris-virginica\n",
       "149    Iris-virginica\n",
       "150          species2\n",
       "Name: Species, Length: 151, dtype: object"
      ]
     },
     "execution_count": 66,
     "metadata": {},
     "output_type": "execute_result"
    }
   ],
   "source": [
    "df1['Species']"
   ]
  },
  {
   "cell_type": "code",
   "execution_count": 67,
   "id": "3ef0b540",
   "metadata": {},
   "outputs": [
    {
     "data": {
      "text/plain": [
       "6.9"
      ]
     },
     "execution_count": 67,
     "metadata": {},
     "output_type": "execute_result"
    }
   ],
   "source": [
    "df1['PetalLengthCm'].max()\n"
   ]
  },
  {
   "cell_type": "code",
   "execution_count": 68,
   "id": "97fb5cbb",
   "metadata": {},
   "outputs": [
    {
     "name": "stdout",
     "output_type": "stream",
     "text": [
      "Max Petal Length : 6.9 of species Iris-virginica\n"
     ]
    }
   ],
   "source": [
    "print(f\"Max Petal Length : {df1['PetalLengthCm'].max()} of species {df1['Species'][df1[['PetalLengthCm']].idxmax()].to_string(index=False)}\")"
   ]
  },
  {
   "cell_type": "code",
   "execution_count": 69,
   "id": "71120c14",
   "metadata": {},
   "outputs": [
    {
     "name": "stdout",
     "output_type": "stream",
     "text": [
      "Max Petal Width : 9.0 of species species2\n"
     ]
    }
   ],
   "source": [
    "print(f\"Max Petal Width : {df1['PetalWidthCm'].max()} of species {df1['Species'][df1[['PetalWidthCm']].idxmax()].to_string(index=False)}\")"
   ]
  },
  {
   "cell_type": "markdown",
   "id": "11155852",
   "metadata": {},
   "source": [
    "Problem-2"
   ]
  },
  {
   "cell_type": "code",
   "execution_count": 70,
   "id": "1d9f86d8",
   "metadata": {},
   "outputs": [
    {
     "data": {
      "text/plain": [
       "'\\nIn the uber dataset\\na.Sum of all trips, dispatching base number wise (bar chart)\\nb.Average of all trips\\nc.Active Vehicles and Trips – summary date wise\\nd.Sort the dataset by trips – descending\\n\\n'"
      ]
     },
     "execution_count": 70,
     "metadata": {},
     "output_type": "execute_result"
    }
   ],
   "source": [
    "\"\"\"\n",
    "In the uber dataset\n",
    "a.Sum of all trips, dispatching base number wise (bar chart)\n",
    "b.Average of all trips\n",
    "c.Active Vehicles and Trips – summary date wise\n",
    "d.Sort the dataset by trips – descending\n",
    "\n",
    "\"\"\""
   ]
  },
  {
   "cell_type": "code",
   "execution_count": 71,
   "id": "cb8e716c",
   "metadata": {},
   "outputs": [
    {
     "data": {
      "text/html": [
       "<div>\n",
       "<style scoped>\n",
       "    .dataframe tbody tr th:only-of-type {\n",
       "        vertical-align: middle;\n",
       "    }\n",
       "\n",
       "    .dataframe tbody tr th {\n",
       "        vertical-align: top;\n",
       "    }\n",
       "\n",
       "    .dataframe thead th {\n",
       "        text-align: right;\n",
       "    }\n",
       "</style>\n",
       "<table border=\"1\" class=\"dataframe\">\n",
       "  <thead>\n",
       "    <tr style=\"text-align: right;\">\n",
       "      <th></th>\n",
       "      <th>dispatching_base_number</th>\n",
       "      <th>date</th>\n",
       "      <th>active_vehicles</th>\n",
       "      <th>trips</th>\n",
       "    </tr>\n",
       "  </thead>\n",
       "  <tbody>\n",
       "    <tr>\n",
       "      <th>0</th>\n",
       "      <td>B02512</td>\n",
       "      <td>1/1/2015</td>\n",
       "      <td>190</td>\n",
       "      <td>1132</td>\n",
       "    </tr>\n",
       "    <tr>\n",
       "      <th>1</th>\n",
       "      <td>B02765</td>\n",
       "      <td>1/1/2015</td>\n",
       "      <td>225</td>\n",
       "      <td>1765</td>\n",
       "    </tr>\n",
       "    <tr>\n",
       "      <th>2</th>\n",
       "      <td>B02764</td>\n",
       "      <td>1/1/2015</td>\n",
       "      <td>3427</td>\n",
       "      <td>29421</td>\n",
       "    </tr>\n",
       "    <tr>\n",
       "      <th>3</th>\n",
       "      <td>B02682</td>\n",
       "      <td>1/1/2015</td>\n",
       "      <td>945</td>\n",
       "      <td>7679</td>\n",
       "    </tr>\n",
       "    <tr>\n",
       "      <th>4</th>\n",
       "      <td>B02617</td>\n",
       "      <td>1/1/2015</td>\n",
       "      <td>1228</td>\n",
       "      <td>9537</td>\n",
       "    </tr>\n",
       "    <tr>\n",
       "      <th>...</th>\n",
       "      <td>...</td>\n",
       "      <td>...</td>\n",
       "      <td>...</td>\n",
       "      <td>...</td>\n",
       "    </tr>\n",
       "    <tr>\n",
       "      <th>349</th>\n",
       "      <td>B02764</td>\n",
       "      <td>2/28/2015</td>\n",
       "      <td>3952</td>\n",
       "      <td>39812</td>\n",
       "    </tr>\n",
       "    <tr>\n",
       "      <th>350</th>\n",
       "      <td>B02617</td>\n",
       "      <td>2/28/2015</td>\n",
       "      <td>1372</td>\n",
       "      <td>14022</td>\n",
       "    </tr>\n",
       "    <tr>\n",
       "      <th>351</th>\n",
       "      <td>B02682</td>\n",
       "      <td>2/28/2015</td>\n",
       "      <td>1386</td>\n",
       "      <td>14472</td>\n",
       "    </tr>\n",
       "    <tr>\n",
       "      <th>352</th>\n",
       "      <td>B02512</td>\n",
       "      <td>2/28/2015</td>\n",
       "      <td>230</td>\n",
       "      <td>1803</td>\n",
       "    </tr>\n",
       "    <tr>\n",
       "      <th>353</th>\n",
       "      <td>B02765</td>\n",
       "      <td>2/28/2015</td>\n",
       "      <td>747</td>\n",
       "      <td>7753</td>\n",
       "    </tr>\n",
       "  </tbody>\n",
       "</table>\n",
       "<p>354 rows × 4 columns</p>\n",
       "</div>"
      ],
      "text/plain": [
       "    dispatching_base_number       date  active_vehicles  trips\n",
       "0                    B02512   1/1/2015              190   1132\n",
       "1                    B02765   1/1/2015              225   1765\n",
       "2                    B02764   1/1/2015             3427  29421\n",
       "3                    B02682   1/1/2015              945   7679\n",
       "4                    B02617   1/1/2015             1228   9537\n",
       "..                      ...        ...              ...    ...\n",
       "349                  B02764  2/28/2015             3952  39812\n",
       "350                  B02617  2/28/2015             1372  14022\n",
       "351                  B02682  2/28/2015             1386  14472\n",
       "352                  B02512  2/28/2015              230   1803\n",
       "353                  B02765  2/28/2015              747   7753\n",
       "\n",
       "[354 rows x 4 columns]"
      ]
     },
     "execution_count": 71,
     "metadata": {},
     "output_type": "execute_result"
    }
   ],
   "source": [
    "df2 = pd.read_csv(\"uber.txt\")\n",
    "df2"
   ]
  },
  {
   "cell_type": "code",
   "execution_count": 72,
   "id": "43354fa1",
   "metadata": {},
   "outputs": [
    {
     "data": {
      "text/html": [
       "<div>\n",
       "<style scoped>\n",
       "    .dataframe tbody tr th:only-of-type {\n",
       "        vertical-align: middle;\n",
       "    }\n",
       "\n",
       "    .dataframe tbody tr th {\n",
       "        vertical-align: top;\n",
       "    }\n",
       "\n",
       "    .dataframe thead th {\n",
       "        text-align: right;\n",
       "    }\n",
       "</style>\n",
       "<table border=\"1\" class=\"dataframe\">\n",
       "  <thead>\n",
       "    <tr style=\"text-align: right;\">\n",
       "      <th></th>\n",
       "      <th>dispatching_base_number</th>\n",
       "      <th>trips</th>\n",
       "    </tr>\n",
       "  </thead>\n",
       "  <tbody>\n",
       "    <tr>\n",
       "      <th>0</th>\n",
       "      <td>B02512</td>\n",
       "      <td>93786</td>\n",
       "    </tr>\n",
       "    <tr>\n",
       "      <th>1</th>\n",
       "      <td>B02598</td>\n",
       "      <td>540791</td>\n",
       "    </tr>\n",
       "    <tr>\n",
       "      <th>2</th>\n",
       "      <td>B02617</td>\n",
       "      <td>725025</td>\n",
       "    </tr>\n",
       "    <tr>\n",
       "      <th>3</th>\n",
       "      <td>B02682</td>\n",
       "      <td>662509</td>\n",
       "    </tr>\n",
       "    <tr>\n",
       "      <th>4</th>\n",
       "      <td>B02764</td>\n",
       "      <td>1914449</td>\n",
       "    </tr>\n",
       "    <tr>\n",
       "      <th>5</th>\n",
       "      <td>B02765</td>\n",
       "      <td>193670</td>\n",
       "    </tr>\n",
       "  </tbody>\n",
       "</table>\n",
       "</div>"
      ],
      "text/plain": [
       "  dispatching_base_number    trips\n",
       "0                  B02512    93786\n",
       "1                  B02598   540791\n",
       "2                  B02617   725025\n",
       "3                  B02682   662509\n",
       "4                  B02764  1914449\n",
       "5                  B02765   193670"
      ]
     },
     "execution_count": 72,
     "metadata": {},
     "output_type": "execute_result"
    }
   ],
   "source": [
    "# 1 Problem: a.Sum of all trips, dispatching base number wise (bar chart)\n",
    "displatch = df2.groupby(['dispatching_base_number'])['trips']\n",
    "displatch = displatch.sum().reset_index()\n",
    "displatch"
   ]
  },
  {
   "cell_type": "code",
   "execution_count": 73,
   "id": "4decfd71",
   "metadata": {},
   "outputs": [
    {
     "data": {
      "image/png": "[encoded data removed]",
      "text/plain": [
       "<Figure size 432x288 with 1 Axes>"
      ]
     },
     "metadata": {
      "needs_background": "light"
     },
     "output_type": "display_data"
    }
   ],
   "source": [
    "# Plotting below\n",
    "plt.bar(displatch['dispatching_base_number'], displatch['trips'])\n",
    "plt.title(\"Base wise total trip\")\n",
    "plt.xlabel('Dispatching base number')\n",
    "plt.ylabel('No of trips')\n",
    "plt.show()"
   ]
  },
  {
   "cell_type": "code",
   "execution_count": 74,
   "id": "0b538533",
   "metadata": {},
   "outputs": [
    {
     "name": "stdout",
     "output_type": "stream",
     "text": [
      "Average of all trips: 11667.316384180791\n"
     ]
    }
   ],
   "source": [
    "#2 Average of all trips\n",
    "print(f\"Average of all trips: {df2['trips'].mean()}\")"
   ]
  },
  {
   "cell_type": "code",
   "execution_count": 75,
   "id": "0d62df6f",
   "metadata": {},
   "outputs": [
    {
     "data": {
      "text/html": [
       "<div>\n",
       "<style scoped>\n",
       "    .dataframe tbody tr th:only-of-type {\n",
       "        vertical-align: middle;\n",
       "    }\n",
       "\n",
       "    .dataframe tbody tr th {\n",
       "        vertical-align: top;\n",
       "    }\n",
       "\n",
       "    .dataframe thead th {\n",
       "        text-align: right;\n",
       "    }\n",
       "</style>\n",
       "<table border=\"1\" class=\"dataframe\">\n",
       "  <thead>\n",
       "    <tr style=\"text-align: right;\">\n",
       "      <th></th>\n",
       "      <th>active_vehicles</th>\n",
       "      <th>trips</th>\n",
       "    </tr>\n",
       "    <tr>\n",
       "      <th>date</th>\n",
       "      <th></th>\n",
       "      <th></th>\n",
       "    </tr>\n",
       "  </thead>\n",
       "  <tbody>\n",
       "    <tr>\n",
       "      <th>1/1/2015</th>\n",
       "      <td>6885</td>\n",
       "      <td>56437</td>\n",
       "    </tr>\n",
       "    <tr>\n",
       "      <th>1/10/2015</th>\n",
       "      <td>7346</td>\n",
       "      <td>78484</td>\n",
       "    </tr>\n",
       "    <tr>\n",
       "      <th>1/11/2015</th>\n",
       "      <td>6571</td>\n",
       "      <td>57026</td>\n",
       "    </tr>\n",
       "    <tr>\n",
       "      <th>1/12/2015</th>\n",
       "      <td>7364</td>\n",
       "      <td>57646</td>\n",
       "    </tr>\n",
       "    <tr>\n",
       "      <th>1/13/2015</th>\n",
       "      <td>7559</td>\n",
       "      <td>63499</td>\n",
       "    </tr>\n",
       "  </tbody>\n",
       "</table>\n",
       "</div>"
      ],
      "text/plain": [
       "           active_vehicles  trips\n",
       "date                             \n",
       "1/1/2015              6885  56437\n",
       "1/10/2015             7346  78484\n",
       "1/11/2015             6571  57026\n",
       "1/12/2015             7364  57646\n",
       "1/13/2015             7559  63499"
      ]
     },
     "execution_count": 75,
     "metadata": {},
     "output_type": "execute_result"
    }
   ],
   "source": [
    "#3 Active Vehicles and Trips – summary date wise\n",
    "import warnings\n",
    "warnings.filterwarnings('ignore')\n",
    "vehicles = df2.groupby(['date'])['active_vehicles', 'trips']\n",
    "total = vehicles.sum()\n",
    "total.head()"
   ]
  },
  {
   "cell_type": "code",
   "execution_count": 76,
   "id": "24ea1e21",
   "metadata": {},
   "outputs": [
    {
     "data": {
      "text/html": [
       "<div>\n",
       "<style scoped>\n",
       "    .dataframe tbody tr th:only-of-type {\n",
       "        vertical-align: middle;\n",
       "    }\n",
       "\n",
       "    .dataframe tbody tr th {\n",
       "        vertical-align: top;\n",
       "    }\n",
       "\n",
       "    .dataframe thead th {\n",
       "        text-align: right;\n",
       "    }\n",
       "</style>\n",
       "<table border=\"1\" class=\"dataframe\">\n",
       "  <thead>\n",
       "    <tr style=\"text-align: right;\">\n",
       "      <th></th>\n",
       "      <th>active_vehicles</th>\n",
       "      <th>trips</th>\n",
       "    </tr>\n",
       "  </thead>\n",
       "  <tbody>\n",
       "    <tr>\n",
       "      <th>count</th>\n",
       "      <td>59.000000</td>\n",
       "      <td>59.000000</td>\n",
       "    </tr>\n",
       "    <tr>\n",
       "      <th>mean</th>\n",
       "      <td>7844.610169</td>\n",
       "      <td>70003.898305</td>\n",
       "    </tr>\n",
       "    <tr>\n",
       "      <th>std</th>\n",
       "      <td>1056.006825</td>\n",
       "      <td>15832.165185</td>\n",
       "    </tr>\n",
       "    <tr>\n",
       "      <th>min</th>\n",
       "      <td>3496.000000</td>\n",
       "      <td>25244.000000</td>\n",
       "    </tr>\n",
       "    <tr>\n",
       "      <th>25%</th>\n",
       "      <td>7355.000000</td>\n",
       "      <td>61201.000000</td>\n",
       "    </tr>\n",
       "    <tr>\n",
       "      <th>50%</th>\n",
       "      <td>7948.000000</td>\n",
       "      <td>71217.000000</td>\n",
       "    </tr>\n",
       "    <tr>\n",
       "      <th>75%</th>\n",
       "      <td>8502.500000</td>\n",
       "      <td>80811.000000</td>\n",
       "    </tr>\n",
       "    <tr>\n",
       "      <th>max</th>\n",
       "      <td>9649.000000</td>\n",
       "      <td>100915.000000</td>\n",
       "    </tr>\n",
       "  </tbody>\n",
       "</table>\n",
       "</div>"
      ],
      "text/plain": [
       "       active_vehicles          trips\n",
       "count        59.000000      59.000000\n",
       "mean       7844.610169   70003.898305\n",
       "std        1056.006825   15832.165185\n",
       "min        3496.000000   25244.000000\n",
       "25%        7355.000000   61201.000000\n",
       "50%        7948.000000   71217.000000\n",
       "75%        8502.500000   80811.000000\n",
       "max        9649.000000  100915.000000"
      ]
     },
     "execution_count": 76,
     "metadata": {},
     "output_type": "execute_result"
    }
   ],
   "source": [
    "total.describe()"
   ]
  },
  {
   "cell_type": "code",
   "execution_count": 77,
   "id": "07f0033d",
   "metadata": {},
   "outputs": [
    {
     "data": {
      "text/plain": [
       "<matplotlib.legend.Legend at 0x1beb201ba60>"
      ]
     },
     "execution_count": 77,
     "metadata": {},
     "output_type": "execute_result"
    },
    {
     "data": {
      "image/png": "[encoded data removed]",
      "text/plain": [
       "<Figure size 432x288 with 1 Axes>"
      ]
     },
     "metadata": {
      "needs_background": "light"
     },
     "output_type": "display_data"
    }
   ],
   "source": [
    "# Visualising\n",
    "x_axis = np.arange(len(total))\n",
    "plt.bar(x_axis,total['active_vehicles']*10, width=0.6, label = 'Active Vehicles')\n",
    "plt.bar(x_axis,total['trips'], width=0.6, label= 'Trips')\n",
    "plt.xticks(x_axis, total.index.values.tolist())\n",
    "plt.rcParams[\"figure.figsize\"] = (20,10)\n",
    "plt.legend()"
   ]
  },
  {
   "cell_type": "code",
   "execution_count": 78,
   "id": "f41bb395",
   "metadata": {},
   "outputs": [
    {
     "data": {
      "text/html": [
       "<div>\n",
       "<style scoped>\n",
       "    .dataframe tbody tr th:only-of-type {\n",
       "        vertical-align: middle;\n",
       "    }\n",
       "\n",
       "    .dataframe tbody tr th {\n",
       "        vertical-align: top;\n",
       "    }\n",
       "\n",
       "    .dataframe thead th {\n",
       "        text-align: right;\n",
       "    }\n",
       "</style>\n",
       "<table border=\"1\" class=\"dataframe\">\n",
       "  <thead>\n",
       "    <tr style=\"text-align: right;\">\n",
       "      <th></th>\n",
       "      <th>dispatching_base_number</th>\n",
       "      <th>date</th>\n",
       "      <th>active_vehicles</th>\n",
       "      <th>trips</th>\n",
       "    </tr>\n",
       "  </thead>\n",
       "  <tbody>\n",
       "    <tr>\n",
       "      <th>264</th>\n",
       "      <td>B02764</td>\n",
       "      <td>2/14/2015</td>\n",
       "      <td>4129</td>\n",
       "      <td>45858</td>\n",
       "    </tr>\n",
       "    <tr>\n",
       "      <th>300</th>\n",
       "      <td>B02764</td>\n",
       "      <td>2/20/2015</td>\n",
       "      <td>4384</td>\n",
       "      <td>44755</td>\n",
       "    </tr>\n",
       "    <tr>\n",
       "      <th>184</th>\n",
       "      <td>B02764</td>\n",
       "      <td>1/31/2015</td>\n",
       "      <td>3947</td>\n",
       "      <td>44297</td>\n",
       "    </tr>\n",
       "    <tr>\n",
       "      <th>311</th>\n",
       "      <td>B02764</td>\n",
       "      <td>2/21/2015</td>\n",
       "      <td>3981</td>\n",
       "      <td>44194</td>\n",
       "    </tr>\n",
       "    <tr>\n",
       "      <th>260</th>\n",
       "      <td>B02764</td>\n",
       "      <td>2/13/2015</td>\n",
       "      <td>4395</td>\n",
       "      <td>43561</td>\n",
       "    </tr>\n",
       "    <tr>\n",
       "      <th>...</th>\n",
       "      <td>...</td>\n",
       "      <td>...</td>\n",
       "      <td>...</td>\n",
       "      <td>...</td>\n",
       "    </tr>\n",
       "    <tr>\n",
       "      <th>24</th>\n",
       "      <td>B02512</td>\n",
       "      <td>1/5/2015</td>\n",
       "      <td>194</td>\n",
       "      <td>984</td>\n",
       "    </tr>\n",
       "    <tr>\n",
       "      <th>157</th>\n",
       "      <td>B02765</td>\n",
       "      <td>1/27/2015</td>\n",
       "      <td>135</td>\n",
       "      <td>921</td>\n",
       "    </tr>\n",
       "    <tr>\n",
       "      <th>8</th>\n",
       "      <td>B02512</td>\n",
       "      <td>1/2/2015</td>\n",
       "      <td>175</td>\n",
       "      <td>875</td>\n",
       "    </tr>\n",
       "    <tr>\n",
       "      <th>18</th>\n",
       "      <td>B02512</td>\n",
       "      <td>1/4/2015</td>\n",
       "      <td>147</td>\n",
       "      <td>791</td>\n",
       "    </tr>\n",
       "    <tr>\n",
       "      <th>160</th>\n",
       "      <td>B02512</td>\n",
       "      <td>1/27/2015</td>\n",
       "      <td>112</td>\n",
       "      <td>629</td>\n",
       "    </tr>\n",
       "  </tbody>\n",
       "</table>\n",
       "<p>354 rows × 4 columns</p>\n",
       "</div>"
      ],
      "text/plain": [
       "    dispatching_base_number       date  active_vehicles  trips\n",
       "264                  B02764  2/14/2015             4129  45858\n",
       "300                  B02764  2/20/2015             4384  44755\n",
       "184                  B02764  1/31/2015             3947  44297\n",
       "311                  B02764  2/21/2015             3981  44194\n",
       "260                  B02764  2/13/2015             4395  43561\n",
       "..                      ...        ...              ...    ...\n",
       "24                   B02512   1/5/2015              194    984\n",
       "157                  B02765  1/27/2015              135    921\n",
       "8                    B02512   1/2/2015              175    875\n",
       "18                   B02512   1/4/2015              147    791\n",
       "160                  B02512  1/27/2015              112    629\n",
       "\n",
       "[354 rows x 4 columns]"
      ]
     },
     "execution_count": 78,
     "metadata": {},
     "output_type": "execute_result"
    }
   ],
   "source": [
    "#4\n",
    "df2.sort_values(by='trips', ascending=False).reindex()"
   ]
  },
  {
   "cell_type": "code",
   "execution_count": null,
   "id": "a4c8f152",
   "metadata": {},
   "outputs": [],
   "source": []
  }
 ],
 "metadata": {
  "kernelspec": {
   "display_name": "Python 3",
   "language": "python",
   "name": "python3"
  },
  "language_info": {
   "codemirror_mode": {
    "name": "ipython",
    "version": 3
   },
   "file_extension": ".py",
   "mimetype": "text/x-python",
   "name": "python",
   "nbconvert_exporter": "python",
   "pygments_lexer": "ipython3",
   "version": "3.8.8"
  }
 },
 "nbformat": 4,
 "nbformat_minor": 5
}
