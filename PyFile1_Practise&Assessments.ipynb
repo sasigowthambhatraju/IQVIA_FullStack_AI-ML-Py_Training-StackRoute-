{
 "cells": [
  {
   "cell_type": "markdown",
   "id": "ba065ca5",
   "metadata": {},
   "source": [
    " I'm using stackroute_env virtual environment(see in the kernel section above) for whole cource "
   ]
  },
  {
   "cell_type": "code",
   "execution_count": null,
   "id": "c798a935",
   "metadata": {},
   "outputs": [],
   "source": [
    "x, y, z = 'tesla', 'lambo', 'mclaren'"
   ]
  },
  {
   "cell_type": "code",
   "execution_count": null,
   "id": "5d483bf8",
   "metadata": {},
   "outputs": [],
   "source": [
    "x"
   ]
  },
  {
   "cell_type": "code",
   "execution_count": null,
   "id": "879ea666",
   "metadata": {},
   "outputs": [],
   "source": [
    "y"
   ]
  },
  {
   "cell_type": "code",
   "execution_count": null,
   "id": "a4af90bd",
   "metadata": {},
   "outputs": [],
   "source": [
    "z"
   ]
  },
  {
   "cell_type": "code",
   "execution_count": null,
   "id": "3155dd6b",
   "metadata": {},
   "outputs": [],
   "source": [
    "x = \"awesome\"\n",
    "\n",
    "def myfunc():\n",
    "  global x\n",
    "  x = \"fantastic\"\n",
    "\n",
    "myfunc()\n",
    "\n",
    "print(\"Python is \" + x)"
   ]
  },
  {
   "cell_type": "code",
   "execution_count": null,
   "id": "747c7e44",
   "metadata": {},
   "outputs": [],
   "source": [
    "b = \"Hello, World!\"\n",
    "print(b[-15:-2])"
   ]
  },
  {
   "cell_type": "code",
   "execution_count": null,
   "id": "6fc4177c",
   "metadata": {},
   "outputs": [],
   "source": [
    "a = \"Hello, World!\"\n",
    "print(a.split(\", \"))"
   ]
  },
  {
   "cell_type": "code",
   "execution_count": null,
   "id": "d13fd754",
   "metadata": {},
   "outputs": [],
   "source": [
    "thislist = [\"apple\", \"banana\", \"cherry\"]\n",
    "if \"apple\" in thislist:\n",
    "  print(\"Yes, 'apple' is in the fruits list\")"
   ]
  },
  {
   "cell_type": "code",
   "execution_count": null,
   "id": "985606f6",
   "metadata": {},
   "outputs": [],
   "source": [
    "thislist = [\"apple\", \"banana\", \"cherry\"]\n",
    "thislist.append(\"orange\")\n",
    "print(thislist)"
   ]
  },
  {
   "cell_type": "code",
   "execution_count": null,
   "id": "50af0b00",
   "metadata": {},
   "outputs": [],
   "source": [
    "thislist = [\"apple\", \"banana\", \"cherry\"]\n",
    "thislist.insert(1, \"orange\")\n",
    "print(thislist)"
   ]
  },
  {
   "cell_type": "code",
   "execution_count": null,
   "id": "d1881dd4",
   "metadata": {},
   "outputs": [],
   "source": [
    "thislist = [\"apple\", \"banana\", \"cherry\"]\n",
    "tropical = [\"mango\", \"pineapple\", \"papaya\"]\n",
    "thislist.extend(tropical)\n",
    "print(thislist)"
   ]
  },
  {
   "cell_type": "code",
   "execution_count": null,
   "id": "6747030a",
   "metadata": {},
   "outputs": [],
   "source": [
    "file = open(\"feedback.txt\", 'w')\n",
    "file.write(\"The hotel welcome was great. The food was good. Swimming pool was closed. Wi-Fi not operational. Good staff\")\n",
    "file = open(\"feedback.txt\", 'r')\n",
    "file.read()"
   ]
  },
  {
   "cell_type": "code",
   "execution_count": null,
   "id": "ecb4c283",
   "metadata": {},
   "outputs": [],
   "source": [
    "file.seek(0)"
   ]
  },
  {
   "cell_type": "code",
   "execution_count": null,
   "id": "52ce89dd",
   "metadata": {},
   "outputs": [],
   "source": [
    "f = file.read()"
   ]
  },
  {
   "cell_type": "code",
   "execution_count": null,
   "id": "67d0e404",
   "metadata": {},
   "outputs": [],
   "source": [
    "f"
   ]
  },
  {
   "cell_type": "code",
   "execution_count": null,
   "id": "5ee51c52",
   "metadata": {},
   "outputs": [],
   "source": [
    "l1 = f.split(' ')\n",
    "l1"
   ]
  },
  {
   "cell_type": "code",
   "execution_count": null,
   "id": "7ef9def5",
   "metadata": {},
   "outputs": [],
   "source": [
    "positives = ['good', 'great']\n",
    "negatives = ['not', 'hate', 'bad']"
   ]
  },
  {
   "cell_type": "code",
   "execution_count": null,
   "id": "a34df9c5",
   "metadata": {},
   "outputs": [],
   "source": [
    "for word in l1:\n",
    "    print(word)"
   ]
  },
  {
   "cell_type": "code",
   "execution_count": null,
   "id": "a8b37f7a",
   "metadata": {},
   "outputs": [],
   "source": [
    "pcount = 0\n",
    "ncount = 0\n",
    "\n",
    "for word in l1:\n",
    "    for pos in positives:\n",
    "        if word.lower() in positives:\n",
    "            pcount += 1\n",
    "    for neg in negatives:\n",
    "        if word.lower() in negatives:\n",
    "            ncount += 1"
   ]
  },
  {
   "cell_type": "code",
   "execution_count": null,
   "id": "55c20b12",
   "metadata": {},
   "outputs": [],
   "source": []
  },
  {
   "cell_type": "code",
   "execution_count": null,
   "id": "c5e2d32f",
   "metadata": {},
   "outputs": [],
   "source": [
    "pcount"
   ]
  },
  {
   "cell_type": "code",
   "execution_count": null,
   "id": "8b4fddcd",
   "metadata": {},
   "outputs": [],
   "source": [
    "ncount"
   ]
  },
  {
   "cell_type": "code",
   "execution_count": null,
   "id": "65472644",
   "metadata": {},
   "outputs": [],
   "source": [
    "score = pcount - ncount\n",
    "if pcount > ncount:\n",
    "    print(f'Review is Positive with score {pcount}')\n",
    "elif pcount == ncount:\n",
    "    print(\"Both scores are same\")\n",
    "else:\n",
    "    print(f'Review is Negative with score {ncount}')\n",
    "print(f'Overal rating is {score}')"
   ]
  },
  {
   "cell_type": "code",
   "execution_count": null,
   "id": "b12ddb30",
   "metadata": {},
   "outputs": [],
   "source": [
    "import nltk"
   ]
  },
  {
   "cell_type": "code",
   "execution_count": null,
   "id": "b70c492a",
   "metadata": {},
   "outputs": [],
   "source": [
    "from nltk import word_tokenize"
   ]
  },
  {
   "cell_type": "code",
   "execution_count": null,
   "id": "07a96854",
   "metadata": {},
   "outputs": [],
   "source": [
    "nltk.download('punkt')"
   ]
  },
  {
   "cell_type": "code",
   "execution_count": null,
   "id": "7d5ffdee",
   "metadata": {},
   "outputs": [],
   "source": [
    "words = word_tokenize(f)"
   ]
  },
  {
   "cell_type": "code",
   "execution_count": null,
   "id": "0bb23fe1",
   "metadata": {},
   "outputs": [],
   "source": [
    "words"
   ]
  },
  {
   "cell_type": "code",
   "execution_count": null,
   "id": "05749244",
   "metadata": {},
   "outputs": [],
   "source": [
    "nltk.download('averaged_perceptron_tagger')\n"
   ]
  },
  {
   "cell_type": "code",
   "execution_count": null,
   "id": "188c0a97",
   "metadata": {},
   "outputs": [],
   "source": [
    "ps_w = nltk.pos_tag(words)"
   ]
  },
  {
   "cell_type": "code",
   "execution_count": null,
   "id": "61c7907f",
   "metadata": {},
   "outputs": [],
   "source": [
    "ps_w"
   ]
  },
  {
   "cell_type": "code",
   "execution_count": null,
   "id": "e58351ca",
   "metadata": {},
   "outputs": [],
   "source": [
    "thistuple = (\"apple\", \"banana\", \"cherry\")\n",
    "i = 0\n",
    "while i < len(thistuple):\n",
    "    print(thistuple[i])\n",
    "    i = i + 1\n"
   ]
  },
  {
   "cell_type": "code",
   "execution_count": null,
   "id": "cd56001c",
   "metadata": {},
   "outputs": [],
   "source": [
    "file = open(\"test.txt\", 'w')\n",
    "file.write(\"This is just testing\")\n"
   ]
  },
  {
   "cell_type": "code",
   "execution_count": null,
   "id": "81c704ec",
   "metadata": {},
   "outputs": [],
   "source": [
    "file = open(\"test.txt\", 'r')\n",
    "file.read()"
   ]
  },
  {
   "cell_type": "code",
   "execution_count": null,
   "id": "140fb5d4",
   "metadata": {},
   "outputs": [],
   "source": [
    "f2 = open(\"test.txt\", 'a')\n",
    "f2.write(\"This is simple appending\")\n"
   ]
  },
  {
   "cell_type": "code",
   "execution_count": null,
   "id": "6f074c1b",
   "metadata": {},
   "outputs": [],
   "source": [
    "with open(\"test.txt\", 'a') as f2:\n",
    "    f2.write(\"This is simple appending\")\n",
    "    "
   ]
  },
  {
   "cell_type": "code",
   "execution_count": null,
   "id": "c1f30c3a",
   "metadata": {},
   "outputs": [],
   "source": [
    "f3 = open(\"test.txt\", 'r')\n",
    "f3.read()"
   ]
  },
  {
   "cell_type": "code",
   "execution_count": null,
   "id": "d68ed0d2",
   "metadata": {},
   "outputs": [],
   "source": [
    "   if number > 1:\n",
    "                    for num in range(2, number):\n",
    "                        \n",
    "                        if (number % num) != 0:\n",
    "                            prime_nums.append(num)\n",
    "                        else:\n",
    "                            non_primes.append(num)\n",
    "                        print(f'List of Prime Numbers: {prime_nums}')"
   ]
  },
  {
   "cell_type": "code",
   "execution_count": null,
   "id": "a18bd62d",
   "metadata": {},
   "outputs": [],
   "source": [
    "file = open(\"Customer.txt\", 'w')\n",
    "file.write(\"Customer_ID, Customer_Name, Customer_Address, Customer_PinCode, Customer_Credit\")\n"
   ]
  },
  {
   "cell_type": "code",
   "execution_count": null,
   "id": "3fee07c6",
   "metadata": {},
   "outputs": [],
   "source": [
    "file2 = open(\"Customer.txt\", 'a')\n",
    "data = input(\"Enter the data which you wanna insert: \")\n",
    "file2.write(data)\n",
    "file2.write(\"\\n\")\n",
    "updated = open(\"Customer.txt\", 'r')\n",
    "updated = updated.read()\n",
    "updated"
   ]
  },
  {
   "cell_type": "code",
   "execution_count": null,
   "id": "69611965",
   "metadata": {},
   "outputs": [],
   "source": [
    "f2 = open(\"Customer.txt\", 'r')\n",
    "f2.read()"
   ]
  },
  {
   "cell_type": "code",
   "execution_count": null,
   "id": "f2719ace",
   "metadata": {},
   "outputs": [],
   "source": [
    "c_id = input(\"Enter Customer Id to be replaced with new data: \")\n",
    "file = open(\"Customer.txt\", \"r\")\n",
    "sentence_by_line = file.readlines()\n",
    "counting = 0\n",
    "for sentence in sentence_by_line:\n",
    "    if c_id in sentence:\n",
    "        replaced_sen = input(\"Enter Details which you want to update: \")\n",
    "        result = sentence.replace(sentence, replaced_sen)\n",
    "        \n",
    "        #li = result\n",
    "    counting += 1\n",
    "else:\n",
    "    print(\"Customer ID not present\")\n",
    "    \n",
    "# file.truncate(0)\n",
    "# file.writelines(li)\n",
    "# file.close()\n",
    "# c_id = input(\"Enter Customer Id to be replaced with new data: \")\n",
    "# file = open(\"Customer.txt\", \"r\")\n",
    "# doc = file.read()\n",
    "# file.close()\n",
    "# every_line = doc.split(\"\\n\")\n",
    "# counter = 0\n",
    "# for word in every_line:\n",
    "#     if c_id in word:\n",
    "#         updating = input(\"Enter Details To Be Updated: \")\n",
    "#         every_line[counter] = updating\n",
    "#         break\n",
    "#     else:\n",
    "#         counter += 1\n",
    "        \n",
    "# else:\n",
    "#     print(\"Invalid Customer ID\")\n",
    "        \n",
    "# new = open(\"Customer.txt\", \"w\")\n",
    "# for word in every_line:\n",
    "#     new.write('\\n')\n",
    "#     new.write(word)\n",
    "    "
   ]
  },
  {
   "cell_type": "code",
   "execution_count": null,
   "id": "349a199a",
   "metadata": {},
   "outputs": [],
   "source": [
    "file = open(\"Customer.txt\", 'r')\n",
    "file.read()"
   ]
  },
  {
   "cell_type": "code",
   "execution_count": null,
   "id": "fb5ae995",
   "metadata": {},
   "outputs": [],
   "source": []
  },
  {
   "cell_type": "code",
   "execution_count": null,
   "id": "f4a56447",
   "metadata": {},
   "outputs": [],
   "source": [
    "def user_input():\n",
    "    print(\"Please Choose Below Options...\")\n",
    "    print(\"1 for returning list of prime numbers\")\n",
    "    print(\"2 for Temperature Conversion\")\n",
    "    print(\"3 for CRUD operations on a file & 4 for Exit\")\n",
    "    option = input()\n",
    "    try:\n",
    "        # Below Code For Prime Numbers \n",
    "        if option == '1':\n",
    "            try:\n",
    "                initial = int(input(\"Please Enter Starting Number: \"))\n",
    "                final = int(input(\"Please Enter the final range Number: \"))\n",
    "                print(f\"Prime Number between {initial} & {final} are:\")\n",
    "                for number in range(initial, final):\n",
    "                    if number>1:\n",
    "                        for num in range(2, number):\n",
    "                            if (number % num) == 0:\n",
    "                                break\n",
    "                        else:\n",
    "                            print(number, end=\" \")\n",
    "            except Exception as ex:\n",
    "                print(f'You Got Exception which is :{ex}')\n",
    "                \n",
    "        # Below Code For Temperature Conversion\n",
    "        elif option == '2':\n",
    "            print(\"U've choosen temperature conversion\")\n",
    "            try:\n",
    "                number = float(input(\"Please Enter Number to be converted: \"))\n",
    "                print(\"Please choose the following option: '1' for Celcius to Farrenhite and '2' for Farrenhite to Celcius\")\n",
    "                opt = float(input())\n",
    "                if opt == 1:\n",
    "                    To_celcius = (5/9*(number - 32))\n",
    "                    print(f'Converted Temperature to Celcius is: {To_celcius}')\n",
    "                elif opt == 2:\n",
    "                    To_Farr = (9/5*(number + 32))\n",
    "                    print(f'Converted Temperature to Farrenhite is: {To_Farr}')\n",
    "            except Exception as ex:\n",
    "                print(f'You Got Exception which is :{ex}')\n",
    "                \n",
    "        # Below Code For CRUD Operations on a File.....\n",
    "        elif option == '3':\n",
    "            print(\"Please Look Below Options...\")\n",
    "            print(\"1 For inserting a record\")\n",
    "            print(\"2 For displaying a file\")\n",
    "            print(\"3 For updating a record in file\")\n",
    "            print(\"4 For deleting a record from file.\")\n",
    "            opt = int(input())\n",
    "            if opt == 1:\n",
    "                try:\n",
    "                    file2 = open(\"Customer.txt\", 'a')\n",
    "                    data = input(\"\\nEnter the data which you wanna insert: \")\n",
    "                    file2.write(f'\\n{data}')\n",
    "                    updated = open(\"Customer.txt\", 'r')\n",
    "                    updated = updated.read()\n",
    "                    print(updated)\n",
    "                except Exception as ex:\n",
    "                    print(ex)\n",
    "            elif opt == 2:\n",
    "                print(\"Displaying the contents of file Below.\")\n",
    "                final = open(\"Customer.txt\", 'r')\n",
    "                print(\"-\"*10)\n",
    "                final = final.read()\n",
    "                print(final)\n",
    "            elif opt == 3:\n",
    "                try:\n",
    "                    cid = input(\"Enter customer id to be updated with: \")\n",
    "                    with open(\"Customer.txt\", 'r', encoding='utf-8') as file:\n",
    "                        sentence_by_line = file.readlines()\n",
    "                        for sentence in sentence_by_line:\n",
    "                            if cid in sentence:\n",
    "                                replaced_record = input(\"Enter Details You Wann Update: \")\n",
    "                                index = sentence_by_line.index(sentence)\n",
    "                                sentence_by_line[index] = replaced_record\n",
    "                        with open(\"Customer.txt\", 'w', encoding='utf-8') as file:\n",
    "                            file.writelines(sentence_by_line)\n",
    "                except Exception as ex:\n",
    "                    print(\"Exception occured i.e: \", ex)\n",
    "                    \n",
    "            elif opt == 4:\n",
    "                try:\n",
    "                    file = open(\"Customer.txt\", 'r')\n",
    "                    sentence = file.readlines()\n",
    "                    cid = input(\"Enter customer id to be updated with: \")\n",
    "                    with open(\"Customer.txt\", 'w') as file:\n",
    "                        for word in sentence:\n",
    "                            if word.find(cid) == -1:\n",
    "                                file.write(word)\n",
    "                        if cid not in sentence:\n",
    "                            print(\"ID is'nt there\")\n",
    "                    print(\"Data been deleted from Customers.txt text file.\")\n",
    "                except Exception as ex:\n",
    "                    print(\"Exception Occured i.e: \", ex)\n",
    "                    \n",
    "        # Below Code For Exiting Function....\n",
    "        elif option == '4':\n",
    "            print(\"Exiting Bye!\")\n",
    "        else:\n",
    "            print(\"Please Only Provide the options which were given.......\")\n",
    "    except Exception as ex:\n",
    "        print(f\"Please choose from the options provided\\n You got error which is: {ex}\")"
   ]
  },
  {
   "cell_type": "code",
   "execution_count": null,
   "id": "494993b4",
   "metadata": {},
   "outputs": [],
   "source": [
    "u1 = user_input()"
   ]
  },
  {
   "cell_type": "code",
   "execution_count": null,
   "id": "70434cfe",
   "metadata": {},
   "outputs": [],
   "source": [
    "display = user_input()"
   ]
  },
  {
   "cell_type": "code",
   "execution_count": null,
   "id": "f9549423",
   "metadata": {},
   "outputs": [],
   "source": [
    "update1 = user_input()"
   ]
  },
  {
   "cell_type": "code",
   "execution_count": null,
   "id": "541050fd",
   "metadata": {},
   "outputs": [],
   "source": [
    "delete = user_input()"
   ]
  },
  {
   "cell_type": "code",
   "execution_count": null,
   "id": "cbaaf430",
   "metadata": {},
   "outputs": [],
   "source": [
    "u333 = user_input()"
   ]
  },
  {
   "cell_type": "code",
   "execution_count": null,
   "id": "00a27fa7",
   "metadata": {},
   "outputs": [],
   "source": [
    "u4 = user_input()"
   ]
  },
  {
   "cell_type": "code",
   "execution_count": null,
   "id": "759be885",
   "metadata": {},
   "outputs": [],
   "source": []
  },
  {
   "cell_type": "code",
   "execution_count": null,
   "id": "18724835",
   "metadata": {},
   "outputs": [],
   "source": [
    "# 22-08-2022"
   ]
  },
  {
   "cell_type": "code",
   "execution_count": null,
   "id": "657952eb",
   "metadata": {},
   "outputs": [],
   "source": [
    "def armstrong_num():\n",
    "    \"\"\"\n",
    "    This function is used to check if the given number is armstrong or not by taking the number from user input and printing \n",
    "    if it is armstrong or not after performing some operations\n",
    "    parameters - number(input from user)\n",
    "               - initial_sum, temperory place holder where value is 0 initially\n",
    "               - temp, temparory variable which stores value of number initilly\n",
    "    Steps - Now we are taking while loop to check if the given number is >0 or not if yes then performing operatins like dividing\n",
    "            the temp value with 10 and assigning to single_digit then raising the poser of 3 and adding to previous initial_sum\n",
    "            then dividing temp with 10 and finally if checking if number equils to initial_sum then it's armstrong number\n",
    "    \"\"\"\n",
    "    print(\"You have choosen armstrong number..\\n\\tPlease provide number\")\n",
    "    try:\n",
    "        number = input()\n",
    "        initial_sum = 0\n",
    "        temp = int(number)\n",
    "        while temp>0:\n",
    "            single_digit = temp % 10\n",
    "            initial_sum += single_digit ** len(number)\n",
    "            temp = temp//10\n",
    "        if number == str(initial_sum):\n",
    "            print(f\"\\t\\tYes the number {number} is armstrong\")\n",
    "        else:\n",
    "            print(f\"\\t\\tNo the number {number} is not armstrong\")\n",
    "    except Exception as ex:\n",
    "        print(f\"Exception occured i.e: {ex}\")"
   ]
  },
  {
   "cell_type": "code",
   "execution_count": null,
   "id": "ff2f67fa",
   "metadata": {},
   "outputs": [],
   "source": [
    "def palindrome():\n",
    "    \"\"\"\n",
    "    Function to determine if given input is palindrome or not\n",
    "    parameters - word(data will be provided by user)\n",
    "    Steps - initially assiging the reverse of input by slicing method to reversed_word variable and checking if it is equils \n",
    "    to original input if yes then printing the statement.\n",
    "    \"\"\"\n",
    "    try:\n",
    "        print(\"You Have Choosen palindrome..\\n\\tPlease provide word below:\")\n",
    "        word = input()\n",
    "        reversed_word = word[::-1]\n",
    "        if word == reversed_word:\n",
    "            print(f\"\\t\\tYes given {word} is palindrome\")\n",
    "        else:\n",
    "            print(f\"\\t\\tNo given {word} is not palindrome\")\n",
    "    except Exception as ex:\n",
    "        print(f\"Exception occured i.e: {ex}\")"
   ]
  },
  {
   "cell_type": "code",
   "execution_count": null,
   "id": "f67eaab1",
   "metadata": {},
   "outputs": [],
   "source": [
    "def number_sort():\n",
    "    try:\n",
    "        print(\"You Have Choosen sort..\\n\\tPlease choose between ASC or DESC below: \")\n",
    "        choice = input().lower()\n",
    "        if choice == 'asc':\n",
    "            user_input = input(\"\\t   Please provide numbers: \")\n",
    "            user_input = user_input.split()\n",
    "            total_int_values = []\n",
    "            for number in user_input:\n",
    "                number = int(number)\n",
    "                total_int_values.append(number)\n",
    "            sorted_list = sorted(total_int_values)\n",
    "            print(f\"\\t\\t\\tAscending numbers: {sorted_list}\")\n",
    "        elif choice == 'desc':\n",
    "            user_input = input(\"\\t   Please provide numbers: \")\n",
    "            user_input = user_input.split()\n",
    "            total_int_values = []\n",
    "            for number in user_input:\n",
    "                number = int(number)\n",
    "                total_int_values.append(number)\n",
    "                sorted_list = sorted(total_int_values, reverse=True)\n",
    "            print(f\"\\t\\t\\tDscending numbers: {sorted_list}\")\n",
    "        else:\n",
    "            print(\"\\t   Please check your input....\")\n",
    "    except Exception as ex:\n",
    "        return ex"
   ]
  },
  {
   "cell_type": "code",
   "execution_count": null,
   "id": "c7841717",
   "metadata": {},
   "outputs": [],
   "source": [
    "def word_sort():\n",
    "    try:\n",
    "        total_word_list = []\n",
    "        word_input = input(\"Please provide words: \").split()\n",
    "        print(\"\\tPlease choose between ASC or DESC below: \")\n",
    "        choice = input().lower()\n",
    "        if choice == 'asc':\n",
    "            word_input.sort()\n",
    "            total_word_list.append(word_input)\n",
    "            print(f\"\\t   Ascending words: {total_word_list}\")\n",
    "        elif choice == 'desc':\n",
    "            word_input.sort(reverse=True)\n",
    "            total_word_list.append(word_input)\n",
    "            print(f\"\\t   Descending words: {total_word_list}\")\n",
    "        else:\n",
    "            print(\"\\t    Please check your input....\")\n",
    "    except Exception as ex:\n",
    "        print(ex)"
   ]
  },
  {
   "cell_type": "code",
   "execution_count": null,
   "id": "f88b4d26",
   "metadata": {},
   "outputs": [],
   "source": [
    "def sort_whole_list():\n",
    "    print(\"\\tPlease see below options: \\n Enter 'numbers' for sorted number list\\n Enter 'words' for word list\")\n",
    "    try:\n",
    "        main_choice = input().lower()\n",
    "        if main_choice == 'numbers':\n",
    "            number_sort()\n",
    "        elif main_choice == 'words':\n",
    "            word_sort()\n",
    "        else:\n",
    "            print(\"\\tPlease choose correctly from provided options.....\")\n",
    "    except Exception as ex:\n",
    "        return ex\n",
    "        "
   ]
  },
  {
   "cell_type": "markdown",
   "id": "f8d2b266",
   "metadata": {},
   "source": [
    "Main Options for users below"
   ]
  },
  {
   "cell_type": "code",
   "execution_count": null,
   "id": "7d7b6e42",
   "metadata": {},
   "outputs": [],
   "source": [
    "def user_choice():\n",
    "    while True:\n",
    "        print(\"Please see below options....\\n 1. for armstron number..\\n 2. for palindrome word..\\n 3.for sorting number or words..\\n 4. for exit\")\n",
    "        option = input()\n",
    "        try:\n",
    "            if option == '1':\n",
    "                armstrong_num()\n",
    "                print(\"-\"*60)\n",
    "                continue\n",
    "            elif option == '2':\n",
    "                palindrome()\n",
    "                print(\"-\"*60)\n",
    "                continue\n",
    "            elif option == '3':\n",
    "                sort_whole_list()\n",
    "                print(\"-\"*60)\n",
    "                continue\n",
    "            elif option == '4':\n",
    "                print(\"Exiting Bye!...\")\n",
    "                break\n",
    "            else:\n",
    "                print(\"Please provide the options that have been shown above?!.\")\n",
    "\n",
    "        except Exception as ex:\n",
    "            print(f\"U got an exception: {ex}\")"
   ]
  },
  {
   "cell_type": "code",
   "execution_count": null,
   "id": "e3bcf88e",
   "metadata": {},
   "outputs": [],
   "source": [
    "mainu = user_choice()"
   ]
  },
  {
   "cell_type": "raw",
   "id": "7b0e658e",
   "metadata": {},
   "source": []
  },
  {
   "cell_type": "code",
   "execution_count": null,
   "id": "5e06240f",
   "metadata": {},
   "outputs": [],
   "source": [
    "# 23-08-2022"
   ]
  },
  {
   "cell_type": "code",
   "execution_count": null,
   "id": "a0afdaa9",
   "metadata": {},
   "outputs": [],
   "source": []
  },
  {
   "cell_type": "code",
   "execution_count": null,
   "id": "f44f7a42",
   "metadata": {},
   "outputs": [],
   "source": [
    "# 25-08-2022"
   ]
  },
  {
   "cell_type": "code",
   "execution_count": null,
   "id": "87f0329b",
   "metadata": {},
   "outputs": [],
   "source": [
    "s1 = {\"apple\", \"banana\", \"orange\"}"
   ]
  },
  {
   "cell_type": "code",
   "execution_count": null,
   "id": "93a351dc",
   "metadata": {},
   "outputs": [],
   "source": [
    "len(s1)"
   ]
  },
  {
   "cell_type": "code",
   "execution_count": null,
   "id": "7f24bf50",
   "metadata": {},
   "outputs": [],
   "source": [
    "for x in s1:\n",
    "    print(x)"
   ]
  },
  {
   "cell_type": "code",
   "execution_count": null,
   "id": "7b953610",
   "metadata": {},
   "outputs": [],
   "source": [
    "s1.add(\"cherry\")\n",
    "s1"
   ]
  },
  {
   "cell_type": "code",
   "execution_count": null,
   "id": "f71533b2",
   "metadata": {},
   "outputs": [],
   "source": [
    "thisset = {\"apple\", \"banana\", \"cherry\"}\n",
    "mylist = [\"kiwi\", \"orange\"]\n",
    "\n",
    "thisset.update(mylist)\n",
    "\n",
    "print(thisset)"
   ]
  },
  {
   "cell_type": "code",
   "execution_count": null,
   "id": "f59e431b",
   "metadata": {},
   "outputs": [],
   "source": [
    "thisset = {\"apple\", \"banana\", \"cherry\"}\n",
    "\n",
    "thisset.remove(\"banana\")\n",
    "\n",
    "print(thisset)"
   ]
  },
  {
   "cell_type": "code",
   "execution_count": null,
   "id": "64574f70",
   "metadata": {},
   "outputs": [],
   "source": [
    "thisset = {\"apple\", \"banana\", \"cherry\"}\n",
    "\n",
    "thisset.discard(\"banana\")\n",
    "\n",
    "print(thisset)"
   ]
  },
  {
   "cell_type": "code",
   "execution_count": null,
   "id": "36afd9b0",
   "metadata": {},
   "outputs": [],
   "source": [
    "set1 = {\"a\", \"b\" , \"c\"}\n",
    "set2 = {1, 2, 3}\n",
    "\n",
    "set3 = set1.union(set2)\n",
    "print(set3)"
   ]
  },
  {
   "cell_type": "code",
   "execution_count": null,
   "id": "3c609d34",
   "metadata": {},
   "outputs": [],
   "source": [
    "thisdict = {\n",
    "  \"brand\": \"Ford\",\n",
    "  \"model\": \"Mustang\",\n",
    "  \"year\": 1964\n",
    "}"
   ]
  },
  {
   "cell_type": "code",
   "execution_count": null,
   "id": "2b88de3f",
   "metadata": {},
   "outputs": [],
   "source": [
    "thisdict"
   ]
  },
  {
   "cell_type": "code",
   "execution_count": null,
   "id": "a31456e8",
   "metadata": {},
   "outputs": [],
   "source": [
    "thisdict = {\n",
    "  \"brand\": \"Ford\",\n",
    "  \"model\": \"Mustang\",\n",
    "  \"year\": 1964\n",
    "}\n",
    "x = thisdict[\"model\"]"
   ]
  },
  {
   "cell_type": "code",
   "execution_count": null,
   "id": "df75cb3e",
   "metadata": {},
   "outputs": [],
   "source": [
    "x"
   ]
  },
  {
   "cell_type": "code",
   "execution_count": null,
   "id": "3e9daba9",
   "metadata": {},
   "outputs": [],
   "source": [
    "thisdict = {\n",
    "  \"brand\": \"Ford\",\n",
    "  \"model\": \"Mustang\",\n",
    "  \"year\": 1964\n",
    "}\n",
    "thisdict[\"year\"] = 2018"
   ]
  },
  {
   "cell_type": "code",
   "execution_count": null,
   "id": "3403dc91",
   "metadata": {},
   "outputs": [],
   "source": [
    "thisdict"
   ]
  },
  {
   "cell_type": "code",
   "execution_count": null,
   "id": "37cdb715",
   "metadata": {},
   "outputs": [],
   "source": [
    "import matplotlib.pyplot as plt"
   ]
  },
  {
   "cell_type": "code",
   "execution_count": null,
   "id": "31f56a80",
   "metadata": {},
   "outputs": [],
   "source": [
    "\n",
    "import numpy as np\n",
    "\n",
    "xpoints = np.array([0, 6])\n",
    "ypoints = np.array([0, 250])\n",
    "\n",
    "plt.plot(xpoints, ypoints)\n",
    "plt.show()"
   ]
  },
  {
   "cell_type": "code",
   "execution_count": null,
   "id": "8e4bfadd",
   "metadata": {},
   "outputs": [],
   "source": [
    "import matplotlib.pyplot as plt\n",
    "import numpy as np\n",
    "\n",
    "xpoints = np.array([1, 8])\n",
    "ypoints = np.array([3, 10])\n",
    "\n",
    "plt.plot(xpoints, ypoints, 'o')\n",
    "plt.show()"
   ]
  },
  {
   "cell_type": "code",
   "execution_count": null,
   "id": "bbee1d34",
   "metadata": {},
   "outputs": [],
   "source": [
    "import matplotlib.pyplot as plt\n",
    "import numpy as np\n",
    "\n",
    "xpoints = np.array([1, 2, 6, 8])\n",
    "ypoints = np.array([3, 8, 1, 10])\n",
    "\n",
    "plt.plot(xpoints, ypoints)\n",
    "plt.show()"
   ]
  },
  {
   "cell_type": "code",
   "execution_count": null,
   "id": "fda426a1",
   "metadata": {},
   "outputs": [],
   "source": [
    "ypoints = np.array([3, 8, 1, 10, 5, 7])\n",
    "\n",
    "plt.plot(ypoints)\n",
    "plt.show()"
   ]
  },
  {
   "cell_type": "code",
   "execution_count": null,
   "id": "2a6f146b",
   "metadata": {},
   "outputs": [],
   "source": [
    "x = np.array([80, 85, 90, 95, 100, 105, 110, 115, 120, 125])\n",
    "y = np.array([240, 250, 260, 270, 280, 290, 300, 310, 320, 330])\n",
    "\n",
    "font1 = {'family':'serif','color':'blue','size':20}\n",
    "font2 = {'family':'serif','color':'darkred','size':15}\n",
    "\n",
    "plt.title(\"Sports Watch Data\", fontdict = font1)\n",
    "plt.xlabel(\"Average Pulse\", fontdict = font2)\n",
    "plt.ylabel(\"Calorie Burnage\", fontdict = font2)\n",
    "\n",
    "plt.plot(x, y)\n",
    "plt.show()"
   ]
  },
  {
   "cell_type": "code",
   "execution_count": null,
   "id": "79a3b7af",
   "metadata": {},
   "outputs": [],
   "source": [
    "x = np.array([5,7,8,7,2,17,2,9,4,11,12,9,6])\n",
    "y = np.array([99,86,87,88,111,86,103,87,94,78,77,85,86])\n",
    "\n",
    "plt.scatter(x, y)\n",
    "plt.show()"
   ]
  },
  {
   "cell_type": "code",
   "execution_count": null,
   "id": "10c34593",
   "metadata": {},
   "outputs": [],
   "source": [
    "y = np.array([35, 25, 25, 15])\n",
    "\n",
    "plt.pie(y)\n",
    "plt.show() "
   ]
  },
  {
   "cell_type": "code",
   "execution_count": null,
   "id": "bafedfed",
   "metadata": {},
   "outputs": [],
   "source": [
    "import numpy\n",
    "\n",
    "arr = numpy.array([1, 2, 3, 4, 5])\n",
    "\n",
    "print(arr)"
   ]
  },
  {
   "cell_type": "code",
   "execution_count": null,
   "id": "6b607313",
   "metadata": {},
   "outputs": [],
   "source": [
    "import numpy as np\n",
    "\n",
    "a = np.array(42)\n",
    "b = np.array([1, 2, 3, 4, 5])\n",
    "c = np.array([[1, 2, 3], [4, 5, 6]])\n",
    "d = np.array([[[1, 2, 3], [4, 5, 6]], [[1, 2, 3], [4, 5, 6]]])\n",
    "\n",
    "print(a.ndim)\n",
    "print(b.ndim)\n",
    "print(c.ndim)\n",
    "print(d.ndim)"
   ]
  },
  {
   "cell_type": "code",
   "execution_count": null,
   "id": "8d1d41ef",
   "metadata": {},
   "outputs": [],
   "source": []
  },
  {
   "cell_type": "code",
   "execution_count": null,
   "id": "0b066c6a",
   "metadata": {},
   "outputs": [],
   "source": []
  },
  {
   "cell_type": "code",
   "execution_count": null,
   "id": "ca164fc8",
   "metadata": {},
   "outputs": [],
   "source": [
    "f = febo()"
   ]
  },
  {
   "cell_type": "markdown",
   "id": "1bd0cdf1",
   "metadata": {},
   "source": [
    "### MINI PROJECT(26-08-2022)"
   ]
  },
  {
   "cell_type": "code",
   "execution_count": null,
   "id": "29c33400",
   "metadata": {},
   "outputs": [],
   "source": [
    "def febo():\n",
    "    try:\n",
    "        fibonacciList = [0, 1]\n",
    "        end_number = int(input(\"Enter how many fibonacci series numbers you want\\n\"))\n",
    "        if end_number<0:\n",
    "            print(\"Please provide positive number..\")\n",
    "        elif end_number == 0:\n",
    "            return 0\n",
    "        else:\n",
    "            term = 3\n",
    "            while term < end_number + 1:\n",
    "                value = fibonacciList[term - 2] + fibonacciList[term - 3]\n",
    "                fibonacciList.append(value)\n",
    "                term = term + 1\n",
    "            print(f\"The Range of Fibonacci numbers of given range {end_number} are below\")\n",
    "            print(fibonacciList)\n",
    "    except Exception as ex:\n",
    "        print(f\"Got Error, Please Provide integers value only.......\\n  {ex}\")"
   ]
  },
  {
   "cell_type": "code",
   "execution_count": null,
   "id": "6acf6a5e",
   "metadata": {},
   "outputs": [],
   "source": [
    "f1 = febo()"
   ]
  },
  {
   "cell_type": "code",
   "execution_count": null,
   "id": "c5de7bdd",
   "metadata": {},
   "outputs": [],
   "source": [
    "import pandas as pd, matplotlib.pyplot as plt"
   ]
  },
  {
   "cell_type": "code",
   "execution_count": null,
   "id": "3be31aa0",
   "metadata": {
    "scrolled": true
   },
   "outputs": [],
   "source": [
    "data=pd.read_csv(\"assess1.csv\")\n",
    "data.plot(x=\"Name\", y=\"Age\", kind=\"bar\",color = \"r\")"
   ]
  },
  {
   "cell_type": "code",
   "execution_count": null,
   "id": "b44068dd",
   "metadata": {},
   "outputs": [],
   "source": []
  },
  {
   "cell_type": "code",
   "execution_count": null,
   "id": "51e70211",
   "metadata": {},
   "outputs": [],
   "source": [
    "data.plot(x=\"Name\", y=\"Salary\", kind=\"bar\",color = \"blue\")"
   ]
  },
  {
   "cell_type": "code",
   "execution_count": null,
   "id": "02a35f13",
   "metadata": {},
   "outputs": [],
   "source": [
    "import numpy as np, matplotlib.pyplot as plt\n",
    "Names = ['Rajesh','Baby','Arun','Paras','Amaya']\n",
    "Salary = [4500, 3489, 3298, 5670, 7650]\n",
    "Age = np.array([35, 27, 54, 25, 18])\n",
    "x_axis = np.arange(len(Names))\n",
    "# Multi bar Chart\n",
    "plt.bar(x_axis -0.2, Salary, width=0.4, label = 'Salary')\n",
    "plt.bar(x_axis +0.2, Age*100, width=0.4, label = 'Age')\n",
    "# Xticks\n",
    "plt.xticks(x_axis, Names)\n",
    "# Add legend\n",
    "plt.legend()\n",
    "# Display\n",
    "plt.show()"
   ]
  },
  {
   "cell_type": "code",
   "execution_count": null,
   "id": "0848cf16",
   "metadata": {},
   "outputs": [],
   "source": [
    "plt.pie(data[\"Salary\"], labels=data[\"Name\"],shadow = True)\n",
    "plt.show()"
   ]
  },
  {
   "cell_type": "code",
   "execution_count": null,
   "id": "3e41e169",
   "metadata": {},
   "outputs": [],
   "source": [
    "mycolors = [\"g\", \"r\", \"c\", \"b\",\"y\"]\n",
    "plt.pie(data[\"Age\"], labels=data[\"Name\"],shadow = True, colors = mycolors)\n",
    "plt.legend(title = \"Employees\", bbox_to_anchor= (1.05, 1))\n",
    "plt.show()"
   ]
  },
  {
   "cell_type": "code",
   "execution_count": null,
   "id": "e0605989",
   "metadata": {},
   "outputs": [],
   "source": []
  },
  {
   "cell_type": "code",
   "execution_count": null,
   "id": "2369c4cf",
   "metadata": {},
   "outputs": [],
   "source": [
    "# 30-8-202"
   ]
  },
  {
   "cell_type": "code",
   "execution_count": null,
   "id": "989321c3",
   "metadata": {},
   "outputs": [],
   "source": [
    "from sklearn import tree"
   ]
  },
  {
   "cell_type": "code",
   "execution_count": null,
   "id": "af227606",
   "metadata": {},
   "outputs": [],
   "source": [
    "# Simple Decision Tree Classifier program\n",
    "def simple_ml():\n",
    "    features = [[140,1],[130,1],[120,1],[150,0],[170,0],[190,0],[200,1]] # Giving features set of values\n",
    "    labels = [0,0,0,1,1,1,0] # Giving Labels\n",
    "\n",
    "    #Importing decision tree classifier\n",
    "    classifier = tree.DecisionTreeClassifier()\n",
    "    classifier = classifier.fit(features, labels) # fitting features & labels in order to train the ML Model\n",
    "\n",
    "    feature = input(\"Enter weight: \") # Asking the user input for feature\n",
    "    label = input(\"Enter texture 0 or 1: \") # Asking user for label \n",
    "\n",
    "    # Checking if the input is in the trined model and printing the result repectively\n",
    "    try:\n",
    "        if classifier.predict([[feature,label]]) == 1:\n",
    "            print(\"Apple\")\n",
    "        else:\n",
    "            print(\"Orange\")\n",
    "    except Exception as ex:\n",
    "        return ex"
   ]
  },
  {
   "cell_type": "code",
   "execution_count": null,
   "id": "63ace289",
   "metadata": {},
   "outputs": [],
   "source": [
    "s1 = simple_ml()"
   ]
  },
  {
   "cell_type": "code",
   "execution_count": null,
   "id": "f0ff72ba",
   "metadata": {},
   "outputs": [],
   "source": []
  },
  {
   "cell_type": "markdown",
   "id": "13ff75cb",
   "metadata": {},
   "source": [
    "Simple ASSESSMENT-9"
   ]
  },
  {
   "cell_type": "code",
   "execution_count": null,
   "id": "f2dc0af1",
   "metadata": {},
   "outputs": [],
   "source": [
    "def predict():\n",
    "    features = [[140,1],[130,1],[120,1],[150,0],[170,0],[190,0],[200,1]] # Giving features set of values\n",
    "    labels = [0,0,0,1,1,1,0] # Giving Labels\n",
    "\n",
    "    #Importing decision tree classifier\n",
    "    classifier = tree.DecisionTreeClassifier()\n",
    "    classifier = classifier.fit(features, labels) # fitting features & labels in order to train the ML Model\n",
    "\n",
    "    feature = input(\"Enter weight: \") # Asking the user input for feature\n",
    "    label = input(\"Enter texture 0 or 1: \") # Asking user for label \n",
    "\n",
    "    # Checking if the input is in the trined model and printing the result repectively\n",
    "    try:\n",
    "        if classifier.predict([[feature,label]]) == 1:\n",
    "            print(\"Apple\")\n",
    "        else:\n",
    "            print(\"Orange\")\n",
    "    except Exception as ex:\n",
    "        return ex"
   ]
  },
  {
   "cell_type": "code",
   "execution_count": null,
   "id": "b655f262",
   "metadata": {},
   "outputs": [],
   "source": [
    "def teach():\n",
    "    try:\n",
    "        print(\"Please Enter input in [Weight,Texture] combination below:\")\n",
    "        features = list(input())\n",
    "        print(\"Please enter labels in between 0 & 1 seperated by , i.e 0,0,1 etc:\")\n",
    "        labels=list(input())\n",
    "        cls = tree.DecisionTreeClassifier()\n",
    "        cls=cls.fit(features,labels)\n",
    "#         if cls.predict([features,labels]) == 1:\n",
    "#             print(\"Apple\")\n",
    "#         elif:\n",
    "#             print(\"Orrange\")\n",
    "    except Exception as ex:\n",
    "        print(\"Please enter the input in only specified maner above, got exception\",ex)"
   ]
  },
  {
   "cell_type": "code",
   "execution_count": null,
   "id": "8bd9fd2d",
   "metadata": {},
   "outputs": [],
   "source": [
    "def menu():\n",
    "    option = input(\"Please Enter Your choice between 'Predict' & 'Teach'\").lower()\n",
    "    if option == 'predict':\n",
    "        predict()\n",
    "    elif option == 'teach':\n",
    "        teach()\n",
    "    else:\n",
    "        print(\"Please provide the correct option...\")"
   ]
  },
  {
   "cell_type": "code",
   "execution_count": null,
   "id": "911b0f06",
   "metadata": {},
   "outputs": [],
   "source": []
  },
  {
   "cell_type": "code",
   "execution_count": null,
   "id": "fb4756be",
   "metadata": {},
   "outputs": [],
   "source": []
  },
  {
   "cell_type": "code",
   "execution_count": null,
   "id": "5435145b",
   "metadata": {},
   "outputs": [],
   "source": []
  },
  {
   "cell_type": "code",
   "execution_count": null,
   "id": "1a2f7d22",
   "metadata": {},
   "outputs": [],
   "source": [
    "def menu():\n",
    "    cls = tree.DecisionTreeClassifier()\n",
    "    option = input(\"Please Enter Your choice between 'INPUT' 'Predict' & 'Teach'\").lower()\n",
    "    if option == 'input':\n",
    "        file = open(\"predictions.txt\",'a')\n",
    "        print(\"Please Enter the data in [weight,Texture] combination format & labels data like 0 or 1\")\n",
    "        data = list(input())\n",
    "        file.write(f'\\n{data}')\n",
    "        updated = open(\"predictions.txt\",'r')\n",
    "        updated = updated.readlines()\n",
    "    elif option == 'predict':\n",
    "        for lines in updated:\n",
    "            features = lines\n",
    "            labels = lines + 1\n",
    "            cls.fit(features, labels)\n",
    "            if cls.predict([features,labels]) == 1:\n",
    "                print(\"Apple\")\n",
    "            else:\n",
    "                print(\"Orange\")\n",
    "    elif option == 'teach':\n",
    "        for lines in updated:\n",
    "            features = lines\n",
    "            labels = lines + 1\n",
    "            cls.fit(features, labels)\n",
    "    else:\n",
    "        print(\"Please enter the correct option\")"
   ]
  },
  {
   "cell_type": "code",
   "execution_count": null,
   "id": "406b018c",
   "metadata": {},
   "outputs": [],
   "source": [
    "m1 = menu()"
   ]
  },
  {
   "cell_type": "code",
   "execution_count": null,
   "id": "49c5833b",
   "metadata": {},
   "outputs": [],
   "source": [
    "from sklearn import tree\n",
    "cls = tree.DecisionTreeClassifier()\n",
    "def covid_train(temp,travel,vom,bp):\n",
    "    cls.fit([temp,travel,vom,bp])\n",
    "\n",
    "def covid_predict():\n",
    "    cls.predict(covid_predict())"
   ]
  },
  {
   "cell_type": "code",
   "execution_count": null,
   "id": "d2b54e76",
   "metadata": {},
   "outputs": [],
   "source": [
    "\n"
   ]
  },
  {
   "cell_type": "code",
   "execution_count": null,
   "id": "814b622c",
   "metadata": {},
   "outputs": [],
   "source": [
    "def menu2():\n",
    "    \n",
    "    try:\n",
    "        option = input(\"Please choose between predict or train: \").lower()\n",
    "        if option == 'train':\n",
    "            temparature = int(input(\"Please enter temperature: \"))\n",
    "            travel = input(\"Please enter Yes or No if travelled: \").lower()\n",
    "            vomting = input(\"Please enter Yes or No if the patient feel like vomting sensation: \").lower()\n",
    "            blood_pressure = int(input(\"Please enter blood pressure value: \"))\n",
    "            model = covid_train()\n",
    "            model(temparature,travel,vomting,blood_pressure)\n",
    "\n",
    "        elif option == 'predict':\n",
    "            prediction = covid_predict()\n",
    "            #if model.temparature>=102 and model.travel == 'yes' and model.vomting == 'yes' and model.blood_pressure>=130:\n",
    "            if prediction([])\n",
    "                print(\"Patient is Covid Positive...\")\n",
    "            else:\n",
    "                print(\"Patient is Covid Negative..\")\n",
    "    except Exception as ex:\n",
    "        return ex"
   ]
  },
  {
   "cell_type": "code",
   "execution_count": null,
   "id": "861cd832",
   "metadata": {},
   "outputs": [],
   "source": [
    "m2 = menu2()"
   ]
  },
  {
   "cell_type": "code",
   "execution_count": null,
   "id": "71e043c7",
   "metadata": {},
   "outputs": [],
   "source": [
    "m2_2 = menu2()"
   ]
  },
  {
   "cell_type": "code",
   "execution_count": null,
   "id": "5ca383dd",
   "metadata": {},
   "outputs": [],
   "source": [
    "from sklearn import tree\n",
    "cls = tree.DecisionTreeClassifier()"
   ]
  },
  {
   "cell_type": "code",
   "execution_count": null,
   "id": "cd23b15f",
   "metadata": {},
   "outputs": [],
   "source": [
    "def teach_model(features,textures,labels):\n",
    "    cls.fit([features, textures, labels])"
   ]
  },
  {
   "cell_type": "code",
   "execution_count": null,
   "id": "8c7872cd",
   "metadata": {},
   "outputs": [],
   "source": [
    "def menu():\n",
    "    model = teach_model()\n",
    "    option = input(\"Please Enter Your choice between 'Predict','Teach' & 'Exit'\").lower()\n",
    "    if option == 'predict':\n",
    "        feature = input(\"Enter Weight: \")\n",
    "        texture = input(\"Enter Texture value either 0 or 1: \")\n",
    "        "
   ]
  },
  {
   "cell_type": "code",
   "execution_count": null,
   "id": "3aa035fe",
   "metadata": {},
   "outputs": [],
   "source": []
  },
  {
   "cell_type": "code",
   "execution_count": null,
   "id": "3e05ea26",
   "metadata": {},
   "outputs": [],
   "source": [
    "# 1-09-2022"
   ]
  },
  {
   "cell_type": "code",
   "execution_count": null,
   "id": "161496bd",
   "metadata": {},
   "outputs": [],
   "source": [
    "# Simple chatbot\n",
    "import random\n",
    "\n",
    "greetings = ['hello', 'Hello', 'hi', 'Hi', 'hola', 'Hola', 'Hey', 'hey', 'Hey!', 'hey!']\n",
    "question = ['How are you?', 'How are you doing?']\n",
    "responses = ['Okay', 'ok', \"I'm fine\"]\n",
    "\n",
    "while True:\n",
    "    user_input = input(\">>> \")\n",
    "    if user_input in greetings:\n",
    "        print(random.choice(greetings))\n",
    "    elif user_input in question:\n",
    "        print(random.choice(responses))\n",
    "    else:\n",
    "        print(\"I don't understood what you've enteres..\")\n",
    "        break"
   ]
  },
  {
   "cell_type": "code",
   "execution_count": null,
   "id": "7c6d1613",
   "metadata": {},
   "outputs": [],
   "source": []
  },
  {
   "cell_type": "code",
   "execution_count": null,
   "id": "49ef880e",
   "metadata": {},
   "outputs": [],
   "source": [
    "greetings = ['Good mroning', 'thank you', 'please']\n",
    "greet = open(\"greetings.txt\", 'w')\n",
    "greet.write('\\n'.join(greetings))\n",
    "g1 = open(\"greetings.txt\", 'r')\n",
    "g2 = g1.read()\n",
    "print(g2)"
   ]
  },
  {
   "cell_type": "code",
   "execution_count": null,
   "id": "6b365e0d",
   "metadata": {},
   "outputs": [],
   "source": [
    "data = ['130,0,1', '140,0,1', '150,1,0', '160,1,0', '200,0,1']\n",
    "file = open(\"predictions.txt\", 'w')\n",
    "file.write('\\n'.join(data))"
   ]
  },
  {
   "cell_type": "code",
   "execution_count": null,
   "id": "ee291339",
   "metadata": {},
   "outputs": [],
   "source": [
    "file = open('predictions.txt', 'r')\n",
    "file.read()"
   ]
  },
  {
   "cell_type": "code",
   "execution_count": null,
   "id": "0d0ce8dc",
   "metadata": {},
   "outputs": [],
   "source": [
    "f2 = open(\"predictions.txt\", 'r')\n",
    "f3 = f2.read()\n",
    "print(f3)"
   ]
  },
  {
   "cell_type": "code",
   "execution_count": null,
   "id": "28180a06",
   "metadata": {},
   "outputs": [],
   "source": [
    "single = f3.split(',')\n",
    "single"
   ]
  },
  {
   "cell_type": "code",
   "execution_count": null,
   "id": "f65b7ec9",
   "metadata": {},
   "outputs": [],
   "source": []
  },
  {
   "cell_type": "code",
   "execution_count": null,
   "id": "656674ca",
   "metadata": {},
   "outputs": [],
   "source": [
    "updated = open('predictions.txt', 'r')\n",
    "updated = updated.read()\n",
    "updated"
   ]
  },
  {
   "cell_type": "code",
   "execution_count": null,
   "id": "458a721d",
   "metadata": {},
   "outputs": [],
   "source": [
    "# Assessment\n"
   ]
  },
  {
   "cell_type": "markdown",
   "id": "dcf6f643",
   "metadata": {},
   "source": [
    "#### Fruit problem below"
   ]
  },
  {
   "cell_type": "code",
   "execution_count": null,
   "id": "b1148fd2",
   "metadata": {},
   "outputs": [],
   "source": [
    "from sklearn import tree"
   ]
  },
  {
   "cell_type": "code",
   "execution_count": null,
   "id": "8158a4b2",
   "metadata": {},
   "outputs": [],
   "source": [
    "predictions = open(\"predictions.txt\", 'w+')\n",
    "predictions.write(\"100,0,103,0,140,0,150,1,160,1,200,1\")\n",
    "predictions.write(\"\\n0,0,0,1,1,1\")\n",
    "predictions.close()"
   ]
  },
  {
   "cell_type": "code",
   "execution_count": null,
   "id": "e11d1657",
   "metadata": {},
   "outputs": [],
   "source": [
    "def fruit_train():\n",
    "    try:\n",
    "        file =open('predictions.txt', 'r')\n",
    "        #Below are lists for features and labels\n",
    "        features = file.readline().strip('\\n').split(',')\n",
    "        labels = file.readline().split(',')\n",
    "        file.close()\n",
    "        if features[-1] == '':\n",
    "            features.pop()\n",
    "        if labels[-1] == '':\n",
    "            labels.pop()\n",
    "        error = 0 #Kickstarter value\n",
    "        #taking user input \n",
    "        weight = int(input('Enter Weight: ')) \n",
    "        texture = int(input('Enter texture:\\n 0 for Rough\\n 1 for Smooth '))\n",
    "        fruit = int(input('Enter label\\n 0 for Orange\\n 1 for Apple '))\n",
    "        if texture not in [0,1]:\n",
    "            print('Enter Only 0 or 1 for texture')\n",
    "            error = 1\n",
    "        if fruit not in [0,1]:\n",
    "            print('Enter Only 0 or 1 for label')\n",
    "            error = 1\n",
    "        if error == 0:\n",
    "            #adding new data to features and labels\n",
    "            features.extend([weight,texture])\n",
    "            labels.append(fruit)\n",
    "            #Writing the updated data back to file\n",
    "            with open('predictions.txt', 'w') as f:\n",
    "                    #looping over the each list element\n",
    "                    for element in features:\n",
    "                         #writing to file line by line\n",
    "                        f.write('%s,' %element)\n",
    "                    f.write('\\n')\n",
    "                    for element in labels:\n",
    "                        f.write('%s,' % element)\n",
    "                    f.close()\n",
    "            print('Data Updated for Model Training')\n",
    "    except:\n",
    "        print('Enter Correct Details')"
   ]
  },
  {
   "cell_type": "code",
   "execution_count": null,
   "id": "647e32cd",
   "metadata": {},
   "outputs": [],
   "source": [
    "def fruit_predict():\n",
    "    try:\n",
    "        error = 0\n",
    "        f =open('predictions.txt', 'r')\n",
    "        #Below are lists for features & labels\n",
    "        features = f.readline().strip('\\n').split(',')\n",
    "        labels = f.readline().split(',')\n",
    "        f.close()\n",
    "        if features[-1] == '':\n",
    "            features.pop()\n",
    "        if labels[-1] == '':\n",
    "            labels.pop()\n",
    "        labels = [int(item) for item in labels]\n",
    "        features = [int(item) for item in features]\n",
    "        feature = []\n",
    "        for i in range(0, len(features),2):\n",
    "            feature.append([features[i],features[i+1]])\n",
    "        print('Features:',feature)\n",
    "        print('Labels:',labels)\n",
    "        clf = tree.DecisionTreeClassifier()\n",
    "        clf=clf.fit(feature,labels)\n",
    "        wt = int(input('Enter Weight: '))\n",
    "        texture = int(input('Input Texture 0 or 1:'))\n",
    "        if texture not in [0,1]:\n",
    "                print('Enter Only 0 or 1')\n",
    "                error = 1\n",
    "        if error == 0:\n",
    "            if clf.predict([[wt,texture]]) == 0:\n",
    "                print(\"The fruit may be Orange\")\n",
    "            else:\n",
    "                print(\"The fruit may be Apple\")\n",
    "    except Exception as ex:\n",
    "        print('Enter Correct Details', ex)"
   ]
  },
  {
   "cell_type": "code",
   "execution_count": null,
   "id": "8fac6a07",
   "metadata": {},
   "outputs": [],
   "source": []
  },
  {
   "cell_type": "code",
   "execution_count": null,
   "id": "9cde61b9",
   "metadata": {},
   "outputs": [],
   "source": [
    "option=0\n",
    "while option!=3:\n",
    "    \n",
    "    try:\n",
    "        option = int(input(('Choose one option:\\n Option 1: Train \\n Option 2: Predict\\n Option 3: EXIT\\n')))\n",
    "        if option == 1:\n",
    "            fruit_train()\n",
    "        elif option == 2:\n",
    "            fruit_predict()\n",
    "        elif option == 3:\n",
    "            print(\"Exiting Bye!\")\n",
    "            break\n",
    "        elif option not in [1,2,3]:\n",
    "            print('Incorrect Choice')\n",
    "            break\n",
    "        else:\n",
    "            print(\"enter only [1] , [2] , [3]\")\n",
    "    except Exception as ex:\n",
    "        print(ex)\n",
    "            "
   ]
  },
  {
   "cell_type": "code",
   "execution_count": null,
   "id": "e2a1b135",
   "metadata": {},
   "outputs": [],
   "source": []
  },
  {
   "cell_type": "code",
   "execution_count": null,
   "id": "e67e2179",
   "metadata": {},
   "outputs": [],
   "source": []
  },
  {
   "cell_type": "code",
   "execution_count": null,
   "id": "b32c3874",
   "metadata": {},
   "outputs": [],
   "source": []
  },
  {
   "cell_type": "markdown",
   "id": "1200b182",
   "metadata": {},
   "source": [
    "#### Covid Problem Below"
   ]
  },
  {
   "cell_type": "code",
   "execution_count": null,
   "id": "d8374bdd",
   "metadata": {},
   "outputs": [],
   "source": [
    "# Covid Problem.........\n",
    "from sklearn import tree\n",
    "#Creating File with some initial data for feature and labels\n",
    "covid = open(\"covid.txt\", 'w+')\n",
    "covid.write(\"99,0,0,0,100,1,0,1,103,1,1,0,98,1,0,0,101,1,0,0\") # features\n",
    "covid.write(\"\\n0,1,1,0,1\") # labels\n",
    "covid.close()"
   ]
  },
  {
   "cell_type": "code",
   "execution_count": null,
   "id": "f74cc1f1",
   "metadata": {},
   "outputs": [],
   "source": [
    "#Function for adding data to train the model\n",
    "def covid_training():\n",
    "    try:\n",
    "        f =open('covid.txt', 'r')\n",
    "        #Creating two lists for features and labels\n",
    "        features = f.readline().strip('\\n').split(',')\n",
    "        labels = f.readline().split(',')\n",
    "        f.close()\n",
    "        if features[-1] == '':\n",
    "            features.pop()\n",
    "        if labels[-1] == '':\n",
    "            labels.pop()\n",
    "        error = 0 #Kickstarter value\n",
    "        #taking user input for features and labels\n",
    "        temp = int(input('Enter Temperature')) \n",
    "        travel = int(input('Traveled Abraod?:\\n 0: No\\n 1: Yes'))\n",
    "        vomiting = int(input('Vomiting?:\\n 0: No\\n 1: Yes'))\n",
    "        bp = int(input('BP Above 120?:\\n 0: No\\n 1: Yes'))\n",
    "        result = int(input('Has Covid?\\n 0: No\\n 1:Yes'))\n",
    "        if travel not in [0,1]:\n",
    "            print('Enter Only 0 or 1 for Travel')\n",
    "            error = 1\n",
    "        if vomiting not in [0,1]:\n",
    "            print('Enter Only 0 or 1 for vomiting')\n",
    "            error = 1\n",
    "        if bp not in [0,1]:\n",
    "            print('Enter Only 0 or 1 for BP')\n",
    "            error = 1\n",
    "        if result not in [0,1]:\n",
    "            print('Enter Only 0 or 1 for covid')\n",
    "            error = 1\n",
    "        if error == 0:\n",
    "            #adding new data to features and labels\n",
    "            features.extend([temp,travel,vomiting,bp])\n",
    "            labels.append(result)\n",
    "            #Writing the updated data back to file\n",
    "            with open('covid.txt', 'w') as f:\n",
    "                    #looping over the each list element\n",
    "                    for element in features:\n",
    "                        f.write('%s,' %element)\n",
    "                    f.write('\\n')\n",
    "                    for element in labels:\n",
    "                        f.write('%s,' % element)\n",
    "                    f.close()\n",
    "            print('Data Updated for Model Training')\n",
    "    except:\n",
    "        print('Enter Correct Details')"
   ]
  },
  {
   "cell_type": "code",
   "execution_count": null,
   "id": "931ff751",
   "metadata": {},
   "outputs": [],
   "source": [
    "#Function for predicting the results.\n",
    "def covid_predicting():\n",
    "    try:\n",
    "        error = 0\n",
    "        f =open('covid.txt', 'r')\n",
    "        #Creating two lists for features and labels\n",
    "        features = f.readline().strip('\\n').split(',')\n",
    "        labels = f.readline().split(',')\n",
    "        f.close()\n",
    "        #Removing the unnecessary punctuations at the end of the lists\n",
    "        if features[-1] == '':\n",
    "            features.pop()\n",
    "        if labels[-1] == '':\n",
    "            labels.pop()\n",
    "        #Converting the string objects to integers in the list\n",
    "        labels = [int(item) for item in labels]\n",
    "        features = [int(item) for item in features]\n",
    "        feature = []\n",
    "        #creating a new nested list of paired features\n",
    "        for i in range(0, len(features), 4):\n",
    "            feature.append([features[i],features[i+1],features[i+2],features[i+3]])\n",
    "        print('Features:',feature)\n",
    "        print('Labels:',labels)\n",
    "        #Running the model\n",
    "        clf = tree.DecisionTreeClassifier()\n",
    "        clf=clf.fit(feature,labels)\n",
    "        #Taking user input\n",
    "        temp = int(input('Enter Temperature')) \n",
    "        travel = int(input('Traveled Abraod?:\\n 0: No\\n 1: Yes'))\n",
    "        vomiting = int(input('Vomiting?:\\n 0: No\\n 1: Yes'))\n",
    "        bp = int(input('BP Above 120?:\\n 0: No\\n 1: Yes'))\n",
    "        if travel not in [0,1]:\n",
    "            print('Enter Only 0 or 1 for Travel')\n",
    "            error = 1\n",
    "        if vomiting not in [0,1]:\n",
    "            print('Enter Only 0 or 1 for vomiting')\n",
    "            error = 1\n",
    "        if bp not in [0,1]:\n",
    "            print('Enter Only 0 or 1 for BP')\n",
    "            error = 1\n",
    "        if error == 0:\n",
    "            #Making the predictions using tree model\n",
    "            if clf.predict([[temp,travel,vomiting,bp]]) == 0:\n",
    "                print(\"Does not have Covid\")\n",
    "            else:\n",
    "                print(\"Probably has covid\")\n",
    "    except:\n",
    "        print('Enter Correct Details')"
   ]
  },
  {
   "cell_type": "code",
   "execution_count": null,
   "id": "c2ba1894",
   "metadata": {},
   "outputs": [],
   "source": [
    "option = 0\n",
    "while option != 3:\n",
    "    try:\n",
    "        option = int(input(('Choose one option:\\n Option 1: Train \\n Option 2: Predict\\n Option 3: EXIT\\n')))\n",
    "        if option == 1:\n",
    "            covid_training()\n",
    "        if option == 2:\n",
    "            covid_predicting()\n",
    "        if option == 3:\n",
    "            print(\"Exiting Bye!\")\n",
    "            break\n",
    "        if option not in [1,2,3]:\n",
    "            print('Incorrect Choice')\n",
    "    except Exception as ex:\n",
    "        print(ex)"
   ]
  },
  {
   "cell_type": "markdown",
   "id": "1c7c67b0",
   "metadata": {},
   "source": [
    "#### Chatbot Problem below"
   ]
  },
  {
   "cell_type": "code",
   "execution_count": null,
   "id": "0b907e25",
   "metadata": {},
   "outputs": [],
   "source": [
    "f = open(\"greetings.txt\", 'w+')\n",
    "f.write(\"hi,good morning,thank you,namaste,please\") # greetings\n",
    "f.write(\"\\nhello,Good morning!,You are welcome,namaste,No worries\") #responses\n",
    "\n",
    "f.close()"
   ]
  },
  {
   "cell_type": "code",
   "execution_count": null,
   "id": "908f75cf",
   "metadata": {},
   "outputs": [],
   "source": [
    "f =open('greetings.txt', 'r')\n",
    "greets = f.readline().strip('\\n').split(',')\n",
    "responses = f.readline().split(',')\n",
    "\n",
    "f.close()"
   ]
  },
  {
   "cell_type": "code",
   "execution_count": null,
   "id": "8644c283",
   "metadata": {},
   "outputs": [],
   "source": [
    "def chat():\n",
    "    f =open('greetings.txt', 'r')\n",
    "    #Creating two lists for features and labels\n",
    "    greets = f.readline().strip('\\n').split(',')\n",
    "    responses = f.readline().split(',')\n",
    "    \n",
    "    f.close()\n",
    "    if greets[-1] == '':\n",
    "        greets.pop()\n",
    "    if responses[-1] == '':\n",
    "        responses.pop()\n",
    "    \n",
    "    print('Welcome to chatbot. Press end anytime to stop chatting')\n",
    "    print(f\"Greetings are: {greets}\\nResponses are: {responses} & questions are: {questions}\")\n",
    "    while True:\n",
    "        userinput = input('>>')\n",
    "        if userinput == 'end':\n",
    "            break\n",
    "        for i in range(len(greets)):\n",
    "            if userinput == greets[i]:\n",
    "                response = responses[i]\n",
    "                print(response)\n",
    "        if userinput not in (greets or questions):\n",
    "            print('I am not able to understand. Please try again')\n",
    "            "
   ]
  },
  {
   "cell_type": "code",
   "execution_count": null,
   "id": "70cde903",
   "metadata": {},
   "outputs": [],
   "source": [
    "def chat_train():\n",
    "    f =open('greetings.txt', 'r')\n",
    "    #Creating two lists for features and labels\n",
    "    greets = f.readline().strip('\\n').split(',')\n",
    "    responses = f.readline().split(',')\n",
    "    f.close()\n",
    "    if greets[-1] == '':\n",
    "        greets.pop()\n",
    "    if responses[-1] == '':\n",
    "        responses.pop()\n",
    "    print(greets)\n",
    "    print(questions)\n",
    "    \n",
    "    greet = input('Enter the new word or sentense\\n')\n",
    "    reply = input('Enter the expected reply\\n')\n",
    "    \n",
    "    greets.append(greet)\n",
    "    responses.append(reply)\n",
    "    \n",
    "    with open('greetings.txt', 'w') as f:\n",
    "        #looping over the each list element\n",
    "        for element in greets:\n",
    "            f.write('%s,' %element)\n",
    "        f.write('\\n')\n",
    "        for element in responses:\n",
    "            f.write('%s,' % element)\n",
    "        f.close()\n",
    "    print('Data Updated for Model Training')"
   ]
  },
  {
   "cell_type": "code",
   "execution_count": null,
   "id": "e008307f",
   "metadata": {},
   "outputs": [],
   "source": [
    "#Calling the Functions based on User Response\n",
    "option = 0\n",
    "while option != 3:\n",
    "    try:\n",
    "        option = int(input(('Choose one option:\\n Option 1: Train \\n Option 2: Chat\\n Option 3: EXIT\\n')))\n",
    "        if option == 1:\n",
    "            chat_train()\n",
    "        if option == 2:\n",
    "            chat()\n",
    "        if option == 3:\n",
    "            print('Bye!')\n",
    "            break\n",
    "        if option not in [1,2,3]:\n",
    "            print('Incorrect Choice')\n",
    "    except Exception as ex:\n",
    "        print(ex)\n"
   ]
  },
  {
   "cell_type": "code",
   "execution_count": null,
   "id": "9b78e28c",
   "metadata": {},
   "outputs": [],
   "source": []
  },
  {
   "cell_type": "markdown",
   "id": "8399ca5a",
   "metadata": {},
   "source": [
    "### Linear Regression Simple example below"
   ]
  },
  {
   "cell_type": "code",
   "execution_count": null,
   "id": "53a238f8",
   "metadata": {},
   "outputs": [],
   "source": [
    "import numpy as np, pandas as pd, matplotlib.pyplot as plt"
   ]
  },
  {
   "cell_type": "code",
   "execution_count": null,
   "id": "254f5815",
   "metadata": {},
   "outputs": [],
   "source": [
    "def estimate_coefficient(x, y):\n",
    "    # size of dataset OR number of observation/points\n",
    "    n= np.size(x)\n",
    "    # mean of x & y\n",
    "    # Since we are using numpy just calling mean on numpy is sufficient\n",
    "    mean_x, mean_y = np.mean(x), np.mean(y)\n",
    "    # calculating cross-deviation and deviation about x\n",
    "    SS_xy = np.sum(y*x-n*mean_y*mean_x)\n",
    "    SS_xx = np.sum(x*x-n*mean_x*mean_x)\n",
    "    # calculating regressin coefficients\n",
    "    b_1 = SS_xy/SS_xx\n",
    "    b_0 = mean_y-b_1*mean_x\n",
    "    return(b_0, b_1)\n",
    "# x,y are the location of points on graph\n",
    "    "
   ]
  },
  {
   "cell_type": "code",
   "execution_count": null,
   "id": "d41bff6e",
   "metadata": {},
   "outputs": [],
   "source": [
    "e1 = estimate_coefficient(10, 100)"
   ]
  },
  {
   "cell_type": "code",
   "execution_count": null,
   "id": "c3d2f73c",
   "metadata": {},
   "outputs": [],
   "source": [
    "\n",
    "# color of the points change it to red blue orange play around\n",
    "def plot_regression_line(x, y, b): \n",
    "    # plotting the points as per dataset on a graph\n",
    "    plt.scatter(x, y, color = \"m\",marker = \"o\", s = 30) \n",
    "    # predicted response vector \n",
    "    y_pred = b[0] + b[1]*x \n",
    "    # plotting the regression line\n",
    "    plt.plot(x, y_pred, color = \"g\")\n",
    "    # putting labels for x and y axis\n",
    "    plt.xlabel('Size') \n",
    "    plt.ylabel('Cost') \n",
    "    # function to show plotted graph\n",
    "    plt.show()"
   ]
  },
  {
   "cell_type": "code",
   "execution_count": null,
   "id": "a23c543a",
   "metadata": {},
   "outputs": [],
   "source": [
    "p1 = plot_regression_line(10, 100, 4)"
   ]
  },
  {
   "cell_type": "code",
   "execution_count": null,
   "id": "71ffe5a2",
   "metadata": {},
   "outputs": [],
   "source": [
    "df = pd.read_csv(\"nyc-rolling-sales.csv\")"
   ]
  },
  {
   "cell_type": "code",
   "execution_count": null,
   "id": "7d8bb23b",
   "metadata": {},
   "outputs": [],
   "source": [
    "df"
   ]
  },
  {
   "cell_type": "code",
   "execution_count": null,
   "id": "bd6bb993",
   "metadata": {},
   "outputs": [],
   "source": [
    "df2 = df.head(100)\n",
    "df2"
   ]
  },
  {
   "cell_type": "code",
   "execution_count": null,
   "id": "86e06d33",
   "metadata": {},
   "outputs": [],
   "source": [
    "df2.size"
   ]
  },
  {
   "cell_type": "code",
   "execution_count": null,
   "id": "481db3c7",
   "metadata": {},
   "outputs": [],
   "source": [
    "df2.shape"
   ]
  },
  {
   "cell_type": "code",
   "execution_count": null,
   "id": "ac2c7a7d",
   "metadata": {},
   "outputs": [],
   "source": [
    "def estimate_coefficient():\n",
    "    # size of dataset OR number of observation/points\n",
    "    x = df2['SALE PRICE']\n",
    "    n = np.size(x)\n",
    "    y = df2['SALE DATE']\n",
    "    # mean of x & y\n",
    "    # Since we are using numpy just calling mean on numpy is sufficient\n",
    "    mean_x, avg_y = np.mean(x), np.average(y)\n",
    "    # calculating cross-deviation and deviation about x\n",
    "    SS_xy = np.sum(y*x-n*mean_y*mean_x)\n",
    "    SS_xx = np.sum(x*x-n*mean_x*mean_x)\n",
    "    # calculating regressin coefficients\n",
    "    b_1 = SS_xy/SS_xx\n",
    "    b_0 = mean_y-b_1*mean_x\n",
    "    return(b_0, b_1)\n",
    "# x,y are the location of points on graph\n",
    "    "
   ]
  },
  {
   "cell_type": "code",
   "execution_count": null,
   "id": "dc4c5018",
   "metadata": {},
   "outputs": [],
   "source": [
    "# color of the points change it to red blue orange play around\n",
    "def plot_regression_line(x, y, b): \n",
    "    # plotting the points as per dataset on a graph\n",
    "    plt.scatter(x, y, color = \"m\",marker = \"o\", s = 30) \n",
    "    # predicted response vector \n",
    "    y_pred = b[0] + b[1]*x \n",
    "    # plotting the regression line\n",
    "    plt.plot(x, y_pred, color = \"g\")\n",
    "    # putting labels for x and y axis\n",
    "    plt.xlabel('Size') \n",
    "    plt.ylabel('Cost') \n",
    "    # function to show plotted graph\n",
    "    plt.show()"
   ]
  },
  {
   "cell_type": "code",
   "execution_count": null,
   "id": "28e66f80",
   "metadata": {},
   "outputs": [],
   "source": []
  },
  {
   "cell_type": "code",
   "execution_count": null,
   "id": "12530b70",
   "metadata": {},
   "outputs": [],
   "source": [
    "# plt.title(\"Sale Price vs Sale Date\")\n",
    "# plt.xlabel(df2['SALE PRICE'])\n",
    "# plt.ylabel(df2['SALE SATE'])\n",
    "# plt.plot(df2['SALE PRICE'], df2['SALE SATE'], color = \"g\")"
   ]
  },
  {
   "cell_type": "code",
   "execution_count": null,
   "id": "14c6e7ea",
   "metadata": {},
   "outputs": [],
   "source": []
  },
  {
   "cell_type": "code",
   "execution_count": null,
   "id": "f2b6ab74",
   "metadata": {},
   "outputs": [],
   "source": []
  },
  {
   "cell_type": "code",
   "execution_count": null,
   "id": "ff7e463b",
   "metadata": {},
   "outputs": [],
   "source": [
    "# 2-09-2011 Friday"
   ]
  },
  {
   "cell_type": "markdown",
   "id": "523d7408",
   "metadata": {},
   "source": [
    "#### Assignment No-10"
   ]
  },
  {
   "cell_type": "markdown",
   "id": "0759da71",
   "metadata": {},
   "source": [
    "##### Problem-1 "
   ]
  },
  {
   "cell_type": "code",
   "execution_count": null,
   "id": "72c367c8",
   "metadata": {},
   "outputs": [],
   "source": [
    "\"\"\"\n",
    "In the Iris dataset\n",
    "    1.Show the average sepal width and petal length of all variety in pie chart\n",
    "    2.Linear regression of Petal width against Petal Length for all varieties\n",
    "    3.Enter Sepal and Petal widths (training)\n",
    "    4.Find out highest petal length and sepal length – which variety\n",
    "\n",
    "\"\"\""
   ]
  },
  {
   "cell_type": "code",
   "execution_count": 2,
   "id": "14509f52",
   "metadata": {},
   "outputs": [
    {
     "data": {
      "text/html": [
       "<div>\n",
       "<style scoped>\n",
       "    .dataframe tbody tr th:only-of-type {\n",
       "        vertical-align: middle;\n",
       "    }\n",
       "\n",
       "    .dataframe tbody tr th {\n",
       "        vertical-align: top;\n",
       "    }\n",
       "\n",
       "    .dataframe thead th {\n",
       "        text-align: right;\n",
       "    }\n",
       "</style>\n",
       "<table border=\"1\" class=\"dataframe\">\n",
       "  <thead>\n",
       "    <tr style=\"text-align: right;\">\n",
       "      <th></th>\n",
       "      <th>Id</th>\n",
       "      <th>SepalLengthCm</th>\n",
       "      <th>SepalWidthCm</th>\n",
       "      <th>PetalLengthCm</th>\n",
       "      <th>PetalWidthCm</th>\n",
       "      <th>Species</th>\n",
       "    </tr>\n",
       "  </thead>\n",
       "  <tbody>\n",
       "    <tr>\n",
       "      <th>0</th>\n",
       "      <td>1</td>\n",
       "      <td>5.1</td>\n",
       "      <td>3.5</td>\n",
       "      <td>1.4</td>\n",
       "      <td>0.2</td>\n",
       "      <td>Iris-setosa</td>\n",
       "    </tr>\n",
       "    <tr>\n",
       "      <th>1</th>\n",
       "      <td>2</td>\n",
       "      <td>4.9</td>\n",
       "      <td>3.0</td>\n",
       "      <td>1.4</td>\n",
       "      <td>0.2</td>\n",
       "      <td>Iris-setosa</td>\n",
       "    </tr>\n",
       "    <tr>\n",
       "      <th>2</th>\n",
       "      <td>3</td>\n",
       "      <td>4.7</td>\n",
       "      <td>3.2</td>\n",
       "      <td>1.3</td>\n",
       "      <td>0.2</td>\n",
       "      <td>Iris-setosa</td>\n",
       "    </tr>\n",
       "    <tr>\n",
       "      <th>3</th>\n",
       "      <td>4</td>\n",
       "      <td>4.6</td>\n",
       "      <td>3.1</td>\n",
       "      <td>1.5</td>\n",
       "      <td>0.2</td>\n",
       "      <td>Iris-setosa</td>\n",
       "    </tr>\n",
       "    <tr>\n",
       "      <th>4</th>\n",
       "      <td>5</td>\n",
       "      <td>5.0</td>\n",
       "      <td>3.6</td>\n",
       "      <td>1.4</td>\n",
       "      <td>0.2</td>\n",
       "      <td>Iris-setosa</td>\n",
       "    </tr>\n",
       "    <tr>\n",
       "      <th>...</th>\n",
       "      <td>...</td>\n",
       "      <td>...</td>\n",
       "      <td>...</td>\n",
       "      <td>...</td>\n",
       "      <td>...</td>\n",
       "      <td>...</td>\n",
       "    </tr>\n",
       "    <tr>\n",
       "      <th>145</th>\n",
       "      <td>146</td>\n",
       "      <td>6.7</td>\n",
       "      <td>3.0</td>\n",
       "      <td>5.2</td>\n",
       "      <td>2.3</td>\n",
       "      <td>Iris-virginica</td>\n",
       "    </tr>\n",
       "    <tr>\n",
       "      <th>146</th>\n",
       "      <td>147</td>\n",
       "      <td>6.3</td>\n",
       "      <td>2.5</td>\n",
       "      <td>5.0</td>\n",
       "      <td>1.9</td>\n",
       "      <td>Iris-virginica</td>\n",
       "    </tr>\n",
       "    <tr>\n",
       "      <th>147</th>\n",
       "      <td>148</td>\n",
       "      <td>6.5</td>\n",
       "      <td>3.0</td>\n",
       "      <td>5.2</td>\n",
       "      <td>2.0</td>\n",
       "      <td>Iris-virginica</td>\n",
       "    </tr>\n",
       "    <tr>\n",
       "      <th>148</th>\n",
       "      <td>149</td>\n",
       "      <td>6.2</td>\n",
       "      <td>3.4</td>\n",
       "      <td>5.4</td>\n",
       "      <td>2.3</td>\n",
       "      <td>Iris-virginica</td>\n",
       "    </tr>\n",
       "    <tr>\n",
       "      <th>149</th>\n",
       "      <td>150</td>\n",
       "      <td>5.9</td>\n",
       "      <td>3.0</td>\n",
       "      <td>5.1</td>\n",
       "      <td>1.8</td>\n",
       "      <td>Iris-virginica</td>\n",
       "    </tr>\n",
       "  </tbody>\n",
       "</table>\n",
       "<p>150 rows × 6 columns</p>\n",
       "</div>"
      ],
      "text/plain": [
       "      Id  SepalLengthCm  SepalWidthCm  PetalLengthCm  PetalWidthCm  \\\n",
       "0      1            5.1           3.5            1.4           0.2   \n",
       "1      2            4.9           3.0            1.4           0.2   \n",
       "2      3            4.7           3.2            1.3           0.2   \n",
       "3      4            4.6           3.1            1.5           0.2   \n",
       "4      5            5.0           3.6            1.4           0.2   \n",
       "..   ...            ...           ...            ...           ...   \n",
       "145  146            6.7           3.0            5.2           2.3   \n",
       "146  147            6.3           2.5            5.0           1.9   \n",
       "147  148            6.5           3.0            5.2           2.0   \n",
       "148  149            6.2           3.4            5.4           2.3   \n",
       "149  150            5.9           3.0            5.1           1.8   \n",
       "\n",
       "            Species  \n",
       "0       Iris-setosa  \n",
       "1       Iris-setosa  \n",
       "2       Iris-setosa  \n",
       "3       Iris-setosa  \n",
       "4       Iris-setosa  \n",
       "..              ...  \n",
       "145  Iris-virginica  \n",
       "146  Iris-virginica  \n",
       "147  Iris-virginica  \n",
       "148  Iris-virginica  \n",
       "149  Iris-virginica  \n",
       "\n",
       "[150 rows x 6 columns]"
      ]
     },
     "execution_count": 2,
     "metadata": {},
     "output_type": "execute_result"
    }
   ],
   "source": [
    "import pandas as pd, numpy as np\n",
    "df1 = pd.read_csv(\"Iris.csv\")\n",
    "df1"
   ]
  },
  {
   "cell_type": "code",
   "execution_count": 3,
   "id": "90b24f1b",
   "metadata": {},
   "outputs": [
    {
     "data": {
      "text/plain": [
       "<pandas.core.groupby.generic.DataFrameGroupBy object at 0x0000027000AC70A0>"
      ]
     },
     "execution_count": 3,
     "metadata": {},
     "output_type": "execute_result"
    }
   ],
   "source": [
    "# 1st Problem Below\n",
    "g = df1.groupby('Species')\n",
    "g\n"
   ]
  },
  {
   "cell_type": "code",
   "execution_count": 4,
   "id": "03f35cb5",
   "metadata": {},
   "outputs": [],
   "source": [
    "sepal = g['SepalWidthCm'].mean()\n",
    "petal = g['PetalLengthCm'].mean()"
   ]
  },
  {
   "cell_type": "code",
   "execution_count": 6,
   "id": "2b3d02d3",
   "metadata": {},
   "outputs": [
    {
     "data": {
      "image/png": "[encoded data removed]",
      "text/plain": [
       "<Figure size 640x480 with 1 Axes>"
      ]
     },
     "metadata": {},
     "output_type": "display_data"
    }
   ],
   "source": [
    "import matplotlib.pyplot as plt\n",
    "plt.pie(sepal, labels=sepal.keys())\n",
    "plt.show()"
   ]
  },
  {
   "cell_type": "code",
   "execution_count": 7,
   "id": "26ae8112",
   "metadata": {},
   "outputs": [
    {
     "data": {
      "image/png": "[encoded data removed]",
      "text/plain": [
       "<Figure size 640x480 with 1 Axes>"
      ]
     },
     "metadata": {},
     "output_type": "display_data"
    }
   ],
   "source": [
    "plt.pie(petal, labels=petal.keys())\n",
    "plt.show()"
   ]
  },
  {
   "cell_type": "code",
   "execution_count": null,
   "id": "04e45786",
   "metadata": {},
   "outputs": [],
   "source": []
  },
  {
   "cell_type": "code",
   "execution_count": null,
   "id": "2302ce9a",
   "metadata": {},
   "outputs": [],
   "source": [
    "# 2nd Problem Below --> Linear Regression of PetalWidth & PetalLength for all varieties"
   ]
  },
  {
   "cell_type": "code",
   "execution_count": 8,
   "id": "45aac173",
   "metadata": {},
   "outputs": [],
   "source": [
    "def estimate_coefficient(x, y):\n",
    "    # size of dataset OR number of observation/points\n",
    "    n= np.size(x)\n",
    "    # mean of x & y\n",
    "    # Since we are using numpy just calling mean on numpy is sufficient\n",
    "    mean_x, mean_y = np.mean(x), np.mean(y)\n",
    "    # calculating cross-deviation and deviation about x\n",
    "    SS_xy = np.sum(y*x-n*mean_y*mean_x)\n",
    "    SS_xx = np.sum(x*x-n*mean_x*mean_x)\n",
    "    # calculating regressin coefficients\n",
    "    b_1 = SS_xy/SS_xx\n",
    "    b_0 = mean_y-b_1*mean_x\n",
    "    return(b_0, b_1)"
   ]
  },
  {
   "cell_type": "code",
   "execution_count": 9,
   "id": "4568dfbc",
   "metadata": {},
   "outputs": [],
   "source": [
    "# color of the points change it to red blue orange play around\n",
    "def plot_regression_line(x, y, b): \n",
    "    # plotting the points as per dataset on a graph\n",
    "    plt.scatter(x, y, color = \"m\",marker = \"o\", s = 30) \n",
    "    # predicted response vector \n",
    "    y_pred = b[0] + b[1]*x \n",
    "    # plotting the regression line\n",
    "    plt.plot(x, y_pred, color = \"g\")\n",
    "    # putting labels for x and y axis\n",
    "    plt.title(\"Petal Length VS Petal Width Below..\")\n",
    "    plt.xlabel('Petal Length') \n",
    "    plt.ylabel('Petal Width') \n",
    "    # function to show plotted graph\n",
    "    plt.show()"
   ]
  },
  {
   "cell_type": "code",
   "execution_count": 10,
   "id": "62aad077",
   "metadata": {},
   "outputs": [],
   "source": [
    "def main():\n",
    "    x = np.array(df1['PetalLengthCm'])\n",
    "    y = np.array(df1['PetalWidthCm'])\n",
    "    # calling estimation coefficient function below\n",
    "    e = estimate_coefficient(x, y)\n",
    "    print(f\"Estimated Coefficient:\\nb_0= {e[0]} \\nb_1= {e[1]}\")\n",
    "    # calling plotting functions\n",
    "    plot_regression_line(x, y, e)"
   ]
  },
  {
   "cell_type": "code",
   "execution_count": 11,
   "id": "c044697c",
   "metadata": {},
   "outputs": [
    {
     "name": "stdout",
     "output_type": "stream",
     "text": [
      "Estimated Coefficient:\n",
      "b_0= 0.0005392304030038542 \n",
      "b_1= 0.3187639507618827\n"
     ]
    },
    {
     "data": {
      "image/png": "[encoded data removed]",
      "text/plain": [
       "<Figure size 640x480 with 1 Axes>"
      ]
     },
     "metadata": {},
     "output_type": "display_data"
    }
   ],
   "source": [
    "m1 = main()\n",
    "m1"
   ]
  },
  {
   "cell_type": "code",
   "execution_count": null,
   "id": "3bdeb0b5",
   "metadata": {},
   "outputs": [],
   "source": [
    "# 3 Proble Below --> Enter Sepal and Petal widths (training)"
   ]
  },
  {
   "cell_type": "code",
   "execution_count": null,
   "id": "6a50a8f9",
   "metadata": {},
   "outputs": [],
   "source": [
    "try:\n",
    "    df1.loc[len(df1.index)] = [len(df1.index)+1, float(input(\"Enter Sepal Length: \")), float(input(\"Enter Sepal Width: \")), float(input(\"Enter Petal Length: \")),float(input(\"Enter Petal Width: \")), input(\"Enter Species: \")]\n",
    "    print(\"Successfully added the record\")\n",
    "except:\n",
    "    print(\"exception occured..\")"
   ]
  },
  {
   "cell_type": "code",
   "execution_count": null,
   "id": "e507d10a",
   "metadata": {},
   "outputs": [],
   "source": []
  },
  {
   "cell_type": "code",
   "execution_count": null,
   "id": "665170d9",
   "metadata": {},
   "outputs": [],
   "source": [
    "df1"
   ]
  },
  {
   "cell_type": "code",
   "execution_count": null,
   "id": "5e0492a0",
   "metadata": {},
   "outputs": [],
   "source": [
    "df1.describe()"
   ]
  },
  {
   "cell_type": "code",
   "execution_count": null,
   "id": "e161a595",
   "metadata": {},
   "outputs": [],
   "source": [
    "# 4 Problem Below --> Find out highest petal length and sepal length – which variety"
   ]
  },
  {
   "cell_type": "code",
   "execution_count": null,
   "id": "fdb3a093",
   "metadata": {},
   "outputs": [],
   "source": [
    "df1['Species']"
   ]
  },
  {
   "cell_type": "code",
   "execution_count": null,
   "id": "31f16255",
   "metadata": {},
   "outputs": [],
   "source": [
    "df1['PetalLengthCm'].max()\n"
   ]
  },
  {
   "cell_type": "code",
   "execution_count": null,
   "id": "d17f85c4",
   "metadata": {},
   "outputs": [],
   "source": [
    "print(f\"Max Petal Length : {df1['PetalLengthCm'].max()} of species {df1['Species'][df1[['PetalLengthCm']].idxmax()].to_string(index=False)}\")"
   ]
  },
  {
   "cell_type": "code",
   "execution_count": null,
   "id": "c3a84b93",
   "metadata": {},
   "outputs": [],
   "source": [
    "print(f\"Max Petal Width : {df1['PetalWidthCm'].max()} of species {df1['Species'][df1[['PetalWidthCm']].idxmax()].to_string(index=False)}\")"
   ]
  },
  {
   "cell_type": "code",
   "execution_count": null,
   "id": "9cd87e32",
   "metadata": {},
   "outputs": [],
   "source": []
  },
  {
   "cell_type": "code",
   "execution_count": null,
   "id": "cd4c68bf",
   "metadata": {},
   "outputs": [],
   "source": []
  },
  {
   "cell_type": "markdown",
   "id": "7a6b3b01",
   "metadata": {},
   "source": [
    "##### Problem-2 "
   ]
  },
  {
   "cell_type": "code",
   "execution_count": null,
   "id": "165be7d7",
   "metadata": {},
   "outputs": [],
   "source": [
    "\"\"\"\n",
    "In the uber dataset\n",
    "a.Sum of all trips, dispatching base number wise (bar chart)\n",
    "b.Average of all trips\n",
    "c.Active Vehicles and Trips – summary date wise\n",
    "d.Sort the dataset by trips – descending\n",
    "\n",
    "\"\"\""
   ]
  },
  {
   "cell_type": "code",
   "execution_count": null,
   "id": "783c678d",
   "metadata": {},
   "outputs": [],
   "source": [
    "df2 = pd.read_csv(\"uber.txt\")\n",
    "df2"
   ]
  },
  {
   "cell_type": "code",
   "execution_count": null,
   "id": "9a3c7fd2",
   "metadata": {},
   "outputs": [],
   "source": [
    "# 1 Problem: a.Sum of all trips, dispatching base number wise (bar chart)\n",
    "displatch = df2.groupby(['dispatching_base_number'])['trips']\n",
    "displatch = displatch.sum().reset_index()\n",
    "displatch"
   ]
  },
  {
   "cell_type": "code",
   "execution_count": null,
   "id": "95f803cf",
   "metadata": {},
   "outputs": [],
   "source": [
    "# Plotting below\n",
    "plt.bar(displatch['dispatching_base_number'], displatch['trips'])\n",
    "plt.title(\"Base wise total trip\")\n",
    "plt.xlabel('Dispatching base number')\n",
    "plt.ylabel('No of trips')\n",
    "plt.show()"
   ]
  },
  {
   "cell_type": "code",
   "execution_count": null,
   "id": "ddc982b1",
   "metadata": {},
   "outputs": [],
   "source": [
    "#2 Average of all trips\n",
    "print(f\"Average of all trips: {df2['trips'].mean()}\")"
   ]
  },
  {
   "cell_type": "code",
   "execution_count": null,
   "id": "7842cac4",
   "metadata": {},
   "outputs": [],
   "source": []
  },
  {
   "cell_type": "code",
   "execution_count": null,
   "id": "9b192457",
   "metadata": {},
   "outputs": [],
   "source": [
    "#3 Active Vehicles and Trips – summary date wise\n",
    "vehicles = df2.groupby(['date'])['active_vehicles', 'trips']\n",
    "total = vehicles.sum()\n",
    "total.head()"
   ]
  },
  {
   "cell_type": "code",
   "execution_count": null,
   "id": "00ba3595",
   "metadata": {},
   "outputs": [],
   "source": [
    "total.describe()"
   ]
  },
  {
   "cell_type": "code",
   "execution_count": null,
   "id": "b6953877",
   "metadata": {},
   "outputs": [],
   "source": [
    "# Visualising\n",
    "x_axis = np.arange(len(total))\n",
    "plt.bar(x_axis,total['active_vehicles']*10, width=0.6, label = 'Active Vehicles')\n",
    "plt.bar(x_axis,total['trips'], width=0.6, label= 'Trips')\n",
    "plt.xticks(x_axis, total.index.values.tolist())\n",
    "plt.rcParams[\"figure.figsize\"] = (20,10)\n",
    "plt.legend()"
   ]
  },
  {
   "cell_type": "code",
   "execution_count": null,
   "id": "6b6c1ff9",
   "metadata": {},
   "outputs": [],
   "source": []
  },
  {
   "cell_type": "code",
   "execution_count": null,
   "id": "8829ffaa",
   "metadata": {},
   "outputs": [],
   "source": [
    "#4\n",
    "df2.sort_values(by='trips', ascending=False).reindex()"
   ]
  },
  {
   "cell_type": "code",
   "execution_count": null,
   "id": "b22706b5",
   "metadata": {},
   "outputs": [],
   "source": []
  },
  {
   "cell_type": "code",
   "execution_count": null,
   "id": "41edf6c4",
   "metadata": {},
   "outputs": [],
   "source": [
    "# 5-09-2022"
   ]
  },
  {
   "cell_type": "code",
   "execution_count": null,
   "id": "43dabec4",
   "metadata": {},
   "outputs": [],
   "source": [
    "Descriptive Statistics Below"
   ]
  },
  {
   "cell_type": "code",
   "execution_count": null,
   "id": "178fa908",
   "metadata": {},
   "outputs": [],
   "source": [
    "import pandas as pd, numpy as np, matplotlib.pyplot as plt, seaborn as sns"
   ]
  },
  {
   "cell_type": "code",
   "execution_count": null,
   "id": "5dbd9f80",
   "metadata": {},
   "outputs": [],
   "source": [
    "# Loading the ds\n",
    "df = pd.read_csv(\"CardioGoodFitness-1.csv\")"
   ]
  },
  {
   "cell_type": "code",
   "execution_count": null,
   "id": "58188266",
   "metadata": {},
   "outputs": [],
   "source": [
    "df"
   ]
  },
  {
   "cell_type": "code",
   "execution_count": null,
   "id": "0ab67b56",
   "metadata": {},
   "outputs": [],
   "source": [
    "df.shape"
   ]
  },
  {
   "cell_type": "code",
   "execution_count": null,
   "id": "f6a856c6",
   "metadata": {},
   "outputs": [],
   "source": [
    "df.dtypes"
   ]
  },
  {
   "cell_type": "code",
   "execution_count": null,
   "id": "62c115c2",
   "metadata": {},
   "outputs": [],
   "source": [
    "df.info()"
   ]
  },
  {
   "cell_type": "code",
   "execution_count": null,
   "id": "c5536191",
   "metadata": {},
   "outputs": [],
   "source": [
    "df.stack()"
   ]
  },
  {
   "cell_type": "code",
   "execution_count": null,
   "id": "b7740ff1",
   "metadata": {},
   "outputs": [],
   "source": [
    "df.columns"
   ]
  },
  {
   "cell_type": "code",
   "execution_count": null,
   "id": "d11f4953",
   "metadata": {},
   "outputs": [],
   "source": [
    "df.describe()"
   ]
  },
  {
   "cell_type": "code",
   "execution_count": null,
   "id": "9de24c2c",
   "metadata": {},
   "outputs": [],
   "source": [
    "# knowing which product is used max & min\n",
    "sns.countplot(x= 'Product', data=df)"
   ]
  },
  {
   "cell_type": "code",
   "execution_count": null,
   "id": "ea9ba11f",
   "metadata": {},
   "outputs": [],
   "source": [
    "sns.countplot(x= 'Gender', data=df)"
   ]
  },
  {
   "cell_type": "code",
   "execution_count": null,
   "id": "2b0b509e",
   "metadata": {},
   "outputs": [],
   "source": [
    "sns.countplot(x= 'MaritalStatus', data=df)"
   ]
  },
  {
   "cell_type": "code",
   "execution_count": null,
   "id": "b2bc5803",
   "metadata": {},
   "outputs": [],
   "source": [
    "\"\"\"\n",
    "Count Plot is used to know which is maximum, minimum & medium in a ds from a perticular column\n",
    "\"\"\""
   ]
  },
  {
   "cell_type": "code",
   "execution_count": null,
   "id": "4363cc46",
   "metadata": {},
   "outputs": [],
   "source": [
    "sns.countplot(x= 'Product', hue='Gender', data=df)"
   ]
  },
  {
   "cell_type": "code",
   "execution_count": null,
   "id": "b630059a",
   "metadata": {},
   "outputs": [],
   "source": [
    "pd.crosstab(df['Product'], df['Gender'])"
   ]
  },
  {
   "cell_type": "code",
   "execution_count": null,
   "id": "52a336cf",
   "metadata": {},
   "outputs": [],
   "source": [
    "sns.countplot(x= 'Product', hue='MaritalStatus', data=df)"
   ]
  },
  {
   "cell_type": "code",
   "execution_count": null,
   "id": "000836df",
   "metadata": {},
   "outputs": [],
   "source": [
    "pd.crosstab(df['Product'], df['MaritalStatus'])"
   ]
  },
  {
   "cell_type": "code",
   "execution_count": null,
   "id": "20cb9f7b",
   "metadata": {},
   "outputs": [],
   "source": [
    "df.describe()"
   ]
  },
  {
   "cell_type": "code",
   "execution_count": null,
   "id": "43fe5982",
   "metadata": {},
   "outputs": [],
   "source": [
    "df.describe(include='all')"
   ]
  },
  {
   "cell_type": "code",
   "execution_count": null,
   "id": "5ac5e4f1",
   "metadata": {},
   "outputs": [],
   "source": [
    "df.isnull().sum() # To determine if there are any null or missing values"
   ]
  },
  {
   "cell_type": "code",
   "execution_count": null,
   "id": "65eb177d",
   "metadata": {},
   "outputs": [],
   "source": [
    "df.hist()"
   ]
  },
  {
   "cell_type": "code",
   "execution_count": null,
   "id": "a5b64eb8",
   "metadata": {},
   "outputs": [],
   "source": [
    "df.hist(figsize=(10,20))"
   ]
  },
  {
   "cell_type": "code",
   "execution_count": null,
   "id": "dc28598e",
   "metadata": {},
   "outputs": [],
   "source": [
    "df.hist(figsize=(10,30))"
   ]
  },
  {
   "cell_type": "code",
   "execution_count": null,
   "id": "95e6b4bf",
   "metadata": {},
   "outputs": [],
   "source": [
    "df.hist(figsize=(20,30))"
   ]
  },
  {
   "cell_type": "code",
   "execution_count": null,
   "id": "cccff904",
   "metadata": {},
   "outputs": [],
   "source": [
    "# Box plot in order to find out the outliers in given df\n",
    "sns.boxplot(x = 'Product', y = 'Age', data=df)"
   ]
  },
  {
   "cell_type": "code",
   "execution_count": null,
   "id": "fe8204e5",
   "metadata": {},
   "outputs": [],
   "source": [
    "sns.boxplot(x = 'Product', y = 'Gender', data=df)"
   ]
  },
  {
   "cell_type": "code",
   "execution_count": null,
   "id": "e8f4974a",
   "metadata": {},
   "outputs": [],
   "source": [
    "sns.boxplot(x = 'Product', y = 'Usage', data=df)"
   ]
  },
  {
   "cell_type": "code",
   "execution_count": null,
   "id": "87c69a17",
   "metadata": {},
   "outputs": [],
   "source": [
    "sns.boxplot(x = 'Product', y = 'Miles', data=df)"
   ]
  },
  {
   "cell_type": "code",
   "execution_count": null,
   "id": "33dd72b7",
   "metadata": {},
   "outputs": [],
   "source": [
    "# WE can do the corelation with pairplot\n",
    "sns.pairplot(df, diag_kind='kde')"
   ]
  },
  {
   "cell_type": "code",
   "execution_count": null,
   "id": "46b81058",
   "metadata": {},
   "outputs": [],
   "source": [
    "corr = df.corr()\n",
    "corr"
   ]
  },
  {
   "cell_type": "code",
   "execution_count": null,
   "id": "94f9fbd9",
   "metadata": {},
   "outputs": [],
   "source": [
    "# We can use the heatmap in order to find the correlation between diferrent columns of a ds\n",
    "sns.heatmap(corr, annot=True, cmap='YlGnBu')# here annot is responsible for annotations in the graph"
   ]
  },
  {
   "cell_type": "code",
   "execution_count": null,
   "id": "601760ea",
   "metadata": {},
   "outputs": [],
   "source": []
  },
  {
   "cell_type": "code",
   "execution_count": null,
   "id": "85815b4d",
   "metadata": {},
   "outputs": [],
   "source": [
    "# Necessary Pakages revision/practise below"
   ]
  },
  {
   "cell_type": "code",
   "execution_count": null,
   "id": "8ba25e76",
   "metadata": {},
   "outputs": [],
   "source": [
    "# 7-09-2022"
   ]
  },
  {
   "cell_type": "code",
   "execution_count": null,
   "id": "c1194fb0",
   "metadata": {},
   "outputs": [],
   "source": [
    "import numpy as np"
   ]
  },
  {
   "cell_type": "code",
   "execution_count": null,
   "id": "c98bf6d2",
   "metadata": {},
   "outputs": [],
   "source": [
    "np.arange(30)"
   ]
  },
  {
   "cell_type": "code",
   "execution_count": null,
   "id": "968481b3",
   "metadata": {},
   "outputs": [],
   "source": [
    "np.random.randint(0,100,20)"
   ]
  },
  {
   "cell_type": "code",
   "execution_count": null,
   "id": "4a148fe1",
   "metadata": {},
   "outputs": [],
   "source": [
    "simple_list = [6,7,9]\n",
    "np.array(simple_list)"
   ]
  },
  {
   "cell_type": "code",
   "execution_count": null,
   "id": "3a4b24e2",
   "metadata": {},
   "outputs": [],
   "source": [
    "arr = np.array([1,2,3])"
   ]
  },
  {
   "cell_type": "code",
   "execution_count": null,
   "id": "09dd021b",
   "metadata": {},
   "outputs": [],
   "source": [
    "arr"
   ]
  },
  {
   "cell_type": "code",
   "execution_count": null,
   "id": "99eecc78",
   "metadata": {},
   "outputs": [],
   "source": [
    "list_f_lists=[[1,2,3],[4,5,6],[7,8,9]]\n",
    "np.array(list_f_lists)"
   ]
  },
  {
   "cell_type": "code",
   "execution_count": null,
   "id": "cc326fe0",
   "metadata": {},
   "outputs": [],
   "source": [
    "np.arange(5,56)"
   ]
  },
  {
   "cell_type": "code",
   "execution_count": null,
   "id": "f3ae1913",
   "metadata": {},
   "outputs": [],
   "source": [
    "np.arange(1,45,5)"
   ]
  },
  {
   "cell_type": "code",
   "execution_count": null,
   "id": "3208517a",
   "metadata": {},
   "outputs": [],
   "source": [
    "np.zeros(10)"
   ]
  },
  {
   "cell_type": "code",
   "execution_count": null,
   "id": "dcf52125",
   "metadata": {},
   "outputs": [],
   "source": [
    "np.zeros(10, int)"
   ]
  },
  {
   "cell_type": "code",
   "execution_count": null,
   "id": "6e9ea2e8",
   "metadata": {},
   "outputs": [],
   "source": [
    "np.ones(6)"
   ]
  },
  {
   "cell_type": "code",
   "execution_count": null,
   "id": "d3005883",
   "metadata": {},
   "outputs": [],
   "source": [
    "np.ones(6, int)"
   ]
  },
  {
   "cell_type": "code",
   "execution_count": null,
   "id": "aa66ce84",
   "metadata": {},
   "outputs": [],
   "source": [
    "np.ones((2,5))"
   ]
  },
  {
   "cell_type": "code",
   "execution_count": null,
   "id": "5e79a9c6",
   "metadata": {},
   "outputs": [],
   "source": [
    "np.ones((2,5), int)"
   ]
  },
  {
   "cell_type": "code",
   "execution_count": null,
   "id": "2907264b",
   "metadata": {},
   "outputs": [],
   "source": [
    "np.linspace(0,1,5)"
   ]
  },
  {
   "cell_type": "code",
   "execution_count": null,
   "id": "08478061",
   "metadata": {},
   "outputs": [],
   "source": [
    "np.linspace(0,20,8)"
   ]
  },
  {
   "cell_type": "code",
   "execution_count": null,
   "id": "3abe189b",
   "metadata": {},
   "outputs": [],
   "source": [
    "np.eye(10) # for generating identity matrix"
   ]
  },
  {
   "cell_type": "code",
   "execution_count": null,
   "id": "56dd3a71",
   "metadata": {},
   "outputs": [],
   "source": [
    "np.random.rand(2,4)"
   ]
  },
  {
   "cell_type": "code",
   "execution_count": null,
   "id": "b3b9800b",
   "metadata": {},
   "outputs": [],
   "source": [
    "np.random.randint(2,4)"
   ]
  },
  {
   "cell_type": "code",
   "execution_count": null,
   "id": "2d760204",
   "metadata": {},
   "outputs": [],
   "source": [
    "np.random.randint(1,10)"
   ]
  },
  {
   "cell_type": "code",
   "execution_count": null,
   "id": "705de58a",
   "metadata": {},
   "outputs": [],
   "source": [
    "np.random.randint(1,10,2)"
   ]
  },
  {
   "cell_type": "code",
   "execution_count": null,
   "id": "0dc2d0ae",
   "metadata": {},
   "outputs": [],
   "source": [
    "np.random.randint(20,56,100)"
   ]
  },
  {
   "cell_type": "code",
   "execution_count": null,
   "id": "1f0016a9",
   "metadata": {},
   "outputs": [],
   "source": [
    "np.random.randn(2,4)"
   ]
  },
  {
   "cell_type": "code",
   "execution_count": null,
   "id": "96263f39",
   "metadata": {},
   "outputs": [],
   "source": [
    "sample_Arange = np.arange(30)"
   ]
  },
  {
   "cell_type": "code",
   "execution_count": null,
   "id": "a3537719",
   "metadata": {},
   "outputs": [],
   "source": [
    "rand_arr = np.random.randint(1,11,2)"
   ]
  },
  {
   "cell_type": "code",
   "execution_count": null,
   "id": "0205e158",
   "metadata": {},
   "outputs": [],
   "source": [
    "sample_Arange.reshape(10,3)"
   ]
  },
  {
   "cell_type": "code",
   "execution_count": null,
   "id": "72400f77",
   "metadata": {},
   "outputs": [],
   "source": [
    "sample_Arange.reshape(5,6)"
   ]
  },
  {
   "cell_type": "code",
   "execution_count": null,
   "id": "7431e3bc",
   "metadata": {},
   "outputs": [],
   "source": [
    "sample_Arange.reshape(6,5)"
   ]
  },
  {
   "cell_type": "code",
   "execution_count": null,
   "id": "378f556d",
   "metadata": {},
   "outputs": [],
   "source": [
    "# Here from the above 3lines we have 2give only the fisable shape size otherwise we'll b getting error"
   ]
  },
  {
   "cell_type": "code",
   "execution_count": null,
   "id": "fec70b9e",
   "metadata": {},
   "outputs": [],
   "source": [
    "rand_arr.min()"
   ]
  },
  {
   "cell_type": "code",
   "execution_count": null,
   "id": "a647aec6",
   "metadata": {},
   "outputs": [],
   "source": [
    "rand_arr.argmin() # very imp 4cv"
   ]
  },
  {
   "cell_type": "code",
   "execution_count": null,
   "id": "564592db",
   "metadata": {},
   "outputs": [],
   "source": [
    "rand_arr.mean()"
   ]
  },
  {
   "cell_type": "code",
   "execution_count": null,
   "id": "655cd834",
   "metadata": {},
   "outputs": [],
   "source": [
    "sample_Arange.dtype"
   ]
  },
  {
   "cell_type": "code",
   "execution_count": null,
   "id": "19905cc4",
   "metadata": {},
   "outputs": [],
   "source": [
    "a = np.random.randn(2,4)\n",
    "a"
   ]
  },
  {
   "cell_type": "code",
   "execution_count": null,
   "id": "538c672b",
   "metadata": {},
   "outputs": [],
   "source": [
    "a.T"
   ]
  },
  {
   "cell_type": "code",
   "execution_count": null,
   "id": "8af46d8c",
   "metadata": {},
   "outputs": [],
   "source": [
    "b = np.random.rand(2,4)\n",
    "b"
   ]
  },
  {
   "cell_type": "code",
   "execution_count": null,
   "id": "b20933ef",
   "metadata": {},
   "outputs": [],
   "source": [
    "b.T"
   ]
  },
  {
   "cell_type": "code",
   "execution_count": null,
   "id": "31306277",
   "metadata": {},
   "outputs": [],
   "source": [
    "sample_array = np.arange(10,21)\n",
    "sample_array"
   ]
  },
  {
   "cell_type": "code",
   "execution_count": null,
   "id": "cc398730",
   "metadata": {},
   "outputs": [],
   "source": [
    "sample_array[8]"
   ]
  },
  {
   "cell_type": "code",
   "execution_count": null,
   "id": "f99eb7fa",
   "metadata": {},
   "outputs": [],
   "source": [
    "sample_array[2:5]"
   ]
  },
  {
   "cell_type": "code",
   "execution_count": null,
   "id": "a48161fc",
   "metadata": {},
   "outputs": [],
   "source": [
    "sample_array[2:5] = 9\n",
    "sample_array"
   ]
  },
  {
   "cell_type": "code",
   "execution_count": null,
   "id": "d6c2828d",
   "metadata": {},
   "outputs": [],
   "source": [
    "arr2 = np.arange(10,21)\n",
    "arr2"
   ]
  },
  {
   "cell_type": "code",
   "execution_count": null,
   "id": "986ec988",
   "metadata": {},
   "outputs": [],
   "source": [
    "arr2[0:6]"
   ]
  },
  {
   "cell_type": "code",
   "execution_count": null,
   "id": "62805b22",
   "metadata": {},
   "outputs": [],
   "source": [
    "arr3 = arr2[0:6]\n",
    "arr3"
   ]
  },
  {
   "cell_type": "code",
   "execution_count": null,
   "id": "79559ea5",
   "metadata": {},
   "outputs": [],
   "source": [
    "arr3[:] = 6\n",
    "arr3"
   ]
  },
  {
   "cell_type": "markdown",
   "id": "84cf65a7",
   "metadata": {},
   "source": [
    "#### Two-Dimensional Arrays Below"
   ]
  },
  {
   "cell_type": "code",
   "execution_count": null,
   "id": "7889a70f",
   "metadata": {},
   "outputs": [],
   "source": [
    "arr2d_1 = np.array([[1,2,3],[4,5,6],[7,8,9]])\n",
    "arr2d_1"
   ]
  },
  {
   "cell_type": "code",
   "execution_count": null,
   "id": "26f366e9",
   "metadata": {},
   "outputs": [],
   "source": [
    "arr2d_1[0][2]"
   ]
  },
  {
   "cell_type": "code",
   "execution_count": null,
   "id": "b3d72b9e",
   "metadata": {},
   "outputs": [],
   "source": [
    "arr2d_1[2]"
   ]
  },
  {
   "cell_type": "code",
   "execution_count": null,
   "id": "f897b285",
   "metadata": {},
   "outputs": [],
   "source": [
    "arr2d_1[2,:]"
   ]
  },
  {
   "cell_type": "code",
   "execution_count": null,
   "id": "9e991d73",
   "metadata": {},
   "outputs": [],
   "source": [
    "# As U can see both above 2cells are same"
   ]
  },
  {
   "cell_type": "code",
   "execution_count": null,
   "id": "109d7561",
   "metadata": {},
   "outputs": [],
   "source": [
    "arr2d_1[:, (2,1)]"
   ]
  },
  {
   "cell_type": "markdown",
   "id": "dd0769b4",
   "metadata": {},
   "source": [
    "#### Selection Techniques "
   ]
  },
  {
   "cell_type": "code",
   "execution_count": null,
   "id": "dfa4a714",
   "metadata": {},
   "outputs": [],
   "source": [
    "sample_arr = np.arange(1,20)\n",
    "sample_arr"
   ]
  },
  {
   "cell_type": "code",
   "execution_count": null,
   "id": "627f85c8",
   "metadata": {},
   "outputs": [],
   "source": [
    "sample_arr+sample_arr"
   ]
  },
  {
   "cell_type": "code",
   "execution_count": null,
   "id": "84829cc2",
   "metadata": {},
   "outputs": [],
   "source": [
    "np.exp(sample_arr)# finding exponential value"
   ]
  },
  {
   "cell_type": "code",
   "execution_count": null,
   "id": "dd39d743",
   "metadata": {},
   "outputs": [],
   "source": [
    "np.sqrt(sample_arr)"
   ]
  },
  {
   "cell_type": "code",
   "execution_count": null,
   "id": "2e2d07ed",
   "metadata": {},
   "outputs": [],
   "source": [
    "np.log(sample_arr)"
   ]
  },
  {
   "cell_type": "code",
   "execution_count": null,
   "id": "2a619b44",
   "metadata": {},
   "outputs": [],
   "source": [
    "np.max(sample_arr)"
   ]
  },
  {
   "cell_type": "code",
   "execution_count": null,
   "id": "946f78d7",
   "metadata": {},
   "outputs": [],
   "source": [
    "np.min(sample_arr)"
   ]
  },
  {
   "cell_type": "code",
   "execution_count": null,
   "id": "21e2b22f",
   "metadata": {},
   "outputs": [],
   "source": [
    "# The above 2lines will give u the index positions of elements from sample_arr"
   ]
  },
  {
   "cell_type": "code",
   "execution_count": null,
   "id": "fc93fc75",
   "metadata": {},
   "outputs": [],
   "source": [
    "np.argmax(sample_arr)"
   ]
  },
  {
   "cell_type": "code",
   "execution_count": null,
   "id": "623c8651",
   "metadata": {},
   "outputs": [],
   "source": [
    "np.argmin(sample_arr)"
   ]
  },
  {
   "cell_type": "code",
   "execution_count": null,
   "id": "3cf7f882",
   "metadata": {},
   "outputs": [],
   "source": [
    "# These above 2lines also will give the index positions but here they'll consider inde from 0"
   ]
  },
  {
   "cell_type": "code",
   "execution_count": null,
   "id": "13fa42e4",
   "metadata": {},
   "outputs": [],
   "source": [
    "np.square(sample_arr)"
   ]
  },
  {
   "cell_type": "code",
   "execution_count": null,
   "id": "171971a1",
   "metadata": {},
   "outputs": [],
   "source": [
    "np.std(sample_arr) # finding standard deviation value"
   ]
  },
  {
   "cell_type": "code",
   "execution_count": null,
   "id": "54ae30b3",
   "metadata": {},
   "outputs": [],
   "source": [
    "np.var(sample_arr)"
   ]
  },
  {
   "cell_type": "code",
   "execution_count": null,
   "id": "c4968b47",
   "metadata": {},
   "outputs": [],
   "source": [
    "np.mean(sample_arr)"
   ]
  },
  {
   "cell_type": "code",
   "execution_count": null,
   "id": "5bdd0ca0",
   "metadata": {},
   "outputs": [],
   "source": [
    "new_arr = np.random.randn(3,4)\n",
    "new_arr"
   ]
  },
  {
   "cell_type": "code",
   "execution_count": null,
   "id": "e294a274",
   "metadata": {},
   "outputs": [],
   "source": [
    "np.round(new_arr, decimals=3) # rounding every decimals of array to 3 digits"
   ]
  },
  {
   "cell_type": "code",
   "execution_count": null,
   "id": "046d458f",
   "metadata": {},
   "outputs": [],
   "source": [
    "sports = np.array(['F1', 'Soccor', 'Badminton', 'F1'])"
   ]
  },
  {
   "cell_type": "code",
   "execution_count": null,
   "id": "3271deb5",
   "metadata": {},
   "outputs": [],
   "source": [
    "sports"
   ]
  },
  {
   "cell_type": "code",
   "execution_count": null,
   "id": "07253f79",
   "metadata": {},
   "outputs": [],
   "source": [
    "np.unique(sports)"
   ]
  },
  {
   "cell_type": "code",
   "execution_count": null,
   "id": "240b9849",
   "metadata": {},
   "outputs": [],
   "source": [
    "# Now Pandas Below "
   ]
  },
  {
   "cell_type": "code",
   "execution_count": null,
   "id": "9f448e2b",
   "metadata": {},
   "outputs": [],
   "source": [
    "import pandas as pd"
   ]
  },
  {
   "cell_type": "code",
   "execution_count": null,
   "id": "bc3921fc",
   "metadata": {},
   "outputs": [],
   "source": [
    "labels = ['w', 'x', 'y', 'z']\n",
    "sample_list = [100,200,300,400]\n",
    "array = np.array([1,2,3,4])\n",
    "dicti = {'w':10, 'x':20, 'y':30, 'z':40}"
   ]
  },
  {
   "cell_type": "code",
   "execution_count": null,
   "id": "d397aab0",
   "metadata": {},
   "outputs": [],
   "source": [
    "pd.Series(data=sample_list)"
   ]
  },
  {
   "cell_type": "code",
   "execution_count": null,
   "id": "5f2d1b2a",
   "metadata": {},
   "outputs": [],
   "source": [
    "pd.Series(data=sample_list, index=array)"
   ]
  },
  {
   "cell_type": "code",
   "execution_count": null,
   "id": "3a6d1ef6",
   "metadata": {},
   "outputs": [],
   "source": [
    "pd.Series(array,labels)"
   ]
  },
  {
   "cell_type": "code",
   "execution_count": null,
   "id": "6983528d",
   "metadata": {},
   "outputs": [],
   "source": [
    "pd.Series(dicti)"
   ]
  },
  {
   "cell_type": "markdown",
   "id": "06eae084",
   "metadata": {},
   "source": [
    "#### Pandas Dataframe & indexing Below"
   ]
  },
  {
   "cell_type": "code",
   "execution_count": null,
   "id": "f00ceb74",
   "metadata": {},
   "outputs": [],
   "source": [
    "sports1 = pd.Series([1,2,3,4], index=['F1', 'Badminton', 'Soccor', 'Cricket'])\n",
    "sports1"
   ]
  },
  {
   "cell_type": "code",
   "execution_count": null,
   "id": "ffed8e30",
   "metadata": {},
   "outputs": [],
   "source": [
    "sports1['F1']"
   ]
  },
  {
   "cell_type": "code",
   "execution_count": null,
   "id": "2cbad945",
   "metadata": {},
   "outputs": [],
   "source": [
    "sports2 = pd.Series([1,2,3,4], index=['F1', 'Socor', 'Cricket', 'Basketball'])\n",
    "sports2"
   ]
  },
  {
   "cell_type": "code",
   "execution_count": null,
   "id": "b0798c4e",
   "metadata": {},
   "outputs": [],
   "source": [
    "df1 = pd.DataFrame(np.random.rand(8, 5), index='A B C D E F G H'.split(), columns='Score1 Score2 Score3 Score4 Score5'.split())\n",
    "df1"
   ]
  },
  {
   "cell_type": "code",
   "execution_count": null,
   "id": "03632d14",
   "metadata": {},
   "outputs": [],
   "source": [
    "df1['Score3']"
   ]
  },
  {
   "cell_type": "code",
   "execution_count": null,
   "id": "db375fee",
   "metadata": {},
   "outputs": [],
   "source": [
    "# accessing multiple columns data\n",
    "df1[['Score1', 'Score2', 'Score3']]"
   ]
  },
  {
   "cell_type": "code",
   "execution_count": null,
   "id": "e1ab8757",
   "metadata": {},
   "outputs": [],
   "source": [
    "df1['Score6'] = df1['Score1'] + df1['Score2']"
   ]
  },
  {
   "cell_type": "code",
   "execution_count": null,
   "id": "9471ebdd",
   "metadata": {},
   "outputs": [],
   "source": [
    "df1"
   ]
  },
  {
   "cell_type": "code",
   "execution_count": null,
   "id": "aed91a03",
   "metadata": {},
   "outputs": [],
   "source": [
    "df2 = {'ID':['101', '102', '103', '107', '176'], 'Name':['John', 'Sasi', 'Gowtham', 'Shasank', 'Lohit'], 'Profit':[20,30,40,50,60]}"
   ]
  },
  {
   "cell_type": "code",
   "execution_count": null,
   "id": "f4e24d68",
   "metadata": {},
   "outputs": [],
   "source": [
    "df3 = pd.DataFrame(df2)\n",
    "df3"
   ]
  },
  {
   "cell_type": "code",
   "execution_count": null,
   "id": "ce79260f",
   "metadata": {},
   "outputs": [],
   "source": [
    "df3['Name']"
   ]
  },
  {
   "cell_type": "code",
   "execution_count": null,
   "id": "2e257243",
   "metadata": {},
   "outputs": [],
   "source": [
    "df3['Name'][1]"
   ]
  },
  {
   "cell_type": "code",
   "execution_count": null,
   "id": "0e2f13a3",
   "metadata": {},
   "outputs": [],
   "source": [
    "df3[['Name', 'Profit']]"
   ]
  },
  {
   "cell_type": "code",
   "execution_count": null,
   "id": "ce21dc6b",
   "metadata": {},
   "outputs": [],
   "source": [
    "df3.drop('ID', axis=1)"
   ]
  },
  {
   "cell_type": "code",
   "execution_count": null,
   "id": "d1392d74",
   "metadata": {},
   "outputs": [],
   "source": [
    "df3.drop(3)"
   ]
  },
  {
   "cell_type": "code",
   "execution_count": null,
   "id": "6d998af2",
   "metadata": {},
   "outputs": [],
   "source": [
    "df3"
   ]
  },
  {
   "cell_type": "code",
   "execution_count": null,
   "id": "f90ba499",
   "metadata": {},
   "outputs": [],
   "source": []
  },
  {
   "cell_type": "markdown",
   "id": "a74a319b",
   "metadata": {},
   "source": [
    "## Deep Learning Starts Below"
   ]
  },
  {
   "cell_type": "raw",
   "id": "7b246b41",
   "metadata": {},
   "source": [
    "Below are basic activation functions"
   ]
  },
  {
   "cell_type": "code",
   "execution_count": null,
   "id": "d9845e52",
   "metadata": {},
   "outputs": [],
   "source": []
  },
  {
   "cell_type": "code",
   "execution_count": null,
   "id": "3e78aeae",
   "metadata": {},
   "outputs": [],
   "source": [
    "# Binary Step Function\n",
    "def binary_fn(x):\n",
    "    if x<0:\n",
    "        return 0\n",
    "    else:\n",
    "        return 1"
   ]
  },
  {
   "cell_type": "code",
   "execution_count": null,
   "id": "cd7f7a18",
   "metadata": {},
   "outputs": [],
   "source": [
    "binary_fn(-1)"
   ]
  },
  {
   "cell_type": "code",
   "execution_count": null,
   "id": "fdef6ae8",
   "metadata": {},
   "outputs": [],
   "source": [
    "binary_fn(3)"
   ]
  },
  {
   "cell_type": "code",
   "execution_count": null,
   "id": "cc5e79da",
   "metadata": {},
   "outputs": [],
   "source": [
    "# Linear Fn\n",
    "def linear_fn(x):\n",
    "    return 5*x"
   ]
  },
  {
   "cell_type": "code",
   "execution_count": null,
   "id": "e076bebd",
   "metadata": {},
   "outputs": [],
   "source": [
    "linear_fn(-5)"
   ]
  },
  {
   "cell_type": "code",
   "execution_count": null,
   "id": "d8fdb2f5",
   "metadata": {},
   "outputs": [],
   "source": [
    "linear_fn(5)"
   ]
  },
  {
   "cell_type": "code",
   "execution_count": null,
   "id": "f0476677",
   "metadata": {},
   "outputs": [],
   "source": [
    "# Sigmoid fn\n",
    "import numpy as np\n",
    "def sigmoid_fn(x):\n",
    "    z = (1/(1+np.exp(-x)))\n",
    "    return z"
   ]
  },
  {
   "cell_type": "code",
   "execution_count": null,
   "id": "b9ab0ef6",
   "metadata": {},
   "outputs": [],
   "source": [
    "sigmoid_fn(-4)"
   ]
  },
  {
   "cell_type": "code",
   "execution_count": null,
   "id": "5a8e69b3",
   "metadata": {},
   "outputs": [],
   "source": [
    "sigmoid_fn(4)"
   ]
  },
  {
   "cell_type": "code",
   "execution_count": null,
   "id": "edde326f",
   "metadata": {},
   "outputs": [],
   "source": [
    "sigmoid_fn(-200)"
   ]
  },
  {
   "cell_type": "code",
   "execution_count": null,
   "id": "f99fd841",
   "metadata": {},
   "outputs": [],
   "source": [
    "sigmoid_fn(200)"
   ]
  },
  {
   "cell_type": "code",
   "execution_count": null,
   "id": "b4f15d2a",
   "metadata": {},
   "outputs": [],
   "source": [
    "sigmoid_fn(2000)"
   ]
  },
  {
   "cell_type": "code",
   "execution_count": null,
   "id": "5c837233",
   "metadata": {},
   "outputs": [],
   "source": [
    "# tanh fun\n",
    "def tanh_fn(x):\n",
    "    z = (2/(1+np.exp(-2*x)))-1\n",
    "    return z"
   ]
  },
  {
   "cell_type": "code",
   "execution_count": null,
   "id": "564676d0",
   "metadata": {},
   "outputs": [],
   "source": [
    "tanh_fn(1)"
   ]
  },
  {
   "cell_type": "code",
   "execution_count": null,
   "id": "dbb9a98b",
   "metadata": {},
   "outputs": [],
   "source": [
    "tanh_fn(-1)"
   ]
  },
  {
   "cell_type": "code",
   "execution_count": null,
   "id": "aa06ba70",
   "metadata": {},
   "outputs": [],
   "source": [
    "tanh_fn(0.9)"
   ]
  },
  {
   "cell_type": "code",
   "execution_count": null,
   "id": "9158cd75",
   "metadata": {},
   "outputs": [],
   "source": [
    "tanh_fn(-299)"
   ]
  },
  {
   "cell_type": "code",
   "execution_count": null,
   "id": "03bd5aa9",
   "metadata": {},
   "outputs": [],
   "source": [
    "tanh_fn(299)"
   ]
  },
  {
   "cell_type": "code",
   "execution_count": null,
   "id": "e12afa04",
   "metadata": {},
   "outputs": [],
   "source": [
    "# ReLu function\n",
    "def relu_fn(x):\n",
    "    if x<0:\n",
    "        return 0\n",
    "    else:\n",
    "        return x"
   ]
  },
  {
   "cell_type": "code",
   "execution_count": null,
   "id": "5a34c840",
   "metadata": {},
   "outputs": [],
   "source": [
    "relu_fn(-10)"
   ]
  },
  {
   "cell_type": "code",
   "execution_count": null,
   "id": "2a8f682f",
   "metadata": {},
   "outputs": [],
   "source": [
    "relu_fn(10)"
   ]
  },
  {
   "cell_type": "code",
   "execution_count": null,
   "id": "ce3b8c65",
   "metadata": {},
   "outputs": [],
   "source": [
    "# Leaky relu fn\n",
    "def leaky_relu(x):\n",
    "    if x<0:\n",
    "        return 0.01*x\n",
    "    else:\n",
    "        return x"
   ]
  },
  {
   "cell_type": "code",
   "execution_count": null,
   "id": "69395222",
   "metadata": {},
   "outputs": [],
   "source": [
    "leaky_relu(-3)"
   ]
  },
  {
   "cell_type": "code",
   "execution_count": null,
   "id": "3072440e",
   "metadata": {},
   "outputs": [],
   "source": [
    "leaky_relu(3)"
   ]
  },
  {
   "cell_type": "code",
   "execution_count": null,
   "id": "16dff0ba",
   "metadata": {},
   "outputs": [],
   "source": [
    "# ELU function\n",
    "def elu_fn(x, a):\n",
    "    if x<0:\n",
    "        return a*(np.exp(x)-1)\n",
    "    else:\n",
    "        return x"
   ]
  },
  {
   "cell_type": "code",
   "execution_count": null,
   "id": "13747550",
   "metadata": {},
   "outputs": [],
   "source": [
    "elu_fn(5, 0.1)"
   ]
  },
  {
   "cell_type": "code",
   "execution_count": null,
   "id": "53e8a3d1",
   "metadata": {},
   "outputs": [],
   "source": [
    "elu_fn(-5, 0.1)"
   ]
  },
  {
   "cell_type": "code",
   "execution_count": null,
   "id": "cdf212ff",
   "metadata": {},
   "outputs": [],
   "source": [
    "# Switch fn\n",
    "def switch_fn(x):\n",
    "    return x/(1-np.exp(-x))"
   ]
  },
  {
   "cell_type": "code",
   "execution_count": null,
   "id": "ba6af4c0",
   "metadata": {},
   "outputs": [],
   "source": [
    "switch_fn(2)"
   ]
  },
  {
   "cell_type": "code",
   "execution_count": null,
   "id": "2a5ff4a6",
   "metadata": {},
   "outputs": [],
   "source": [
    "switch_fn(-3)"
   ]
  },
  {
   "cell_type": "code",
   "execution_count": null,
   "id": "732bcd9f",
   "metadata": {},
   "outputs": [],
   "source": [
    "# Softmax fn\n",
    "def softmax_fn(x):\n",
    "    z = np.exp(x)\n",
    "    z_=z/z.sum()\n",
    "    return z_"
   ]
  },
  {
   "cell_type": "code",
   "execution_count": null,
   "id": "7b9d3485",
   "metadata": {},
   "outputs": [],
   "source": [
    "softmax_fn([6.0,3.0,9.0])"
   ]
  },
  {
   "cell_type": "code",
   "execution_count": null,
   "id": "b87f6a62",
   "metadata": {},
   "outputs": [],
   "source": [
    "softmax_fn([3.0,6.0,9.0])"
   ]
  },
  {
   "cell_type": "code",
   "execution_count": null,
   "id": "2bc5eebc",
   "metadata": {},
   "outputs": [],
   "source": [
    "# When we are working with Classification problem we use Sigmoid"
   ]
  },
  {
   "cell_type": "markdown",
   "id": "b07d6188",
   "metadata": {},
   "source": [
    "# Deep Learning/ Neural Networks Below"
   ]
  },
  {
   "cell_type": "code",
   "execution_count": null,
   "id": "49de4590",
   "metadata": {},
   "outputs": [],
   "source": [
    "# 9-09-2022"
   ]
  },
  {
   "cell_type": "code",
   "execution_count": 1,
   "id": "63498bcf",
   "metadata": {},
   "outputs": [
    {
     "name": "stdout",
     "output_type": "stream",
     "text": [
      "Collecting tensorflowNote: you may need to restart the kernel to use updated packages.\n",
      "\n",
      "  Using cached tensorflow-2.10.0-cp38-cp38-win_amd64.whl (455.9 MB)\n",
      "Requirement already satisfied: tensorflow-io-gcs-filesystem>=0.23.1 in c:\\programdata\\anaconda3\\lib\\site-packages (from tensorflow) (0.26.0)\n",
      "Requirement already satisfied: protobuf<3.20,>=3.9.2 in c:\\programdata\\anaconda3\\lib\\site-packages (from tensorflow) (3.19.4)\n",
      "Requirement already satisfied: keras<2.11,>=2.10.0 in c:\\programdata\\anaconda3\\lib\\site-packages (from tensorflow) (2.10.0)\n",
      "Collecting google-pasta>=0.1.1\n",
      "  Using cached google_pasta-0.2.0-py3-none-any.whl (57 kB)\n",
      "Requirement already satisfied: tensorflow-estimator<2.11,>=2.10.0 in c:\\programdata\\anaconda3\\lib\\site-packages (from tensorflow) (2.10.0)\n",
      "Requirement already satisfied: h5py>=2.9.0 in c:\\programdata\\anaconda3\\lib\\site-packages (from tensorflow) (2.10.0)\n",
      "Collecting absl-py>=1.0.0\n",
      "  Using cached absl_py-1.2.0-py3-none-any.whl (123 kB)\n",
      "Collecting grpcio<2.0,>=1.24.3\n",
      "  Using cached grpcio-1.48.1-cp38-cp38-win_amd64.whl (3.6 MB)\n",
      "Requirement already satisfied: typing-extensions>=3.6.6 in c:\\programdata\\anaconda3\\lib\\site-packages (from tensorflow) (3.7.4.3)\n",
      "Collecting astunparse>=1.6.0\n",
      "  Using cached astunparse-1.6.3-py2.py3-none-any.whl (12 kB)\n",
      "Requirement already satisfied: libclang>=13.0.0 in c:\\programdata\\anaconda3\\lib\\site-packages (from tensorflow) (14.0.6)\n",
      "Requirement already satisfied: setuptools in c:\\programdata\\anaconda3\\lib\\site-packages (from tensorflow) (52.0.0.post20210125)\n",
      "Requirement already satisfied: wrapt>=1.11.0 in c:\\programdata\\anaconda3\\lib\\site-packages (from tensorflow) (1.12.1)\n",
      "Requirement already satisfied: flatbuffers>=2.0 in c:\\programdata\\anaconda3\\lib\\site-packages (from tensorflow) (2.0.7)\n",
      "Requirement already satisfied: numpy>=1.20 in c:\\programdata\\anaconda3\\lib\\site-packages (from tensorflow) (1.20.1)\n",
      "Requirement already satisfied: six>=1.12.0 in c:\\programdata\\anaconda3\\lib\\site-packages (from tensorflow) (1.15.0)\n",
      "Requirement already satisfied: packaging in c:\\programdata\\anaconda3\\lib\\site-packages (from tensorflow) (20.9)\n",
      "Requirement already satisfied: opt-einsum>=2.3.2 in c:\\programdata\\anaconda3\\lib\\site-packages (from tensorflow) (3.3.0)\n",
      "Collecting tensorboard<2.11,>=2.10\n",
      "  Using cached tensorboard-2.10.0-py3-none-any.whl (5.9 MB)\n",
      "Requirement already satisfied: keras-preprocessing>=1.1.1 in c:\\programdata\\anaconda3\\lib\\site-packages (from tensorflow) (1.1.2)\n",
      "Requirement already satisfied: termcolor>=1.1.0 in c:\\programdata\\anaconda3\\lib\\site-packages (from tensorflow) (1.1.0)\n",
      "Collecting gast<=0.4.0,>=0.2.1\n",
      "  Using cached gast-0.4.0-py3-none-any.whl (9.8 kB)\n",
      "Requirement already satisfied: wheel<1.0,>=0.23.0 in c:\\programdata\\anaconda3\\lib\\site-packages (from astunparse>=1.6.0->tensorflow) (0.36.2)\n",
      "Requirement already satisfied: tensorboard-plugin-wit>=1.6.0 in c:\\programdata\\anaconda3\\lib\\site-packages (from tensorboard<2.11,>=2.10->tensorflow) (1.8.1)\n",
      "Collecting google-auth-oauthlib<0.5,>=0.4.1\n",
      "  Using cached google_auth_oauthlib-0.4.6-py2.py3-none-any.whl (18 kB)\n",
      "Requirement already satisfied: werkzeug>=1.0.1 in c:\\programdata\\anaconda3\\lib\\site-packages (from tensorboard<2.11,>=2.10->tensorflow) (1.0.1)\n",
      "Collecting google-auth<3,>=1.6.3\n",
      "  Using cached google_auth-2.11.0-py2.py3-none-any.whl (167 kB)\n",
      "Requirement already satisfied: requests<3,>=2.21.0 in c:\\programdata\\anaconda3\\lib\\site-packages (from tensorboard<2.11,>=2.10->tensorflow) (2.25.1)\n",
      "Collecting markdown>=2.6.8\n",
      "  Using cached Markdown-3.4.1-py3-none-any.whl (93 kB)\n",
      "Requirement already satisfied: tensorboard-data-server<0.7.0,>=0.6.0 in c:\\programdata\\anaconda3\\lib\\site-packages (from tensorboard<2.11,>=2.10->tensorflow) (0.6.1)\n",
      "Requirement already satisfied: pyparsing>=2.0.2 in c:\\programdata\\anaconda3\\lib\\site-packages (from packaging->tensorflow) (2.4.7)\n",
      "Requirement already satisfied: cachetools<6.0,>=2.0.0 in c:\\programdata\\anaconda3\\lib\\site-packages (from google-auth<3,>=1.6.3->tensorboard<2.11,>=2.10->tensorflow) (5.2.0)\n",
      "Requirement already satisfied: rsa<5,>=3.1.4 in c:\\programdata\\anaconda3\\lib\\site-packages (from google-auth<3,>=1.6.3->tensorboard<2.11,>=2.10->tensorflow) (4.9)\n",
      "Requirement already satisfied: pyasn1-modules>=0.2.1 in c:\\programdata\\anaconda3\\lib\\site-packages (from google-auth<3,>=1.6.3->tensorboard<2.11,>=2.10->tensorflow) (0.2.8)\n",
      "Requirement already satisfied: requests-oauthlib>=0.7.0 in c:\\programdata\\anaconda3\\lib\\site-packages (from google-auth-oauthlib<0.5,>=0.4.1->tensorboard<2.11,>=2.10->tensorflow) (1.3.1)\n",
      "Collecting importlib-metadata>=4.4\n",
      "  Using cached importlib_metadata-4.12.0-py3-none-any.whl (21 kB)\n",
      "Requirement already satisfied: urllib3<1.27,>=1.21.1 in c:\\programdata\\anaconda3\\lib\\site-packages (from requests<3,>=2.21.0->tensorboard<2.11,>=2.10->tensorflow) (1.26.4)\n",
      "Requirement already satisfied: certifi>=2017.4.17 in c:\\programdata\\anaconda3\\lib\\site-packages (from requests<3,>=2.21.0->tensorboard<2.11,>=2.10->tensorflow) (2020.12.5)\n",
      "Requirement already satisfied: idna<3,>=2.5 in c:\\programdata\\anaconda3\\lib\\site-packages (from requests<3,>=2.21.0->tensorboard<2.11,>=2.10->tensorflow) (2.10)\n",
      "Requirement already satisfied: chardet<5,>=3.0.2 in c:\\programdata\\anaconda3\\lib\\site-packages (from requests<3,>=2.21.0->tensorboard<2.11,>=2.10->tensorflow) (4.0.0)\n",
      "Requirement already satisfied: zipp>=0.5 in c:\\programdata\\anaconda3\\lib\\site-packages (from importlib-metadata>=4.4->markdown>=2.6.8->tensorboard<2.11,>=2.10->tensorflow) (3.4.1)\n",
      "Requirement already satisfied: pyasn1<0.5.0,>=0.4.6 in c:\\programdata\\anaconda3\\lib\\site-packages (from pyasn1-modules>=0.2.1->google-auth<3,>=1.6.3->tensorboard<2.11,>=2.10->tensorflow) (0.4.8)\n",
      "Requirement already satisfied: oauthlib>=3.0.0 in c:\\programdata\\anaconda3\\lib\\site-packages (from requests-oauthlib>=0.7.0->google-auth-oauthlib<0.5,>=0.4.1->tensorboard<2.11,>=2.10->tensorflow) (3.2.0)\n",
      "Installing collected packages: importlib-metadata, grpcio, google-pasta, gast, astunparse, absl-py, markdown, google-auth, google-auth-oauthlib, tensorboard, tensorflow\n",
      "  Attempting uninstall: importlib-metadata\n",
      "    Found existing installation: importlib-metadata 3.10.0\n",
      "    Uninstalling importlib-metadata-3.10.0:\n"
     ]
    },
    {
     "name": "stderr",
     "output_type": "stream",
     "text": [
      "WARNING: Ignoring invalid distribution -portlib-metadata (c:\\programdata\\anaconda3\\lib\\site-packages)\n",
      "WARNING: Ignoring invalid distribution -mpy (c:\\programdata\\anaconda3\\lib\\site-packages)\n",
      "WARNING: Ignoring invalid distribution -3portlib-metadata (c:\\programdata\\anaconda3\\lib\\site-packages)\n",
      "WARNING: Ignoring invalid distribution -2portlib-metadata (c:\\programdata\\anaconda3\\lib\\site-packages)\n",
      "WARNING: Ignoring invalid distribution -1portlib-metadata (c:\\programdata\\anaconda3\\lib\\site-packages)\n",
      "WARNING: Ignoring invalid distribution -umpy (c:\\programdata\\anaconda3\\lib\\site-packages)\n",
      "WARNING: Ignoring invalid distribution -portlib-metadata (c:\\programdata\\anaconda3\\lib\\site-packages)\n",
      "WARNING: Ignoring invalid distribution -0portlib-metadata (c:\\programdata\\anaconda3\\lib\\site-packages)\n",
      "WARNING: Ignoring invalid distribution -mportlib-metadata (c:\\programdata\\anaconda3\\lib\\site-packages)\n",
      "WARNING: Ignoring invalid distribution - (c:\\programdata\\anaconda3\\lib\\site-packages)\n",
      "WARNING: Ignoring invalid distribution -extdistance (c:\\programdata\\anaconda3\\lib\\site-packages)\n",
      "WARNING: Ignoring invalid distribution -ertifi (c:\\programdata\\anaconda3\\lib\\site-packages)\n",
      "WARNING: Ignoring invalid distribution -portlib-metadata (c:\\programdata\\anaconda3\\lib\\site-packages)\n",
      "WARNING: Ignoring invalid distribution -mpy (c:\\programdata\\anaconda3\\lib\\site-packages)\n",
      "WARNING: Ignoring invalid distribution -3portlib-metadata (c:\\programdata\\anaconda3\\lib\\site-packages)\n",
      "WARNING: Ignoring invalid distribution -2portlib-metadata (c:\\programdata\\anaconda3\\lib\\site-packages)\n",
      "WARNING: Ignoring invalid distribution -1portlib-metadata (c:\\programdata\\anaconda3\\lib\\site-packages)\n",
      "WARNING: Ignoring invalid distribution -umpy (c:\\programdata\\anaconda3\\lib\\site-packages)\n",
      "WARNING: Ignoring invalid distribution -portlib-metadata (c:\\programdata\\anaconda3\\lib\\site-packages)\n",
      "WARNING: Ignoring invalid distribution -0portlib-metadata (c:\\programdata\\anaconda3\\lib\\site-packages)\n",
      "WARNING: Ignoring invalid distribution -mportlib-metadata (c:\\programdata\\anaconda3\\lib\\site-packages)\n",
      "WARNING: Ignoring invalid distribution - (c:\\programdata\\anaconda3\\lib\\site-packages)\n",
      "WARNING: Ignoring invalid distribution -extdistance (c:\\programdata\\anaconda3\\lib\\site-packages)\n",
      "WARNING: Ignoring invalid distribution -ertifi (c:\\programdata\\anaconda3\\lib\\site-packages)\n",
      "WARNING: Ignoring invalid distribution -portlib-metadata (c:\\programdata\\anaconda3\\lib\\site-packages)\n",
      "WARNING: Ignoring invalid distribution -mpy (c:\\programdata\\anaconda3\\lib\\site-packages)\n",
      "WARNING: Ignoring invalid distribution -3portlib-metadata (c:\\programdata\\anaconda3\\lib\\site-packages)\n",
      "WARNING: Ignoring invalid distribution -2portlib-metadata (c:\\programdata\\anaconda3\\lib\\site-packages)\n",
      "WARNING: Ignoring invalid distribution -1portlib-metadata (c:\\programdata\\anaconda3\\lib\\site-packages)\n",
      "WARNING: Ignoring invalid distribution -umpy (c:\\programdata\\anaconda3\\lib\\site-packages)\n",
      "WARNING: Ignoring invalid distribution -portlib-metadata (c:\\programdata\\anaconda3\\lib\\site-packages)\n",
      "WARNING: Ignoring invalid distribution -0portlib-metadata (c:\\programdata\\anaconda3\\lib\\site-packages)\n",
      "WARNING: Ignoring invalid distribution -mportlib-metadata (c:\\programdata\\anaconda3\\lib\\site-packages)\n",
      "WARNING: Ignoring invalid distribution - (c:\\programdata\\anaconda3\\lib\\site-packages)\n",
      "WARNING: Ignoring invalid distribution -extdistance (c:\\programdata\\anaconda3\\lib\\site-packages)\n",
      "WARNING: Ignoring invalid distribution -ertifi (c:\\programdata\\anaconda3\\lib\\site-packages)\n",
      "    WARNING: Ignoring invalid distribution -portlib-metadata (c:\\programdata\\anaconda3\\lib\\site-packages)\n",
      "    WARNING: Ignoring invalid distribution -mpy (c:\\programdata\\anaconda3\\lib\\site-packages)\n",
      "    WARNING: Ignoring invalid distribution -3portlib-metadata (c:\\programdata\\anaconda3\\lib\\site-packages)\n",
      "    WARNING: Ignoring invalid distribution -2portlib-metadata (c:\\programdata\\anaconda3\\lib\\site-packages)\n",
      "    WARNING: Ignoring invalid distribution -1portlib-metadata (c:\\programdata\\anaconda3\\lib\\site-packages)\n",
      "    WARNING: Ignoring invalid distribution -umpy (c:\\programdata\\anaconda3\\lib\\site-packages)\n",
      "    WARNING: Ignoring invalid distribution -portlib-metadata (c:\\programdata\\anaconda3\\lib\\site-packages)\n",
      "    WARNING: Ignoring invalid distribution -0portlib-metadata (c:\\programdata\\anaconda3\\lib\\site-packages)\n",
      "    WARNING: Ignoring invalid distribution -mportlib-metadata (c:\\programdata\\anaconda3\\lib\\site-packages)\n",
      "    WARNING: Ignoring invalid distribution - (c:\\programdata\\anaconda3\\lib\\site-packages)\n",
      "    WARNING: Ignoring invalid distribution -extdistance (c:\\programdata\\anaconda3\\lib\\site-packages)\n",
      "    WARNING: Ignoring invalid distribution -ertifi (c:\\programdata\\anaconda3\\lib\\site-packages)\n",
      "ERROR: Could not install packages due to an OSError: [WinError 5] Access is denied: 'c:\\\\programdata\\\\anaconda3\\\\lib\\\\site-packages\\\\importlib_metadata-3.10.0.dist-info\\\\direct_url.json'\n",
      "Consider using the `--user` option or check the permissions.\n",
      "\n",
      "WARNING: Ignoring invalid distribution -portlib-metadata (c:\\programdata\\anaconda3\\lib\\site-packages)\n",
      "WARNING: Ignoring invalid distribution -mpy (c:\\programdata\\anaconda3\\lib\\site-packages)\n",
      "WARNING: Ignoring invalid distribution -3portlib-metadata (c:\\programdata\\anaconda3\\lib\\site-packages)\n",
      "WARNING: Ignoring invalid distribution -2portlib-metadata (c:\\programdata\\anaconda3\\lib\\site-packages)\n",
      "WARNING: Ignoring invalid distribution -1portlib-metadata (c:\\programdata\\anaconda3\\lib\\site-packages)\n",
      "WARNING: Ignoring invalid distribution -umpy (c:\\programdata\\anaconda3\\lib\\site-packages)\n",
      "WARNING: Ignoring invalid distribution -portlib-metadata (c:\\programdata\\anaconda3\\lib\\site-packages)\n",
      "WARNING: Ignoring invalid distribution -0portlib-metadata (c:\\programdata\\anaconda3\\lib\\site-packages)\n",
      "WARNING: Ignoring invalid distribution -mportlib-metadata (c:\\programdata\\anaconda3\\lib\\site-packages)\n",
      "WARNING: Ignoring invalid distribution - (c:\\programdata\\anaconda3\\lib\\site-packages)\n",
      "WARNING: Ignoring invalid distribution -extdistance (c:\\programdata\\anaconda3\\lib\\site-packages)\n",
      "WARNING: Ignoring invalid distribution -ertifi (c:\\programdata\\anaconda3\\lib\\site-packages)\n"
     ]
    }
   ],
   "source": [
    "# pip install tensorflow"
   ]
  },
  {
   "cell_type": "code",
   "execution_count": null,
   "id": "90da4d10",
   "metadata": {},
   "outputs": [],
   "source": []
  },
  {
   "cell_type": "code",
   "execution_count": 2,
   "id": "bd80d45c",
   "metadata": {},
   "outputs": [],
   "source": [
    "import tensorflow, keras"
   ]
  },
  {
   "cell_type": "code",
   "execution_count": 2,
   "id": "14bbf45e",
   "metadata": {},
   "outputs": [],
   "source": [
    "# For loss fn & evaluation metrics, mean squared error(mse) is commonly used"
   ]
  },
  {
   "cell_type": "code",
   "execution_count": 3,
   "id": "becb21c5",
   "metadata": {},
   "outputs": [],
   "source": [
    "from keras.datasets import boston_housing"
   ]
  },
  {
   "cell_type": "code",
   "execution_count": 5,
   "id": "084de675",
   "metadata": {},
   "outputs": [
    {
     "name": "stdout",
     "output_type": "stream",
     "text": [
      "Downloading data from https://storage.googleapis.com/tensorflow/tf-keras-datasets/boston_housing.npz\n",
      "57026/57026 [==============================] - 0s 2us/step\n"
     ]
    }
   ],
   "source": [
    "(X_train, y_train), (X_test, y_test) = boston_housing.load_data()"
   ]
  },
  {
   "cell_type": "code",
   "execution_count": 10,
   "id": "b88ac576",
   "metadata": {},
   "outputs": [],
   "source": [
    "# Data Description\n",
    "# Boston housing dataset has total 506 data instances(404 training & 102 test)\n",
    "# 13 attributes(features) to predict \"the median values of the houses at a location\""
   ]
  },
  {
   "cell_type": "code",
   "execution_count": 6,
   "id": "d1bf2f2a",
   "metadata": {},
   "outputs": [
    {
     "name": "stdout",
     "output_type": "stream",
     "text": [
      "(404, 13)\n"
     ]
    }
   ],
   "source": [
    "print(X_train.shape)"
   ]
  },
  {
   "cell_type": "code",
   "execution_count": 7,
   "id": "294dd983",
   "metadata": {},
   "outputs": [
    {
     "name": "stdout",
     "output_type": "stream",
     "text": [
      "(102, 13)\n"
     ]
    }
   ],
   "source": [
    "print(X_test.shape)"
   ]
  },
  {
   "cell_type": "code",
   "execution_count": 8,
   "id": "507c5c95",
   "metadata": {},
   "outputs": [
    {
     "name": "stdout",
     "output_type": "stream",
     "text": [
      "(404,)\n"
     ]
    }
   ],
   "source": [
    "print(y_train.shape)"
   ]
  },
  {
   "cell_type": "code",
   "execution_count": 9,
   "id": "c4b4f747",
   "metadata": {},
   "outputs": [
    {
     "name": "stdout",
     "output_type": "stream",
     "text": [
      "(102,)\n"
     ]
    }
   ],
   "source": [
    "print(y_test.shape)"
   ]
  },
  {
   "cell_type": "code",
   "execution_count": null,
   "id": "a3b6956a",
   "metadata": {},
   "outputs": [],
   "source": [
    "# Creating a mode;"
   ]
  },
  {
   "cell_type": "code",
   "execution_count": 11,
   "id": "29f5f8cc",
   "metadata": {},
   "outputs": [],
   "source": [
    "from keras.models import Sequential\n",
    "model = Sequential()"
   ]
  },
  {
   "cell_type": "code",
   "execution_count": 12,
   "id": "08fac291",
   "metadata": {},
   "outputs": [],
   "source": [
    "# layers\n",
    "from keras.layers import Activation, Dense"
   ]
  },
  {
   "cell_type": "code",
   "execution_count": 13,
   "id": "ccb8198f",
   "metadata": {},
   "outputs": [],
   "source": [
    "# Keras model with two hidden layer with 10 neurons each\n",
    "model.add(Dense(10, input_shape = (13,))) # Input layer --> input_shape should be explicitly designated\n",
    "\n",
    "model.add(Activation('sigmoid'))\n",
    "model.add(Dense(10))              # Hidden layer -> only o/p dimension should be designated\n",
    "\n",
    "model.add(Activation('sigmoid'))\n",
    "model.add(Dense(10))              # Hidden layer -> only o/p dimension should be designated\n",
    "\n",
    "model.add(Activation('sigmoid'))\n",
    "model.add(Dense(1))               # Output layer -> o/p dimension = 1 since it's regression"
   ]
  },
  {
   "cell_type": "code",
   "execution_count": null,
   "id": "32d09f57",
   "metadata": {},
   "outputs": [],
   "source": []
  },
  {
   "cell_type": "code",
   "execution_count": null,
   "id": "b174857d",
   "metadata": {},
   "outputs": [],
   "source": [
    "# 1-2 Model Compile\n",
    "\"\"\"\n",
    "Kearas model shoul be \"compiled\" prio 2training\n",
    "Types of loss(function) & optimizer should be designed\n",
    "\n",
    "\"\"\""
   ]
  },
  {
   "cell_type": "code",
   "execution_count": 14,
   "id": "22fcd694",
   "metadata": {},
   "outputs": [],
   "source": [
    "from tensorflow.keras import optimizers\n"
   ]
  },
  {
   "cell_type": "code",
   "execution_count": 15,
   "id": "82325de1",
   "metadata": {},
   "outputs": [],
   "source": [
    "import warnings\n",
    "warnings.filterwarnings(\"ignore\")"
   ]
  },
  {
   "cell_type": "code",
   "execution_count": 16,
   "id": "fa5b8878",
   "metadata": {},
   "outputs": [],
   "source": [
    "sgd = optimizers.SGD(lr = 0.01)\n",
    "model.compile(optimizer= sgd, loss='mean_squared_error', metrics= ['mse']) # for regression probability"
   ]
  },
  {
   "cell_type": "code",
   "execution_count": 17,
   "id": "d27aec76",
   "metadata": {},
   "outputs": [
    {
     "name": "stdout",
     "output_type": "stream",
     "text": [
      "Model: \"sequential\"\n",
      "_________________________________________________________________\n",
      " Layer (type)                Output Shape              Param #   \n",
      "=================================================================\n",
      " dense (Dense)               (None, 10)                140       \n",
      "                                                                 \n",
      " activation (Activation)     (None, 10)                0         \n",
      "                                                                 \n",
      " dense_1 (Dense)             (None, 10)                110       \n",
      "                                                                 \n",
      " activation_1 (Activation)   (None, 10)                0         \n",
      "                                                                 \n",
      " dense_2 (Dense)             (None, 10)                110       \n",
      "                                                                 \n",
      " activation_2 (Activation)   (None, 10)                0         \n",
      "                                                                 \n",
      " dense_3 (Dense)             (None, 1)                 11        \n",
      "                                                                 \n",
      "=================================================================\n",
      "Total params: 371\n",
      "Trainable params: 371\n",
      "Non-trainable params: 0\n",
      "_________________________________________________________________\n"
     ]
    }
   ],
   "source": [
    "model.summary()"
   ]
  },
  {
   "cell_type": "code",
   "execution_count": 18,
   "id": "13bd7a7f",
   "metadata": {},
   "outputs": [
    {
     "name": "stdout",
     "output_type": "stream",
     "text": [
      "Epoch 1/100\n",
      "9/9 [==============================] - 1s 2ms/step - loss: 356.6652 - mse: 356.6652\n",
      "Epoch 2/100\n",
      "9/9 [==============================] - 0s 2ms/step - loss: 98.7129 - mse: 98.7129\n",
      "Epoch 3/100\n",
      "9/9 [==============================] - 0s 2ms/step - loss: 85.5555 - mse: 85.5555\n",
      "Epoch 4/100\n",
      "9/9 [==============================] - 0s 5ms/step - loss: 83.1270 - mse: 83.1270\n",
      "Epoch 5/100\n",
      "9/9 [==============================] - 0s 2ms/step - loss: 82.3557 - mse: 82.3557\n",
      "Epoch 6/100\n",
      "9/9 [==============================] - 0s 2ms/step - loss: 82.7964 - mse: 82.7964\n",
      "Epoch 7/100\n",
      "9/9 [==============================] - 0s 2ms/step - loss: 83.4119 - mse: 83.4119\n",
      "Epoch 8/100\n",
      "9/9 [==============================] - 0s 2ms/step - loss: 83.2196 - mse: 83.2196\n",
      "Epoch 9/100\n",
      "9/9 [==============================] - 0s 2ms/step - loss: 84.0504 - mse: 84.0504\n",
      "Epoch 10/100\n",
      "9/9 [==============================] - 0s 2ms/step - loss: 81.7658 - mse: 81.7658\n",
      "Epoch 11/100\n",
      "9/9 [==============================] - 0s 2ms/step - loss: 81.4142 - mse: 81.4142\n",
      "Epoch 12/100\n",
      "9/9 [==============================] - 0s 2ms/step - loss: 80.8690 - mse: 80.8690\n",
      "Epoch 13/100\n",
      "9/9 [==============================] - 0s 3ms/step - loss: 79.9521 - mse: 79.9521\n",
      "Epoch 14/100\n",
      "9/9 [==============================] - 0s 2ms/step - loss: 81.8196 - mse: 81.8196\n",
      "Epoch 15/100\n",
      "9/9 [==============================] - 0s 2ms/step - loss: 80.4263 - mse: 80.4263\n",
      "Epoch 16/100\n",
      "9/9 [==============================] - 0s 2ms/step - loss: 83.1812 - mse: 83.1812\n",
      "Epoch 17/100\n",
      "9/9 [==============================] - 0s 2ms/step - loss: 81.9966 - mse: 81.9966\n",
      "Epoch 18/100\n",
      "9/9 [==============================] - 0s 3ms/step - loss: 81.9053 - mse: 81.9053\n",
      "Epoch 19/100\n",
      "9/9 [==============================] - 0s 4ms/step - loss: 81.8780 - mse: 81.8780\n",
      "Epoch 20/100\n",
      "9/9 [==============================] - 0s 3ms/step - loss: 80.9636 - mse: 80.9636\n",
      "Epoch 21/100\n",
      "9/9 [==============================] - 0s 2ms/step - loss: 80.6744 - mse: 80.6744\n",
      "Epoch 22/100\n",
      "9/9 [==============================] - 0s 2ms/step - loss: 80.4721 - mse: 80.4721\n",
      "Epoch 23/100\n",
      "9/9 [==============================] - 0s 2ms/step - loss: 80.2430 - mse: 80.2430\n",
      "Epoch 24/100\n",
      "9/9 [==============================] - 0s 3ms/step - loss: 80.6514 - mse: 80.6514\n",
      "Epoch 25/100\n",
      "9/9 [==============================] - 0s 2ms/step - loss: 80.6274 - mse: 80.6274\n",
      "Epoch 26/100\n",
      "9/9 [==============================] - 0s 3ms/step - loss: 79.7359 - mse: 79.7359\n",
      "Epoch 27/100\n",
      "9/9 [==============================] - 0s 4ms/step - loss: 79.1761 - mse: 79.1761\n",
      "Epoch 28/100\n",
      "9/9 [==============================] - 0s 4ms/step - loss: 78.8694 - mse: 78.8694\n",
      "Epoch 29/100\n",
      "9/9 [==============================] - 0s 3ms/step - loss: 81.4365 - mse: 81.4365\n",
      "Epoch 30/100\n",
      "9/9 [==============================] - 0s 2ms/step - loss: 79.4355 - mse: 79.4355\n",
      "Epoch 31/100\n",
      "9/9 [==============================] - 0s 3ms/step - loss: 78.1311 - mse: 78.1311\n",
      "Epoch 32/100\n",
      "9/9 [==============================] - 0s 4ms/step - loss: 78.0034 - mse: 78.0034\n",
      "Epoch 33/100\n",
      "9/9 [==============================] - 0s 3ms/step - loss: 77.8911 - mse: 77.8911\n",
      "Epoch 34/100\n",
      "9/9 [==============================] - 0s 3ms/step - loss: 78.7658 - mse: 78.7658\n",
      "Epoch 35/100\n",
      "9/9 [==============================] - 0s 3ms/step - loss: 77.9391 - mse: 77.9391\n",
      "Epoch 36/100\n",
      "9/9 [==============================] - 0s 3ms/step - loss: 77.6772 - mse: 77.6772\n",
      "Epoch 37/100\n",
      "9/9 [==============================] - 0s 2ms/step - loss: 78.3396 - mse: 78.3396\n",
      "Epoch 38/100\n",
      "9/9 [==============================] - 0s 2ms/step - loss: 77.6106 - mse: 77.6106\n",
      "Epoch 39/100\n",
      "9/9 [==============================] - 0s 3ms/step - loss: 77.3764 - mse: 77.3764\n",
      "Epoch 40/100\n",
      "9/9 [==============================] - 0s 2ms/step - loss: 78.7600 - mse: 78.7600\n",
      "Epoch 41/100\n",
      "9/9 [==============================] - 0s 2ms/step - loss: 77.5987 - mse: 77.5987\n",
      "Epoch 42/100\n",
      "9/9 [==============================] - 0s 2ms/step - loss: 78.5416 - mse: 78.5416\n",
      "Epoch 43/100\n",
      "9/9 [==============================] - 0s 2ms/step - loss: 77.0754 - mse: 77.0754\n",
      "Epoch 44/100\n",
      "9/9 [==============================] - 0s 2ms/step - loss: 77.3300 - mse: 77.3300\n",
      "Epoch 45/100\n",
      "9/9 [==============================] - 0s 3ms/step - loss: 77.2599 - mse: 77.2599\n",
      "Epoch 46/100\n",
      "9/9 [==============================] - 0s 2ms/step - loss: 77.6462 - mse: 77.6462\n",
      "Epoch 47/100\n",
      "9/9 [==============================] - 0s 2ms/step - loss: 78.3333 - mse: 78.3333\n",
      "Epoch 48/100\n",
      "9/9 [==============================] - 0s 2ms/step - loss: 77.3770 - mse: 77.3770\n",
      "Epoch 49/100\n",
      "9/9 [==============================] - 0s 2ms/step - loss: 76.9542 - mse: 76.9542\n",
      "Epoch 50/100\n",
      "9/9 [==============================] - 0s 2ms/step - loss: 77.3946 - mse: 77.3946\n",
      "Epoch 51/100\n",
      "9/9 [==============================] - 0s 2ms/step - loss: 77.3103 - mse: 77.3103\n",
      "Epoch 52/100\n",
      "9/9 [==============================] - 0s 3ms/step - loss: 77.2332 - mse: 77.2332\n",
      "Epoch 53/100\n",
      "9/9 [==============================] - 0s 2ms/step - loss: 77.9429 - mse: 77.9429\n",
      "Epoch 54/100\n",
      "9/9 [==============================] - 0s 2ms/step - loss: 77.7854 - mse: 77.7854\n",
      "Epoch 55/100\n",
      "9/9 [==============================] - 0s 3ms/step - loss: 77.2471 - mse: 77.2471\n",
      "Epoch 56/100\n",
      "9/9 [==============================] - 0s 3ms/step - loss: 77.6749 - mse: 77.6749\n",
      "Epoch 57/100\n",
      "9/9 [==============================] - 0s 3ms/step - loss: 77.9200 - mse: 77.9200\n",
      "Epoch 58/100\n",
      "9/9 [==============================] - 0s 3ms/step - loss: 77.2706 - mse: 77.2706\n",
      "Epoch 59/100\n",
      "9/9 [==============================] - 0s 2ms/step - loss: 77.3045 - mse: 77.3045\n",
      "Epoch 60/100\n",
      "9/9 [==============================] - 0s 2ms/step - loss: 77.9815 - mse: 77.9815\n",
      "Epoch 61/100\n",
      "9/9 [==============================] - 0s 2ms/step - loss: 77.8480 - mse: 77.8480\n",
      "Epoch 62/100\n",
      "9/9 [==============================] - 0s 4ms/step - loss: 76.9859 - mse: 76.9859\n",
      "Epoch 63/100\n",
      "9/9 [==============================] - 0s 2ms/step - loss: 77.7703 - mse: 77.7703\n",
      "Epoch 64/100\n",
      "9/9 [==============================] - 0s 2ms/step - loss: 77.0943 - mse: 77.0943\n",
      "Epoch 65/100\n",
      "9/9 [==============================] - 0s 2ms/step - loss: 77.2283 - mse: 77.2283\n",
      "Epoch 66/100\n",
      "9/9 [==============================] - 0s 2ms/step - loss: 77.5935 - mse: 77.5935\n",
      "Epoch 67/100\n",
      "9/9 [==============================] - 0s 3ms/step - loss: 77.4177 - mse: 77.4177\n",
      "Epoch 68/100\n",
      "9/9 [==============================] - 0s 4ms/step - loss: 77.4571 - mse: 77.4571\n",
      "Epoch 69/100\n",
      "9/9 [==============================] - 0s 4ms/step - loss: 77.5268 - mse: 77.5268\n",
      "Epoch 70/100\n",
      "9/9 [==============================] - 0s 3ms/step - loss: 77.2941 - mse: 77.2941\n",
      "Epoch 71/100\n",
      "9/9 [==============================] - 0s 3ms/step - loss: 77.5029 - mse: 77.5029\n",
      "Epoch 72/100\n",
      "9/9 [==============================] - 0s 2ms/step - loss: 77.2636 - mse: 77.2636\n",
      "Epoch 73/100\n",
      "9/9 [==============================] - 0s 3ms/step - loss: 77.7064 - mse: 77.7064\n",
      "Epoch 74/100\n",
      "9/9 [==============================] - 0s 2ms/step - loss: 77.5134 - mse: 77.5134\n",
      "Epoch 75/100\n",
      "9/9 [==============================] - 0s 2ms/step - loss: 77.1944 - mse: 77.1944\n",
      "Epoch 76/100\n",
      "9/9 [==============================] - 0s 3ms/step - loss: 77.2014 - mse: 77.2014\n",
      "Epoch 77/100\n",
      "9/9 [==============================] - 0s 2ms/step - loss: 77.7082 - mse: 77.7082\n",
      "Epoch 78/100\n",
      "9/9 [==============================] - 0s 2ms/step - loss: 77.1567 - mse: 77.1567\n",
      "Epoch 79/100\n",
      "9/9 [==============================] - 0s 3ms/step - loss: 77.5573 - mse: 77.5573\n",
      "Epoch 80/100\n",
      "9/9 [==============================] - 0s 2ms/step - loss: 77.1350 - mse: 77.1350\n",
      "Epoch 81/100\n",
      "9/9 [==============================] - 0s 2ms/step - loss: 77.1680 - mse: 77.1680\n",
      "Epoch 82/100\n",
      "9/9 [==============================] - 0s 3ms/step - loss: 77.2654 - mse: 77.2654\n",
      "Epoch 83/100\n",
      "9/9 [==============================] - 0s 2ms/step - loss: 76.9104 - mse: 76.9104\n",
      "Epoch 84/100\n",
      "9/9 [==============================] - 0s 3ms/step - loss: 77.1712 - mse: 77.1712\n",
      "Epoch 85/100\n",
      "9/9 [==============================] - 0s 2ms/step - loss: 77.1535 - mse: 77.1535\n",
      "Epoch 86/100\n",
      "9/9 [==============================] - 0s 3ms/step - loss: 77.3149 - mse: 77.3149\n",
      "Epoch 87/100\n",
      "9/9 [==============================] - 0s 3ms/step - loss: 77.6936 - mse: 77.6936\n",
      "Epoch 88/100\n",
      "9/9 [==============================] - 0s 3ms/step - loss: 77.0392 - mse: 77.0392\n",
      "Epoch 89/100\n",
      "9/9 [==============================] - 0s 2ms/step - loss: 77.2507 - mse: 77.2507\n",
      "Epoch 90/100\n",
      "9/9 [==============================] - 0s 2ms/step - loss: 77.5244 - mse: 77.5244\n",
      "Epoch 91/100\n",
      "9/9 [==============================] - 0s 3ms/step - loss: 77.2989 - mse: 77.2989\n",
      "Epoch 92/100\n",
      "9/9 [==============================] - 0s 2ms/step - loss: 77.4129 - mse: 77.4129\n",
      "Epoch 93/100\n",
      "9/9 [==============================] - 0s 2ms/step - loss: 77.4060 - mse: 77.4060\n",
      "Epoch 94/100\n",
      "9/9 [==============================] - 0s 3ms/step - loss: 78.1674 - mse: 78.1674\n",
      "Epoch 95/100\n",
      "9/9 [==============================] - 0s 3ms/step - loss: 78.1702 - mse: 78.1702\n",
      "Epoch 96/100\n",
      "9/9 [==============================] - 0s 2ms/step - loss: 77.0750 - mse: 77.0750\n",
      "Epoch 97/100\n",
      "9/9 [==============================] - 0s 2ms/step - loss: 77.5556 - mse: 77.5556\n",
      "Epoch 98/100\n",
      "9/9 [==============================] - 0s 2ms/step - loss: 77.1704 - mse: 77.1704\n",
      "Epoch 99/100\n",
      "9/9 [==============================] - 0s 2ms/step - loss: 77.1126 - mse: 77.1126\n",
      "Epoch 100/100\n",
      "9/9 [==============================] - 0s 3ms/step - loss: 77.4248 - mse: 77.4248\n"
     ]
    },
    {
     "data": {
      "text/plain": [
       "<keras.callbacks.History at 0x1ba24e5b160>"
      ]
     },
     "execution_count": 18,
     "metadata": {},
     "output_type": "execute_result"
    }
   ],
   "source": [
    "# Training the model with training data provided\n",
    "\n",
    "model.fit(X_train, y_train, batch_size=50, epochs=100, verbose=1)"
   ]
  },
  {
   "cell_type": "code",
   "execution_count": null,
   "id": "7cc86b09",
   "metadata": {},
   "outputs": [],
   "source": []
  },
  {
   "cell_type": "code",
   "execution_count": null,
   "id": "57253a19",
   "metadata": {},
   "outputs": [],
   "source": [
    "# Evaluation \n",
    "\"\"\"\n",
    "Keras model can be evaluated with evaluate() function\n",
    "Evaluation results are contained in a list\n",
    "\n",
    "\"\"\""
   ]
  },
  {
   "cell_type": "code",
   "execution_count": 19,
   "id": "b84c5fad",
   "metadata": {},
   "outputs": [
    {
     "name": "stdout",
     "output_type": "stream",
     "text": [
      "4/4 [==============================] - 0s 3ms/step - loss: 77.1458 - mse: 77.1458\n"
     ]
    }
   ],
   "source": [
    "results = model.evaluate(X_test, y_test)"
   ]
  },
  {
   "cell_type": "code",
   "execution_count": 20,
   "id": "e4aa0e62",
   "metadata": {},
   "outputs": [
    {
     "name": "stdout",
     "output_type": "stream",
     "text": [
      "['loss', 'mse']\n",
      "[77.1457748413086, 77.1457748413086]\n"
     ]
    }
   ],
   "source": [
    "print(model.metrics_names)\n",
    "print(results)"
   ]
  },
  {
   "cell_type": "code",
   "execution_count": 21,
   "id": "066b546e",
   "metadata": {},
   "outputs": [
    {
     "name": "stdout",
     "output_type": "stream",
     "text": [
      "loss:  77.1457748413086\n",
      "mse:  77.1457748413086\n"
     ]
    }
   ],
   "source": [
    "print('loss: ', results[0])\n",
    "print('mse: ', results[1])"
   ]
  },
  {
   "cell_type": "code",
   "execution_count": 23,
   "id": "238bb5e2",
   "metadata": {},
   "outputs": [],
   "source": [
    "# New Data set from below"
   ]
  },
  {
   "cell_type": "code",
   "execution_count": 22,
   "id": "b9e5daa9",
   "metadata": {},
   "outputs": [],
   "source": [
    "from sklearn.datasets import load_breast_cancer"
   ]
  },
  {
   "cell_type": "code",
   "execution_count": 24,
   "id": "176f6b02",
   "metadata": {},
   "outputs": [],
   "source": [
    "from sklearn.model_selection import train_test_split"
   ]
  },
  {
   "cell_type": "code",
   "execution_count": 25,
   "id": "949c1238",
   "metadata": {},
   "outputs": [],
   "source": [
    "data = load_breast_cancer()"
   ]
  },
  {
   "cell_type": "code",
   "execution_count": 26,
   "id": "db279251",
   "metadata": {},
   "outputs": [],
   "source": [
    "X_data = data.data\n",
    "y_data = data.target"
   ]
  },
  {
   "cell_type": "code",
   "execution_count": 27,
   "id": "5c58f7c6",
   "metadata": {},
   "outputs": [],
   "source": [
    "X_train, X_test, y_train, y_test = train_test_split(X_data, y_data, test_size=0.30, random_state=1)"
   ]
  },
  {
   "cell_type": "code",
   "execution_count": 30,
   "id": "ffc3cd99",
   "metadata": {},
   "outputs": [
    {
     "name": "stdout",
     "output_type": "stream",
     "text": [
      "(398, 30)\n"
     ]
    }
   ],
   "source": [
    "print(X_train.shape)"
   ]
  },
  {
   "cell_type": "code",
   "execution_count": 31,
   "id": "a347cd23",
   "metadata": {},
   "outputs": [
    {
     "name": "stdout",
     "output_type": "stream",
     "text": [
      "(171, 30)\n"
     ]
    }
   ],
   "source": [
    "print(X_test.shape)"
   ]
  },
  {
   "cell_type": "code",
   "execution_count": 34,
   "id": "af4a2d7e",
   "metadata": {},
   "outputs": [
    {
     "data": {
      "text/plain": [
       "{'data': array([[1.799e+01, 1.038e+01, 1.228e+02, ..., 2.654e-01, 4.601e-01,\n",
       "         1.189e-01],\n",
       "        [2.057e+01, 1.777e+01, 1.329e+02, ..., 1.860e-01, 2.750e-01,\n",
       "         8.902e-02],\n",
       "        [1.969e+01, 2.125e+01, 1.300e+02, ..., 2.430e-01, 3.613e-01,\n",
       "         8.758e-02],\n",
       "        ...,\n",
       "        [1.660e+01, 2.808e+01, 1.083e+02, ..., 1.418e-01, 2.218e-01,\n",
       "         7.820e-02],\n",
       "        [2.060e+01, 2.933e+01, 1.401e+02, ..., 2.650e-01, 4.087e-01,\n",
       "         1.240e-01],\n",
       "        [7.760e+00, 2.454e+01, 4.792e+01, ..., 0.000e+00, 2.871e-01,\n",
       "         7.039e-02]]),\n",
       " 'target': array([0, 0, 0, 0, 0, 0, 0, 0, 0, 0, 0, 0, 0, 0, 0, 0, 0, 0, 0, 1, 1, 1,\n",
       "        0, 0, 0, 0, 0, 0, 0, 0, 0, 0, 0, 0, 0, 0, 0, 1, 0, 0, 0, 0, 0, 0,\n",
       "        0, 0, 1, 0, 1, 1, 1, 1, 1, 0, 0, 1, 0, 0, 1, 1, 1, 1, 0, 1, 0, 0,\n",
       "        1, 1, 1, 1, 0, 1, 0, 0, 1, 0, 1, 0, 0, 1, 1, 1, 0, 0, 1, 0, 0, 0,\n",
       "        1, 1, 1, 0, 1, 1, 0, 0, 1, 1, 1, 0, 0, 1, 1, 1, 1, 0, 1, 1, 0, 1,\n",
       "        1, 1, 1, 1, 1, 1, 1, 0, 0, 0, 1, 0, 0, 1, 1, 1, 0, 0, 1, 0, 1, 0,\n",
       "        0, 1, 0, 0, 1, 1, 0, 1, 1, 0, 1, 1, 1, 1, 0, 1, 1, 1, 1, 1, 1, 1,\n",
       "        1, 1, 0, 1, 1, 1, 1, 0, 0, 1, 0, 1, 1, 0, 0, 1, 1, 0, 0, 1, 1, 1,\n",
       "        1, 0, 1, 1, 0, 0, 0, 1, 0, 1, 0, 1, 1, 1, 0, 1, 1, 0, 0, 1, 0, 0,\n",
       "        0, 0, 1, 0, 0, 0, 1, 0, 1, 0, 1, 1, 0, 1, 0, 0, 0, 0, 1, 1, 0, 0,\n",
       "        1, 1, 1, 0, 1, 1, 1, 1, 1, 0, 0, 1, 1, 0, 1, 1, 0, 0, 1, 0, 1, 1,\n",
       "        1, 1, 0, 1, 1, 1, 1, 1, 0, 1, 0, 0, 0, 0, 0, 0, 0, 0, 0, 0, 0, 0,\n",
       "        0, 0, 1, 1, 1, 1, 1, 1, 0, 1, 0, 1, 1, 0, 1, 1, 0, 1, 0, 0, 1, 1,\n",
       "        1, 1, 1, 1, 1, 1, 1, 1, 1, 1, 1, 0, 1, 1, 0, 1, 0, 1, 1, 1, 1, 1,\n",
       "        1, 1, 1, 1, 1, 1, 1, 1, 1, 0, 1, 1, 1, 0, 1, 0, 1, 1, 1, 1, 0, 0,\n",
       "        0, 1, 1, 1, 1, 0, 1, 0, 1, 0, 1, 1, 1, 0, 1, 1, 1, 1, 1, 1, 1, 0,\n",
       "        0, 0, 1, 1, 1, 1, 1, 1, 1, 1, 1, 1, 1, 0, 0, 1, 0, 0, 0, 1, 0, 0,\n",
       "        1, 1, 1, 1, 1, 0, 1, 1, 1, 1, 1, 0, 1, 1, 1, 0, 1, 1, 0, 0, 1, 1,\n",
       "        1, 1, 1, 1, 0, 1, 1, 1, 1, 1, 1, 1, 0, 1, 1, 1, 1, 1, 0, 1, 1, 0,\n",
       "        1, 1, 1, 1, 1, 1, 1, 1, 1, 1, 1, 1, 0, 1, 0, 0, 1, 0, 1, 1, 1, 1,\n",
       "        1, 0, 1, 1, 0, 1, 0, 1, 1, 0, 1, 0, 1, 1, 1, 1, 1, 1, 1, 1, 0, 0,\n",
       "        1, 1, 1, 1, 1, 1, 0, 1, 1, 1, 1, 1, 1, 1, 1, 1, 1, 0, 1, 1, 1, 1,\n",
       "        1, 1, 1, 0, 1, 0, 1, 1, 0, 1, 1, 1, 1, 1, 0, 0, 1, 0, 1, 0, 1, 1,\n",
       "        1, 1, 1, 0, 1, 1, 0, 1, 0, 1, 0, 0, 1, 1, 1, 0, 1, 1, 1, 1, 1, 1,\n",
       "        1, 1, 1, 1, 1, 0, 1, 0, 0, 1, 1, 1, 1, 1, 1, 1, 1, 1, 1, 1, 1, 1,\n",
       "        1, 1, 1, 1, 1, 1, 1, 1, 1, 1, 1, 1, 0, 0, 0, 0, 0, 0, 1]),\n",
       " 'frame': None,\n",
       " 'target_names': array(['malignant', 'benign'], dtype='<U9'),\n",
       " 'DESCR': '.. _breast_cancer_dataset:\\n\\nBreast cancer wisconsin (diagnostic) dataset\\n--------------------------------------------\\n\\n**Data Set Characteristics:**\\n\\n    :Number of Instances: 569\\n\\n    :Number of Attributes: 30 numeric, predictive attributes and the class\\n\\n    :Attribute Information:\\n        - radius (mean of distances from center to points on the perimeter)\\n        - texture (standard deviation of gray-scale values)\\n        - perimeter\\n        - area\\n        - smoothness (local variation in radius lengths)\\n        - compactness (perimeter^2 / area - 1.0)\\n        - concavity (severity of concave portions of the contour)\\n        - concave points (number of concave portions of the contour)\\n        - symmetry\\n        - fractal dimension (\"coastline approximation\" - 1)\\n\\n        The mean, standard error, and \"worst\" or largest (mean of the three\\n        worst/largest values) of these features were computed for each image,\\n        resulting in 30 features.  For instance, field 0 is Mean Radius, field\\n        10 is Radius SE, field 20 is Worst Radius.\\n\\n        - class:\\n                - WDBC-Malignant\\n                - WDBC-Benign\\n\\n    :Summary Statistics:\\n\\n    ===================================== ====== ======\\n                                           Min    Max\\n    ===================================== ====== ======\\n    radius (mean):                        6.981  28.11\\n    texture (mean):                       9.71   39.28\\n    perimeter (mean):                     43.79  188.5\\n    area (mean):                          143.5  2501.0\\n    smoothness (mean):                    0.053  0.163\\n    compactness (mean):                   0.019  0.345\\n    concavity (mean):                     0.0    0.427\\n    concave points (mean):                0.0    0.201\\n    symmetry (mean):                      0.106  0.304\\n    fractal dimension (mean):             0.05   0.097\\n    radius (standard error):              0.112  2.873\\n    texture (standard error):             0.36   4.885\\n    perimeter (standard error):           0.757  21.98\\n    area (standard error):                6.802  542.2\\n    smoothness (standard error):          0.002  0.031\\n    compactness (standard error):         0.002  0.135\\n    concavity (standard error):           0.0    0.396\\n    concave points (standard error):      0.0    0.053\\n    symmetry (standard error):            0.008  0.079\\n    fractal dimension (standard error):   0.001  0.03\\n    radius (worst):                       7.93   36.04\\n    texture (worst):                      12.02  49.54\\n    perimeter (worst):                    50.41  251.2\\n    area (worst):                         185.2  4254.0\\n    smoothness (worst):                   0.071  0.223\\n    compactness (worst):                  0.027  1.058\\n    concavity (worst):                    0.0    1.252\\n    concave points (worst):               0.0    0.291\\n    symmetry (worst):                     0.156  0.664\\n    fractal dimension (worst):            0.055  0.208\\n    ===================================== ====== ======\\n\\n    :Missing Attribute Values: None\\n\\n    :Class Distribution: 212 - Malignant, 357 - Benign\\n\\n    :Creator:  Dr. William H. Wolberg, W. Nick Street, Olvi L. Mangasarian\\n\\n    :Donor: Nick Street\\n\\n    :Date: November, 1995\\n\\nThis is a copy of UCI ML Breast Cancer Wisconsin (Diagnostic) datasets.\\nhttps://goo.gl/U2Uwz2\\n\\nFeatures are computed from a digitized image of a fine needle\\naspirate (FNA) of a breast mass.  They describe\\ncharacteristics of the cell nuclei present in the image.\\n\\nSeparating plane described above was obtained using\\nMultisurface Method-Tree (MSM-T) [K. P. Bennett, \"Decision Tree\\nConstruction Via Linear Programming.\" Proceedings of the 4th\\nMidwest Artificial Intelligence and Cognitive Science Society,\\npp. 97-101, 1992], a classification method which uses linear\\nprogramming to construct a decision tree.  Relevant features\\nwere selected using an exhaustive search in the space of 1-4\\nfeatures and 1-3 separating planes.\\n\\nThe actual linear program used to obtain the separating plane\\nin the 3-dimensional space is that described in:\\n[K. P. Bennett and O. L. Mangasarian: \"Robust Linear\\nProgramming Discrimination of Two Linearly Inseparable Sets\",\\nOptimization Methods and Software 1, 1992, 23-34].\\n\\nThis database is also available through the UW CS ftp server:\\n\\nftp ftp.cs.wisc.edu\\ncd math-prog/cpo-dataset/machine-learn/WDBC/\\n\\n.. topic:: References\\n\\n   - W.N. Street, W.H. Wolberg and O.L. Mangasarian. Nuclear feature extraction \\n     for breast tumor diagnosis. IS&T/SPIE 1993 International Symposium on \\n     Electronic Imaging: Science and Technology, volume 1905, pages 861-870,\\n     San Jose, CA, 1993.\\n   - O.L. Mangasarian, W.N. Street and W.H. Wolberg. Breast cancer diagnosis and \\n     prognosis via linear programming. Operations Research, 43(4), pages 570-577, \\n     July-August 1995.\\n   - W.H. Wolberg, W.N. Street, and O.L. Mangasarian. Machine learning techniques\\n     to diagnose breast cancer from fine-needle aspirates. Cancer Letters 77 (1994) \\n     163-171.',\n",
       " 'feature_names': array(['mean radius', 'mean texture', 'mean perimeter', 'mean area',\n",
       "        'mean smoothness', 'mean compactness', 'mean concavity',\n",
       "        'mean concave points', 'mean symmetry', 'mean fractal dimension',\n",
       "        'radius error', 'texture error', 'perimeter error', 'area error',\n",
       "        'smoothness error', 'compactness error', 'concavity error',\n",
       "        'concave points error', 'symmetry error',\n",
       "        'fractal dimension error', 'worst radius', 'worst texture',\n",
       "        'worst perimeter', 'worst area', 'worst smoothness',\n",
       "        'worst compactness', 'worst concavity', 'worst concave points',\n",
       "        'worst symmetry', 'worst fractal dimension'], dtype='<U23'),\n",
       " 'filename': 'C:\\\\ProgramData\\\\Anaconda3\\\\lib\\\\site-packages\\\\sklearn\\\\datasets\\\\data\\\\breast_cancer.csv'}"
      ]
     },
     "execution_count": 34,
     "metadata": {},
     "output_type": "execute_result"
    }
   ],
   "source": [
    "data"
   ]
  },
  {
   "cell_type": "code",
   "execution_count": 32,
   "id": "5869da1a",
   "metadata": {},
   "outputs": [],
   "source": [
    "# model\n",
    "from keras.models import Sequential\n",
    "model = Sequential()"
   ]
  },
  {
   "cell_type": "code",
   "execution_count": 33,
   "id": "87955625",
   "metadata": {},
   "outputs": [],
   "source": [
    "# Layers\n",
    "from keras.layers import Activation, Dense\n"
   ]
  },
  {
   "cell_type": "code",
   "execution_count": 35,
   "id": "b9ee4589",
   "metadata": {},
   "outputs": [],
   "source": [
    "# Keras model with two hidden layer with 10 neurons each\n",
    "model.add(Dense(10, input_shape = (30,))) # Input layer --> input_shape should be explicitly designated\n",
    "\n",
    "model.add(Activation('relu'))\n",
    "model.add(Dense(10))              # Hidden layer -> only o/p dimension should be designated\n",
    "\n",
    "model.add(Activation('relu'))\n",
    "model.add(Dense(10))              # Hidden layer -> only o/p dimension should be designated\n",
    "\n",
    "model.add(Activation('relu'))\n",
    "model.add(Dense(10))              # Hidden layer -> only o/p dimension should be designated\n",
    "\n",
    "model.add(Activation('relu'))\n",
    "\n",
    "model.add(Dense(2))  \n",
    "model.add(Activation('softmax'))  # Output layer -> o/p dimension = 1 since it's regression"
   ]
  },
  {
   "cell_type": "code",
   "execution_count": 36,
   "id": "d1092b02",
   "metadata": {},
   "outputs": [],
   "source": [
    "# Optimizers\n",
    "from keras.optimizers import Optimizer\n"
   ]
  },
  {
   "cell_type": "code",
   "execution_count": 37,
   "id": "415b5def",
   "metadata": {},
   "outputs": [],
   "source": [
    "import warnings\n",
    "warnings.filterwarnings(\"ignore\")"
   ]
  },
  {
   "cell_type": "code",
   "execution_count": null,
   "id": "c2187842",
   "metadata": {},
   "outputs": [],
   "source": [
    "sgd = optimizers.SGD(lr = 0.01)\n",
    "model.compile(optimizer= sgd, loss='', metrics= ['mse']) # for classification probability"
   ]
  },
  {
   "cell_type": "code",
   "execution_count": null,
   "id": "13f2d359",
   "metadata": {},
   "outputs": [],
   "source": []
  },
  {
   "cell_type": "code",
   "execution_count": null,
   "id": "5fb84fff",
   "metadata": {},
   "outputs": [],
   "source": []
  },
  {
   "cell_type": "code",
   "execution_count": null,
   "id": "53a107b0",
   "metadata": {},
   "outputs": [],
   "source": []
  },
  {
   "cell_type": "code",
   "execution_count": null,
   "id": "c0b992e5",
   "metadata": {},
   "outputs": [],
   "source": []
  },
  {
   "cell_type": "code",
   "execution_count": 38,
   "id": "ab52bed5",
   "metadata": {},
   "outputs": [
    {
     "name": "stdout",
     "output_type": "stream",
     "text": [
      "Downloading data from https://storage.googleapis.com/tensorflow/tf-keras-datasets/mnist.npz\n",
      "11490434/11490434 [==============================] - 2s 0us/step\n"
     ]
    }
   ],
   "source": [
    "# Screen Code..\n",
    "import tensorflow as tf\n",
    "(X_train, y_train),(X_test,y_test) = tf.keras.datasets.mnist.load_data()\n",
    "\n",
    "y_train = tf.keras.utils.to_categorical(y_train, num_classes=10)\n",
    "\n",
    "y_test = tf.keras.utils.to_categorical(y_test, num_classes=10)"
   ]
  },
  {
   "cell_type": "code",
   "execution_count": 39,
   "id": "b8155b28",
   "metadata": {},
   "outputs": [],
   "source": [
    "# Build the Graph\n",
    "model = tf.keras.models.Sequential()\n",
    "#\n",
    "model.add(tf.keras.layers.Reshape((784,), input_shape=(28,28,)))\n",
    "\n",
    "model.add(tf.keras.layers.BatchNormalization())"
   ]
  },
  {
   "cell_type": "code",
   "execution_count": 50,
   "id": "9ff7debd",
   "metadata": {},
   "outputs": [],
   "source": [
    "model.add(tf.keras.layers.Dense(200, activation='relu'))# changing ro relu initially sigmoid"
   ]
  },
  {
   "cell_type": "code",
   "execution_count": 51,
   "id": "ece9fc8e",
   "metadata": {},
   "outputs": [],
   "source": [
    "model.add(tf.keras.layers.Dense(100, activation='relu'))# changing ro relu initially sigmoid"
   ]
  },
  {
   "cell_type": "code",
   "execution_count": 52,
   "id": "f3a806b7",
   "metadata": {},
   "outputs": [],
   "source": [
    "model.add(tf.keras.layers.Dense(60, activation='relu'))# changing ro relu initially sigmoid"
   ]
  },
  {
   "cell_type": "code",
   "execution_count": 53,
   "id": "1e40e8ed",
   "metadata": {},
   "outputs": [],
   "source": [
    "model.add(tf.keras.layers.Dense(30, activation='relu'))# changing ro relu initially sigmoid"
   ]
  },
  {
   "cell_type": "code",
   "execution_count": 54,
   "id": "84702018",
   "metadata": {},
   "outputs": [],
   "source": [
    "#o/p layer\n",
    "model.add(tf.keras.layers.Dense(10, activation='relu'))# changing ro relu initially sigmoid"
   ]
  },
  {
   "cell_type": "code",
   "execution_count": 55,
   "id": "5a7ac9f4",
   "metadata": {},
   "outputs": [],
   "source": [
    "#Build the graph\n",
    "sgd_optimizer = tf.keras.optimizers.SGD(lr=0.03)\n",
    "\n",
    "#Compile the model\n",
    "model.compile(optimizer=sgd_optimizer, loss='categorical_crossentropy', metrics=['accuracy'])\n"
   ]
  },
  {
   "cell_type": "code",
   "execution_count": 46,
   "id": "b4503399",
   "metadata": {},
   "outputs": [],
   "source": [
    "# Review model"
   ]
  },
  {
   "cell_type": "code",
   "execution_count": 56,
   "id": "27627211",
   "metadata": {},
   "outputs": [
    {
     "name": "stdout",
     "output_type": "stream",
     "text": [
      "Model: \"sequential_2\"\n",
      "_________________________________________________________________\n",
      " Layer (type)                Output Shape              Param #   \n",
      "=================================================================\n",
      " reshape (Reshape)           (None, 784)               0         \n",
      "                                                                 \n",
      " batch_normalization (BatchN  (None, 784)              3136      \n",
      " ormalization)                                                   \n",
      "                                                                 \n",
      " dense_9 (Dense)             (None, 200)               157000    \n",
      "                                                                 \n",
      " dense_10 (Dense)            (None, 100)               20100     \n",
      "                                                                 \n",
      " dense_11 (Dense)            (None, 60)                6060      \n",
      "                                                                 \n",
      " dense_12 (Dense)            (None, 30)                1830      \n",
      "                                                                 \n",
      " dense_13 (Dense)            (None, 10)                310       \n",
      "                                                                 \n",
      " dense_14 (Dense)            (None, 200)               2200      \n",
      "                                                                 \n",
      " dense_15 (Dense)            (None, 100)               20100     \n",
      "                                                                 \n",
      " dense_16 (Dense)            (None, 60)                6060      \n",
      "                                                                 \n",
      " dense_17 (Dense)            (None, 30)                1830      \n",
      "                                                                 \n",
      " dense_18 (Dense)            (None, 10)                310       \n",
      "                                                                 \n",
      "=================================================================\n",
      "Total params: 218,936\n",
      "Trainable params: 217,368\n",
      "Non-trainable params: 1,568\n",
      "_________________________________________________________________\n"
     ]
    }
   ],
   "source": [
    "model.summary()"
   ]
  },
  {
   "cell_type": "code",
   "execution_count": 57,
   "id": "953a0edd",
   "metadata": {},
   "outputs": [
    {
     "name": "stdout",
     "output_type": "stream",
     "text": [
      "Epoch 1/30\n",
      "1765/1765 [==============================] - 10s 5ms/step - loss: nan - accuracy: 0.1037 - val_loss: nan - val_accuracy: 0.0980\n",
      "Epoch 2/30\n",
      "1765/1765 [==============================] - 8s 5ms/step - loss: nan - accuracy: 0.0987 - val_loss: nan - val_accuracy: 0.0980\n",
      "Epoch 3/30\n",
      "1765/1765 [==============================] - 8s 5ms/step - loss: nan - accuracy: 0.0987 - val_loss: nan - val_accuracy: 0.0980\n",
      "Epoch 4/30\n",
      "1765/1765 [==============================] - 8s 5ms/step - loss: nan - accuracy: 0.0987 - val_loss: nan - val_accuracy: 0.0980\n",
      "Epoch 5/30\n",
      "1765/1765 [==============================] - 8s 5ms/step - loss: nan - accuracy: 0.0987 - val_loss: nan - val_accuracy: 0.0980\n",
      "Epoch 6/30\n",
      "1765/1765 [==============================] - 8s 5ms/step - loss: nan - accuracy: 0.0987 - val_loss: nan - val_accuracy: 0.0980\n",
      "Epoch 7/30\n",
      "1765/1765 [==============================] - 8s 5ms/step - loss: nan - accuracy: 0.0987 - val_loss: nan - val_accuracy: 0.0980\n",
      "Epoch 8/30\n",
      "1765/1765 [==============================] - 8s 5ms/step - loss: nan - accuracy: 0.0987 - val_loss: nan - val_accuracy: 0.0980\n",
      "Epoch 9/30\n",
      "1765/1765 [==============================] - 9s 5ms/step - loss: nan - accuracy: 0.0987 - val_loss: nan - val_accuracy: 0.0980\n",
      "Epoch 10/30\n",
      "1765/1765 [==============================] - 9s 5ms/step - loss: nan - accuracy: 0.0987 - val_loss: nan - val_accuracy: 0.0980\n",
      "Epoch 11/30\n",
      "1765/1765 [==============================] - 9s 5ms/step - loss: nan - accuracy: 0.0987 - val_loss: nan - val_accuracy: 0.0980\n",
      "Epoch 12/30\n",
      "1765/1765 [==============================] - 8s 5ms/step - loss: nan - accuracy: 0.0987 - val_loss: nan - val_accuracy: 0.0980\n",
      "Epoch 13/30\n",
      "1765/1765 [==============================] - 9s 5ms/step - loss: nan - accuracy: 0.0987 - val_loss: nan - val_accuracy: 0.0980\n",
      "Epoch 14/30\n",
      "1765/1765 [==============================] - 9s 5ms/step - loss: nan - accuracy: 0.0987 - val_loss: nan - val_accuracy: 0.0980\n",
      "Epoch 15/30\n",
      "1765/1765 [==============================] - 8s 5ms/step - loss: nan - accuracy: 0.0987 - val_loss: nan - val_accuracy: 0.0980\n",
      "Epoch 16/30\n",
      "1765/1765 [==============================] - 9s 5ms/step - loss: nan - accuracy: 0.0987 - val_loss: nan - val_accuracy: 0.0980\n",
      "Epoch 17/30\n",
      "1765/1765 [==============================] - 9s 5ms/step - loss: nan - accuracy: 0.0987 - val_loss: nan - val_accuracy: 0.0980\n",
      "Epoch 18/30\n",
      "1765/1765 [==============================] - 9s 5ms/step - loss: nan - accuracy: 0.0987 - val_loss: nan - val_accuracy: 0.0980\n",
      "Epoch 19/30\n",
      "1765/1765 [==============================] - 9s 5ms/step - loss: nan - accuracy: 0.0987 - val_loss: nan - val_accuracy: 0.0980\n",
      "Epoch 20/30\n",
      "1765/1765 [==============================] - 9s 5ms/step - loss: nan - accuracy: 0.0987 - val_loss: nan - val_accuracy: 0.0980\n",
      "Epoch 21/30\n",
      "1765/1765 [==============================] - 9s 5ms/step - loss: nan - accuracy: 0.0987 - val_loss: nan - val_accuracy: 0.0980\n",
      "Epoch 22/30\n",
      "1765/1765 [==============================] - 9s 5ms/step - loss: nan - accuracy: 0.0987 - val_loss: nan - val_accuracy: 0.0980\n",
      "Epoch 23/30\n",
      "1765/1765 [==============================] - 9s 5ms/step - loss: nan - accuracy: 0.0987 - val_loss: nan - val_accuracy: 0.0980\n",
      "Epoch 24/30\n",
      "1765/1765 [==============================] - 9s 5ms/step - loss: nan - accuracy: 0.0987 - val_loss: nan - val_accuracy: 0.0980\n",
      "Epoch 25/30\n",
      "1765/1765 [==============================] - 9s 5ms/step - loss: nan - accuracy: 0.0987 - val_loss: nan - val_accuracy: 0.0980\n",
      "Epoch 26/30\n",
      "1765/1765 [==============================] - 9s 5ms/step - loss: nan - accuracy: 0.0987 - val_loss: nan - val_accuracy: 0.0980\n",
      "Epoch 27/30\n",
      "1765/1765 [==============================] - 9s 5ms/step - loss: nan - accuracy: 0.0987 - val_loss: nan - val_accuracy: 0.0980\n",
      "Epoch 28/30\n",
      "1765/1765 [==============================] - 9s 5ms/step - loss: nan - accuracy: 0.0987 - val_loss: nan - val_accuracy: 0.0980\n",
      "Epoch 29/30\n",
      "1765/1765 [==============================] - 9s 5ms/step - loss: nan - accuracy: 0.0987 - val_loss: nan - val_accuracy: 0.0980\n",
      "Epoch 30/30\n",
      "1765/1765 [==============================] - 9s 5ms/step - loss: nan - accuracy: 0.0987 - val_loss: nan - val_accuracy: 0.0980\n"
     ]
    },
    {
     "data": {
      "text/plain": [
       "<keras.callbacks.History at 0x1ba319ca730>"
      ]
     },
     "execution_count": 57,
     "metadata": {},
     "output_type": "execute_result"
    }
   ],
   "source": [
    "# Train the model\n",
    "model.fit(X_train, y_train, validation_data=(X_test, y_test), epochs=30, batch_size = 34)#changing batch_size to 34 initially 32"
   ]
  },
  {
   "cell_type": "markdown",
   "id": "9b4b04c0",
   "metadata": {},
   "source": [
    "# Computer Vision Below"
   ]
  },
  {
   "cell_type": "code",
   "execution_count": 61,
   "id": "7f78e70b",
   "metadata": {},
   "outputs": [
    {
     "data": {
      "text/plain": [
       "<matplotlib.image.AxesImage at 0x1ba3a330490>"
      ]
     },
     "execution_count": 61,
     "metadata": {},
     "output_type": "execute_result"
    },
    {
     "data": {
      "image/png": "[encoded data removed]",
      "text/plain": [
       "<Figure size 640x480 with 1 Axes>"
      ]
     },
     "metadata": {},
     "output_type": "display_data"
    }
   ],
   "source": [
    "# image plotting below\n",
    "import matplotlib.pyplot as plt\n",
    "image = plt.imread(\"module_or_library_error.png\")\n",
    "plt.imshow(image)\n"
   ]
  },
  {
   "cell_type": "code",
   "execution_count": null,
   "id": "9a687639",
   "metadata": {},
   "outputs": [],
   "source": []
  },
  {
   "cell_type": "code",
   "execution_count": 1,
   "id": "648bf168",
   "metadata": {},
   "outputs": [],
   "source": [
    "# New ds below"
   ]
  },
  {
   "cell_type": "code",
   "execution_count": 2,
   "id": "6e17f6a9",
   "metadata": {},
   "outputs": [],
   "source": [
    "import numpy as np,pandas as pd, matplotlib.pyplot as plt\n",
    "%matplotlib inline"
   ]
  },
  {
   "cell_type": "code",
   "execution_count": 5,
   "id": "840f03b7",
   "metadata": {},
   "outputs": [
    {
     "name": "stdout",
     "output_type": "stream",
     "text": [
      "Downloading data from https://storage.googleapis.com/tensorflow/tf-keras-datasets/train-labels-idx1-ubyte.gz\n",
      "29515/29515 [==============================] - 0s 3us/step\n",
      "Downloading data from https://storage.googleapis.com/tensorflow/tf-keras-datasets/train-images-idx3-ubyte.gz\n",
      "26421880/26421880 [==============================] - 5s 0us/step\n",
      "Downloading data from https://storage.googleapis.com/tensorflow/tf-keras-datasets/t10k-labels-idx1-ubyte.gz\n",
      "5148/5148 [==============================] - 0s 0s/step\n",
      "Downloading data from https://storage.googleapis.com/tensorflow/tf-keras-datasets/t10k-images-idx3-ubyte.gz\n",
      "4422102/4422102 [==============================] - 1s 0us/step\n"
     ]
    }
   ],
   "source": [
    "from tensorflow.keras.datasets import fashion_mnist\n",
    "(x_train, y_train), (x_test, y_test) = fashion_mnist.load_data()"
   ]
  },
  {
   "cell_type": "code",
   "execution_count": 6,
   "id": "e02cd1ee",
   "metadata": {},
   "outputs": [
    {
     "data": {
      "text/plain": [
       "(60000, 28, 28)"
      ]
     },
     "execution_count": 6,
     "metadata": {},
     "output_type": "execute_result"
    }
   ],
   "source": [
    "x_train.shape"
   ]
  },
  {
   "cell_type": "code",
   "execution_count": 7,
   "id": "4213b869",
   "metadata": {},
   "outputs": [
    {
     "data": {
      "text/plain": [
       "(10000, 28, 28)"
      ]
     },
     "execution_count": 7,
     "metadata": {},
     "output_type": "execute_result"
    }
   ],
   "source": [
    "x_test.shape"
   ]
  },
  {
   "cell_type": "code",
   "execution_count": 8,
   "id": "0afe0e8e",
   "metadata": {},
   "outputs": [
    {
     "data": {
      "text/plain": [
       "array([[  0,   0,   0,   0,   0,   0,   0,   0,  33,  96, 175, 156,  64,\n",
       "         14,  54, 137, 204, 194, 102,   0,   0,   0,   0,   0,   0,   0,\n",
       "          0,   0],\n",
       "       [  0,   0,   0,   0,   0,   0,  73, 186, 177, 183, 175, 188, 232,\n",
       "        255, 223, 219, 194, 179, 186, 213, 146,   0,   0,   0,   0,   0,\n",
       "          0,   0],\n",
       "       [  0,   0,   0,   0,   0,  35, 163, 140, 150, 152, 150, 146, 175,\n",
       "        175, 173, 171, 156, 152, 148, 129, 156, 140,   0,   0,   0,   0,\n",
       "          0,   0],\n",
       "       [  0,   0,   0,   0,   0, 150, 142, 140, 152, 160, 156, 146, 142,\n",
       "        127, 135, 133, 140, 140, 137, 133, 125, 169,  75,   0,   0,   0,\n",
       "          0,   0],\n",
       "       [  0,   0,   0,   0,   0,  54, 167, 146, 129, 142, 137, 137, 131,\n",
       "        148, 148, 133, 131, 131, 131, 125, 140, 140,   0,   0,   0,   0,\n",
       "          0,   0],\n",
       "       [  0,   0,   0,   0,   0,   0, 110, 188, 133, 146, 152, 133, 125,\n",
       "        127, 119, 129, 133, 119, 140, 131, 150,  14,   0,   0,   0,   0,\n",
       "          0,   0],\n",
       "       [  0,   0,   0,   0,   0,   0,   0, 221, 158, 137, 135, 123, 110,\n",
       "        110, 114, 108, 112, 117, 127, 142,  77,   0,   0,   0,   0,   0,\n",
       "          0,   0],\n",
       "       [  0,   0,   0,   0,   0,   4,   0,  25, 158, 137, 125, 119, 119,\n",
       "        110, 117, 117, 110, 119, 127, 144,   0,   0,   0,   0,   0,   0,\n",
       "          0,   0],\n",
       "       [  0,   0,   0,   0,   0,   0,   0,   0, 123, 156, 129, 112, 110,\n",
       "        102, 112, 100, 121, 117, 129, 114,   0,   0,   0,   0,   0,   0,\n",
       "          0,   0],\n",
       "       [  0,   0,   0,   0,   0,   0,   0,   0, 125, 169, 127, 119, 106,\n",
       "        108, 104,  94, 121, 114, 129,  91,   0,   0,   0,   0,   0,   0,\n",
       "          0,   0],\n",
       "       [  0,   0,   0,   0,   0,   0,   2,   0,  98, 171, 129, 112, 104,\n",
       "        114, 106, 102, 112, 104, 133,  64,   0,   4,   0,   0,   0,   0,\n",
       "          0,   0],\n",
       "       [  0,   0,   0,   0,   0,   0,   2,   0,  66, 173, 135, 129,  98,\n",
       "        100, 119, 102, 108,  98, 135,  60,   0,   4,   0,   0,   0,   0,\n",
       "          0,   0],\n",
       "       [  0,   0,   0,   0,   0,   0,   2,   0,  56, 171, 135, 127, 100,\n",
       "        108, 117,  85, 106, 110, 135,  66,   0,   4,   0,   0,   0,   0,\n",
       "          0,   0],\n",
       "       [  0,   0,   0,   0,   0,   0,   0,   0,  52, 150, 129, 110, 100,\n",
       "         91, 102,  94,  83, 104, 123,  66,   0,   4,   0,   0,   0,   0,\n",
       "          0,   0],\n",
       "       [  0,   0,   0,   0,   0,   0,   2,   0,  66, 167, 140, 148, 148,\n",
       "        127, 137, 152, 146, 146, 148,  96,   0,   0,   0,   0,   0,   0,\n",
       "          0,   0],\n",
       "       [  0,   0,   0,   0,   0,   0,   0,   0,  45, 123,  94, 104,  96,\n",
       "        119, 121, 106,  98, 112,  87, 114,   0,   0,   0,   0,   0,   0,\n",
       "          0,   0],\n",
       "       [  0,   0,   0,   0,   0,   0,   0,   0, 106,  89,  58,  50,  37,\n",
       "         50,  66,  56,  50,  75,  75, 137,  22,   0,   2,   0,   0,   0,\n",
       "          0,   0],\n",
       "       [  0,   0,   0,   0,   0,   2,   0,  29, 148, 114, 106, 125,  89,\n",
       "        100, 133, 117, 131, 131, 131, 125, 112,   0,   0,   0,   0,   0,\n",
       "          0,   0],\n",
       "       [  0,   0,   0,   0,   0,   0,   0, 100, 106, 114,  91, 137,  62,\n",
       "        102, 131,  89, 135, 112, 131, 108, 135,  37,   0,   0,   0,   0,\n",
       "          0,   0],\n",
       "       [  0,   0,   0,   0,   0,   0,   0, 146, 100, 108,  98, 144,  62,\n",
       "        106, 131,  87, 133, 104, 160, 117, 121,  68,   0,   0,   0,   0,\n",
       "          0,   0],\n",
       "       [  0,   0,   0,   0,   0,   0,  33, 121, 108,  96, 100, 140,  71,\n",
       "        106, 127,  85, 140, 104, 150, 140, 114,  89,   0,   0,   0,   0,\n",
       "          0,   0],\n",
       "       [  0,   0,   0,   0,   0,   0,  62, 119, 112, 102, 110, 137,  75,\n",
       "        106, 144,  81, 144, 108, 117, 154, 117, 104,  18,   0,   0,   0,\n",
       "          0,   0],\n",
       "       [  0,   0,   0,   0,   0,   0,  66, 121, 102, 112, 117, 131,  73,\n",
       "        104, 156,  77, 137, 135,  83, 179, 129, 121,  35,   0,   0,   0,\n",
       "          0,   0],\n",
       "       [  0,   0,   0,   0,   0,   0,  85, 127,  81, 125, 133, 119,  79,\n",
       "        100, 169,  83, 129, 175,  60, 163, 135, 146,  39,   0,   0,   0,\n",
       "          0,   0],\n",
       "       [  0,   0,   0,   0,   0,   0, 106, 129,  62, 140, 144, 108,  85,\n",
       "         83, 158,  85, 129, 175,  48, 146, 133, 135,  64,   0,   0,   0,\n",
       "          0,   0],\n",
       "       [  0,   0,   0,   0,   0,   0, 117, 119,  79, 140, 152, 102,  89,\n",
       "        110, 137,  96, 150, 196,  83, 144, 135, 133,  77,   0,   0,   0,\n",
       "          0,   0],\n",
       "       [  0,   0,   0,   0,   0,   0, 154, 121,  87, 140, 154, 112,  94,\n",
       "         52, 142, 100,  83, 152,  85, 160, 133, 100,  12,   0,   0,   0,\n",
       "          0,   0],\n",
       "       [  0,   0,   0,   0,   0,   0,   4,   0,   2,   0,  35,   4,  33,\n",
       "          0,   0,   0,   0,   0,   0,   0,   0,   0,   0,   0,   0,   0,\n",
       "          0,   0]], dtype=uint8)"
      ]
     },
     "execution_count": 8,
     "metadata": {},
     "output_type": "execute_result"
    }
   ],
   "source": [
    "x_train[3]"
   ]
  },
  {
   "cell_type": "code",
   "execution_count": 13,
   "id": "53e98fd2",
   "metadata": {},
   "outputs": [
    {
     "data": {
      "text/plain": [
       "<matplotlib.image.AxesImage at 0x1795641b2b0>"
      ]
     },
     "execution_count": 13,
     "metadata": {},
     "output_type": "execute_result"
    },
    {
     "data": {
      "image/png": "[encoded data removed]",
      "text/plain": [
       "<Figure size 480x480 with 1 Axes>"
      ]
     },
     "metadata": {},
     "output_type": "display_data"
    }
   ],
   "source": [
    "plt.matshow(x_train[0])"
   ]
  },
  {
   "cell_type": "code",
   "execution_count": 14,
   "id": "127a3e8e",
   "metadata": {},
   "outputs": [
    {
     "data": {
      "text/plain": [
       "9"
      ]
     },
     "execution_count": 14,
     "metadata": {},
     "output_type": "execute_result"
    }
   ],
   "source": [
    "y_train[0]"
   ]
  },
  {
   "cell_type": "code",
   "execution_count": 15,
   "id": "6089d8d2",
   "metadata": {},
   "outputs": [
    {
     "data": {
      "text/plain": [
       "<matplotlib.image.AxesImage at 0x179564f3dc0>"
      ]
     },
     "execution_count": 15,
     "metadata": {},
     "output_type": "execute_result"
    },
    {
     "data": {
      "image/png": "[encoded data removed]",
      "text/plain": [
       "<Figure size 480x480 with 1 Axes>"
      ]
     },
     "metadata": {},
     "output_type": "display_data"
    }
   ],
   "source": [
    "plt.matshow(x_train[12])"
   ]
  },
  {
   "cell_type": "code",
   "execution_count": 16,
   "id": "33018b81",
   "metadata": {},
   "outputs": [],
   "source": [
    "X_train = x_train/255\n",
    "X_test = x_test/255\n"
   ]
  },
  {
   "cell_type": "code",
   "execution_count": 17,
   "id": "3915398e",
   "metadata": {},
   "outputs": [
    {
     "data": {
      "text/plain": [
       "array([[0.        , 0.        , 0.        , 0.        , 0.        ,\n",
       "        0.        , 0.        , 0.        , 0.        , 0.        ,\n",
       "        0.        , 0.        , 0.        , 0.        , 0.        ,\n",
       "        0.        , 0.        , 0.        , 0.        , 0.        ,\n",
       "        0.        , 0.        , 0.        , 0.        , 0.        ,\n",
       "        0.        , 0.        , 0.        ],\n",
       "       [0.        , 0.        , 0.        , 0.        , 0.        ,\n",
       "        0.        , 0.        , 0.        , 0.        , 0.        ,\n",
       "        0.        , 0.        , 0.        , 0.        , 0.        ,\n",
       "        0.        , 0.        , 0.        , 0.        , 0.        ,\n",
       "        0.        , 0.        , 0.        , 0.        , 0.        ,\n",
       "        0.        , 0.        , 0.        ],\n",
       "       [0.        , 0.        , 0.        , 0.        , 0.        ,\n",
       "        0.        , 0.        , 0.        , 0.        , 0.        ,\n",
       "        0.        , 0.        , 0.        , 0.        , 0.        ,\n",
       "        0.        , 0.        , 0.        , 0.        , 0.        ,\n",
       "        0.        , 0.        , 0.        , 0.        , 0.        ,\n",
       "        0.        , 0.        , 0.        ],\n",
       "       [0.        , 0.        , 0.        , 0.        , 0.        ,\n",
       "        0.        , 0.        , 0.        , 0.        , 0.        ,\n",
       "        0.        , 0.        , 0.00392157, 0.        , 0.        ,\n",
       "        0.05098039, 0.28627451, 0.        , 0.        , 0.00392157,\n",
       "        0.01568627, 0.        , 0.        , 0.        , 0.        ,\n",
       "        0.00392157, 0.00392157, 0.        ],\n",
       "       [0.        , 0.        , 0.        , 0.        , 0.        ,\n",
       "        0.        , 0.        , 0.        , 0.        , 0.        ,\n",
       "        0.        , 0.        , 0.01176471, 0.        , 0.14117647,\n",
       "        0.53333333, 0.49803922, 0.24313725, 0.21176471, 0.        ,\n",
       "        0.        , 0.        , 0.00392157, 0.01176471, 0.01568627,\n",
       "        0.        , 0.        , 0.01176471],\n",
       "       [0.        , 0.        , 0.        , 0.        , 0.        ,\n",
       "        0.        , 0.        , 0.        , 0.        , 0.        ,\n",
       "        0.        , 0.        , 0.02352941, 0.        , 0.4       ,\n",
       "        0.8       , 0.69019608, 0.5254902 , 0.56470588, 0.48235294,\n",
       "        0.09019608, 0.        , 0.        , 0.        , 0.        ,\n",
       "        0.04705882, 0.03921569, 0.        ],\n",
       "       [0.        , 0.        , 0.        , 0.        , 0.        ,\n",
       "        0.        , 0.        , 0.        , 0.        , 0.        ,\n",
       "        0.        , 0.        , 0.        , 0.        , 0.60784314,\n",
       "        0.9254902 , 0.81176471, 0.69803922, 0.41960784, 0.61176471,\n",
       "        0.63137255, 0.42745098, 0.25098039, 0.09019608, 0.30196078,\n",
       "        0.50980392, 0.28235294, 0.05882353],\n",
       "       [0.        , 0.        , 0.        , 0.        , 0.        ,\n",
       "        0.        , 0.        , 0.        , 0.        , 0.        ,\n",
       "        0.        , 0.00392157, 0.        , 0.27058824, 0.81176471,\n",
       "        0.8745098 , 0.85490196, 0.84705882, 0.84705882, 0.63921569,\n",
       "        0.49803922, 0.4745098 , 0.47843137, 0.57254902, 0.55294118,\n",
       "        0.34509804, 0.6745098 , 0.25882353],\n",
       "       [0.        , 0.        , 0.        , 0.        , 0.        ,\n",
       "        0.        , 0.        , 0.        , 0.        , 0.00392157,\n",
       "        0.00392157, 0.00392157, 0.        , 0.78431373, 0.90980392,\n",
       "        0.90980392, 0.91372549, 0.89803922, 0.8745098 , 0.8745098 ,\n",
       "        0.84313725, 0.83529412, 0.64313725, 0.49803922, 0.48235294,\n",
       "        0.76862745, 0.89803922, 0.        ],\n",
       "       [0.        , 0.        , 0.        , 0.        , 0.        ,\n",
       "        0.        , 0.        , 0.        , 0.        , 0.        ,\n",
       "        0.        , 0.        , 0.        , 0.71764706, 0.88235294,\n",
       "        0.84705882, 0.8745098 , 0.89411765, 0.92156863, 0.89019608,\n",
       "        0.87843137, 0.87058824, 0.87843137, 0.86666667, 0.8745098 ,\n",
       "        0.96078431, 0.67843137, 0.        ],\n",
       "       [0.        , 0.        , 0.        , 0.        , 0.        ,\n",
       "        0.        , 0.        , 0.        , 0.        , 0.        ,\n",
       "        0.        , 0.        , 0.        , 0.75686275, 0.89411765,\n",
       "        0.85490196, 0.83529412, 0.77647059, 0.70588235, 0.83137255,\n",
       "        0.82352941, 0.82745098, 0.83529412, 0.8745098 , 0.8627451 ,\n",
       "        0.95294118, 0.79215686, 0.        ],\n",
       "       [0.        , 0.        , 0.        , 0.        , 0.        ,\n",
       "        0.        , 0.        , 0.        , 0.        , 0.00392157,\n",
       "        0.01176471, 0.        , 0.04705882, 0.85882353, 0.8627451 ,\n",
       "        0.83137255, 0.85490196, 0.75294118, 0.6627451 , 0.89019608,\n",
       "        0.81568627, 0.85490196, 0.87843137, 0.83137255, 0.88627451,\n",
       "        0.77254902, 0.81960784, 0.20392157],\n",
       "       [0.        , 0.        , 0.        , 0.        , 0.        ,\n",
       "        0.        , 0.        , 0.        , 0.        , 0.        ,\n",
       "        0.02352941, 0.        , 0.38823529, 0.95686275, 0.87058824,\n",
       "        0.8627451 , 0.85490196, 0.79607843, 0.77647059, 0.86666667,\n",
       "        0.84313725, 0.83529412, 0.87058824, 0.8627451 , 0.96078431,\n",
       "        0.46666667, 0.65490196, 0.21960784],\n",
       "       [0.        , 0.        , 0.        , 0.        , 0.        ,\n",
       "        0.        , 0.        , 0.        , 0.        , 0.01568627,\n",
       "        0.        , 0.        , 0.21568627, 0.9254902 , 0.89411765,\n",
       "        0.90196078, 0.89411765, 0.94117647, 0.90980392, 0.83529412,\n",
       "        0.85490196, 0.8745098 , 0.91764706, 0.85098039, 0.85098039,\n",
       "        0.81960784, 0.36078431, 0.        ],\n",
       "       [0.        , 0.        , 0.00392157, 0.01568627, 0.02352941,\n",
       "        0.02745098, 0.00784314, 0.        , 0.        , 0.        ,\n",
       "        0.        , 0.        , 0.92941176, 0.88627451, 0.85098039,\n",
       "        0.8745098 , 0.87058824, 0.85882353, 0.87058824, 0.86666667,\n",
       "        0.84705882, 0.8745098 , 0.89803922, 0.84313725, 0.85490196,\n",
       "        1.        , 0.30196078, 0.        ],\n",
       "       [0.        , 0.01176471, 0.        , 0.        , 0.        ,\n",
       "        0.        , 0.        , 0.        , 0.        , 0.24313725,\n",
       "        0.56862745, 0.8       , 0.89411765, 0.81176471, 0.83529412,\n",
       "        0.86666667, 0.85490196, 0.81568627, 0.82745098, 0.85490196,\n",
       "        0.87843137, 0.8745098 , 0.85882353, 0.84313725, 0.87843137,\n",
       "        0.95686275, 0.62352941, 0.        ],\n",
       "       [0.        , 0.        , 0.        , 0.        , 0.07058824,\n",
       "        0.17254902, 0.32156863, 0.41960784, 0.74117647, 0.89411765,\n",
       "        0.8627451 , 0.87058824, 0.85098039, 0.88627451, 0.78431373,\n",
       "        0.80392157, 0.82745098, 0.90196078, 0.87843137, 0.91764706,\n",
       "        0.69019608, 0.7372549 , 0.98039216, 0.97254902, 0.91372549,\n",
       "        0.93333333, 0.84313725, 0.        ],\n",
       "       [0.        , 0.22352941, 0.73333333, 0.81568627, 0.87843137,\n",
       "        0.86666667, 0.87843137, 0.81568627, 0.8       , 0.83921569,\n",
       "        0.81568627, 0.81960784, 0.78431373, 0.62352941, 0.96078431,\n",
       "        0.75686275, 0.80784314, 0.8745098 , 1.        , 1.        ,\n",
       "        0.86666667, 0.91764706, 0.86666667, 0.82745098, 0.8627451 ,\n",
       "        0.90980392, 0.96470588, 0.        ],\n",
       "       [0.01176471, 0.79215686, 0.89411765, 0.87843137, 0.86666667,\n",
       "        0.82745098, 0.82745098, 0.83921569, 0.80392157, 0.80392157,\n",
       "        0.80392157, 0.8627451 , 0.94117647, 0.31372549, 0.58823529,\n",
       "        1.        , 0.89803922, 0.86666667, 0.7372549 , 0.60392157,\n",
       "        0.74901961, 0.82352941, 0.8       , 0.81960784, 0.87058824,\n",
       "        0.89411765, 0.88235294, 0.        ],\n",
       "       [0.38431373, 0.91372549, 0.77647059, 0.82352941, 0.87058824,\n",
       "        0.89803922, 0.89803922, 0.91764706, 0.97647059, 0.8627451 ,\n",
       "        0.76078431, 0.84313725, 0.85098039, 0.94509804, 0.25490196,\n",
       "        0.28627451, 0.41568627, 0.45882353, 0.65882353, 0.85882353,\n",
       "        0.86666667, 0.84313725, 0.85098039, 0.8745098 , 0.8745098 ,\n",
       "        0.87843137, 0.89803922, 0.11372549],\n",
       "       [0.29411765, 0.8       , 0.83137255, 0.8       , 0.75686275,\n",
       "        0.80392157, 0.82745098, 0.88235294, 0.84705882, 0.7254902 ,\n",
       "        0.77254902, 0.80784314, 0.77647059, 0.83529412, 0.94117647,\n",
       "        0.76470588, 0.89019608, 0.96078431, 0.9372549 , 0.8745098 ,\n",
       "        0.85490196, 0.83137255, 0.81960784, 0.87058824, 0.8627451 ,\n",
       "        0.86666667, 0.90196078, 0.2627451 ],\n",
       "       [0.18823529, 0.79607843, 0.71764706, 0.76078431, 0.83529412,\n",
       "        0.77254902, 0.7254902 , 0.74509804, 0.76078431, 0.75294118,\n",
       "        0.79215686, 0.83921569, 0.85882353, 0.86666667, 0.8627451 ,\n",
       "        0.9254902 , 0.88235294, 0.84705882, 0.78039216, 0.80784314,\n",
       "        0.72941176, 0.70980392, 0.69411765, 0.6745098 , 0.70980392,\n",
       "        0.80392157, 0.80784314, 0.45098039],\n",
       "       [0.        , 0.47843137, 0.85882353, 0.75686275, 0.70196078,\n",
       "        0.67058824, 0.71764706, 0.76862745, 0.8       , 0.82352941,\n",
       "        0.83529412, 0.81176471, 0.82745098, 0.82352941, 0.78431373,\n",
       "        0.76862745, 0.76078431, 0.74901961, 0.76470588, 0.74901961,\n",
       "        0.77647059, 0.75294118, 0.69019608, 0.61176471, 0.65490196,\n",
       "        0.69411765, 0.82352941, 0.36078431],\n",
       "       [0.        , 0.        , 0.29019608, 0.74117647, 0.83137255,\n",
       "        0.74901961, 0.68627451, 0.6745098 , 0.68627451, 0.70980392,\n",
       "        0.7254902 , 0.7372549 , 0.74117647, 0.7372549 , 0.75686275,\n",
       "        0.77647059, 0.8       , 0.81960784, 0.82352941, 0.82352941,\n",
       "        0.82745098, 0.7372549 , 0.7372549 , 0.76078431, 0.75294118,\n",
       "        0.84705882, 0.66666667, 0.        ],\n",
       "       [0.00784314, 0.        , 0.        , 0.        , 0.25882353,\n",
       "        0.78431373, 0.87058824, 0.92941176, 0.9372549 , 0.94901961,\n",
       "        0.96470588, 0.95294118, 0.95686275, 0.86666667, 0.8627451 ,\n",
       "        0.75686275, 0.74901961, 0.70196078, 0.71372549, 0.71372549,\n",
       "        0.70980392, 0.69019608, 0.65098039, 0.65882353, 0.38823529,\n",
       "        0.22745098, 0.        , 0.        ],\n",
       "       [0.        , 0.        , 0.        , 0.        , 0.        ,\n",
       "        0.        , 0.        , 0.15686275, 0.23921569, 0.17254902,\n",
       "        0.28235294, 0.16078431, 0.1372549 , 0.        , 0.        ,\n",
       "        0.        , 0.        , 0.        , 0.        , 0.        ,\n",
       "        0.        , 0.        , 0.        , 0.        , 0.        ,\n",
       "        0.        , 0.        , 0.        ],\n",
       "       [0.        , 0.        , 0.        , 0.        , 0.        ,\n",
       "        0.        , 0.        , 0.        , 0.        , 0.        ,\n",
       "        0.        , 0.        , 0.        , 0.        , 0.        ,\n",
       "        0.        , 0.        , 0.        , 0.        , 0.        ,\n",
       "        0.        , 0.        , 0.        , 0.        , 0.        ,\n",
       "        0.        , 0.        , 0.        ],\n",
       "       [0.        , 0.        , 0.        , 0.        , 0.        ,\n",
       "        0.        , 0.        , 0.        , 0.        , 0.        ,\n",
       "        0.        , 0.        , 0.        , 0.        , 0.        ,\n",
       "        0.        , 0.        , 0.        , 0.        , 0.        ,\n",
       "        0.        , 0.        , 0.        , 0.        , 0.        ,\n",
       "        0.        , 0.        , 0.        ]])"
      ]
     },
     "execution_count": 17,
     "metadata": {},
     "output_type": "execute_result"
    }
   ],
   "source": [
    "X_train[0]"
   ]
  },
  {
   "cell_type": "code",
   "execution_count": 18,
   "id": "a953b395",
   "metadata": {},
   "outputs": [],
   "source": [
    "from tensorflow.keras.models import Sequential\n",
    "from tensorflow.keras.layers import Dense, Activation, Flatten"
   ]
  },
  {
   "cell_type": "code",
   "execution_count": 19,
   "id": "e286506f",
   "metadata": {},
   "outputs": [],
   "source": [
    "model = Sequential()"
   ]
  },
  {
   "cell_type": "code",
   "execution_count": 20,
   "id": "1c869956",
   "metadata": {},
   "outputs": [],
   "source": [
    "model.add(Flatten(input_shape = [28,28]))\n",
    "model.add(Dense(200, activation='relu'))\n",
    "model.add(Dense(10, activation = 'softmax'))"
   ]
  },
  {
   "cell_type": "code",
   "execution_count": 21,
   "id": "5150a06f",
   "metadata": {},
   "outputs": [
    {
     "name": "stdout",
     "output_type": "stream",
     "text": [
      "Model: \"sequential\"\n",
      "_________________________________________________________________\n",
      " Layer (type)                Output Shape              Param #   \n",
      "=================================================================\n",
      " flatten (Flatten)           (None, 784)               0         \n",
      "                                                                 \n",
      " dense (Dense)               (None, 200)               157000    \n",
      "                                                                 \n",
      " dense_1 (Dense)             (None, 10)                2010      \n",
      "                                                                 \n",
      "=================================================================\n",
      "Total params: 159,010\n",
      "Trainable params: 159,010\n",
      "Non-trainable params: 0\n",
      "_________________________________________________________________\n"
     ]
    }
   ],
   "source": [
    "model.summary()"
   ]
  },
  {
   "cell_type": "code",
   "execution_count": 22,
   "id": "c586e9b0",
   "metadata": {},
   "outputs": [],
   "source": [
    "model.compile(loss=\"sparse_categorical_crossentropy\", optimizer = 'adam', metrics='accuracy')"
   ]
  },
  {
   "cell_type": "code",
   "execution_count": 23,
   "id": "295dc541",
   "metadata": {},
   "outputs": [
    {
     "name": "stdout",
     "output_type": "stream",
     "text": [
      "Epoch 1/10\n",
      "1875/1875 [==============================] - 7s 3ms/step - loss: 0.4899 - accuracy: 0.8249\n",
      "Epoch 2/10\n",
      "1875/1875 [==============================] - 6s 3ms/step - loss: 0.3674 - accuracy: 0.8671\n",
      "Epoch 3/10\n",
      "1875/1875 [==============================] - 5s 3ms/step - loss: 0.3297 - accuracy: 0.8779\n",
      "Epoch 4/10\n",
      "1875/1875 [==============================] - 5s 3ms/step - loss: 0.3058 - accuracy: 0.8874\n",
      "Epoch 5/10\n",
      "1875/1875 [==============================] - 5s 3ms/step - loss: 0.2870 - accuracy: 0.8940\n",
      "Epoch 6/10\n",
      "1875/1875 [==============================] - 5s 3ms/step - loss: 0.2692 - accuracy: 0.8995\n",
      "Epoch 7/10\n",
      "1875/1875 [==============================] - 6s 3ms/step - loss: 0.2569 - accuracy: 0.9050\n",
      "Epoch 8/10\n",
      "1875/1875 [==============================] - 5s 3ms/step - loss: 0.2483 - accuracy: 0.9068\n",
      "Epoch 9/10\n",
      "1875/1875 [==============================] - 5s 3ms/step - loss: 0.2364 - accuracy: 0.9114\n",
      "Epoch 10/10\n",
      "1875/1875 [==============================] - 5s 3ms/step - loss: 0.2292 - accuracy: 0.9139\n"
     ]
    },
    {
     "data": {
      "text/plain": [
       "<keras.callbacks.History at 0x179719e93a0>"
      ]
     },
     "execution_count": 23,
     "metadata": {},
     "output_type": "execute_result"
    }
   ],
   "source": [
    "model.fit(X_train, y_train, epochs=10)"
   ]
  },
  {
   "cell_type": "code",
   "execution_count": 24,
   "id": "914d55c8",
   "metadata": {},
   "outputs": [
    {
     "name": "stdout",
     "output_type": "stream",
     "text": [
      "313/313 [==============================] - 1s 2ms/step\n"
     ]
    }
   ],
   "source": [
    "y_pred = model.predict(X_test)"
   ]
  },
  {
   "cell_type": "code",
   "execution_count": 25,
   "id": "cf8d2300",
   "metadata": {},
   "outputs": [
    {
     "data": {
      "text/plain": [
       "<matplotlib.image.AxesImage at 0x17972031be0>"
      ]
     },
     "execution_count": 25,
     "metadata": {},
     "output_type": "execute_result"
    },
    {
     "data": {
      "image/png": "[encoded data removed]",
      "text/plain": [
       "<Figure size 480x480 with 1 Axes>"
      ]
     },
     "metadata": {},
     "output_type": "display_data"
    }
   ],
   "source": [
    "plt.matshow(X_test[217])"
   ]
  },
  {
   "cell_type": "code",
   "execution_count": 26,
   "id": "57d4b31a",
   "metadata": {},
   "outputs": [
    {
     "name": "stdout",
     "output_type": "stream",
     "text": [
      "313/313 [==============================] - 1s 2ms/step - loss: 0.3403 - accuracy: 0.8827\n"
     ]
    },
    {
     "data": {
      "text/plain": [
       "[0.3403444290161133, 0.8827000260353088]"
      ]
     },
     "execution_count": 26,
     "metadata": {},
     "output_type": "execute_result"
    }
   ],
   "source": [
    "model.evaluate(X_test, y_test)"
   ]
  },
  {
   "cell_type": "code",
   "execution_count": null,
   "id": "2ea9889d",
   "metadata": {},
   "outputs": [],
   "source": []
  },
  {
   "cell_type": "code",
   "execution_count": 27,
   "id": "e4149eb2",
   "metadata": {},
   "outputs": [],
   "source": [
    "# New one\n",
    "from tensorflow.keras.datasets import mnist\n",
    "(x_train, y_train), (x_test, y_test) = mnist.load_data()"
   ]
  },
  {
   "cell_type": "code",
   "execution_count": 28,
   "id": "7bf576cf",
   "metadata": {},
   "outputs": [
    {
     "data": {
      "text/plain": [
       "(60000, 28, 28)"
      ]
     },
     "execution_count": 28,
     "metadata": {},
     "output_type": "execute_result"
    }
   ],
   "source": [
    "x_train.shape"
   ]
  },
  {
   "cell_type": "code",
   "execution_count": 29,
   "id": "0ae96a1e",
   "metadata": {},
   "outputs": [
    {
     "data": {
      "text/plain": [
       "(10000,)"
      ]
     },
     "execution_count": 29,
     "metadata": {},
     "output_type": "execute_result"
    }
   ],
   "source": [
    "y_test.shape"
   ]
  },
  {
   "cell_type": "code",
   "execution_count": 31,
   "id": "6ce8b181",
   "metadata": {},
   "outputs": [
    {
     "data": {
      "text/plain": [
       "<matplotlib.image.AxesImage at 0x17971502b50>"
      ]
     },
     "execution_count": 31,
     "metadata": {},
     "output_type": "execute_result"
    },
    {
     "data": {
      "image/png": "[encoded data removed]",
      "text/plain": [
       "<Figure size 480x480 with 1 Axes>"
      ]
     },
     "metadata": {},
     "output_type": "display_data"
    }
   ],
   "source": [
    "plt.matshow(x_train[0])"
   ]
  },
  {
   "cell_type": "code",
   "execution_count": 32,
   "id": "7a44c381",
   "metadata": {},
   "outputs": [],
   "source": [
    "X_train = x_train/255\n",
    "X_test = x_test/255\n"
   ]
  },
  {
   "cell_type": "code",
   "execution_count": 33,
   "id": "9b1d4345",
   "metadata": {},
   "outputs": [],
   "source": [
    "from tensorflow.keras.models import Sequential\n",
    "from tensorflow.keras.layers import Dense, Activation, Flatten"
   ]
  },
  {
   "cell_type": "code",
   "execution_count": 34,
   "id": "51bd8561",
   "metadata": {},
   "outputs": [],
   "source": [
    "model = Sequential()"
   ]
  },
  {
   "cell_type": "code",
   "execution_count": 35,
   "id": "b76d0893",
   "metadata": {},
   "outputs": [],
   "source": [
    "model.add(Flatten(input_shape = [28,28]))\n",
    "model.add(Dense(200, activation='sigmoid'))\n",
    "model.add(Dense(10, activation = 'softmax'))"
   ]
  },
  {
   "cell_type": "code",
   "execution_count": 36,
   "id": "0c3e0110",
   "metadata": {},
   "outputs": [
    {
     "name": "stdout",
     "output_type": "stream",
     "text": [
      "Model: \"sequential_1\"\n",
      "_________________________________________________________________\n",
      " Layer (type)                Output Shape              Param #   \n",
      "=================================================================\n",
      " flatten_1 (Flatten)         (None, 784)               0         \n",
      "                                                                 \n",
      " dense_2 (Dense)             (None, 200)               157000    \n",
      "                                                                 \n",
      " dense_3 (Dense)             (None, 10)                2010      \n",
      "                                                                 \n",
      "=================================================================\n",
      "Total params: 159,010\n",
      "Trainable params: 159,010\n",
      "Non-trainable params: 0\n",
      "_________________________________________________________________\n"
     ]
    }
   ],
   "source": [
    "model.summary()"
   ]
  },
  {
   "cell_type": "code",
   "execution_count": 37,
   "id": "ffb6f7ad",
   "metadata": {},
   "outputs": [],
   "source": [
    "model.compile(loss=\"sparse_categorical_crossentropy\", optimizer = 'adam', metrics='accuracy')"
   ]
  },
  {
   "cell_type": "code",
   "execution_count": 38,
   "id": "ebb08a8d",
   "metadata": {},
   "outputs": [
    {
     "name": "stdout",
     "output_type": "stream",
     "text": [
      "Epoch 1/10\n",
      "1875/1875 [==============================] - 7s 3ms/step - loss: 0.3721 - accuracy: 0.8995\n",
      "Epoch 2/10\n",
      "1875/1875 [==============================] - 6s 3ms/step - loss: 0.1845 - accuracy: 0.9462\n",
      "Epoch 3/10\n",
      "1875/1875 [==============================] - 6s 3ms/step - loss: 0.1306 - accuracy: 0.9621\n",
      "Epoch 4/10\n",
      "1875/1875 [==============================] - 5s 3ms/step - loss: 0.0993 - accuracy: 0.9713\n",
      "Epoch 5/10\n",
      "1875/1875 [==============================] - 5s 3ms/step - loss: 0.0773 - accuracy: 0.9775\n",
      "Epoch 6/10\n",
      "1875/1875 [==============================] - 6s 3ms/step - loss: 0.0622 - accuracy: 0.9818\n",
      "Epoch 7/10\n",
      "1875/1875 [==============================] - 5s 3ms/step - loss: 0.0498 - accuracy: 0.9861\n",
      "Epoch 8/10\n",
      "1875/1875 [==============================] - 5s 3ms/step - loss: 0.0403 - accuracy: 0.9889\n",
      "Epoch 9/10\n",
      "1875/1875 [==============================] - 5s 3ms/step - loss: 0.0326 - accuracy: 0.9916\n",
      "Epoch 10/10\n",
      "1875/1875 [==============================] - 5s 3ms/step - loss: 0.0260 - accuracy: 0.9939\n"
     ]
    },
    {
     "data": {
      "text/plain": [
       "<keras.callbacks.History at 0x17971696850>"
      ]
     },
     "execution_count": 38,
     "metadata": {},
     "output_type": "execute_result"
    }
   ],
   "source": [
    "model.fit(X_train, y_train, epochs=10)"
   ]
  },
  {
   "cell_type": "code",
   "execution_count": 39,
   "id": "6aa4bd8d",
   "metadata": {},
   "outputs": [
    {
     "name": "stdout",
     "output_type": "stream",
     "text": [
      "313/313 [==============================] - 1s 2ms/step\n"
     ]
    }
   ],
   "source": [
    "y_pred = model.predict(X_test)"
   ]
  },
  {
   "cell_type": "code",
   "execution_count": 40,
   "id": "3cc83427",
   "metadata": {},
   "outputs": [
    {
     "data": {
      "text/plain": [
       "<matplotlib.image.AxesImage at 0x1797e79cd30>"
      ]
     },
     "execution_count": 40,
     "metadata": {},
     "output_type": "execute_result"
    },
    {
     "data": {
      "image/png": "[encoded data removed]",
      "text/plain": [
       "<Figure size 480x480 with 1 Axes>"
      ]
     },
     "metadata": {},
     "output_type": "display_data"
    }
   ],
   "source": [
    "plt.matshow(X_test[217])"
   ]
  },
  {
   "cell_type": "code",
   "execution_count": 41,
   "id": "9c2cf751",
   "metadata": {},
   "outputs": [
    {
     "name": "stdout",
     "output_type": "stream",
     "text": [
      "313/313 [==============================] - 1s 2ms/step - loss: 0.0674 - accuracy: 0.9779\n"
     ]
    },
    {
     "data": {
      "text/plain": [
       "[0.06736935675144196, 0.9779000282287598]"
      ]
     },
     "execution_count": 41,
     "metadata": {},
     "output_type": "execute_result"
    }
   ],
   "source": [
    "model.evaluate(X_test, y_test)"
   ]
  },
  {
   "cell_type": "code",
   "execution_count": null,
   "id": "f85a2ab0",
   "metadata": {},
   "outputs": [],
   "source": []
  },
  {
   "cell_type": "code",
   "execution_count": 1,
   "id": "29ac31f4",
   "metadata": {},
   "outputs": [],
   "source": [
    "# 9-09-2022"
   ]
  },
  {
   "cell_type": "code",
   "execution_count": 2,
   "id": "aeaf98f3",
   "metadata": {},
   "outputs": [],
   "source": [
    "# IN NLP RNN IS WIDELY USED"
   ]
  },
  {
   "cell_type": "markdown",
   "id": "ba117c6a",
   "metadata": {},
   "source": [
    "## RNN-Recurrent Neural Network(Mostly Used In NLP Domain)"
   ]
  },
  {
   "cell_type": "code",
   "execution_count": null,
   "id": "a919cd8a",
   "metadata": {},
   "outputs": [],
   "source": []
  }
 ],
 "metadata": {
  "kernelspec": {
   "display_name": "stackroute_env",
   "language": "python",
   "name": "stackroute_env"
  },
  "language_info": {
   "codemirror_mode": {
    "name": "ipython",
    "version": 3
   },
   "file_extension": ".py",
   "mimetype": "text/x-python",
   "name": "python",
   "nbconvert_exporter": "python",
   "pygments_lexer": "ipython3",
   "version": "3.8.8"
  }
 },
 "nbformat": 4,
 "nbformat_minor": 5
}
